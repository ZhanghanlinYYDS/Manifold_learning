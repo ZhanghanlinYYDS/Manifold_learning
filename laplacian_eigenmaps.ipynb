{
 "cells": [
  {
   "cell_type": "code",
   "execution_count": 1,
   "metadata": {},
   "outputs": [],
   "source": [
    "import numpy as np\n",
    "import matplotlib.pyplot as plt\n",
    "from sklearn.preprocessing import StandardScaler\n",
    "\n",
    "%matplotlib inline\n",
    "%config InlineBackend.figure_format = 'svg'"
   ]
  },
  {
   "cell_type": "code",
   "execution_count": 2,
   "metadata": {},
   "outputs": [],
   "source": [
    "#热核函数,默认sigama=1\n",
    "def rbf(dist, t = 1.0):\n",
    "    return np.exp(-(dist/t))\n",
    "#计算距离矩阵\n",
    "def cal_pairwise_dist(x):\n",
    "    sum_x = np.sum(np.square(x), 1)\n",
    "    dist = np.add(np.add(-2 * np.dot(x, x.T), sum_x).T, sum_x)\n",
    "    return dist\n",
    "\n",
    "#计算邻接矩阵W：相似度矩阵\n",
    "def cal_rbf_dist(data, n_neighbors = 10, t = 1):\n",
    "    dist = cal_pairwise_dist(data)\n",
    "    dist[dist < 0] = 0\n",
    "    n = dist.shape[0]\n",
    "    rbf_dist = rbf(dist, t)\n",
    "\n",
    "    W = np.zeros((n, n))\n",
    "    for i in range(n):\n",
    "        index_ = np.argsort(dist[i])[1:1+n_neighbors]\n",
    "        W[i, index_] = rbf_dist[i, index_]\n",
    "        W[index_, i] = rbf_dist[index_, i]\n",
    "\n",
    "    return W"
   ]
  },
  {
   "cell_type": "code",
   "execution_count": 3,
   "metadata": {},
   "outputs": [],
   "source": [
    "#Laplacian Eigenmaps重构或降维\n",
    "def le(data,n_dims = 2,n_neighbors = 5, t = 1.0,jump=True):\n",
    "\n",
    "    N = data.shape[0]\n",
    "    W = cal_rbf_dist(data, n_neighbors, t)\n",
    "    D = np.zeros_like(W)\n",
    "    for i in range(N):\n",
    "        D[i,i] = np.sum(W[i])\n",
    "\n",
    "    #矩阵求逆\n",
    "    D_inv = np.linalg.inv(D)\n",
    "    L = D - W\n",
    "    #计算特征值和特征向量\n",
    "    eig_val, eig_vec = np.linalg.eig(np.dot(D_inv, L))\n",
    "\n",
    "    sort_index_ = np.argsort(eig_val)\n",
    "\n",
    "    eig_val = eig_val[sort_index_]\n",
    "    \n",
    "    j = 0\n",
    "    if jump==True:\n",
    "        while eig_val[j] < 1e-6:\n",
    "            j+=1\n",
    "\n",
    "    sort_index_ = sort_index_[j:j+n_dims]\n",
    "    eig_val_picked = eig_val[j:j+n_dims]\n",
    "    # print(eig_val_picked)\n",
    "    eig_vec_picked = eig_vec[:, sort_index_]\n",
    "\n",
    "    X_ndim = eig_vec_picked\n",
    "    return X_ndim\n"
   ]
  },
  {
   "cell_type": "code",
   "execution_count": null,
   "metadata": {},
   "outputs": [],
   "source": []
  },
  {
   "cell_type": "markdown",
   "metadata": {},
   "source": [
    "## 拟合数据集"
   ]
  },
  {
   "cell_type": "code",
   "execution_count": 27,
   "metadata": {},
   "outputs": [
    {
     "name": "stdout",
     "output_type": "stream",
     "text": [
      "y= [1. 2. 3. 4. 5. 6. 7.]\n"
     ]
    },
    {
     "data": {
      "image/svg+xml": "<?xml version=\"1.0\" encoding=\"utf-8\" standalone=\"no\"?>\r\n<!DOCTYPE svg PUBLIC \"-//W3C//DTD SVG 1.1//EN\"\r\n  \"http://www.w3.org/Graphics/SVG/1.1/DTD/svg11.dtd\">\r\n<!-- Created with matplotlib (https://matplotlib.org/) -->\r\n<svg height=\"305.140852pt\" version=\"1.1\" viewBox=\"0 0 324.682812 305.140852\" width=\"324.682812pt\" xmlns=\"http://www.w3.org/2000/svg\" xmlns:xlink=\"http://www.w3.org/1999/xlink\">\r\n <metadata>\r\n  <rdf:RDF xmlns:cc=\"http://creativecommons.org/ns#\" xmlns:dc=\"http://purl.org/dc/elements/1.1/\" xmlns:rdf=\"http://www.w3.org/1999/02/22-rdf-syntax-ns#\">\r\n   <cc:Work>\r\n    <dc:type rdf:resource=\"http://purl.org/dc/dcmitype/StillImage\"/>\r\n    <dc:date>2022-06-28T09:02:15.141698</dc:date>\r\n    <dc:format>image/svg+xml</dc:format>\r\n    <dc:creator>\r\n     <cc:Agent>\r\n      <dc:title>Matplotlib v3.3.2, https://matplotlib.org/</dc:title>\r\n     </cc:Agent>\r\n    </dc:creator>\r\n   </cc:Work>\r\n  </rdf:RDF>\r\n </metadata>\r\n <defs>\r\n  <style type=\"text/css\">*{stroke-linecap:butt;stroke-linejoin:round;}</style>\r\n </defs>\r\n <g id=\"figure_1\">\r\n  <g id=\"patch_1\">\r\n   <path d=\"M 0 305.140852 \r\nL 324.682812 305.140852 \r\nL 324.682812 0 \r\nL 0 0 \r\nz\r\n\" style=\"fill:none;\"/>\r\n  </g>\r\n  <g id=\"axes_1\">\r\n   <g id=\"patch_2\">\r\n    <path d=\"M 38.482813 281.262727 \r\nL 317.482813 281.262727 \r\nL 317.482813 9.462727 \r\nL 38.482813 9.462727 \r\nz\r\n\" style=\"fill:#ffffff;\"/>\r\n   </g>\r\n   <g id=\"PathCollection_1\">\r\n    <defs>\r\n     <path d=\"M 0 2.236068 \r\nC 0.593012 2.236068 1.161816 2.000462 1.581139 1.581139 \r\nC 2.000462 1.161816 2.236068 0.593012 2.236068 0 \r\nC 2.236068 -0.593012 2.000462 -1.161816 1.581139 -1.581139 \r\nC 1.161816 -2.000462 0.593012 -2.236068 0 -2.236068 \r\nC -0.593012 -2.236068 -1.161816 -2.000462 -1.581139 -1.581139 \r\nC -2.000462 -1.161816 -2.236068 -0.593012 -2.236068 0 \r\nC -2.236068 0.593012 -2.000462 1.161816 -1.581139 1.581139 \r\nC -1.161816 2.000462 -0.593012 2.236068 0 2.236068 \r\nz\r\n\" id=\"me12fbadab3\" style=\"stroke:#1f77b4;\"/>\r\n    </defs>\r\n    <g clip-path=\"url(#p6e39fb9e80)\">\r\n     <use style=\"fill:#1f77b4;stroke:#1f77b4;\" x=\"188.296339\" xlink:href=\"#me12fbadab3\" y=\"97.670548\"/>\r\n     <use style=\"fill:#1f77b4;stroke:#1f77b4;\" x=\"179.510742\" xlink:href=\"#me12fbadab3\" y=\"96.762126\"/>\r\n     <use style=\"fill:#1f77b4;stroke:#1f77b4;\" x=\"172.253075\" xlink:href=\"#me12fbadab3\" y=\"92.674224\"/>\r\n     <use style=\"fill:#1f77b4;stroke:#1f77b4;\" x=\"171.48911\" xlink:href=\"#me12fbadab3\" y=\"88.132112\"/>\r\n     <use style=\"fill:#1f77b4;stroke:#1f77b4;\" x=\"166.523338\" xlink:href=\"#me12fbadab3\" y=\"79.502099\"/>\r\n     <use style=\"fill:#1f77b4;stroke:#1f77b4;\" x=\"168.815233\" xlink:href=\"#me12fbadab3\" y=\"78.139465\"/>\r\n     <use style=\"fill:#1f77b4;stroke:#1f77b4;\" x=\"173.781005\" xlink:href=\"#me12fbadab3\" y=\"77.685254\"/>\r\n     <use style=\"fill:#1f77b4;stroke:#1f77b4;\" x=\"174.926953\" xlink:href=\"#me12fbadab3\" y=\"84.498422\"/>\r\n     <use style=\"fill:#1f77b4;stroke:#1f77b4;\" x=\"176.836865\" xlink:href=\"#me12fbadab3\" y=\"88.132112\"/>\r\n     <use style=\"fill:#1f77b4;stroke:#1f77b4;\" x=\"182.18462\" xlink:href=\"#me12fbadab3\" y=\"88.132112\"/>\r\n     <use style=\"fill:#1f77b4;stroke:#1f77b4;\" x=\"189.442287\" xlink:href=\"#me12fbadab3\" y=\"91.765802\"/>\r\n     <use style=\"fill:#1f77b4;stroke:#1f77b4;\" x=\"191.352199\" xlink:href=\"#me12fbadab3\" y=\"87.677901\"/>\r\n     <use style=\"fill:#1f77b4;stroke:#1f77b4;\" x=\"189.060304\" xlink:href=\"#me12fbadab3\" y=\"84.044211\"/>\r\n     <use style=\"fill:#1f77b4;stroke:#1f77b4;\" x=\"186.004444\" xlink:href=\"#me12fbadab3\" y=\"81.318944\"/>\r\n     <use style=\"fill:#1f77b4;stroke:#1f77b4;\" x=\"187.150392\" xlink:href=\"#me12fbadab3\" y=\"78.139465\"/>\r\n     <use style=\"fill:#1f77b4;stroke:#1f77b4;\" x=\"182.18462\" xlink:href=\"#me12fbadab3\" y=\"79.047888\"/>\r\n     <use style=\"fill:#1f77b4;stroke:#1f77b4;\" x=\"176.454883\" xlink:href=\"#me12fbadab3\" y=\"71.780508\"/>\r\n     <use style=\"fill:#1f77b4;stroke:#1f77b4;\" x=\"172.253075\" xlink:href=\"#me12fbadab3\" y=\"71.326297\"/>\r\n     <use style=\"fill:#1f77b4;stroke:#1f77b4;\" x=\"166.523338\" xlink:href=\"#me12fbadab3\" y=\"65.421551\"/>\r\n     <use style=\"fill:#1f77b4;stroke:#1f77b4;\" x=\"183.330567\" xlink:href=\"#me12fbadab3\" y=\"69.963663\"/>\r\n     <use style=\"fill:#1f77b4;stroke:#1f77b4;\" x=\"183.330567\" xlink:href=\"#me12fbadab3\" y=\"65.875762\"/>\r\n     <use style=\"fill:#1f77b4;stroke:#1f77b4;\" x=\"176.0729\" xlink:href=\"#me12fbadab3\" y=\"63.150494\"/>\r\n     <use style=\"fill:#1f77b4;stroke:#1f77b4;\" x=\"179.510742\" xlink:href=\"#me12fbadab3\" y=\"59.062593\"/>\r\n     <use style=\"fill:#1f77b4;stroke:#1f77b4;\" x=\"194.790041\" xlink:href=\"#me12fbadab3\" y=\"58.608382\"/>\r\n     <use style=\"fill:#1f77b4;stroke:#1f77b4;\" x=\"190.588234\" xlink:href=\"#me12fbadab3\" y=\"62.696283\"/>\r\n     <use style=\"fill:#1f77b4;stroke:#1f77b4;\" x=\"191.352199\" xlink:href=\"#me12fbadab3\" y=\"70.417874\"/>\r\n     <use style=\"fill:#1f77b4;stroke:#1f77b4;\" x=\"192.880129\" xlink:href=\"#me12fbadab3\" y=\"71.780508\"/>\r\n     <use style=\"fill:#1f77b4;stroke:#1f77b4;\" x=\"197.845901\" xlink:href=\"#me12fbadab3\" y=\"73.143142\"/>\r\n     <use style=\"fill:#1f77b4;stroke:#1f77b4;\" x=\"197.845901\" xlink:href=\"#me12fbadab3\" y=\"65.875762\"/>\r\n     <use style=\"fill:#1f77b4;stroke:#1f77b4;\" x=\"203.575638\" xlink:href=\"#me12fbadab3\" y=\"64.513128\"/>\r\n     <use style=\"fill:#1f77b4;stroke:#1f77b4;\" x=\"210.833305\" xlink:href=\"#me12fbadab3\" y=\"65.421551\"/>\r\n     <use style=\"fill:#1f77b4;stroke:#1f77b4;\" x=\"207.395463\" xlink:href=\"#me12fbadab3\" y=\"57.245749\"/>\r\n     <use style=\"fill:#1f77b4;stroke:#1f77b4;\" x=\"204.339603\" xlink:href=\"#me12fbadab3\" y=\"70.417874\"/>\r\n     <use style=\"fill:#1f77b4;stroke:#1f77b4;\" x=\"200.519779\" xlink:href=\"#me12fbadab3\" y=\"75.868409\"/>\r\n     <use style=\"fill:#1f77b4;stroke:#1f77b4;\" x=\"195.935989\" xlink:href=\"#me12fbadab3\" y=\"79.502099\"/>\r\n     <use style=\"fill:#1f77b4;stroke:#1f77b4;\" x=\"195.172024\" xlink:href=\"#me12fbadab3\" y=\"83.135789\"/>\r\n     <use style=\"fill:#1f77b4;stroke:#1f77b4;\" x=\"202.047708\" xlink:href=\"#me12fbadab3\" y=\"89.494746\"/>\r\n     <use style=\"fill:#1f77b4;stroke:#1f77b4;\" x=\"200.137796\" xlink:href=\"#me12fbadab3\" y=\"87.677901\"/>\r\n     <use style=\"fill:#1f77b4;stroke:#1f77b4;\" x=\"198.609866\" xlink:href=\"#me12fbadab3\" y=\"94.945281\"/>\r\n     <use style=\"fill:#1f77b4;stroke:#1f77b4;\" x=\"202.429691\" xlink:href=\"#me12fbadab3\" y=\"81.318944\"/>\r\n     <use style=\"fill:#1f77b4;stroke:#1f77b4;\" x=\"209.687358\" xlink:href=\"#me12fbadab3\" y=\"87.677901\"/>\r\n     <use style=\"fill:#1f77b4;stroke:#1f77b4;\" x=\"214.271148\" xlink:href=\"#me12fbadab3\" y=\"84.952634\"/>\r\n     <use style=\"fill:#1f77b4;stroke:#1f77b4;\" x=\"211.215288\" xlink:href=\"#me12fbadab3\" y=\"81.318944\"/>\r\n     <use style=\"fill:#1f77b4;stroke:#1f77b4;\" x=\"210.06934\" xlink:href=\"#me12fbadab3\" y=\"74.959986\"/>\r\n     <use style=\"fill:#1f77b4;stroke:#1f77b4;\" x=\"208.159428\" xlink:href=\"#me12fbadab3\" y=\"73.597353\"/>\r\n    </g>\r\n   </g>\r\n   <g id=\"PathCollection_2\">\r\n    <defs>\r\n     <path d=\"M 0 2.236068 \r\nC 0.593012 2.236068 1.161816 2.000462 1.581139 1.581139 \r\nC 2.000462 1.161816 2.236068 0.593012 2.236068 0 \r\nC 2.236068 -0.593012 2.000462 -1.161816 1.581139 -1.581139 \r\nC 1.161816 -2.000462 0.593012 -2.236068 0 -2.236068 \r\nC -0.593012 -2.236068 -1.161816 -2.000462 -1.581139 -1.581139 \r\nC -2.000462 -1.161816 -2.236068 -0.593012 -2.236068 0 \r\nC -2.236068 0.593012 -2.000462 1.161816 -1.581139 1.581139 \r\nC -1.161816 2.000462 -0.593012 2.236068 0 2.236068 \r\nz\r\n\" id=\"m736969eda9\" style=\"stroke:#ff7f0e;\"/>\r\n    </defs>\r\n    <g clip-path=\"url(#p6e39fb9e80)\">\r\n     <use style=\"fill:#ff7f0e;stroke:#ff7f0e;\" x=\"144.368355\" xlink:href=\"#m736969eda9\" y=\"26.359385\"/>\r\n     <use style=\"fill:#ff7f0e;stroke:#ff7f0e;\" x=\"139.402582\" xlink:href=\"#m736969eda9\" y=\"36.352032\"/>\r\n     <use style=\"fill:#ff7f0e;stroke:#ff7f0e;\" x=\"135.96474\" xlink:href=\"#m736969eda9\" y=\"29.084652\"/>\r\n     <use style=\"fill:#ff7f0e;stroke:#ff7f0e;\" x=\"133.672845\" xlink:href=\"#m736969eda9\" y=\"24.996751\"/>\r\n     <use style=\"fill:#ff7f0e;stroke:#ff7f0e;\" x=\"130.616986\" xlink:href=\"#m736969eda9\" y=\"31.80992\"/>\r\n     <use style=\"fill:#ff7f0e;stroke:#ff7f0e;\" x=\"127.561126\" xlink:href=\"#m736969eda9\" y=\"28.17623\"/>\r\n     <use style=\"fill:#ff7f0e;stroke:#ff7f0e;\" x=\"124.887248\" xlink:href=\"#m736969eda9\" y=\"21.817273\"/>\r\n     <use style=\"fill:#ff7f0e;stroke:#ff7f0e;\" x=\"128.325091\" xlink:href=\"#m736969eda9\" y=\"36.806243\"/>\r\n     <use style=\"fill:#ff7f0e;stroke:#ff7f0e;\" x=\"129.471038\" xlink:href=\"#m736969eda9\" y=\"45.890468\"/>\r\n     <use style=\"fill:#ff7f0e;stroke:#ff7f0e;\" x=\"123.359319\" xlink:href=\"#m736969eda9\" y=\"38.168877\"/>\r\n     <use style=\"fill:#ff7f0e;stroke:#ff7f0e;\" x=\"120.303459\" xlink:href=\"#m736969eda9\" y=\"33.626765\"/>\r\n     <use style=\"fill:#ff7f0e;stroke:#ff7f0e;\" x=\"119.539494\" xlink:href=\"#m736969eda9\" y=\"28.630441\"/>\r\n     <use style=\"fill:#ff7f0e;stroke:#ff7f0e;\" x=\"118.775529\" xlink:href=\"#m736969eda9\" y=\"26.359385\"/>\r\n     <use style=\"fill:#ff7f0e;stroke:#ff7f0e;\" x=\"127.943108\" xlink:href=\"#m736969eda9\" y=\"58.608382\"/>\r\n     <use style=\"fill:#ff7f0e;stroke:#ff7f0e;\" x=\"124.505266\" xlink:href=\"#m736969eda9\" y=\"50.886791\"/>\r\n     <use style=\"fill:#ff7f0e;stroke:#ff7f0e;\" x=\"124.123283\" xlink:href=\"#m736969eda9\" y=\"45.890468\"/>\r\n     <use style=\"fill:#ff7f0e;stroke:#ff7f0e;\" x=\"116.101651\" xlink:href=\"#m736969eda9\" y=\"41.348355\"/>\r\n     <use style=\"fill:#ff7f0e;stroke:#ff7f0e;\" x=\"112.281827\" xlink:href=\"#m736969eda9\" y=\"32.264131\"/>\r\n     <use style=\"fill:#ff7f0e;stroke:#ff7f0e;\" x=\"110.753897\" xlink:href=\"#m736969eda9\" y=\"25.905174\"/>\r\n     <use style=\"fill:#ff7f0e;stroke:#ff7f0e;\" x=\"111.517862\" xlink:href=\"#m736969eda9\" y=\"37.714666\"/>\r\n     <use style=\"fill:#ff7f0e;stroke:#ff7f0e;\" x=\"107.698037\" xlink:href=\"#m736969eda9\" y=\"34.989398\"/>\r\n     <use style=\"fill:#ff7f0e;stroke:#ff7f0e;\" x=\"105.788125\" xlink:href=\"#m736969eda9\" y=\"29.084652\"/>\r\n     <use style=\"fill:#ff7f0e;stroke:#ff7f0e;\" x=\"99.294423\" xlink:href=\"#m736969eda9\" y=\"28.17623\"/>\r\n     <use style=\"fill:#ff7f0e;stroke:#ff7f0e;\" x=\"103.878212\" xlink:href=\"#m736969eda9\" y=\"39.077299\"/>\r\n     <use style=\"fill:#ff7f0e;stroke:#ff7f0e;\" x=\"107.698037\" xlink:href=\"#m736969eda9\" y=\"45.436257\"/>\r\n     <use style=\"fill:#ff7f0e;stroke:#ff7f0e;\" x=\"114.955704\" xlink:href=\"#m736969eda9\" y=\"47.253101\"/>\r\n     <use style=\"fill:#ff7f0e;stroke:#ff7f0e;\" x=\"114.191739\" xlink:href=\"#m736969eda9\" y=\"51.341003\"/>\r\n     <use style=\"fill:#ff7f0e;stroke:#ff7f0e;\" x=\"116.483634\" xlink:href=\"#m736969eda9\" y=\"59.062593\"/>\r\n     <use style=\"fill:#ff7f0e;stroke:#ff7f0e;\" x=\"121.831389\" xlink:href=\"#m736969eda9\" y=\"68.146818\"/>\r\n     <use style=\"fill:#ff7f0e;stroke:#ff7f0e;\" x=\"116.483634\" xlink:href=\"#m736969eda9\" y=\"64.058917\"/>\r\n     <use style=\"fill:#ff7f0e;stroke:#ff7f0e;\" x=\"110.371914\" xlink:href=\"#m736969eda9\" y=\"57.69996\"/>\r\n     <use style=\"fill:#ff7f0e;stroke:#ff7f0e;\" x=\"106.170107\" xlink:href=\"#m736969eda9\" y=\"58.154171\"/>\r\n     <use style=\"fill:#ff7f0e;stroke:#ff7f0e;\" x=\"102.350282\" xlink:href=\"#m736969eda9\" y=\"50.886791\"/>\r\n     <use style=\"fill:#ff7f0e;stroke:#ff7f0e;\" x=\"97.002528\" xlink:href=\"#m736969eda9\" y=\"44.982045\"/>\r\n     <use style=\"fill:#ff7f0e;stroke:#ff7f0e;\" x=\"96.620545\" xlink:href=\"#m736969eda9\" y=\"39.077299\"/>\r\n     <use style=\"fill:#ff7f0e;stroke:#ff7f0e;\" x=\"95.85658\" xlink:href=\"#m736969eda9\" y=\"34.080976\"/>\r\n     <use style=\"fill:#ff7f0e;stroke:#ff7f0e;\" x=\"82.869176\" xlink:href=\"#m736969eda9\" y=\"29.993075\"/>\r\n     <use style=\"fill:#ff7f0e;stroke:#ff7f0e;\" x=\"90.890808\" xlink:href=\"#m736969eda9\" y=\"37.260454\"/>\r\n     <use style=\"fill:#ff7f0e;stroke:#ff7f0e;\" x=\"90.508826\" xlink:href=\"#m736969eda9\" y=\"40.894144\"/>\r\n     <use style=\"fill:#ff7f0e;stroke:#ff7f0e;\" x=\"87.070983\" xlink:href=\"#m736969eda9\" y=\"39.531511\"/>\r\n     <use style=\"fill:#ff7f0e;stroke:#ff7f0e;\" x=\"85.543053\" xlink:href=\"#m736969eda9\" y=\"43.1652\"/>\r\n     <use style=\"fill:#ff7f0e;stroke:#ff7f0e;\" x=\"81.341246\" xlink:href=\"#m736969eda9\" y=\"37.714666\"/>\r\n     <use style=\"fill:#ff7f0e;stroke:#ff7f0e;\" x=\"77.521421\" xlink:href=\"#m736969eda9\" y=\"42.710989\"/>\r\n     <use style=\"fill:#ff7f0e;stroke:#ff7f0e;\" x=\"79.049351\" xlink:href=\"#m736969eda9\" y=\"45.890468\"/>\r\n     <use style=\"fill:#ff7f0e;stroke:#ff7f0e;\" x=\"83.251159\" xlink:href=\"#m736969eda9\" y=\"47.707313\"/>\r\n     <use style=\"fill:#ff7f0e;stroke:#ff7f0e;\" x=\"90.890808\" xlink:href=\"#m736969eda9\" y=\"47.707313\"/>\r\n     <use style=\"fill:#ff7f0e;stroke:#ff7f0e;\" x=\"94.32865\" xlink:href=\"#m736969eda9\" y=\"51.795214\"/>\r\n     <use style=\"fill:#ff7f0e;stroke:#ff7f0e;\" x=\"91.272791\" xlink:href=\"#m736969eda9\" y=\"53.612059\"/>\r\n     <use style=\"fill:#ff7f0e;stroke:#ff7f0e;\" x=\"97.38451\" xlink:href=\"#m736969eda9\" y=\"54.520481\"/>\r\n     <use style=\"fill:#ff7f0e;stroke:#ff7f0e;\" x=\"90.126843\" xlink:href=\"#m736969eda9\" y=\"59.062593\"/>\r\n     <use style=\"fill:#ff7f0e;stroke:#ff7f0e;\" x=\"93.182703\" xlink:href=\"#m736969eda9\" y=\"63.150494\"/>\r\n     <use style=\"fill:#ff7f0e;stroke:#ff7f0e;\" x=\"99.294423\" xlink:href=\"#m736969eda9\" y=\"62.242072\"/>\r\n     <use style=\"fill:#ff7f0e;stroke:#ff7f0e;\" x=\"106.170107\" xlink:href=\"#m736969eda9\" y=\"65.421551\"/>\r\n     <use style=\"fill:#ff7f0e;stroke:#ff7f0e;\" x=\"109.989932\" xlink:href=\"#m736969eda9\" y=\"69.509452\"/>\r\n     <use style=\"fill:#ff7f0e;stroke:#ff7f0e;\" x=\"106.170107\" xlink:href=\"#m736969eda9\" y=\"72.68893\"/>\r\n     <use style=\"fill:#ff7f0e;stroke:#ff7f0e;\" x=\"97.766493\" xlink:href=\"#m736969eda9\" y=\"74.505775\"/>\r\n     <use style=\"fill:#ff7f0e;stroke:#ff7f0e;\" x=\"95.85658\" xlink:href=\"#m736969eda9\" y=\"69.509452\"/>\r\n     <use style=\"fill:#ff7f0e;stroke:#ff7f0e;\" x=\"89.362878\" xlink:href=\"#m736969eda9\" y=\"69.509452\"/>\r\n     <use style=\"fill:#ff7f0e;stroke:#ff7f0e;\" x=\"81.723229\" xlink:href=\"#m736969eda9\" y=\"61.787861\"/>\r\n     <use style=\"fill:#ff7f0e;stroke:#ff7f0e;\" x=\"82.105211\" xlink:href=\"#m736969eda9\" y=\"55.428904\"/>\r\n     <use style=\"fill:#ff7f0e;stroke:#ff7f0e;\" x=\"75.993492\" xlink:href=\"#m736969eda9\" y=\"52.703636\"/>\r\n     <use style=\"fill:#ff7f0e;stroke:#ff7f0e;\" x=\"72.173667\" xlink:href=\"#m736969eda9\" y=\"50.43258\"/>\r\n     <use style=\"fill:#ff7f0e;stroke:#ff7f0e;\" x=\"69.881772\" xlink:href=\"#m736969eda9\" y=\"41.802567\"/>\r\n     <use style=\"fill:#ff7f0e;stroke:#ff7f0e;\" x=\"68.735825\" xlink:href=\"#m736969eda9\" y=\"52.249425\"/>\r\n     <use style=\"fill:#ff7f0e;stroke:#ff7f0e;\" x=\"66.061947\" xlink:href=\"#m736969eda9\" y=\"49.524158\"/>\r\n     <use style=\"fill:#ff7f0e;stroke:#ff7f0e;\" x=\"74.465562\" xlink:href=\"#m736969eda9\" y=\"55.883115\"/>\r\n     <use style=\"fill:#ff7f0e;stroke:#ff7f0e;\" x=\"66.825912\" xlink:href=\"#m736969eda9\" y=\"57.245749\"/>\r\n     <use style=\"fill:#ff7f0e;stroke:#ff7f0e;\" x=\"66.44393\" xlink:href=\"#m736969eda9\" y=\"62.242072\"/>\r\n     <use style=\"fill:#ff7f0e;stroke:#ff7f0e;\" x=\"62.242122\" xlink:href=\"#m736969eda9\" y=\"59.062593\"/>\r\n     <use style=\"fill:#ff7f0e;stroke:#ff7f0e;\" x=\"57.658333\" xlink:href=\"#m736969eda9\" y=\"54.520481\"/>\r\n     <use style=\"fill:#ff7f0e;stroke:#ff7f0e;\" x=\"74.465562\" xlink:href=\"#m736969eda9\" y=\"61.33365\"/>\r\n     <use style=\"fill:#ff7f0e;stroke:#ff7f0e;\" x=\"75.611509\" xlink:href=\"#m736969eda9\" y=\"65.875762\"/>\r\n     <use style=\"fill:#ff7f0e;stroke:#ff7f0e;\" x=\"82.105211\" xlink:href=\"#m736969eda9\" y=\"66.329973\"/>\r\n     <use style=\"fill:#ff7f0e;stroke:#ff7f0e;\" x=\"67.207895\" xlink:href=\"#m736969eda9\" y=\"66.784184\"/>\r\n     <use style=\"fill:#ff7f0e;stroke:#ff7f0e;\" x=\"58.422298\" xlink:href=\"#m736969eda9\" y=\"68.601029\"/>\r\n     <use style=\"fill:#ff7f0e;stroke:#ff7f0e;\" x=\"56.130403\" xlink:href=\"#m736969eda9\" y=\"66.329973\"/>\r\n     <use style=\"fill:#ff7f0e;stroke:#ff7f0e;\" x=\"51.164631\" xlink:href=\"#m736969eda9\" y=\"74.959986\"/>\r\n     <use style=\"fill:#ff7f0e;stroke:#ff7f0e;\" x=\"62.624105\" xlink:href=\"#m736969eda9\" y=\"77.231043\"/>\r\n     <use style=\"fill:#ff7f0e;stroke:#ff7f0e;\" x=\"58.422298\" xlink:href=\"#m736969eda9\" y=\"79.95631\"/>\r\n     <use style=\"fill:#ff7f0e;stroke:#ff7f0e;\" x=\"70.263754\" xlink:href=\"#m736969eda9\" y=\"74.051564\"/>\r\n     <use style=\"fill:#ff7f0e;stroke:#ff7f0e;\" x=\"70.645737\" xlink:href=\"#m736969eda9\" y=\"72.68893\"/>\r\n     <use style=\"fill:#ff7f0e;stroke:#ff7f0e;\" x=\"83.251159\" xlink:href=\"#m736969eda9\" y=\"71.326297\"/>\r\n     <use style=\"fill:#ff7f0e;stroke:#ff7f0e;\" x=\"77.903404\" xlink:href=\"#m736969eda9\" y=\"75.414198\"/>\r\n     <use style=\"fill:#ff7f0e;stroke:#ff7f0e;\" x=\"84.015124\" xlink:href=\"#m736969eda9\" y=\"76.776831\"/>\r\n     <use style=\"fill:#ff7f0e;stroke:#ff7f0e;\" x=\"78.667369\" xlink:href=\"#m736969eda9\" y=\"81.773155\"/>\r\n     <use style=\"fill:#ff7f0e;stroke:#ff7f0e;\" x=\"72.173667\" xlink:href=\"#m736969eda9\" y=\"81.318944\"/>\r\n     <use style=\"fill:#ff7f0e;stroke:#ff7f0e;\" x=\"67.589877\" xlink:href=\"#m736969eda9\" y=\"81.318944\"/>\r\n     <use style=\"fill:#ff7f0e;stroke:#ff7f0e;\" x=\"61.478158\" xlink:href=\"#m736969eda9\" y=\"85.861056\"/>\r\n     <use style=\"fill:#ff7f0e;stroke:#ff7f0e;\" x=\"54.602473\" xlink:href=\"#m736969eda9\" y=\"88.132112\"/>\r\n     <use style=\"fill:#ff7f0e;stroke:#ff7f0e;\" x=\"61.096175\" xlink:href=\"#m736969eda9\" y=\"94.036858\"/>\r\n     <use style=\"fill:#ff7f0e;stroke:#ff7f0e;\" x=\"57.27635\" xlink:href=\"#m736969eda9\" y=\"101.758449\"/>\r\n     <use style=\"fill:#ff7f0e;stroke:#ff7f0e;\" x=\"66.061947\" xlink:href=\"#m736969eda9\" y=\"101.304238\"/>\r\n     <use style=\"fill:#ff7f0e;stroke:#ff7f0e;\" x=\"68.353842\" xlink:href=\"#m736969eda9\" y=\"98.124759\"/>\r\n     <use style=\"fill:#ff7f0e;stroke:#ff7f0e;\" x=\"69.881772\" xlink:href=\"#m736969eda9\" y=\"87.22369\"/>\r\n     <use style=\"fill:#ff7f0e;stroke:#ff7f0e;\" x=\"74.465562\" xlink:href=\"#m736969eda9\" y=\"87.22369\"/>\r\n     <use style=\"fill:#ff7f0e;stroke:#ff7f0e;\" x=\"75.611509\" xlink:href=\"#m736969eda9\" y=\"94.491069\"/>\r\n     <use style=\"fill:#ff7f0e;stroke:#ff7f0e;\" x=\"82.487194\" xlink:href=\"#m736969eda9\" y=\"87.22369\"/>\r\n     <use style=\"fill:#ff7f0e;stroke:#ff7f0e;\" x=\"82.105211\" xlink:href=\"#m736969eda9\" y=\"90.85738\"/>\r\n     <use style=\"fill:#ff7f0e;stroke:#ff7f0e;\" x=\"84.779089\" xlink:href=\"#m736969eda9\" y=\"94.036858\"/>\r\n     <use style=\"fill:#ff7f0e;stroke:#ff7f0e;\" x=\"84.015124\" xlink:href=\"#m736969eda9\" y=\"99.033182\"/>\r\n     <use style=\"fill:#ff7f0e;stroke:#ff7f0e;\" x=\"78.667369\" xlink:href=\"#m736969eda9\" y=\"106.754773\"/>\r\n     <use style=\"fill:#ff7f0e;stroke:#ff7f0e;\" x=\"75.993492\" xlink:href=\"#m736969eda9\" y=\"104.029505\"/>\r\n     <use style=\"fill:#ff7f0e;stroke:#ff7f0e;\" x=\"71.791684\" xlink:href=\"#m736969eda9\" y=\"103.121083\"/>\r\n     <use style=\"fill:#ff7f0e;stroke:#ff7f0e;\" x=\"66.825912\" xlink:href=\"#m736969eda9\" y=\"108.117406\"/>\r\n     <use style=\"fill:#ff7f0e;stroke:#ff7f0e;\" x=\"66.44393\" xlink:href=\"#m736969eda9\" y=\"113.567941\"/>\r\n     <use style=\"fill:#ff7f0e;stroke:#ff7f0e;\" x=\"69.881772\" xlink:href=\"#m736969eda9\" y=\"120.835321\"/>\r\n     <use style=\"fill:#ff7f0e;stroke:#ff7f0e;\" x=\"73.701597\" xlink:href=\"#m736969eda9\" y=\"113.11373\"/>\r\n     <use style=\"fill:#ff7f0e;stroke:#ff7f0e;\" x=\"79.049351\" xlink:href=\"#m736969eda9\" y=\"114.930575\"/>\r\n     <use style=\"fill:#ff7f0e;stroke:#ff7f0e;\" x=\"80.195299\" xlink:href=\"#m736969eda9\" y=\"124.014799\"/>\r\n     <use style=\"fill:#ff7f0e;stroke:#ff7f0e;\" x=\"81.723229\" xlink:href=\"#m736969eda9\" y=\"121.289532\"/>\r\n     <use style=\"fill:#ff7f0e;stroke:#ff7f0e;\" x=\"88.216931\" xlink:href=\"#m736969eda9\" y=\"104.483716\"/>\r\n     <use style=\"fill:#ff7f0e;stroke:#ff7f0e;\" x=\"88.980896\" xlink:href=\"#m736969eda9\" y=\"109.934251\"/>\r\n     <use style=\"fill:#ff7f0e;stroke:#ff7f0e;\" x=\"88.980896\" xlink:href=\"#m736969eda9\" y=\"118.564265\"/>\r\n     <use style=\"fill:#ff7f0e;stroke:#ff7f0e;\" x=\"92.418738\" xlink:href=\"#m736969eda9\" y=\"115.838997\"/>\r\n     <use style=\"fill:#ff7f0e;stroke:#ff7f0e;\" x=\"94.710633\" xlink:href=\"#m736969eda9\" y=\"121.289532\"/>\r\n     <use style=\"fill:#ff7f0e;stroke:#ff7f0e;\" x=\"97.002528\" xlink:href=\"#m736969eda9\" y=\"125.831644\"/>\r\n     <use style=\"fill:#ff7f0e;stroke:#ff7f0e;\" x=\"93.564685\" xlink:href=\"#m736969eda9\" y=\"126.285855\"/>\r\n     <use style=\"fill:#ff7f0e;stroke:#ff7f0e;\" x=\"90.126843\" xlink:href=\"#m736969eda9\" y=\"130.373757\"/>\r\n     <use style=\"fill:#ff7f0e;stroke:#ff7f0e;\" x=\"102.350282\" xlink:href=\"#m736969eda9\" y=\"130.373757\"/>\r\n     <use style=\"fill:#ff7f0e;stroke:#ff7f0e;\" x=\"105.02416\" xlink:href=\"#m736969eda9\" y=\"134.461658\"/>\r\n     <use style=\"fill:#ff7f0e;stroke:#ff7f0e;\" x=\"91.272791\" xlink:href=\"#m736969eda9\" y=\"96.762126\"/>\r\n     <use style=\"fill:#ff7f0e;stroke:#ff7f0e;\" x=\"91.654773\" xlink:href=\"#m736969eda9\" y=\"93.128436\"/>\r\n     <use style=\"fill:#ff7f0e;stroke:#ff7f0e;\" x=\"91.654773\" xlink:href=\"#m736969eda9\" y=\"87.677901\"/>\r\n     <use style=\"fill:#ff7f0e;stroke:#ff7f0e;\" x=\"91.654773\" xlink:href=\"#m736969eda9\" y=\"82.227366\"/>\r\n     <use style=\"fill:#ff7f0e;stroke:#ff7f0e;\" x=\"93.946668\" xlink:href=\"#m736969eda9\" y=\"79.502099\"/>\r\n     <use style=\"fill:#ff7f0e;stroke:#ff7f0e;\" x=\"101.586317\" xlink:href=\"#m736969eda9\" y=\"80.864732\"/>\r\n     <use style=\"fill:#ff7f0e;stroke:#ff7f0e;\" x=\"93.946668\" xlink:href=\"#m736969eda9\" y=\"84.952634\"/>\r\n     <use style=\"fill:#ff7f0e;stroke:#ff7f0e;\" x=\"99.294423\" xlink:href=\"#m736969eda9\" y=\"87.677901\"/>\r\n     <use style=\"fill:#ff7f0e;stroke:#ff7f0e;\" x=\"106.170107\" xlink:href=\"#m736969eda9\" y=\"84.044211\"/>\r\n     <use style=\"fill:#ff7f0e;stroke:#ff7f0e;\" x=\"108.843984\" xlink:href=\"#m736969eda9\" y=\"79.047888\"/>\r\n     <use style=\"fill:#ff7f0e;stroke:#ff7f0e;\" x=\"112.281827\" xlink:href=\"#m736969eda9\" y=\"73.597353\"/>\r\n     <use style=\"fill:#ff7f0e;stroke:#ff7f0e;\" x=\"117.629581\" xlink:href=\"#m736969eda9\" y=\"74.051564\"/>\r\n     <use style=\"fill:#ff7f0e;stroke:#ff7f0e;\" x=\"119.539494\" xlink:href=\"#m736969eda9\" y=\"79.95631\"/>\r\n     <use style=\"fill:#ff7f0e;stroke:#ff7f0e;\" x=\"114.955704\" xlink:href=\"#m736969eda9\" y=\"85.406845\"/>\r\n     <use style=\"fill:#ff7f0e;stroke:#ff7f0e;\" x=\"110.753897\" xlink:href=\"#m736969eda9\" y=\"86.315267\"/>\r\n     <use style=\"fill:#ff7f0e;stroke:#ff7f0e;\" x=\"108.462002\" xlink:href=\"#m736969eda9\" y=\"91.311591\"/>\r\n     <use style=\"fill:#ff7f0e;stroke:#ff7f0e;\" x=\"108.462002\" xlink:href=\"#m736969eda9\" y=\"95.399492\"/>\r\n     <use style=\"fill:#ff7f0e;stroke:#ff7f0e;\" x=\"98.91244\" xlink:href=\"#m736969eda9\" y=\"93.128436\"/>\r\n     <use style=\"fill:#ff7f0e;stroke:#ff7f0e;\" x=\"100.822352\" xlink:href=\"#m736969eda9\" y=\"98.57897\"/>\r\n     <use style=\"fill:#ff7f0e;stroke:#ff7f0e;\" x=\"97.002528\" xlink:href=\"#m736969eda9\" y=\"99.487393\"/>\r\n     <use style=\"fill:#ff7f0e;stroke:#ff7f0e;\" x=\"96.238563\" xlink:href=\"#m736969eda9\" y=\"108.117406\"/>\r\n     <use style=\"fill:#ff7f0e;stroke:#ff7f0e;\" x=\"101.586317\" xlink:href=\"#m736969eda9\" y=\"106.754773\"/>\r\n     <use style=\"fill:#ff7f0e;stroke:#ff7f0e;\" x=\"107.316055\" xlink:href=\"#m736969eda9\" y=\"101.758449\"/>\r\n     <use style=\"fill:#ff7f0e;stroke:#ff7f0e;\" x=\"111.899844\" xlink:href=\"#m736969eda9\" y=\"98.57897\"/>\r\n     <use style=\"fill:#ff7f0e;stroke:#ff7f0e;\" x=\"119.921476\" xlink:href=\"#m736969eda9\" y=\"90.403168\"/>\r\n     <use style=\"fill:#ff7f0e;stroke:#ff7f0e;\" x=\"125.651213\" xlink:href=\"#m736969eda9\" y=\"93.128436\"/>\r\n     <use style=\"fill:#ff7f0e;stroke:#ff7f0e;\" x=\"123.741301\" xlink:href=\"#m736969eda9\" y=\"98.124759\"/>\r\n     <use style=\"fill:#ff7f0e;stroke:#ff7f0e;\" x=\"117.247599\" xlink:href=\"#m736969eda9\" y=\"104.937928\"/>\r\n     <use style=\"fill:#ff7f0e;stroke:#ff7f0e;\" x=\"109.607949\" xlink:href=\"#m736969eda9\" y=\"106.300561\"/>\r\n     <use style=\"fill:#ff7f0e;stroke:#ff7f0e;\" x=\"104.642177\" xlink:href=\"#m736969eda9\" y=\"114.022152\"/>\r\n     <use style=\"fill:#ff7f0e;stroke:#ff7f0e;\" x=\"101.204335\" xlink:href=\"#m736969eda9\" y=\"117.201631\"/>\r\n     <use style=\"fill:#ff7f0e;stroke:#ff7f0e;\" x=\"106.55209\" xlink:href=\"#m736969eda9\" y=\"121.743743\"/>\r\n     <use style=\"fill:#ff7f0e;stroke:#ff7f0e;\" x=\"112.663809\" xlink:href=\"#m736969eda9\" y=\"120.381109\"/>\r\n     <use style=\"fill:#ff7f0e;stroke:#ff7f0e;\" x=\"112.663809\" xlink:href=\"#m736969eda9\" y=\"111.751096\"/>\r\n     <use style=\"fill:#ff7f0e;stroke:#ff7f0e;\" x=\"119.921476\" xlink:href=\"#m736969eda9\" y=\"115.838997\"/>\r\n     <use style=\"fill:#ff7f0e;stroke:#ff7f0e;\" x=\"123.359319\" xlink:href=\"#m736969eda9\" y=\"107.208984\"/>\r\n     <use style=\"fill:#ff7f0e;stroke:#ff7f0e;\" x=\"118.393546\" xlink:href=\"#m736969eda9\" y=\"122.197954\"/>\r\n     <use style=\"fill:#ff7f0e;stroke:#ff7f0e;\" x=\"109.989932\" xlink:href=\"#m736969eda9\" y=\"127.648489\"/>\r\n     <use style=\"fill:#ff7f0e;stroke:#ff7f0e;\" x=\"116.865616\" xlink:href=\"#m736969eda9\" y=\"129.919545\"/>\r\n     <use style=\"fill:#ff7f0e;stroke:#ff7f0e;\" x=\"119.157511\" xlink:href=\"#m736969eda9\" y=\"127.648489\"/>\r\n     <use style=\"fill:#ff7f0e;stroke:#ff7f0e;\" x=\"125.269231\" xlink:href=\"#m736969eda9\" y=\"128.556912\"/>\r\n     <use style=\"fill:#ff7f0e;stroke:#ff7f0e;\" x=\"130.616986\" xlink:href=\"#m736969eda9\" y=\"121.743743\"/>\r\n     <use style=\"fill:#ff7f0e;stroke:#ff7f0e;\" x=\"128.707073\" xlink:href=\"#m736969eda9\" y=\"117.201631\"/>\r\n     <use style=\"fill:#ff7f0e;stroke:#ff7f0e;\" x=\"129.853021\" xlink:href=\"#m736969eda9\" y=\"111.751096\"/>\r\n     <use style=\"fill:#ff7f0e;stroke:#ff7f0e;\" x=\"132.526898\" xlink:href=\"#m736969eda9\" y=\"105.84635\"/>\r\n     <use style=\"fill:#ff7f0e;stroke:#ff7f0e;\" x=\"141.694477\" xlink:href=\"#m736969eda9\" y=\"121.289532\"/>\r\n     <use style=\"fill:#ff7f0e;stroke:#ff7f0e;\" x=\"143.986372\" xlink:href=\"#m736969eda9\" y=\"130.827968\"/>\r\n     <use style=\"fill:#ff7f0e;stroke:#ff7f0e;\" x=\"131.762933\" xlink:href=\"#m736969eda9\" y=\"131.282179\"/>\r\n     <use style=\"fill:#ff7f0e;stroke:#ff7f0e;\" x=\"130.616986\" xlink:href=\"#m736969eda9\" y=\"135.824291\"/>\r\n     <use style=\"fill:#ff7f0e;stroke:#ff7f0e;\" x=\"118.393546\" xlink:href=\"#m736969eda9\" y=\"137.641136\"/>\r\n    </g>\r\n   </g>\r\n   <g id=\"PathCollection_3\">\r\n    <defs>\r\n     <path d=\"M 0 2.236068 \r\nC 0.593012 2.236068 1.161816 2.000462 1.581139 1.581139 \r\nC 2.000462 1.161816 2.236068 0.593012 2.236068 0 \r\nC 2.236068 -0.593012 2.000462 -1.161816 1.581139 -1.581139 \r\nC 1.161816 -2.000462 0.593012 -2.236068 0 -2.236068 \r\nC -0.593012 -2.236068 -1.161816 -2.000462 -1.581139 -1.581139 \r\nC -2.000462 -1.161816 -2.236068 -0.593012 -2.236068 0 \r\nC -2.236068 0.593012 -2.000462 1.161816 -1.581139 1.581139 \r\nC -1.161816 2.000462 -0.593012 2.236068 0 2.236068 \r\nz\r\n\" id=\"m33258b12c5\" style=\"stroke:#2ca02c;\"/>\r\n    </defs>\r\n    <g clip-path=\"url(#p6e39fb9e80)\">\r\n     <use style=\"fill:#2ca02c;stroke:#2ca02c;\" x=\"285.701871\" xlink:href=\"#m33258b12c5\" y=\"254.827634\"/>\r\n     <use style=\"fill:#2ca02c;stroke:#2ca02c;\" x=\"278.062221\" xlink:href=\"#m33258b12c5\" y=\"251.648155\"/>\r\n     <use style=\"fill:#2ca02c;stroke:#2ca02c;\" x=\"270.040589\" xlink:href=\"#m33258b12c5\" y=\"252.102366\"/>\r\n     <use style=\"fill:#2ca02c;stroke:#2ca02c;\" x=\"269.276624\" xlink:href=\"#m33258b12c5\" y=\"246.651831\"/>\r\n     <use style=\"fill:#2ca02c;stroke:#2ca02c;\" x=\"262.782922\" xlink:href=\"#m33258b12c5\" y=\"243.472353\"/>\r\n     <use style=\"fill:#2ca02c;stroke:#2ca02c;\" x=\"257.81715\" xlink:href=\"#m33258b12c5\" y=\"235.296551\"/>\r\n     <use style=\"fill:#2ca02c;stroke:#2ca02c;\" x=\"260.491027\" xlink:href=\"#m33258b12c5\" y=\"231.20865\"/>\r\n     <use style=\"fill:#2ca02c;stroke:#2ca02c;\" x=\"254.76129\" xlink:href=\"#m33258b12c5\" y=\"225.758115\"/>\r\n     <use style=\"fill:#2ca02c;stroke:#2ca02c;\" x=\"255.525255\" xlink:href=\"#m33258b12c5\" y=\"219.399158\"/>\r\n     <use style=\"fill:#2ca02c;stroke:#2ca02c;\" x=\"250.941465\" xlink:href=\"#m33258b12c5\" y=\"212.585989\"/>\r\n     <use style=\"fill:#2ca02c;stroke:#2ca02c;\" x=\"260.491027\" xlink:href=\"#m33258b12c5\" y=\"213.948623\"/>\r\n     <use style=\"fill:#2ca02c;stroke:#2ca02c;\" x=\"261.254992\" xlink:href=\"#m33258b12c5\" y=\"219.853369\"/>\r\n     <use style=\"fill:#2ca02c;stroke:#2ca02c;\" x=\"266.220764\" xlink:href=\"#m33258b12c5\" y=\"225.303904\"/>\r\n     <use style=\"fill:#2ca02c;stroke:#2ca02c;\" x=\"268.130677\" xlink:href=\"#m33258b12c5\" y=\"232.571283\"/>\r\n     <use style=\"fill:#2ca02c;stroke:#2ca02c;\" x=\"272.714466\" xlink:href=\"#m33258b12c5\" y=\"228.029171\"/>\r\n     <use style=\"fill:#2ca02c;stroke:#2ca02c;\" x=\"276.152309\" xlink:href=\"#m33258b12c5\" y=\"232.117072\"/>\r\n     <use style=\"fill:#2ca02c;stroke:#2ca02c;\" x=\"270.422572\" xlink:href=\"#m33258b12c5\" y=\"240.292874\"/>\r\n     <use style=\"fill:#2ca02c;stroke:#2ca02c;\" x=\"276.152309\" xlink:href=\"#m33258b12c5\" y=\"243.018142\"/>\r\n     <use style=\"fill:#2ca02c;stroke:#2ca02c;\" x=\"275.006361\" xlink:href=\"#m33258b12c5\" y=\"246.651831\"/>\r\n     <use style=\"fill:#2ca02c;stroke:#2ca02c;\" x=\"282.646011\" xlink:href=\"#m33258b12c5\" y=\"244.834986\"/>\r\n     <use style=\"fill:#2ca02c;stroke:#2ca02c;\" x=\"278.062221\" xlink:href=\"#m33258b12c5\" y=\"239.838663\"/>\r\n     <use style=\"fill:#2ca02c;stroke:#2ca02c;\" x=\"282.264028\" xlink:href=\"#m33258b12c5\" y=\"237.113396\"/>\r\n     <use style=\"fill:#2ca02c;stroke:#2ca02c;\" x=\"289.139713\" xlink:href=\"#m33258b12c5\" y=\"240.747085\"/>\r\n     <use style=\"fill:#2ca02c;stroke:#2ca02c;\" x=\"292.195573\" xlink:href=\"#m33258b12c5\" y=\"244.380775\"/>\r\n     <use style=\"fill:#2ca02c;stroke:#2ca02c;\" x=\"296.39738\" xlink:href=\"#m33258b12c5\" y=\"249.377099\"/>\r\n     <use style=\"fill:#2ca02c;stroke:#2ca02c;\" x=\"289.903678\" xlink:href=\"#m33258b12c5\" y=\"249.83131\"/>\r\n     <use style=\"fill:#2ca02c;stroke:#2ca02c;\" x=\"286.847818\" xlink:href=\"#m33258b12c5\" y=\"248.468676\"/>\r\n     <use style=\"fill:#2ca02c;stroke:#2ca02c;\" x=\"302.891082\" xlink:href=\"#m33258b12c5\" y=\"239.384452\"/>\r\n     <use style=\"fill:#2ca02c;stroke:#2ca02c;\" x=\"297.161345\" xlink:href=\"#m33258b12c5\" y=\"238.021818\"/>\r\n     <use style=\"fill:#2ca02c;stroke:#2ca02c;\" x=\"300.217205\" xlink:href=\"#m33258b12c5\" y=\"231.662861\"/>\r\n     <use style=\"fill:#2ca02c;stroke:#2ca02c;\" x=\"291.431608\" xlink:href=\"#m33258b12c5\" y=\"233.479706\"/>\r\n     <use style=\"fill:#2ca02c;stroke:#2ca02c;\" x=\"283.027993\" xlink:href=\"#m33258b12c5\" y=\"230.754438\"/>\r\n     <use style=\"fill:#2ca02c;stroke:#2ca02c;\" x=\"284.937906\" xlink:href=\"#m33258b12c5\" y=\"226.666537\"/>\r\n     <use style=\"fill:#2ca02c;stroke:#2ca02c;\" x=\"283.027993\" xlink:href=\"#m33258b12c5\" y=\"222.578636\"/>\r\n     <use style=\"fill:#2ca02c;stroke:#2ca02c;\" x=\"275.770326\" xlink:href=\"#m33258b12c5\" y=\"222.124425\"/>\r\n     <use style=\"fill:#2ca02c;stroke:#2ca02c;\" x=\"272.332484\" xlink:href=\"#m33258b12c5\" y=\"217.128101\"/>\r\n     <use style=\"fill:#2ca02c;stroke:#2ca02c;\" x=\"277.680239\" xlink:href=\"#m33258b12c5\" y=\"214.857045\"/>\r\n     <use style=\"fill:#2ca02c;stroke:#2ca02c;\" x=\"269.658607\" xlink:href=\"#m33258b12c5\" y=\"212.585989\"/>\r\n     <use style=\"fill:#2ca02c;stroke:#2ca02c;\" x=\"263.546887\" xlink:href=\"#m33258b12c5\" y=\"208.043877\"/>\r\n     <use style=\"fill:#2ca02c;stroke:#2ca02c;\" x=\"257.435167\" xlink:href=\"#m33258b12c5\" y=\"206.227032\"/>\r\n     <use style=\"fill:#2ca02c;stroke:#2ca02c;\" x=\"253.615343\" xlink:href=\"#m33258b12c5\" y=\"204.864398\"/>\r\n     <use style=\"fill:#2ca02c;stroke:#2ca02c;\" x=\"260.109045\" xlink:href=\"#m33258b12c5\" y=\"203.501765\"/>\r\n     <use style=\"fill:#2ca02c;stroke:#2ca02c;\" x=\"252.469395\" xlink:href=\"#m33258b12c5\" y=\"196.688596\"/>\r\n     <use style=\"fill:#2ca02c;stroke:#2ca02c;\" x=\"258.199132\" xlink:href=\"#m33258b12c5\" y=\"196.234385\"/>\r\n     <use style=\"fill:#2ca02c;stroke:#2ca02c;\" x=\"262.018957\" xlink:href=\"#m33258b12c5\" y=\"197.142807\"/>\r\n     <use style=\"fill:#2ca02c;stroke:#2ca02c;\" x=\"268.512659\" xlink:href=\"#m33258b12c5\" y=\"200.776497\"/>\r\n     <use style=\"fill:#2ca02c;stroke:#2ca02c;\" x=\"273.478431\" xlink:href=\"#m33258b12c5\" y=\"206.681243\"/>\r\n     <use style=\"fill:#2ca02c;stroke:#2ca02c;\" x=\"281.882046\" xlink:href=\"#m33258b12c5\" y=\"208.498088\"/>\r\n     <use style=\"fill:#2ca02c;stroke:#2ca02c;\" x=\"287.993765\" xlink:href=\"#m33258b12c5\" y=\"216.67389\"/>\r\n     <use style=\"fill:#2ca02c;stroke:#2ca02c;\" x=\"290.667643\" xlink:href=\"#m33258b12c5\" y=\"213.948623\"/>\r\n     <use style=\"fill:#2ca02c;stroke:#2ca02c;\" x=\"289.903678\" xlink:href=\"#m33258b12c5\" y=\"220.761791\"/>\r\n     <use style=\"fill:#2ca02c;stroke:#2ca02c;\" x=\"292.959538\" xlink:href=\"#m33258b12c5\" y=\"224.849692\"/>\r\n     <use style=\"fill:#2ca02c;stroke:#2ca02c;\" x=\"296.779362\" xlink:href=\"#m33258b12c5\" y=\"219.853369\"/>\r\n     <use style=\"fill:#2ca02c;stroke:#2ca02c;\" x=\"301.363152\" xlink:href=\"#m33258b12c5\" y=\"218.490735\"/>\r\n     <use style=\"fill:#2ca02c;stroke:#2ca02c;\" x=\"304.800994\" xlink:href=\"#m33258b12c5\" y=\"223.032847\"/>\r\n     <use style=\"fill:#2ca02c;stroke:#2ca02c;\" x=\"300.599187\" xlink:href=\"#m33258b12c5\" y=\"212.131778\"/>\r\n     <use style=\"fill:#2ca02c;stroke:#2ca02c;\" x=\"295.633415\" xlink:href=\"#m33258b12c5\" y=\"213.494412\"/>\r\n     <use style=\"fill:#2ca02c;stroke:#2ca02c;\" x=\"304.800994\" xlink:href=\"#m33258b12c5\" y=\"208.043877\"/>\r\n     <use style=\"fill:#2ca02c;stroke:#2ca02c;\" x=\"303.655047\" xlink:href=\"#m33258b12c5\" y=\"203.955976\"/>\r\n     <use style=\"fill:#2ca02c;stroke:#2ca02c;\" x=\"296.779362\" xlink:href=\"#m33258b12c5\" y=\"203.955976\"/>\r\n     <use style=\"fill:#2ca02c;stroke:#2ca02c;\" x=\"289.521695\" xlink:href=\"#m33258b12c5\" y=\"206.227032\"/>\r\n     <use style=\"fill:#2ca02c;stroke:#2ca02c;\" x=\"294.86945\" xlink:href=\"#m33258b12c5\" y=\"201.230708\"/>\r\n     <use style=\"fill:#2ca02c;stroke:#2ca02c;\" x=\"288.375748\" xlink:href=\"#m33258b12c5\" y=\"200.322286\"/>\r\n     <use style=\"fill:#2ca02c;stroke:#2ca02c;\" x=\"281.500063\" xlink:href=\"#m33258b12c5\" y=\"202.139131\"/>\r\n     <use style=\"fill:#2ca02c;stroke:#2ca02c;\" x=\"284.173941\" xlink:href=\"#m33258b12c5\" y=\"197.597019\"/>\r\n     <use style=\"fill:#2ca02c;stroke:#2ca02c;\" x=\"273.860414\" xlink:href=\"#m33258b12c5\" y=\"198.959652\"/>\r\n     <use style=\"fill:#2ca02c;stroke:#2ca02c;\" x=\"272.332484\" xlink:href=\"#m33258b12c5\" y=\"193.509117\"/>\r\n     <use style=\"fill:#2ca02c;stroke:#2ca02c;\" x=\"279.972133\" xlink:href=\"#m33258b12c5\" y=\"193.054906\"/>\r\n     <use style=\"fill:#2ca02c;stroke:#2ca02c;\" x=\"266.984729\" xlink:href=\"#m33258b12c5\" y=\"191.238061\"/>\r\n     <use style=\"fill:#2ca02c;stroke:#2ca02c;\" x=\"259.34508\" xlink:href=\"#m33258b12c5\" y=\"191.238061\"/>\r\n     <use style=\"fill:#2ca02c;stroke:#2ca02c;\" x=\"257.81715\" xlink:href=\"#m33258b12c5\" y=\"185.787527\"/>\r\n     <use style=\"fill:#2ca02c;stroke:#2ca02c;\" x=\"261.636975\" xlink:href=\"#m33258b12c5\" y=\"182.608048\"/>\r\n     <use style=\"fill:#2ca02c;stroke:#2ca02c;\" x=\"260.109045\" xlink:href=\"#m33258b12c5\" y=\"180.791203\"/>\r\n     <use style=\"fill:#2ca02c;stroke:#2ca02c;\" x=\"257.81715\" xlink:href=\"#m33258b12c5\" y=\"177.157513\"/>\r\n     <use style=\"fill:#2ca02c;stroke:#2ca02c;\" x=\"263.928869\" xlink:href=\"#m33258b12c5\" y=\"177.611724\"/>\r\n     <use style=\"fill:#2ca02c;stroke:#2ca02c;\" x=\"269.658607\" xlink:href=\"#m33258b12c5\" y=\"183.51647\"/>\r\n     <use style=\"fill:#2ca02c;stroke:#2ca02c;\" x=\"267.366712\" xlink:href=\"#m33258b12c5\" y=\"186.241738\"/>\r\n     <use style=\"fill:#2ca02c;stroke:#2ca02c;\" x=\"277.298256\" xlink:href=\"#m33258b12c5\" y=\"185.333315\"/>\r\n     <use style=\"fill:#2ca02c;stroke:#2ca02c;\" x=\"275.006361\" xlink:href=\"#m33258b12c5\" y=\"180.336992\"/>\r\n     <use style=\"fill:#2ca02c;stroke:#2ca02c;\" x=\"271.950501\" xlink:href=\"#m33258b12c5\" y=\"175.340668\"/>\r\n     <use style=\"fill:#2ca02c;stroke:#2ca02c;\" x=\"270.422572\" xlink:href=\"#m33258b12c5\" y=\"175.340668\"/>\r\n     <use style=\"fill:#2ca02c;stroke:#2ca02c;\" x=\"264.692834\" xlink:href=\"#m33258b12c5\" y=\"171.252767\"/>\r\n     <use style=\"fill:#2ca02c;stroke:#2ca02c;\" x=\"269.658607\" xlink:href=\"#m33258b12c5\" y=\"168.981711\"/>\r\n     <use style=\"fill:#2ca02c;stroke:#2ca02c;\" x=\"275.770326\" xlink:href=\"#m33258b12c5\" y=\"167.619077\"/>\r\n     <use style=\"fill:#2ca02c;stroke:#2ca02c;\" x=\"278.826186\" xlink:href=\"#m33258b12c5\" y=\"166.710655\"/>\r\n     <use style=\"fill:#2ca02c;stroke:#2ca02c;\" x=\"278.444204\" xlink:href=\"#m33258b12c5\" y=\"170.798556\"/>\r\n     <use style=\"fill:#2ca02c;stroke:#2ca02c;\" x=\"278.826186\" xlink:href=\"#m33258b12c5\" y=\"176.703302\"/>\r\n     <use style=\"fill:#2ca02c;stroke:#2ca02c;\" x=\"287.611783\" xlink:href=\"#m33258b12c5\" y=\"179.882781\"/>\r\n     <use style=\"fill:#2ca02c;stroke:#2ca02c;\" x=\"285.319888\" xlink:href=\"#m33258b12c5\" y=\"188.058583\"/>\r\n     <use style=\"fill:#2ca02c;stroke:#2ca02c;\" x=\"290.28566\" xlink:href=\"#m33258b12c5\" y=\"186.695949\"/>\r\n     <use style=\"fill:#2ca02c;stroke:#2ca02c;\" x=\"291.431608\" xlink:href=\"#m33258b12c5\" y=\"194.871751\"/>\r\n     <use style=\"fill:#2ca02c;stroke:#2ca02c;\" x=\"297.92531\" xlink:href=\"#m33258b12c5\" y=\"197.142807\"/>\r\n     <use style=\"fill:#2ca02c;stroke:#2ca02c;\" x=\"303.273064\" xlink:href=\"#m33258b12c5\" y=\"195.780174\"/>\r\n     <use style=\"fill:#2ca02c;stroke:#2ca02c;\" x=\"297.161345\" xlink:href=\"#m33258b12c5\" y=\"188.967005\"/>\r\n     <use style=\"fill:#2ca02c;stroke:#2ca02c;\" x=\"299.071257\" xlink:href=\"#m33258b12c5\" y=\"181.699626\"/>\r\n     <use style=\"fill:#2ca02c;stroke:#2ca02c;\" x=\"294.487467\" xlink:href=\"#m33258b12c5\" y=\"179.882781\"/>\r\n     <use style=\"fill:#2ca02c;stroke:#2ca02c;\" x=\"290.667643\" xlink:href=\"#m33258b12c5\" y=\"179.882781\"/>\r\n     <use style=\"fill:#2ca02c;stroke:#2ca02c;\" x=\"292.577555\" xlink:href=\"#m33258b12c5\" y=\"170.798556\"/>\r\n     <use style=\"fill:#2ca02c;stroke:#2ca02c;\" x=\"285.701871\" xlink:href=\"#m33258b12c5\" y=\"172.615401\"/>\r\n     <use style=\"fill:#2ca02c;stroke:#2ca02c;\" x=\"285.701871\" xlink:href=\"#m33258b12c5\" y=\"168.073289\"/>\r\n     <use style=\"fill:#2ca02c;stroke:#2ca02c;\" x=\"279.590151\" xlink:href=\"#m33258b12c5\" y=\"162.168543\"/>\r\n     <use style=\"fill:#2ca02c;stroke:#2ca02c;\" x=\"279.208168\" xlink:href=\"#m33258b12c5\" y=\"158.080642\"/>\r\n    </g>\r\n   </g>\r\n   <g id=\"PathCollection_4\">\r\n    <defs>\r\n     <path d=\"M 0 2.236068 \r\nC 0.593012 2.236068 1.161816 2.000462 1.581139 1.581139 \r\nC 2.000462 1.161816 2.236068 0.593012 2.236068 0 \r\nC 2.236068 -0.593012 2.000462 -1.161816 1.581139 -1.581139 \r\nC 1.161816 -2.000462 0.593012 -2.236068 0 -2.236068 \r\nC -0.593012 -2.236068 -1.161816 -2.000462 -1.581139 -1.581139 \r\nC -2.000462 -1.161816 -2.236068 -0.593012 -2.236068 0 \r\nC -2.236068 0.593012 -2.000462 1.161816 -1.581139 1.581139 \r\nC -1.161816 2.000462 -0.593012 2.236068 0 2.236068 \r\nz\r\n\" id=\"mcd244cdad6\" style=\"stroke:#d62728;\"/>\r\n    </defs>\r\n    <g clip-path=\"url(#p6e39fb9e80)\">\r\n     <use style=\"fill:#d62728;stroke:#d62728;\" x=\"103.114247\" xlink:href=\"#mcd244cdad6\" y=\"186.695949\"/>\r\n     <use style=\"fill:#d62728;stroke:#d62728;\" x=\"105.02416\" xlink:href=\"#mcd244cdad6\" y=\"190.78385\"/>\r\n     <use style=\"fill:#d62728;stroke:#d62728;\" x=\"108.843984\" xlink:href=\"#mcd244cdad6\" y=\"195.780174\"/>\r\n     <use style=\"fill:#d62728;stroke:#d62728;\" x=\"113.809757\" xlink:href=\"#mcd244cdad6\" y=\"193.963329\"/>\r\n     <use style=\"fill:#d62728;stroke:#d62728;\" x=\"115.337687\" xlink:href=\"#mcd244cdad6\" y=\"188.058583\"/>\r\n     <use style=\"fill:#d62728;stroke:#d62728;\" x=\"102.732265\" xlink:href=\"#mcd244cdad6\" y=\"208.043877\"/>\r\n     <use style=\"fill:#d62728;stroke:#d62728;\" x=\"109.989932\" xlink:href=\"#mcd244cdad6\" y=\"203.955976\"/>\r\n     <use style=\"fill:#d62728;stroke:#d62728;\" x=\"116.101651\" xlink:href=\"#mcd244cdad6\" y=\"197.597019\"/>\r\n     <use style=\"fill:#d62728;stroke:#d62728;\" x=\"123.741301\" xlink:href=\"#mcd244cdad6\" y=\"189.875428\"/>\r\n     <use style=\"fill:#d62728;stroke:#d62728;\" x=\"124.123283\" xlink:href=\"#mcd244cdad6\" y=\"180.336992\"/>\r\n     <use style=\"fill:#d62728;stroke:#d62728;\" x=\"129.471038\" xlink:href=\"#mcd244cdad6\" y=\"185.787527\"/>\r\n     <use style=\"fill:#d62728;stroke:#d62728;\" x=\"132.90888\" xlink:href=\"#mcd244cdad6\" y=\"179.882781\"/>\r\n     <use style=\"fill:#d62728;stroke:#d62728;\" x=\"136.346723\" xlink:href=\"#mcd244cdad6\" y=\"179.428569\"/>\r\n     <use style=\"fill:#d62728;stroke:#d62728;\" x=\"134.818793\" xlink:href=\"#mcd244cdad6\" y=\"173.523823\"/>\r\n     <use style=\"fill:#d62728;stroke:#d62728;\" x=\"155.445846\" xlink:href=\"#mcd244cdad6\" y=\"169.435922\"/>\r\n     <use style=\"fill:#d62728;stroke:#d62728;\" x=\"146.278267\" xlink:href=\"#mcd244cdad6\" y=\"172.16119\"/>\r\n     <use style=\"fill:#d62728;stroke:#d62728;\" x=\"146.66025\" xlink:href=\"#mcd244cdad6\" y=\"177.611724\"/>\r\n     <use style=\"fill:#d62728;stroke:#d62728;\" x=\"153.153952\" xlink:href=\"#mcd244cdad6\" y=\"175.79488\"/>\r\n     <use style=\"fill:#d62728;stroke:#d62728;\" x=\"149.716109\" xlink:href=\"#mcd244cdad6\" y=\"180.336992\"/>\r\n     <use style=\"fill:#d62728;stroke:#d62728;\" x=\"144.368355\" xlink:href=\"#mcd244cdad6\" y=\"185.333315\"/>\r\n     <use style=\"fill:#d62728;stroke:#d62728;\" x=\"138.638618\" xlink:href=\"#mcd244cdad6\" y=\"183.51647\"/>\r\n     <use style=\"fill:#d62728;stroke:#d62728;\" x=\"135.96474\" xlink:href=\"#mcd244cdad6\" y=\"188.967005\"/>\r\n     <use style=\"fill:#d62728;stroke:#d62728;\" x=\"130.616986\" xlink:href=\"#mcd244cdad6\" y=\"191.692273\"/>\r\n     <use style=\"fill:#d62728;stroke:#d62728;\" x=\"123.359319\" xlink:href=\"#mcd244cdad6\" y=\"194.871751\"/>\r\n     <use style=\"fill:#d62728;stroke:#d62728;\" x=\"126.033196\" xlink:href=\"#mcd244cdad6\" y=\"197.597019\"/>\r\n     <use style=\"fill:#d62728;stroke:#d62728;\" x=\"120.685441\" xlink:href=\"#mcd244cdad6\" y=\"202.139131\"/>\r\n     <use style=\"fill:#d62728;stroke:#d62728;\" x=\"115.719669\" xlink:href=\"#mcd244cdad6\" y=\"205.318609\"/>\r\n     <use style=\"fill:#d62728;stroke:#d62728;\" x=\"110.371914\" xlink:href=\"#mcd244cdad6\" y=\"209.860722\"/>\r\n     <use style=\"fill:#d62728;stroke:#d62728;\" x=\"104.642177\" xlink:href=\"#mcd244cdad6\" y=\"216.67389\"/>\r\n     <use style=\"fill:#d62728;stroke:#d62728;\" x=\"102.732265\" xlink:href=\"#mcd244cdad6\" y=\"225.303904\"/>\r\n     <use style=\"fill:#d62728;stroke:#d62728;\" x=\"111.899844\" xlink:href=\"#mcd244cdad6\" y=\"214.402834\"/>\r\n     <use style=\"fill:#d62728;stroke:#d62728;\" x=\"119.921476\" xlink:href=\"#mcd244cdad6\" y=\"209.860722\"/>\r\n     <use style=\"fill:#d62728;stroke:#d62728;\" x=\"125.651213\" xlink:href=\"#mcd244cdad6\" y=\"205.318609\"/>\r\n     <use style=\"fill:#d62728;stroke:#d62728;\" x=\"126.415178\" xlink:href=\"#mcd244cdad6\" y=\"201.68492\"/>\r\n     <use style=\"fill:#d62728;stroke:#d62728;\" x=\"133.290863\" xlink:href=\"#mcd244cdad6\" y=\"195.325962\"/>\r\n     <use style=\"fill:#d62728;stroke:#d62728;\" x=\"113.427774\" xlink:href=\"#mcd244cdad6\" y=\"218.490735\"/>\r\n     <use style=\"fill:#d62728;stroke:#d62728;\" x=\"112.281827\" xlink:href=\"#mcd244cdad6\" y=\"223.94127\"/>\r\n     <use style=\"fill:#d62728;stroke:#d62728;\" x=\"116.865616\" xlink:href=\"#mcd244cdad6\" y=\"225.303904\"/>\r\n     <use style=\"fill:#d62728;stroke:#d62728;\" x=\"120.303459\" xlink:href=\"#mcd244cdad6\" y=\"222.124425\"/>\r\n     <use style=\"fill:#d62728;stroke:#d62728;\" x=\"119.157511\" xlink:href=\"#mcd244cdad6\" y=\"217.582313\"/>\r\n     <use style=\"fill:#d62728;stroke:#d62728;\" x=\"124.505266\" xlink:href=\"#mcd244cdad6\" y=\"217.582313\"/>\r\n     <use style=\"fill:#d62728;stroke:#d62728;\" x=\"128.325091\" xlink:href=\"#mcd244cdad6\" y=\"214.402834\"/>\r\n     <use style=\"fill:#d62728;stroke:#d62728;\" x=\"127.561126\" xlink:href=\"#mcd244cdad6\" y=\"211.677567\"/>\r\n     <use style=\"fill:#d62728;stroke:#d62728;\" x=\"130.616986\" xlink:href=\"#mcd244cdad6\" y=\"204.864398\"/>\r\n     <use style=\"fill:#d62728;stroke:#d62728;\" x=\"134.818793\" xlink:href=\"#mcd244cdad6\" y=\"202.139131\"/>\r\n     <use style=\"fill:#d62728;stroke:#d62728;\" x=\"139.0206\" xlink:href=\"#mcd244cdad6\" y=\"199.868075\"/>\r\n     <use style=\"fill:#d62728;stroke:#d62728;\" x=\"140.930512\" xlink:href=\"#mcd244cdad6\" y=\"193.509117\"/>\r\n     <use style=\"fill:#d62728;stroke:#d62728;\" x=\"143.60439\" xlink:href=\"#mcd244cdad6\" y=\"190.78385\"/>\r\n     <use style=\"fill:#d62728;stroke:#d62728;\" x=\"150.480074\" xlink:href=\"#mcd244cdad6\" y=\"188.058583\"/>\r\n     <use style=\"fill:#d62728;stroke:#d62728;\" x=\"153.535934\" xlink:href=\"#mcd244cdad6\" y=\"182.153837\"/>\r\n     <use style=\"fill:#d62728;stroke:#d62728;\" x=\"149.716109\" xlink:href=\"#mcd244cdad6\" y=\"193.963329\"/>\r\n     <use style=\"fill:#d62728;stroke:#d62728;\" x=\"143.222407\" xlink:href=\"#mcd244cdad6\" y=\"194.871751\"/>\r\n     <use style=\"fill:#d62728;stroke:#d62728;\" x=\"143.60439\" xlink:href=\"#mcd244cdad6\" y=\"198.505441\"/>\r\n     <use style=\"fill:#d62728;stroke:#d62728;\" x=\"141.312495\" xlink:href=\"#mcd244cdad6\" y=\"202.139131\"/>\r\n     <use style=\"fill:#d62728;stroke:#d62728;\" x=\"142.07646\" xlink:href=\"#mcd244cdad6\" y=\"208.043877\"/>\r\n     <use style=\"fill:#d62728;stroke:#d62728;\" x=\"144.368355\" xlink:href=\"#mcd244cdad6\" y=\"212.131778\"/>\r\n     <use style=\"fill:#d62728;stroke:#d62728;\" x=\"134.43681\" xlink:href=\"#mcd244cdad6\" y=\"207.589666\"/>\r\n     <use style=\"fill:#d62728;stroke:#d62728;\" x=\"134.43681\" xlink:href=\"#mcd244cdad6\" y=\"211.677567\"/>\r\n     <use style=\"fill:#d62728;stroke:#d62728;\" x=\"140.54853\" xlink:href=\"#mcd244cdad6\" y=\"215.765468\"/>\r\n     <use style=\"fill:#d62728;stroke:#d62728;\" x=\"134.818793\" xlink:href=\"#mcd244cdad6\" y=\"218.490735\"/>\r\n     <use style=\"fill:#d62728;stroke:#d62728;\" x=\"129.089056\" xlink:href=\"#mcd244cdad6\" y=\"218.944946\"/>\r\n     <use style=\"fill:#d62728;stroke:#d62728;\" x=\"134.818793\" xlink:href=\"#mcd244cdad6\" y=\"223.487059\"/>\r\n     <use style=\"fill:#d62728;stroke:#d62728;\" x=\"132.144915\" xlink:href=\"#mcd244cdad6\" y=\"225.758115\"/>\r\n     <use style=\"fill:#d62728;stroke:#d62728;\" x=\"125.269231\" xlink:href=\"#mcd244cdad6\" y=\"223.487059\"/>\r\n     <use style=\"fill:#d62728;stroke:#d62728;\" x=\"125.269231\" xlink:href=\"#mcd244cdad6\" y=\"230.300227\"/>\r\n     <use style=\"fill:#d62728;stroke:#d62728;\" x=\"113.809757\" xlink:href=\"#mcd244cdad6\" y=\"229.391805\"/>\r\n     <use style=\"fill:#d62728;stroke:#d62728;\" x=\"108.08002\" xlink:href=\"#mcd244cdad6\" y=\"233.479706\"/>\r\n     <use style=\"fill:#d62728;stroke:#d62728;\" x=\"106.55209\" xlink:href=\"#mcd244cdad6\" y=\"240.747085\"/>\r\n     <use style=\"fill:#d62728;stroke:#d62728;\" x=\"112.281827\" xlink:href=\"#mcd244cdad6\" y=\"236.204973\"/>\r\n     <use style=\"fill:#d62728;stroke:#d62728;\" x=\"118.393546\" xlink:href=\"#mcd244cdad6\" y=\"237.567607\"/>\r\n     <use style=\"fill:#d62728;stroke:#d62728;\" x=\"120.303459\" xlink:href=\"#mcd244cdad6\" y=\"233.933917\"/>\r\n     <use style=\"fill:#d62728;stroke:#d62728;\" x=\"123.359319\" xlink:href=\"#mcd244cdad6\" y=\"234.842339\"/>\r\n     <use style=\"fill:#d62728;stroke:#d62728;\" x=\"129.853021\" xlink:href=\"#mcd244cdad6\" y=\"233.025494\"/>\r\n     <use style=\"fill:#d62728;stroke:#d62728;\" x=\"131.762933\" xlink:href=\"#mcd244cdad6\" y=\"238.476029\"/>\r\n     <use style=\"fill:#d62728;stroke:#d62728;\" x=\"125.651213\" xlink:href=\"#mcd244cdad6\" y=\"240.292874\"/>\r\n     <use style=\"fill:#d62728;stroke:#d62728;\" x=\"121.449406\" xlink:href=\"#mcd244cdad6\" y=\"242.109719\"/>\r\n     <use style=\"fill:#d62728;stroke:#d62728;\" x=\"113.427774\" xlink:href=\"#mcd244cdad6\" y=\"243.472353\"/>\r\n     <use style=\"fill:#d62728;stroke:#d62728;\" x=\"112.281827\" xlink:href=\"#mcd244cdad6\" y=\"249.83131\"/>\r\n     <use style=\"fill:#d62728;stroke:#d62728;\" x=\"120.303459\" xlink:href=\"#mcd244cdad6\" y=\"247.106043\"/>\r\n     <use style=\"fill:#d62728;stroke:#d62728;\" x=\"115.337687\" xlink:href=\"#mcd244cdad6\" y=\"255.281845\"/>\r\n     <use style=\"fill:#d62728;stroke:#d62728;\" x=\"122.213371\" xlink:href=\"#mcd244cdad6\" y=\"253.010789\"/>\r\n     <use style=\"fill:#d62728;stroke:#d62728;\" x=\"127.943108\" xlink:href=\"#mcd244cdad6\" y=\"247.106043\"/>\r\n     <use style=\"fill:#d62728;stroke:#d62728;\" x=\"131.762933\" xlink:href=\"#mcd244cdad6\" y=\"241.655508\"/>\r\n     <use style=\"fill:#d62728;stroke:#d62728;\" x=\"122.977336\" xlink:href=\"#mcd244cdad6\" y=\"259.369746\"/>\r\n     <use style=\"fill:#d62728;stroke:#d62728;\" x=\"129.089056\" xlink:href=\"#mcd244cdad6\" y=\"258.007112\"/>\r\n     <use style=\"fill:#d62728;stroke:#d62728;\" x=\"130.235003\" xlink:href=\"#mcd244cdad6\" y=\"253.465\"/>\r\n     <use style=\"fill:#d62728;stroke:#d62728;\" x=\"133.290863\" xlink:href=\"#mcd244cdad6\" y=\"249.377099\"/>\r\n     <use style=\"fill:#d62728;stroke:#d62728;\" x=\"137.49267\" xlink:href=\"#mcd244cdad6\" y=\"240.747085\"/>\r\n     <use style=\"fill:#d62728;stroke:#d62728;\" x=\"135.200775\" xlink:href=\"#mcd244cdad6\" y=\"234.388128\"/>\r\n     <use style=\"fill:#d62728;stroke:#d62728;\" x=\"136.346723\" xlink:href=\"#mcd244cdad6\" y=\"227.120749\"/>\r\n     <use style=\"fill:#d62728;stroke:#d62728;\" x=\"141.312495\" xlink:href=\"#mcd244cdad6\" y=\"222.124425\"/>\r\n     <use style=\"fill:#d62728;stroke:#d62728;\" x=\"129.471038\" xlink:href=\"#mcd244cdad6\" y=\"263.457647\"/>\r\n     <use style=\"fill:#d62728;stroke:#d62728;\" x=\"135.96474\" xlink:href=\"#mcd244cdad6\" y=\"264.820281\"/>\r\n     <use style=\"fill:#d62728;stroke:#d62728;\" x=\"137.110688\" xlink:href=\"#mcd244cdad6\" y=\"258.915535\"/>\r\n     <use style=\"fill:#d62728;stroke:#d62728;\" x=\"140.166547\" xlink:href=\"#mcd244cdad6\" y=\"255.736056\"/>\r\n     <use style=\"fill:#d62728;stroke:#d62728;\" x=\"142.07646\" xlink:href=\"#mcd244cdad6\" y=\"254.827634\"/>\r\n     <use style=\"fill:#d62728;stroke:#d62728;\" x=\"137.874653\" xlink:href=\"#mcd244cdad6\" y=\"249.377099\"/>\r\n     <use style=\"fill:#d62728;stroke:#d62728;\" x=\"137.874653\" xlink:href=\"#mcd244cdad6\" y=\"245.743409\"/>\r\n     <use style=\"fill:#d62728;stroke:#d62728;\" x=\"142.07646\" xlink:href=\"#mcd244cdad6\" y=\"262.095013\"/>\r\n     <use style=\"fill:#d62728;stroke:#d62728;\" x=\"145.13232\" xlink:href=\"#mcd244cdad6\" y=\"267.999759\"/>\r\n     <use style=\"fill:#d62728;stroke:#d62728;\" x=\"147.424214\" xlink:href=\"#mcd244cdad6\" y=\"261.186591\"/>\r\n     <use style=\"fill:#d62728;stroke:#d62728;\" x=\"148.570162\" xlink:href=\"#mcd244cdad6\" y=\"254.373422\"/>\r\n     <use style=\"fill:#d62728;stroke:#d62728;\" x=\"147.042232\" xlink:href=\"#mcd244cdad6\" y=\"250.285521\"/>\r\n     <use style=\"fill:#d62728;stroke:#d62728;\" x=\"144.750337\" xlink:href=\"#mcd244cdad6\" y=\"243.472353\"/>\r\n     <use style=\"fill:#d62728;stroke:#d62728;\" x=\"144.368355\" xlink:href=\"#mcd244cdad6\" y=\"240.747085\"/>\r\n     <use style=\"fill:#d62728;stroke:#d62728;\" x=\"142.840425\" xlink:href=\"#mcd244cdad6\" y=\"236.659184\"/>\r\n     <use style=\"fill:#d62728;stroke:#d62728;\" x=\"141.312495\" xlink:href=\"#mcd244cdad6\" y=\"232.571283\"/>\r\n     <use style=\"fill:#d62728;stroke:#d62728;\" x=\"143.986372\" xlink:href=\"#mcd244cdad6\" y=\"225.303904\"/>\r\n     <use style=\"fill:#d62728;stroke:#d62728;\" x=\"145.514302\" xlink:href=\"#mcd244cdad6\" y=\"228.937593\"/>\r\n     <use style=\"fill:#d62728;stroke:#d62728;\" x=\"149.334127\" xlink:href=\"#mcd244cdad6\" y=\"233.025494\"/>\r\n     <use style=\"fill:#d62728;stroke:#d62728;\" x=\"150.480074\" xlink:href=\"#mcd244cdad6\" y=\"238.021818\"/>\r\n     <use style=\"fill:#d62728;stroke:#d62728;\" x=\"149.334127\" xlink:href=\"#mcd244cdad6\" y=\"245.289198\"/>\r\n     <use style=\"fill:#d62728;stroke:#d62728;\" x=\"152.008004\" xlink:href=\"#mcd244cdad6\" y=\"248.468676\"/>\r\n     <use style=\"fill:#d62728;stroke:#d62728;\" x=\"155.063864\" xlink:href=\"#mcd244cdad6\" y=\"243.472353\"/>\r\n     <use style=\"fill:#d62728;stroke:#d62728;\" x=\"155.827829\" xlink:href=\"#mcd244cdad6\" y=\"240.292874\"/>\r\n     <use style=\"fill:#d62728;stroke:#d62728;\" x=\"157.737741\" xlink:href=\"#mcd244cdad6\" y=\"243.018142\"/>\r\n     <use style=\"fill:#d62728;stroke:#d62728;\" x=\"157.737741\" xlink:href=\"#mcd244cdad6\" y=\"248.922888\"/>\r\n     <use style=\"fill:#d62728;stroke:#d62728;\" x=\"160.029636\" xlink:href=\"#mcd244cdad6\" y=\"247.560254\"/>\r\n     <use style=\"fill:#d62728;stroke:#d62728;\" x=\"155.827829\" xlink:href=\"#mcd244cdad6\" y=\"253.010789\"/>\r\n     <use style=\"fill:#d62728;stroke:#d62728;\" x=\"157.355759\" xlink:href=\"#mcd244cdad6\" y=\"258.915535\"/>\r\n     <use style=\"fill:#d62728;stroke:#d62728;\" x=\"152.771969\" xlink:href=\"#mcd244cdad6\" y=\"261.186591\"/>\r\n     <use style=\"fill:#d62728;stroke:#d62728;\" x=\"152.008004\" xlink:href=\"#mcd244cdad6\" y=\"267.091337\"/>\r\n     <use style=\"fill:#d62728;stroke:#d62728;\" x=\"156.973776\" xlink:href=\"#mcd244cdad6\" y=\"267.999759\"/>\r\n     <use style=\"fill:#d62728;stroke:#d62728;\" x=\"164.231443\" xlink:href=\"#mcd244cdad6\" y=\"268.908182\"/>\r\n     <use style=\"fill:#d62728;stroke:#d62728;\" x=\"163.467478\" xlink:href=\"#mcd244cdad6\" y=\"264.366069\"/>\r\n     <use style=\"fill:#d62728;stroke:#d62728;\" x=\"164.231443\" xlink:href=\"#mcd244cdad6\" y=\"258.915535\"/>\r\n     <use style=\"fill:#d62728;stroke:#d62728;\" x=\"167.669286\" xlink:href=\"#mcd244cdad6\" y=\"255.281845\"/>\r\n     <use style=\"fill:#d62728;stroke:#d62728;\" x=\"166.141356\" xlink:href=\"#mcd244cdad6\" y=\"253.919211\"/>\r\n     <use style=\"fill:#d62728;stroke:#d62728;\" x=\"169.579198\" xlink:href=\"#mcd244cdad6\" y=\"257.552901\"/>\r\n     <use style=\"fill:#d62728;stroke:#d62728;\" x=\"171.48911\" xlink:href=\"#mcd244cdad6\" y=\"262.549224\"/>\r\n     <use style=\"fill:#d62728;stroke:#d62728;\" x=\"174.162988\" xlink:href=\"#mcd244cdad6\" y=\"262.549224\"/>\r\n     <use style=\"fill:#d62728;stroke:#d62728;\" x=\"170.725145\" xlink:href=\"#mcd244cdad6\" y=\"267.545548\"/>\r\n     <use style=\"fill:#d62728;stroke:#d62728;\" x=\"177.60083\" xlink:href=\"#mcd244cdad6\" y=\"267.999759\"/>\r\n     <use style=\"fill:#d62728;stroke:#d62728;\" x=\"181.802637\" xlink:href=\"#mcd244cdad6\" y=\"261.186591\"/>\r\n     <use style=\"fill:#d62728;stroke:#d62728;\" x=\"176.836865\" xlink:href=\"#mcd244cdad6\" y=\"257.09869\"/>\r\n     <use style=\"fill:#d62728;stroke:#d62728;\" x=\"174.162988\" xlink:href=\"#mcd244cdad6\" y=\"251.193944\"/>\r\n     <use style=\"fill:#d62728;stroke:#d62728;\" x=\"168.051268\" xlink:href=\"#mcd244cdad6\" y=\"248.468676\"/>\r\n     <use style=\"fill:#d62728;stroke:#d62728;\" x=\"166.141356\" xlink:href=\"#mcd244cdad6\" y=\"244.834986\"/>\r\n     <use style=\"fill:#d62728;stroke:#d62728;\" x=\"168.051268\" xlink:href=\"#mcd244cdad6\" y=\"243.472353\"/>\r\n     <use style=\"fill:#d62728;stroke:#d62728;\" x=\"168.815233\" xlink:href=\"#mcd244cdad6\" y=\"239.838663\"/>\r\n     <use style=\"fill:#d62728;stroke:#d62728;\" x=\"171.48911\" xlink:href=\"#mcd244cdad6\" y=\"245.289198\"/>\r\n     <use style=\"fill:#d62728;stroke:#d62728;\" x=\"162.321531\" xlink:href=\"#mcd244cdad6\" y=\"237.567607\"/>\r\n     <use style=\"fill:#d62728;stroke:#d62728;\" x=\"160.411619\" xlink:href=\"#mcd244cdad6\" y=\"234.842339\"/>\r\n     <use style=\"fill:#d62728;stroke:#d62728;\" x=\"155.827829\" xlink:href=\"#mcd244cdad6\" y=\"231.662861\"/>\r\n     <use style=\"fill:#d62728;stroke:#d62728;\" x=\"158.501706\" xlink:href=\"#mcd244cdad6\" y=\"227.57496\"/>\r\n     <use style=\"fill:#d62728;stroke:#d62728;\" x=\"152.389987\" xlink:href=\"#mcd244cdad6\" y=\"224.395481\"/>\r\n     <use style=\"fill:#d62728;stroke:#d62728;\" x=\"145.514302\" xlink:href=\"#mcd244cdad6\" y=\"221.670214\"/>\r\n     <use style=\"fill:#d62728;stroke:#d62728;\" x=\"145.896285\" xlink:href=\"#mcd244cdad6\" y=\"216.219679\"/>\r\n     <use style=\"fill:#d62728;stroke:#d62728;\" x=\"152.389987\" xlink:href=\"#mcd244cdad6\" y=\"214.402834\"/>\r\n     <use style=\"fill:#d62728;stroke:#d62728;\" x=\"181.420655\" xlink:href=\"#mcd244cdad6\" y=\"255.736056\"/>\r\n     <use style=\"fill:#d62728;stroke:#d62728;\" x=\"183.71255\" xlink:href=\"#mcd244cdad6\" y=\"255.281845\"/>\r\n     <use style=\"fill:#d62728;stroke:#d62728;\" x=\"187.150392\" xlink:href=\"#mcd244cdad6\" y=\"260.73238\"/>\r\n     <use style=\"fill:#d62728;stroke:#d62728;\" x=\"191.734182\" xlink:href=\"#mcd244cdad6\" y=\"262.549224\"/>\r\n     <use style=\"fill:#d62728;stroke:#d62728;\" x=\"193.644094\" xlink:href=\"#mcd244cdad6\" y=\"257.09869\"/>\r\n     <use style=\"fill:#d62728;stroke:#d62728;\" x=\"195.172024\" xlink:href=\"#mcd244cdad6\" y=\"254.827634\"/>\r\n     <use style=\"fill:#d62728;stroke:#d62728;\" x=\"189.442287\" xlink:href=\"#mcd244cdad6\" y=\"252.556577\"/>\r\n     <use style=\"fill:#d62728;stroke:#d62728;\" x=\"186.768409\" xlink:href=\"#mcd244cdad6\" y=\"249.83131\"/>\r\n     <use style=\"fill:#d62728;stroke:#d62728;\" x=\"179.510742\" xlink:href=\"#mcd244cdad6\" y=\"247.560254\"/>\r\n     <use style=\"fill:#d62728;stroke:#d62728;\" x=\"184.476515\" xlink:href=\"#mcd244cdad6\" y=\"243.926564\"/>\r\n     <use style=\"fill:#d62728;stroke:#d62728;\" x=\"183.71255\" xlink:href=\"#mcd244cdad6\" y=\"239.838663\"/>\r\n     <use style=\"fill:#d62728;stroke:#d62728;\" x=\"176.454883\" xlink:href=\"#mcd244cdad6\" y=\"240.747085\"/>\r\n     <use style=\"fill:#d62728;stroke:#d62728;\" x=\"177.218848\" xlink:href=\"#mcd244cdad6\" y=\"236.659184\"/>\r\n     <use style=\"fill:#d62728;stroke:#d62728;\" x=\"181.420655\" xlink:href=\"#mcd244cdad6\" y=\"235.296551\"/>\r\n     <use style=\"fill:#d62728;stroke:#d62728;\" x=\"182.566602\" xlink:href=\"#mcd244cdad6\" y=\"234.388128\"/>\r\n     <use style=\"fill:#d62728;stroke:#d62728;\" x=\"168.433251\" xlink:href=\"#mcd244cdad6\" y=\"234.388128\"/>\r\n     <use style=\"fill:#d62728;stroke:#d62728;\" x=\"172.635058\" xlink:href=\"#mcd244cdad6\" y=\"232.571283\"/>\r\n     <use style=\"fill:#d62728;stroke:#d62728;\" x=\"166.141356\" xlink:href=\"#mcd244cdad6\" y=\"232.117072\"/>\r\n     <use style=\"fill:#d62728;stroke:#d62728;\" x=\"166.523338\" xlink:href=\"#mcd244cdad6\" y=\"226.666537\"/>\r\n     <use style=\"fill:#d62728;stroke:#d62728;\" x=\"160.411619\" xlink:href=\"#mcd244cdad6\" y=\"222.578636\"/>\r\n     <use style=\"fill:#d62728;stroke:#d62728;\" x=\"153.153952\" xlink:href=\"#mcd244cdad6\" y=\"219.399158\"/>\r\n     <use style=\"fill:#d62728;stroke:#d62728;\" x=\"168.051268\" xlink:href=\"#mcd244cdad6\" y=\"220.30758\"/>\r\n     <use style=\"fill:#d62728;stroke:#d62728;\" x=\"163.467478\" xlink:href=\"#mcd244cdad6\" y=\"219.853369\"/>\r\n     <use style=\"fill:#d62728;stroke:#d62728;\" x=\"161.939549\" xlink:href=\"#mcd244cdad6\" y=\"216.219679\"/>\r\n     <use style=\"fill:#d62728;stroke:#d62728;\" x=\"159.265671\" xlink:href=\"#mcd244cdad6\" y=\"211.677567\"/>\r\n     <use style=\"fill:#d62728;stroke:#d62728;\" x=\"156.591794\" xlink:href=\"#mcd244cdad6\" y=\"208.498088\"/>\r\n     <use style=\"fill:#d62728;stroke:#d62728;\" x=\"155.827829\" xlink:href=\"#mcd244cdad6\" y=\"204.864398\"/>\r\n     <use style=\"fill:#d62728;stroke:#d62728;\" x=\"150.862057\" xlink:href=\"#mcd244cdad6\" y=\"207.589666\"/>\r\n     <use style=\"fill:#d62728;stroke:#d62728;\" x=\"148.188179\" xlink:href=\"#mcd244cdad6\" y=\"205.318609\"/>\r\n     <use style=\"fill:#d62728;stroke:#d62728;\" x=\"148.188179\" xlink:href=\"#mcd244cdad6\" y=\"199.413863\"/>\r\n     <use style=\"fill:#d62728;stroke:#d62728;\" x=\"151.626022\" xlink:href=\"#mcd244cdad6\" y=\"198.05123\"/>\r\n     <use style=\"fill:#d62728;stroke:#d62728;\" x=\"157.355759\" xlink:href=\"#mcd244cdad6\" y=\"199.413863\"/>\r\n     <use style=\"fill:#d62728;stroke:#d62728;\" x=\"160.029636\" xlink:href=\"#mcd244cdad6\" y=\"196.688596\"/>\r\n     <use style=\"fill:#d62728;stroke:#d62728;\" x=\"161.557566\" xlink:href=\"#mcd244cdad6\" y=\"202.139131\"/>\r\n     <use style=\"fill:#d62728;stroke:#d62728;\" x=\"163.085496\" xlink:href=\"#mcd244cdad6\" y=\"208.952299\"/>\r\n     <use style=\"fill:#d62728;stroke:#d62728;\" x=\"169.197216\" xlink:href=\"#mcd244cdad6\" y=\"213.0402\"/>\r\n     <use style=\"fill:#d62728;stroke:#d62728;\" x=\"169.197216\" xlink:href=\"#mcd244cdad6\" y=\"210.769144\"/>\r\n     <use style=\"fill:#d62728;stroke:#d62728;\" x=\"173.781005\" xlink:href=\"#mcd244cdad6\" y=\"217.582313\"/>\r\n     <use style=\"fill:#d62728;stroke:#d62728;\" x=\"172.635058\" xlink:href=\"#mcd244cdad6\" y=\"226.666537\"/>\r\n     <use style=\"fill:#d62728;stroke:#d62728;\" x=\"178.746777\" xlink:href=\"#mcd244cdad6\" y=\"223.487059\"/>\r\n     <use style=\"fill:#d62728;stroke:#d62728;\" x=\"176.836865\" xlink:href=\"#mcd244cdad6\" y=\"218.490735\"/>\r\n     <use style=\"fill:#d62728;stroke:#d62728;\" x=\"178.746777\" xlink:href=\"#mcd244cdad6\" y=\"228.937593\"/>\r\n     <use style=\"fill:#d62728;stroke:#d62728;\" x=\"187.150392\" xlink:href=\"#mcd244cdad6\" y=\"234.842339\"/>\r\n     <use style=\"fill:#d62728;stroke:#d62728;\" x=\"190.970217\" xlink:href=\"#mcd244cdad6\" y=\"242.56393\"/>\r\n     <use style=\"fill:#d62728;stroke:#d62728;\" x=\"194.790041\" xlink:href=\"#mcd244cdad6\" y=\"247.106043\"/>\r\n     <use style=\"fill:#d62728;stroke:#d62728;\" x=\"201.665726\" xlink:href=\"#mcd244cdad6\" y=\"256.190267\"/>\r\n     <use style=\"fill:#d62728;stroke:#d62728;\" x=\"201.665726\" xlink:href=\"#mcd244cdad6\" y=\"252.102366\"/>\r\n     <use style=\"fill:#d62728;stroke:#d62728;\" x=\"202.429691\" xlink:href=\"#mcd244cdad6\" y=\"246.651831\"/>\r\n     <use style=\"fill:#d62728;stroke:#d62728;\" x=\"197.463919\" xlink:href=\"#mcd244cdad6\" y=\"243.472353\"/>\r\n     <use style=\"fill:#d62728;stroke:#d62728;\" x=\"194.790041\" xlink:href=\"#mcd244cdad6\" y=\"239.384452\"/>\r\n     <use style=\"fill:#d62728;stroke:#d62728;\" x=\"210.06934\" xlink:href=\"#mcd244cdad6\" y=\"245.289198\"/>\r\n     <use style=\"fill:#d62728;stroke:#d62728;\" x=\"205.103568\" xlink:href=\"#mcd244cdad6\" y=\"240.747085\"/>\r\n     <use style=\"fill:#d62728;stroke:#d62728;\" x=\"202.047708\" xlink:href=\"#mcd244cdad6\" y=\"238.476029\"/>\r\n     <use style=\"fill:#d62728;stroke:#d62728;\" x=\"201.283743\" xlink:href=\"#mcd244cdad6\" y=\"234.388128\"/>\r\n     <use style=\"fill:#d62728;stroke:#d62728;\" x=\"195.172024\" xlink:href=\"#mcd244cdad6\" y=\"234.388128\"/>\r\n     <use style=\"fill:#d62728;stroke:#d62728;\" x=\"192.498147\" xlink:href=\"#mcd244cdad6\" y=\"230.300227\"/>\r\n     <use style=\"fill:#d62728;stroke:#d62728;\" x=\"184.094532\" xlink:href=\"#mcd244cdad6\" y=\"227.120749\"/>\r\n     <use style=\"fill:#d62728;stroke:#d62728;\" x=\"186.004444\" xlink:href=\"#mcd244cdad6\" y=\"221.670214\"/>\r\n     <use style=\"fill:#d62728;stroke:#d62728;\" x=\"184.094532\" xlink:href=\"#mcd244cdad6\" y=\"217.128101\"/>\r\n     <use style=\"fill:#d62728;stroke:#d62728;\" x=\"178.364795\" xlink:href=\"#mcd244cdad6\" y=\"212.131778\"/>\r\n     <use style=\"fill:#d62728;stroke:#d62728;\" x=\"174.54497\" xlink:href=\"#mcd244cdad6\" y=\"208.043877\"/>\r\n     <use style=\"fill:#d62728;stroke:#d62728;\" x=\"169.579198\" xlink:href=\"#mcd244cdad6\" y=\"204.410187\"/>\r\n     <use style=\"fill:#d62728;stroke:#d62728;\" x=\"168.815233\" xlink:href=\"#mcd244cdad6\" y=\"199.868075\"/>\r\n     <use style=\"fill:#d62728;stroke:#d62728;\" x=\"167.669286\" xlink:href=\"#mcd244cdad6\" y=\"195.780174\"/>\r\n     <use style=\"fill:#d62728;stroke:#d62728;\" x=\"155.063864\" xlink:href=\"#mcd244cdad6\" y=\"192.600695\"/>\r\n     <use style=\"fill:#d62728;stroke:#d62728;\" x=\"158.119724\" xlink:href=\"#mcd244cdad6\" y=\"188.058583\"/>\r\n     <use style=\"fill:#d62728;stroke:#d62728;\" x=\"163.085496\" xlink:href=\"#mcd244cdad6\" y=\"189.875428\"/>\r\n     <use style=\"fill:#d62728;stroke:#d62728;\" x=\"166.905321\" xlink:href=\"#mcd244cdad6\" y=\"190.78385\"/>\r\n     <use style=\"fill:#d62728;stroke:#d62728;\" x=\"163.849461\" xlink:href=\"#mcd244cdad6\" y=\"185.787527\"/>\r\n     <use style=\"fill:#d62728;stroke:#d62728;\" x=\"159.647654\" xlink:href=\"#mcd244cdad6\" y=\"183.970682\"/>\r\n     <use style=\"fill:#d62728;stroke:#d62728;\" x=\"162.703513\" xlink:href=\"#mcd244cdad6\" y=\"178.520147\"/>\r\n     <use style=\"fill:#d62728;stroke:#d62728;\" x=\"165.377391\" xlink:href=\"#mcd244cdad6\" y=\"177.611724\"/>\r\n     <use style=\"fill:#d62728;stroke:#d62728;\" x=\"163.085496\" xlink:href=\"#mcd244cdad6\" y=\"173.069612\"/>\r\n     <use style=\"fill:#d62728;stroke:#d62728;\" x=\"170.725145\" xlink:href=\"#mcd244cdad6\" y=\"180.791203\"/>\r\n     <use style=\"fill:#d62728;stroke:#d62728;\" x=\"174.54497\" xlink:href=\"#mcd244cdad6\" y=\"186.241738\"/>\r\n     <use style=\"fill:#d62728;stroke:#d62728;\" x=\"174.162988\" xlink:href=\"#mcd244cdad6\" y=\"190.78385\"/>\r\n     <use style=\"fill:#d62728;stroke:#d62728;\" x=\"173.781005\" xlink:href=\"#mcd244cdad6\" y=\"198.959652\"/>\r\n     <use style=\"fill:#d62728;stroke:#d62728;\" x=\"179.12876\" xlink:href=\"#mcd244cdad6\" y=\"201.230708\"/>\r\n     <use style=\"fill:#d62728;stroke:#d62728;\" x=\"178.746777\" xlink:href=\"#mcd244cdad6\" y=\"196.234385\"/>\r\n     <use style=\"fill:#d62728;stroke:#d62728;\" x=\"178.746777\" xlink:href=\"#mcd244cdad6\" y=\"193.963329\"/>\r\n     <use style=\"fill:#d62728;stroke:#d62728;\" x=\"173.399023\" xlink:href=\"#mcd244cdad6\" y=\"175.79488\"/>\r\n     <use style=\"fill:#d62728;stroke:#d62728;\" x=\"172.253075\" xlink:href=\"#mcd244cdad6\" y=\"175.340668\"/>\r\n     <use style=\"fill:#d62728;stroke:#d62728;\" x=\"178.746777\" xlink:href=\"#mcd244cdad6\" y=\"181.245414\"/>\r\n     <use style=\"fill:#d62728;stroke:#d62728;\" x=\"182.948585\" xlink:href=\"#mcd244cdad6\" y=\"185.333315\"/>\r\n     <use style=\"fill:#d62728;stroke:#d62728;\" x=\"183.71255\" xlink:href=\"#mcd244cdad6\" y=\"189.875428\"/>\r\n     <use style=\"fill:#d62728;stroke:#d62728;\" x=\"188.296339\" xlink:href=\"#mcd244cdad6\" y=\"180.791203\"/>\r\n     <use style=\"fill:#d62728;stroke:#d62728;\" x=\"192.116164\" xlink:href=\"#mcd244cdad6\" y=\"185.333315\"/>\r\n     <use style=\"fill:#d62728;stroke:#d62728;\" x=\"192.498147\" xlink:href=\"#mcd244cdad6\" y=\"189.421216\"/>\r\n     <use style=\"fill:#d62728;stroke:#d62728;\" x=\"190.970217\" xlink:href=\"#mcd244cdad6\" y=\"195.325962\"/>\r\n     <use style=\"fill:#d62728;stroke:#d62728;\" x=\"185.622462\" xlink:href=\"#mcd244cdad6\" y=\"193.963329\"/>\r\n     <use style=\"fill:#d62728;stroke:#d62728;\" x=\"185.24048\" xlink:href=\"#mcd244cdad6\" y=\"198.505441\"/>\r\n     <use style=\"fill:#d62728;stroke:#d62728;\" x=\"190.970217\" xlink:href=\"#mcd244cdad6\" y=\"200.776497\"/>\r\n     <use style=\"fill:#d62728;stroke:#d62728;\" x=\"187.532374\" xlink:href=\"#mcd244cdad6\" y=\"202.593342\"/>\r\n     <use style=\"fill:#d62728;stroke:#d62728;\" x=\"184.094532\" xlink:href=\"#mcd244cdad6\" y=\"207.135454\"/>\r\n     <use style=\"fill:#d62728;stroke:#d62728;\" x=\"182.566602\" xlink:href=\"#mcd244cdad6\" y=\"207.135454\"/>\r\n     <use style=\"fill:#d62728;stroke:#d62728;\" x=\"186.768409\" xlink:href=\"#mcd244cdad6\" y=\"213.948623\"/>\r\n     <use style=\"fill:#d62728;stroke:#d62728;\" x=\"190.970217\" xlink:href=\"#mcd244cdad6\" y=\"208.043877\"/>\r\n     <use style=\"fill:#d62728;stroke:#d62728;\" x=\"191.734182\" xlink:href=\"#mcd244cdad6\" y=\"212.131778\"/>\r\n     <use style=\"fill:#d62728;stroke:#d62728;\" x=\"193.262112\" xlink:href=\"#mcd244cdad6\" y=\"218.036524\"/>\r\n     <use style=\"fill:#d62728;stroke:#d62728;\" x=\"193.644094\" xlink:href=\"#mcd244cdad6\" y=\"225.303904\"/>\r\n     <use style=\"fill:#d62728;stroke:#d62728;\" x=\"199.755814\" xlink:href=\"#mcd244cdad6\" y=\"228.029171\"/>\r\n     <use style=\"fill:#d62728;stroke:#d62728;\" x=\"198.609866\" xlink:href=\"#mcd244cdad6\" y=\"226.212326\"/>\r\n     <use style=\"fill:#d62728;stroke:#d62728;\" x=\"199.373831\" xlink:href=\"#mcd244cdad6\" y=\"222.578636\"/>\r\n     <use style=\"fill:#d62728;stroke:#d62728;\" x=\"201.283743\" xlink:href=\"#mcd244cdad6\" y=\"219.853369\"/>\r\n     <use style=\"fill:#d62728;stroke:#d62728;\" x=\"197.845901\" xlink:href=\"#mcd244cdad6\" y=\"214.857045\"/>\r\n     <use style=\"fill:#d62728;stroke:#d62728;\" x=\"195.172024\" xlink:href=\"#mcd244cdad6\" y=\"207.589666\"/>\r\n     <use style=\"fill:#d62728;stroke:#d62728;\" x=\"200.519779\" xlink:href=\"#mcd244cdad6\" y=\"209.860722\"/>\r\n     <use style=\"fill:#d62728;stroke:#d62728;\" x=\"196.317971\" xlink:href=\"#mcd244cdad6\" y=\"203.047553\"/>\r\n     <use style=\"fill:#d62728;stroke:#d62728;\" x=\"199.373831\" xlink:href=\"#mcd244cdad6\" y=\"201.68492\"/>\r\n     <use style=\"fill:#d62728;stroke:#d62728;\" x=\"196.699954\" xlink:href=\"#mcd244cdad6\" y=\"195.325962\"/>\r\n     <use style=\"fill:#d62728;stroke:#d62728;\" x=\"201.665726\" xlink:href=\"#mcd244cdad6\" y=\"187.604371\"/>\r\n     <use style=\"fill:#d62728;stroke:#d62728;\" x=\"203.575638\" xlink:href=\"#mcd244cdad6\" y=\"197.142807\"/>\r\n     <use style=\"fill:#d62728;stroke:#d62728;\" x=\"208.541411\" xlink:href=\"#mcd244cdad6\" y=\"197.597019\"/>\r\n     <use style=\"fill:#d62728;stroke:#d62728;\" x=\"206.249516\" xlink:href=\"#mcd244cdad6\" y=\"203.955976\"/>\r\n     <use style=\"fill:#d62728;stroke:#d62728;\" x=\"206.631498\" xlink:href=\"#mcd244cdad6\" y=\"206.227032\"/>\r\n     <use style=\"fill:#d62728;stroke:#d62728;\" x=\"210.833305\" xlink:href=\"#mcd244cdad6\" y=\"211.677567\"/>\r\n     <use style=\"fill:#d62728;stroke:#d62728;\" x=\"215.417095\" xlink:href=\"#mcd244cdad6\" y=\"214.402834\"/>\r\n     <use style=\"fill:#d62728;stroke:#d62728;\" x=\"205.103568\" xlink:href=\"#mcd244cdad6\" y=\"215.311257\"/>\r\n     <use style=\"fill:#d62728;stroke:#d62728;\" x=\"207.777446\" xlink:href=\"#mcd244cdad6\" y=\"219.853369\"/>\r\n     <use style=\"fill:#d62728;stroke:#d62728;\" x=\"208.541411\" xlink:href=\"#mcd244cdad6\" y=\"223.94127\"/>\r\n     <use style=\"fill:#d62728;stroke:#d62728;\" x=\"206.249516\" xlink:href=\"#mcd244cdad6\" y=\"227.57496\"/>\r\n     <use style=\"fill:#d62728;stroke:#d62728;\" x=\"205.867533\" xlink:href=\"#mcd244cdad6\" y=\"234.842339\"/>\r\n     <use style=\"fill:#d62728;stroke:#d62728;\" x=\"211.215288\" xlink:href=\"#mcd244cdad6\" y=\"235.296551\"/>\r\n     <use style=\"fill:#d62728;stroke:#d62728;\" x=\"215.035113\" xlink:href=\"#mcd244cdad6\" y=\"228.483382\"/>\r\n    </g>\r\n   </g>\r\n   <g id=\"PathCollection_5\">\r\n    <defs>\r\n     <path d=\"M 0 2.236068 \r\nC 0.593012 2.236068 1.161816 2.000462 1.581139 1.581139 \r\nC 2.000462 1.161816 2.236068 0.593012 2.236068 0 \r\nC 2.236068 -0.593012 2.000462 -1.161816 1.581139 -1.581139 \r\nC 1.161816 -2.000462 0.593012 -2.236068 0 -2.236068 \r\nC -0.593012 -2.236068 -1.161816 -2.000462 -1.581139 -1.581139 \r\nC -2.000462 -1.161816 -2.236068 -0.593012 -2.236068 0 \r\nC -2.236068 0.593012 -2.000462 1.161816 -1.581139 1.581139 \r\nC -1.161816 2.000462 -0.593012 2.236068 0 2.236068 \r\nz\r\n\" id=\"m670b125dd1\" style=\"stroke:#9467bd;\"/>\r\n    </defs>\r\n    <g clip-path=\"url(#p6e39fb9e80)\">\r\n     <use style=\"fill:#9467bd;stroke:#9467bd;\" x=\"65.297982\" xlink:href=\"#m670b125dd1\" y=\"267.091337\"/>\r\n     <use style=\"fill:#9467bd;stroke:#9467bd;\" x=\"74.083579\" xlink:href=\"#m670b125dd1\" y=\"268.908182\"/>\r\n     <use style=\"fill:#9467bd;stroke:#9467bd;\" x=\"77.139439\" xlink:href=\"#m670b125dd1\" y=\"265.728703\"/>\r\n     <use style=\"fill:#9467bd;stroke:#9467bd;\" x=\"70.645737\" xlink:href=\"#m670b125dd1\" y=\"264.820281\"/>\r\n     <use style=\"fill:#9467bd;stroke:#9467bd;\" x=\"66.825912\" xlink:href=\"#m670b125dd1\" y=\"262.095013\"/>\r\n     <use style=\"fill:#9467bd;stroke:#9467bd;\" x=\"62.624105\" xlink:href=\"#m670b125dd1\" y=\"260.278168\"/>\r\n     <use style=\"fill:#9467bd;stroke:#9467bd;\" x=\"62.624105\" xlink:href=\"#m670b125dd1\" y=\"256.190267\"/>\r\n     <use style=\"fill:#9467bd;stroke:#9467bd;\" x=\"64.916\" xlink:href=\"#m670b125dd1\" y=\"255.281845\"/>\r\n     <use style=\"fill:#9467bd;stroke:#9467bd;\" x=\"69.117807\" xlink:href=\"#m670b125dd1\" y=\"255.281845\"/>\r\n     <use style=\"fill:#9467bd;stroke:#9467bd;\" x=\"72.937632\" xlink:href=\"#m670b125dd1\" y=\"259.369746\"/>\r\n     <use style=\"fill:#9467bd;stroke:#9467bd;\" x=\"72.937632\" xlink:href=\"#m670b125dd1\" y=\"257.552901\"/>\r\n     <use style=\"fill:#9467bd;stroke:#9467bd;\" x=\"84.015124\" xlink:href=\"#m670b125dd1\" y=\"267.091337\"/>\r\n     <use style=\"fill:#9467bd;stroke:#9467bd;\" x=\"80.577281\" xlink:href=\"#m670b125dd1\" y=\"261.640802\"/>\r\n     <use style=\"fill:#9467bd;stroke:#9467bd;\" x=\"77.139439\" xlink:href=\"#m670b125dd1\" y=\"257.552901\"/>\r\n     <use style=\"fill:#9467bd;stroke:#9467bd;\" x=\"77.139439\" xlink:href=\"#m670b125dd1\" y=\"254.373422\"/>\r\n     <use style=\"fill:#9467bd;stroke:#9467bd;\" x=\"76.375474\" xlink:href=\"#m670b125dd1\" y=\"252.102366\"/>\r\n     <use style=\"fill:#9467bd;stroke:#9467bd;\" x=\"69.881772\" xlink:href=\"#m670b125dd1\" y=\"250.285521\"/>\r\n     <use style=\"fill:#9467bd;stroke:#9467bd;\" x=\"63.38807\" xlink:href=\"#m670b125dd1\" y=\"249.83131\"/>\r\n     <use style=\"fill:#9467bd;stroke:#9467bd;\" x=\"64.534017\" xlink:href=\"#m670b125dd1\" y=\"247.106043\"/>\r\n     <use style=\"fill:#9467bd;stroke:#9467bd;\" x=\"69.117807\" xlink:href=\"#m670b125dd1\" y=\"246.19762\"/>\r\n     <use style=\"fill:#9467bd;stroke:#9467bd;\" x=\"67.207895\" xlink:href=\"#m670b125dd1\" y=\"242.56393\"/>\r\n     <use style=\"fill:#9467bd;stroke:#9467bd;\" x=\"76.757457\" xlink:href=\"#m670b125dd1\" y=\"243.018142\"/>\r\n     <use style=\"fill:#9467bd;stroke:#9467bd;\" x=\"75.611509\" xlink:href=\"#m670b125dd1\" y=\"240.747085\"/>\r\n     <use style=\"fill:#9467bd;stroke:#9467bd;\" x=\"80.577281\" xlink:href=\"#m670b125dd1\" y=\"242.109719\"/>\r\n     <use style=\"fill:#9467bd;stroke:#9467bd;\" x=\"72.937632\" xlink:href=\"#m670b125dd1\" y=\"248.014465\"/>\r\n     <use style=\"fill:#9467bd;stroke:#9467bd;\" x=\"79.813316\" xlink:href=\"#m670b125dd1\" y=\"247.560254\"/>\r\n     <use style=\"fill:#9467bd;stroke:#9467bd;\" x=\"85.543053\" xlink:href=\"#m670b125dd1\" y=\"245.743409\"/>\r\n     <use style=\"fill:#9467bd;stroke:#9467bd;\" x=\"83.633141\" xlink:href=\"#m670b125dd1\" y=\"248.922888\"/>\r\n     <use style=\"fill:#9467bd;stroke:#9467bd;\" x=\"80.959264\" xlink:href=\"#m670b125dd1\" y=\"254.373422\"/>\r\n     <use style=\"fill:#9467bd;stroke:#9467bd;\" x=\"85.161071\" xlink:href=\"#m670b125dd1\" y=\"256.190267\"/>\r\n     <use style=\"fill:#9467bd;stroke:#9467bd;\" x=\"87.070983\" xlink:href=\"#m670b125dd1\" y=\"261.640802\"/>\r\n     <use style=\"fill:#9467bd;stroke:#9467bd;\" x=\"90.508826\" xlink:href=\"#m670b125dd1\" y=\"257.09869\"/>\r\n     <use style=\"fill:#9467bd;stroke:#9467bd;\" x=\"87.452966\" xlink:href=\"#m670b125dd1\" y=\"254.373422\"/>\r\n     <use style=\"fill:#9467bd;stroke:#9467bd;\" x=\"87.834948\" xlink:href=\"#m670b125dd1\" y=\"250.285521\"/>\r\n    </g>\r\n   </g>\r\n   <g id=\"PathCollection_6\">\r\n    <defs>\r\n     <path d=\"M 0 2.236068 \r\nC 0.593012 2.236068 1.161816 2.000462 1.581139 1.581139 \r\nC 2.000462 1.161816 2.236068 0.593012 2.236068 0 \r\nC 2.236068 -0.593012 2.000462 -1.161816 1.581139 -1.581139 \r\nC 1.161816 -2.000462 0.593012 -2.236068 0 -2.236068 \r\nC -0.593012 -2.236068 -1.161816 -2.000462 -1.581139 -1.581139 \r\nC -2.000462 -1.161816 -2.236068 -0.593012 -2.236068 0 \r\nC -2.236068 0.593012 -2.000462 1.161816 -1.581139 1.581139 \r\nC -1.161816 2.000462 -0.593012 2.236068 0 2.236068 \r\nz\r\n\" id=\"mc652954137\" style=\"stroke:#8c564b;\"/>\r\n    </defs>\r\n    <g clip-path=\"url(#p6e39fb9e80)\">\r\n     <use style=\"fill:#8c564b;stroke:#8c564b;\" x=\"279.590151\" xlink:href=\"#mc652954137\" y=\"153.084318\"/>\r\n     <use style=\"fill:#8c564b;stroke:#8c564b;\" x=\"277.680239\" xlink:href=\"#mc652954137\" y=\"148.996417\"/>\r\n     <use style=\"fill:#8c564b;stroke:#8c564b;\" x=\"277.298256\" xlink:href=\"#mc652954137\" y=\"144.454305\"/>\r\n     <use style=\"fill:#8c564b;stroke:#8c564b;\" x=\"274.624379\" xlink:href=\"#mc652954137\" y=\"139.912192\"/>\r\n     <use style=\"fill:#8c564b;stroke:#8c564b;\" x=\"273.478431\" xlink:href=\"#mc652954137\" y=\"134.461658\"/>\r\n     <use style=\"fill:#8c564b;stroke:#8c564b;\" x=\"275.006361\" xlink:href=\"#mc652954137\" y=\"131.73639\"/>\r\n     <use style=\"fill:#8c564b;stroke:#8c564b;\" x=\"275.770326\" xlink:href=\"#mc652954137\" y=\"129.465334\"/>\r\n     <use style=\"fill:#8c564b;stroke:#8c564b;\" x=\"268.130677\" xlink:href=\"#mc652954137\" y=\"130.373757\"/>\r\n     <use style=\"fill:#8c564b;stroke:#8c564b;\" x=\"267.748694\" xlink:href=\"#mc652954137\" y=\"126.285855\"/>\r\n     <use style=\"fill:#8c564b;stroke:#8c564b;\" x=\"262.40094\" xlink:href=\"#mc652954137\" y=\"127.648489\"/>\r\n     <use style=\"fill:#8c564b;stroke:#8c564b;\" x=\"263.546887\" xlink:href=\"#mc652954137\" y=\"124.014799\"/>\r\n     <use style=\"fill:#8c564b;stroke:#8c564b;\" x=\"258.199132\" xlink:href=\"#mc652954137\" y=\"122.652166\"/>\r\n     <use style=\"fill:#8c564b;stroke:#8c564b;\" x=\"255.143273\" xlink:href=\"#mc652954137\" y=\"115.838997\"/>\r\n     <use style=\"fill:#8c564b;stroke:#8c564b;\" x=\"258.963097\" xlink:href=\"#mc652954137\" y=\"115.838997\"/>\r\n     <use style=\"fill:#8c564b;stroke:#8c564b;\" x=\"258.581115\" xlink:href=\"#mc652954137\" y=\"111.296885\"/>\r\n     <use style=\"fill:#8c564b;stroke:#8c564b;\" x=\"256.671202\" xlink:href=\"#mc652954137\" y=\"110.388462\"/>\r\n     <use style=\"fill:#8c564b;stroke:#8c564b;\" x=\"251.70543\" xlink:href=\"#mc652954137\" y=\"106.300561\"/>\r\n     <use style=\"fill:#8c564b;stroke:#8c564b;\" x=\"248.267588\" xlink:href=\"#mc652954137\" y=\"99.941604\"/>\r\n     <use style=\"fill:#8c564b;stroke:#8c564b;\" x=\"256.671202\" xlink:href=\"#mc652954137\" y=\"100.850027\"/>\r\n     <use style=\"fill:#8c564b;stroke:#8c564b;\" x=\"260.109045\" xlink:href=\"#mc652954137\" y=\"104.483716\"/>\r\n     <use style=\"fill:#8c564b;stroke:#8c564b;\" x=\"262.40094\" xlink:href=\"#mc652954137\" y=\"105.84635\"/>\r\n     <use style=\"fill:#8c564b;stroke:#8c564b;\" x=\"266.602747\" xlink:href=\"#mc652954137\" y=\"108.117406\"/>\r\n     <use style=\"fill:#8c564b;stroke:#8c564b;\" x=\"266.220764\" xlink:href=\"#mc652954137\" y=\"118.110053\"/>\r\n     <use style=\"fill:#8c564b;stroke:#8c564b;\" x=\"270.422572\" xlink:href=\"#mc652954137\" y=\"117.655842\"/>\r\n     <use style=\"fill:#8c564b;stroke:#8c564b;\" x=\"269.658607\" xlink:href=\"#mc652954137\" y=\"113.11373\"/>\r\n     <use style=\"fill:#8c564b;stroke:#8c564b;\" x=\"274.624379\" xlink:href=\"#mc652954137\" y=\"119.926898\"/>\r\n     <use style=\"fill:#8c564b;stroke:#8c564b;\" x=\"276.534291\" xlink:href=\"#mc652954137\" y=\"123.560588\"/>\r\n     <use style=\"fill:#8c564b;stroke:#8c564b;\" x=\"281.118081\" xlink:href=\"#mc652954137\" y=\"128.1027\"/>\r\n     <use style=\"fill:#8c564b;stroke:#8c564b;\" x=\"283.027993\" xlink:href=\"#mc652954137\" y=\"132.190601\"/>\r\n     <use style=\"fill:#8c564b;stroke:#8c564b;\" x=\"287.2298\" xlink:href=\"#mc652954137\" y=\"129.011123\"/>\r\n     <use style=\"fill:#8c564b;stroke:#8c564b;\" x=\"287.611783\" xlink:href=\"#mc652954137\" y=\"122.652166\"/>\r\n     <use style=\"fill:#8c564b;stroke:#8c564b;\" x=\"284.173941\" xlink:href=\"#mc652954137\" y=\"119.472687\"/>\r\n     <use style=\"fill:#8c564b;stroke:#8c564b;\" x=\"278.062221\" xlink:href=\"#mc652954137\" y=\"115.384786\"/>\r\n     <use style=\"fill:#8c564b;stroke:#8c564b;\" x=\"279.590151\" xlink:href=\"#mc652954137\" y=\"114.476363\"/>\r\n     <use style=\"fill:#8c564b;stroke:#8c564b;\" x=\"276.152309\" xlink:href=\"#mc652954137\" y=\"112.659519\"/>\r\n     <use style=\"fill:#8c564b;stroke:#8c564b;\" x=\"272.332484\" xlink:href=\"#mc652954137\" y=\"106.300561\"/>\r\n     <use style=\"fill:#8c564b;stroke:#8c564b;\" x=\"276.152309\" xlink:href=\"#mc652954137\" y=\"104.937928\"/>\r\n     <use style=\"fill:#8c564b;stroke:#8c564b;\" x=\"268.130677\" xlink:href=\"#mc652954137\" y=\"102.666871\"/>\r\n     <use style=\"fill:#8c564b;stroke:#8c564b;\" x=\"268.130677\" xlink:href=\"#mc652954137\" y=\"98.124759\"/>\r\n     <use style=\"fill:#8c564b;stroke:#8c564b;\" x=\"270.804554\" xlink:href=\"#mc652954137\" y=\"94.491069\"/>\r\n     <use style=\"fill:#8c564b;stroke:#8c564b;\" x=\"266.602747\" xlink:href=\"#mc652954137\" y=\"90.403168\"/>\r\n     <use style=\"fill:#8c564b;stroke:#8c564b;\" x=\"259.727062\" xlink:href=\"#mc652954137\" y=\"93.128436\"/>\r\n     <use style=\"fill:#8c564b;stroke:#8c564b;\" x=\"254.379308\" xlink:href=\"#mc652954137\" y=\"90.403168\"/>\r\n     <use style=\"fill:#8c564b;stroke:#8c564b;\" x=\"250.941465\" xlink:href=\"#mc652954137\" y=\"90.403168\"/>\r\n     <use style=\"fill:#8c564b;stroke:#8c564b;\" x=\"257.435167\" xlink:href=\"#mc652954137\" y=\"86.315267\"/>\r\n     <use style=\"fill:#8c564b;stroke:#8c564b;\" x=\"262.782922\" xlink:href=\"#mc652954137\" y=\"86.769478\"/>\r\n     <use style=\"fill:#8c564b;stroke:#8c564b;\" x=\"266.602747\" xlink:href=\"#mc652954137\" y=\"84.952634\"/>\r\n     <use style=\"fill:#8c564b;stroke:#8c564b;\" x=\"262.018957\" xlink:href=\"#mc652954137\" y=\"80.864732\"/>\r\n     <use style=\"fill:#8c564b;stroke:#8c564b;\" x=\"257.053185\" xlink:href=\"#mc652954137\" y=\"76.776831\"/>\r\n     <use style=\"fill:#8c564b;stroke:#8c564b;\" x=\"251.70543\" xlink:href=\"#mc652954137\" y=\"76.32262\"/>\r\n     <use style=\"fill:#8c564b;stroke:#8c564b;\" x=\"249.795518\" xlink:href=\"#mc652954137\" y=\"81.773155\"/>\r\n     <use style=\"fill:#8c564b;stroke:#8c564b;\" x=\"248.64957\" xlink:href=\"#mc652954137\" y=\"69.963663\"/>\r\n     <use style=\"fill:#8c564b;stroke:#8c564b;\" x=\"260.491027\" xlink:href=\"#mc652954137\" y=\"68.601029\"/>\r\n     <use style=\"fill:#8c564b;stroke:#8c564b;\" x=\"262.018957\" xlink:href=\"#mc652954137\" y=\"67.238396\"/>\r\n     <use style=\"fill:#8c564b;stroke:#8c564b;\" x=\"265.838782\" xlink:href=\"#mc652954137\" y=\"71.326297\"/>\r\n     <use style=\"fill:#8c564b;stroke:#8c564b;\" x=\"269.658607\" xlink:href=\"#mc652954137\" y=\"76.32262\"/>\r\n     <use style=\"fill:#8c564b;stroke:#8c564b;\" x=\"274.242396\" xlink:href=\"#mc652954137\" y=\"86.315267\"/>\r\n     <use style=\"fill:#8c564b;stroke:#8c564b;\" x=\"274.624379\" xlink:href=\"#mc652954137\" y=\"81.773155\"/>\r\n     <use style=\"fill:#8c564b;stroke:#8c564b;\" x=\"279.590151\" xlink:href=\"#mc652954137\" y=\"84.498422\"/>\r\n     <use style=\"fill:#8c564b;stroke:#8c564b;\" x=\"282.646011\" xlink:href=\"#mc652954137\" y=\"87.677901\"/>\r\n     <use style=\"fill:#8c564b;stroke:#8c564b;\" x=\"281.500063\" xlink:href=\"#mc652954137\" y=\"93.128436\"/>\r\n     <use style=\"fill:#8c564b;stroke:#8c564b;\" x=\"278.444204\" xlink:href=\"#mc652954137\" y=\"98.124759\"/>\r\n     <use style=\"fill:#8c564b;stroke:#8c564b;\" x=\"283.791958\" xlink:href=\"#mc652954137\" y=\"101.304238\"/>\r\n     <use style=\"fill:#8c564b;stroke:#8c564b;\" x=\"284.173941\" xlink:href=\"#mc652954137\" y=\"104.937928\"/>\r\n     <use style=\"fill:#8c564b;stroke:#8c564b;\" x=\"286.465836\" xlink:href=\"#mc652954137\" y=\"111.296885\"/>\r\n     <use style=\"fill:#8c564b;stroke:#8c564b;\" x=\"291.81359\" xlink:href=\"#mc652954137\" y=\"115.384786\"/>\r\n     <use style=\"fill:#8c564b;stroke:#8c564b;\" x=\"295.251432\" xlink:href=\"#mc652954137\" y=\"118.110053\"/>\r\n     <use style=\"fill:#8c564b;stroke:#8c564b;\" x=\"296.015397\" xlink:href=\"#mc652954137\" y=\"110.842674\"/>\r\n     <use style=\"fill:#8c564b;stroke:#8c564b;\" x=\"289.521695\" xlink:href=\"#mc652954137\" y=\"107.208984\"/>\r\n     <use style=\"fill:#8c564b;stroke:#8c564b;\" x=\"293.34152\" xlink:href=\"#mc652954137\" y=\"104.937928\"/>\r\n     <use style=\"fill:#8c564b;stroke:#8c564b;\" x=\"300.217205\" xlink:href=\"#mc652954137\" y=\"106.300561\"/>\r\n     <use style=\"fill:#8c564b;stroke:#8c564b;\" x=\"303.273064\" xlink:href=\"#mc652954137\" y=\"99.487393\"/>\r\n     <use style=\"fill:#8c564b;stroke:#8c564b;\" x=\"296.779362\" xlink:href=\"#mc652954137\" y=\"99.941604\"/>\r\n     <use style=\"fill:#8c564b;stroke:#8c564b;\" x=\"288.75773\" xlink:href=\"#mc652954137\" y=\"99.033182\"/>\r\n     <use style=\"fill:#8c564b;stroke:#8c564b;\" x=\"288.375748\" xlink:href=\"#mc652954137\" y=\"93.582647\"/>\r\n     <use style=\"fill:#8c564b;stroke:#8c564b;\" x=\"292.959538\" xlink:href=\"#mc652954137\" y=\"95.399492\"/>\r\n     <use style=\"fill:#8c564b;stroke:#8c564b;\" x=\"298.689275\" xlink:href=\"#mc652954137\" y=\"93.128436\"/>\r\n     <use style=\"fill:#8c564b;stroke:#8c564b;\" x=\"293.34152\" xlink:href=\"#mc652954137\" y=\"91.311591\"/>\r\n     <use style=\"fill:#8c564b;stroke:#8c564b;\" x=\"289.903678\" xlink:href=\"#mc652954137\" y=\"86.315267\"/>\r\n     <use style=\"fill:#8c564b;stroke:#8c564b;\" x=\"286.847818\" xlink:href=\"#mc652954137\" y=\"89.040535\"/>\r\n     <use style=\"fill:#8c564b;stroke:#8c564b;\" x=\"302.509099\" xlink:href=\"#mc652954137\" y=\"87.22369\"/>\r\n     <use style=\"fill:#8c564b;stroke:#8c564b;\" x=\"298.307292\" xlink:href=\"#mc652954137\" y=\"84.044211\"/>\r\n     <use style=\"fill:#8c564b;stroke:#8c564b;\" x=\"296.779362\" xlink:href=\"#mc652954137\" y=\"78.593676\"/>\r\n     <use style=\"fill:#8c564b;stroke:#8c564b;\" x=\"299.45324\" xlink:href=\"#mc652954137\" y=\"75.414198\"/>\r\n     <use style=\"fill:#8c564b;stroke:#8c564b;\" x=\"302.891082\" xlink:href=\"#mc652954137\" y=\"70.417874\"/>\r\n     <use style=\"fill:#8c564b;stroke:#8c564b;\" x=\"296.39738\" xlink:href=\"#mc652954137\" y=\"67.692607\"/>\r\n     <use style=\"fill:#8c564b;stroke:#8c564b;\" x=\"292.195573\" xlink:href=\"#mc652954137\" y=\"73.143142\"/>\r\n     <use style=\"fill:#8c564b;stroke:#8c564b;\" x=\"286.847818\" xlink:href=\"#mc652954137\" y=\"78.593676\"/>\r\n     <use style=\"fill:#8c564b;stroke:#8c564b;\" x=\"284.173941\" xlink:href=\"#mc652954137\" y=\"74.959986\"/>\r\n     <use style=\"fill:#8c564b;stroke:#8c564b;\" x=\"279.590151\" xlink:href=\"#mc652954137\" y=\"74.505775\"/>\r\n     <use style=\"fill:#8c564b;stroke:#8c564b;\" x=\"273.478431\" xlink:href=\"#mc652954137\" y=\"71.326297\"/>\r\n     <use style=\"fill:#8c564b;stroke:#8c564b;\" x=\"282.264028\" xlink:href=\"#mc652954137\" y=\"69.509452\"/>\r\n     <use style=\"fill:#8c564b;stroke:#8c564b;\" x=\"287.2298\" xlink:href=\"#mc652954137\" y=\"69.05524\"/>\r\n     <use style=\"fill:#8c564b;stroke:#8c564b;\" x=\"287.2298\" xlink:href=\"#mc652954137\" y=\"67.692607\"/>\r\n     <use style=\"fill:#8c564b;stroke:#8c564b;\" x=\"296.015397\" xlink:href=\"#mc652954137\" y=\"62.242072\"/>\r\n     <use style=\"fill:#8c564b;stroke:#8c564b;\" x=\"294.105485\" xlink:href=\"#mc652954137\" y=\"56.791537\"/>\r\n     <use style=\"fill:#8c564b;stroke:#8c564b;\" x=\"288.375748\" xlink:href=\"#mc652954137\" y=\"60.425227\"/>\r\n     <use style=\"fill:#8c564b;stroke:#8c564b;\" x=\"283.027993\" xlink:href=\"#mc652954137\" y=\"60.879438\"/>\r\n     <use style=\"fill:#8c564b;stroke:#8c564b;\" x=\"271.950501\" xlink:href=\"#mc652954137\" y=\"64.513128\"/>\r\n     <use style=\"fill:#8c564b;stroke:#8c564b;\" x=\"273.860414\" xlink:href=\"#mc652954137\" y=\"62.242072\"/>\r\n     <use style=\"fill:#8c564b;stroke:#8c564b;\" x=\"265.838782\" xlink:href=\"#mc652954137\" y=\"64.513128\"/>\r\n     <use style=\"fill:#8c564b;stroke:#8c564b;\" x=\"266.602747\" xlink:href=\"#mc652954137\" y=\"57.69996\"/>\r\n     <use style=\"fill:#8c564b;stroke:#8c564b;\" x=\"262.782922\" xlink:href=\"#mc652954137\" y=\"59.516805\"/>\r\n     <use style=\"fill:#8c564b;stroke:#8c564b;\" x=\"256.671202\" xlink:href=\"#mc652954137\" y=\"65.875762\"/>\r\n     <use style=\"fill:#8c564b;stroke:#8c564b;\" x=\"253.23336\" xlink:href=\"#mc652954137\" y=\"61.33365\"/>\r\n     <use style=\"fill:#8c564b;stroke:#8c564b;\" x=\"251.70543\" xlink:href=\"#mc652954137\" y=\"54.974692\"/>\r\n     <use style=\"fill:#8c564b;stroke:#8c564b;\" x=\"252.469395\" xlink:href=\"#mc652954137\" y=\"49.978369\"/>\r\n     <use style=\"fill:#8c564b;stroke:#8c564b;\" x=\"258.581115\" xlink:href=\"#mc652954137\" y=\"54.974692\"/>\r\n     <use style=\"fill:#8c564b;stroke:#8c564b;\" x=\"259.727062\" xlink:href=\"#mc652954137\" y=\"50.43258\"/>\r\n     <use style=\"fill:#8c564b;stroke:#8c564b;\" x=\"264.310852\" xlink:href=\"#mc652954137\" y=\"49.978369\"/>\r\n     <use style=\"fill:#8c564b;stroke:#8c564b;\" x=\"265.838782\" xlink:href=\"#mc652954137\" y=\"41.802567\"/>\r\n     <use style=\"fill:#8c564b;stroke:#8c564b;\" x=\"260.491027\" xlink:href=\"#mc652954137\" y=\"42.256778\"/>\r\n     <use style=\"fill:#8c564b;stroke:#8c564b;\" x=\"259.727062\" xlink:href=\"#mc652954137\" y=\"39.985722\"/>\r\n     <use style=\"fill:#8c564b;stroke:#8c564b;\" x=\"264.310852\" xlink:href=\"#mc652954137\" y=\"33.626765\"/>\r\n     <use style=\"fill:#8c564b;stroke:#8c564b;\" x=\"268.894642\" xlink:href=\"#mc652954137\" y=\"34.535187\"/>\r\n     <use style=\"fill:#8c564b;stroke:#8c564b;\" x=\"275.388344\" xlink:href=\"#mc652954137\" y=\"30.447286\"/>\r\n     <use style=\"fill:#8c564b;stroke:#8c564b;\" x=\"279.590151\" xlink:href=\"#mc652954137\" y=\"36.352032\"/>\r\n     <use style=\"fill:#8c564b;stroke:#8c564b;\" x=\"273.096449\" xlink:href=\"#mc652954137\" y=\"40.439933\"/>\r\n     <use style=\"fill:#8c564b;stroke:#8c564b;\" x=\"271.186536\" xlink:href=\"#mc652954137\" y=\"44.527834\"/>\r\n     <use style=\"fill:#8c564b;stroke:#8c564b;\" x=\"272.714466\" xlink:href=\"#mc652954137\" y=\"50.886791\"/>\r\n     <use style=\"fill:#8c564b;stroke:#8c564b;\" x=\"277.298256\" xlink:href=\"#mc652954137\" y=\"54.974692\"/>\r\n     <use style=\"fill:#8c564b;stroke:#8c564b;\" x=\"284.173941\" xlink:href=\"#mc652954137\" y=\"49.978369\"/>\r\n     <use style=\"fill:#8c564b;stroke:#8c564b;\" x=\"278.062221\" xlink:href=\"#mc652954137\" y=\"45.890468\"/>\r\n     <use style=\"fill:#8c564b;stroke:#8c564b;\" x=\"282.646011\" xlink:href=\"#mc652954137\" y=\"41.348355\"/>\r\n     <use style=\"fill:#8c564b;stroke:#8c564b;\" x=\"286.083853\" xlink:href=\"#mc652954137\" y=\"38.168877\"/>\r\n     <use style=\"fill:#8c564b;stroke:#8c564b;\" x=\"286.847818\" xlink:href=\"#mc652954137\" y=\"32.718342\"/>\r\n     <use style=\"fill:#8c564b;stroke:#8c564b;\" x=\"290.28566\" xlink:href=\"#mc652954137\" y=\"42.710989\"/>\r\n     <use style=\"fill:#8c564b;stroke:#8c564b;\" x=\"294.86945\" xlink:href=\"#mc652954137\" y=\"50.43258\"/>\r\n     <use style=\"fill:#8c564b;stroke:#8c564b;\" x=\"298.307292\" xlink:href=\"#mc652954137\" y=\"49.069946\"/>\r\n     <use style=\"fill:#8c564b;stroke:#8c564b;\" x=\"288.375748\" xlink:href=\"#mc652954137\" y=\"54.06627\"/>\r\n    </g>\r\n   </g>\r\n   <g id=\"PathCollection_7\">\r\n    <defs>\r\n     <path d=\"M 0 2.236068 \r\nC 0.593012 2.236068 1.161816 2.000462 1.581139 1.581139 \r\nC 2.000462 1.161816 2.236068 0.593012 2.236068 0 \r\nC 2.236068 -0.593012 2.000462 -1.161816 1.581139 -1.581139 \r\nC 1.161816 -2.000462 0.593012 -2.236068 0 -2.236068 \r\nC -0.593012 -2.236068 -1.161816 -2.000462 -1.581139 -1.581139 \r\nC -2.000462 -1.161816 -2.236068 -0.593012 -2.236068 0 \r\nC -2.236068 0.593012 -2.000462 1.161816 -1.581139 1.581139 \r\nC -1.161816 2.000462 -0.593012 2.236068 0 2.236068 \r\nz\r\n\" id=\"maf8c8d44a6\" style=\"stroke:#e377c2;\"/>\r\n    </defs>\r\n    <g clip-path=\"url(#p6e39fb9e80)\">\r\n     <use style=\"fill:#e377c2;stroke:#e377c2;\" x=\"85.161071\" xlink:href=\"#maf8c8d44a6\" y=\"162.168543\"/>\r\n     <use style=\"fill:#e377c2;stroke:#e377c2;\" x=\"93.182703\" xlink:href=\"#maf8c8d44a6\" y=\"165.348021\"/>\r\n     <use style=\"fill:#e377c2;stroke:#e377c2;\" x=\"94.32865\" xlink:href=\"#maf8c8d44a6\" y=\"171.252767\"/>\r\n     <use style=\"fill:#e377c2;stroke:#e377c2;\" x=\"99.676405\" xlink:href=\"#maf8c8d44a6\" y=\"176.703302\"/>\r\n     <use style=\"fill:#e377c2;stroke:#e377c2;\" x=\"87.070983\" xlink:href=\"#maf8c8d44a6\" y=\"169.435922\"/>\r\n     <use style=\"fill:#e377c2;stroke:#e377c2;\" x=\"84.397106\" xlink:href=\"#maf8c8d44a6\" y=\"166.256444\"/>\r\n     <use style=\"fill:#e377c2;stroke:#e377c2;\" x=\"77.521421\" xlink:href=\"#maf8c8d44a6\" y=\"166.710655\"/>\r\n     <use style=\"fill:#e377c2;stroke:#e377c2;\" x=\"75.993492\" xlink:href=\"#maf8c8d44a6\" y=\"164.439599\"/>\r\n     <use style=\"fill:#e377c2;stroke:#e377c2;\" x=\"72.937632\" xlink:href=\"#maf8c8d44a6\" y=\"172.615401\"/>\r\n     <use style=\"fill:#e377c2;stroke:#e377c2;\" x=\"66.825912\" xlink:href=\"#maf8c8d44a6\" y=\"169.890134\"/>\r\n     <use style=\"fill:#e377c2;stroke:#e377c2;\" x=\"69.117807\" xlink:href=\"#maf8c8d44a6\" y=\"175.340668\"/>\r\n     <use style=\"fill:#e377c2;stroke:#e377c2;\" x=\"65.297982\" xlink:href=\"#maf8c8d44a6\" y=\"178.520147\"/>\r\n     <use style=\"fill:#e377c2;stroke:#e377c2;\" x=\"64.916\" xlink:href=\"#maf8c8d44a6\" y=\"183.51647\"/>\r\n     <use style=\"fill:#e377c2;stroke:#e377c2;\" x=\"70.263754\" xlink:href=\"#maf8c8d44a6\" y=\"184.879104\"/>\r\n     <use style=\"fill:#e377c2;stroke:#e377c2;\" x=\"72.173667\" xlink:href=\"#maf8c8d44a6\" y=\"179.882781\"/>\r\n     <use style=\"fill:#e377c2;stroke:#e377c2;\" x=\"79.049351\" xlink:href=\"#maf8c8d44a6\" y=\"174.432246\"/>\r\n     <use style=\"fill:#e377c2;stroke:#e377c2;\" x=\"79.431334\" xlink:href=\"#maf8c8d44a6\" y=\"173.523823\"/>\r\n     <use style=\"fill:#e377c2;stroke:#e377c2;\" x=\"85.925036\" xlink:href=\"#maf8c8d44a6\" y=\"173.069612\"/>\r\n     <use style=\"fill:#e377c2;stroke:#e377c2;\" x=\"90.890808\" xlink:href=\"#maf8c8d44a6\" y=\"176.703302\"/>\r\n     <use style=\"fill:#e377c2;stroke:#e377c2;\" x=\"85.543053\" xlink:href=\"#maf8c8d44a6\" y=\"178.974358\"/>\r\n     <use style=\"fill:#e377c2;stroke:#e377c2;\" x=\"79.813316\" xlink:href=\"#maf8c8d44a6\" y=\"178.065936\"/>\r\n     <use style=\"fill:#e377c2;stroke:#e377c2;\" x=\"78.285386\" xlink:href=\"#maf8c8d44a6\" y=\"182.153837\"/>\r\n     <use style=\"fill:#e377c2;stroke:#e377c2;\" x=\"77.903404\" xlink:href=\"#maf8c8d44a6\" y=\"187.604371\"/>\r\n     <use style=\"fill:#e377c2;stroke:#e377c2;\" x=\"74.465562\" xlink:href=\"#maf8c8d44a6\" y=\"189.421216\"/>\r\n     <use style=\"fill:#e377c2;stroke:#e377c2;\" x=\"70.645737\" xlink:href=\"#maf8c8d44a6\" y=\"193.054906\"/>\r\n     <use style=\"fill:#e377c2;stroke:#e377c2;\" x=\"74.465562\" xlink:href=\"#maf8c8d44a6\" y=\"193.509117\"/>\r\n     <use style=\"fill:#e377c2;stroke:#e377c2;\" x=\"79.431334\" xlink:href=\"#maf8c8d44a6\" y=\"195.325962\"/>\r\n     <use style=\"fill:#e377c2;stroke:#e377c2;\" x=\"81.723229\" xlink:href=\"#maf8c8d44a6\" y=\"191.238061\"/>\r\n     <use style=\"fill:#e377c2;stroke:#e377c2;\" x=\"84.015124\" xlink:href=\"#maf8c8d44a6\" y=\"185.787527\"/>\r\n     <use style=\"fill:#e377c2;stroke:#e377c2;\" x=\"87.452966\" xlink:href=\"#maf8c8d44a6\" y=\"184.879104\"/>\r\n     <use style=\"fill:#e377c2;stroke:#e377c2;\" x=\"92.80072\" xlink:href=\"#maf8c8d44a6\" y=\"183.062259\"/>\r\n     <use style=\"fill:#e377c2;stroke:#e377c2;\" x=\"88.980896\" xlink:href=\"#maf8c8d44a6\" y=\"190.78385\"/>\r\n     <use style=\"fill:#e377c2;stroke:#e377c2;\" x=\"94.32865\" xlink:href=\"#maf8c8d44a6\" y=\"187.604371\"/>\r\n     <use style=\"fill:#e377c2;stroke:#e377c2;\" x=\"97.002528\" xlink:href=\"#maf8c8d44a6\" y=\"191.238061\"/>\r\n    </g>\r\n   </g>\r\n   <g id=\"matplotlib.axis_1\">\r\n    <g id=\"xtick_1\">\r\n     <g id=\"line2d_1\">\r\n      <defs>\r\n       <path d=\"M 0 0 \r\nL 0 3.5 \r\n\" id=\"m89ea513879\" style=\"stroke:#000000;stroke-width:0.8;\"/>\r\n      </defs>\r\n      <g>\r\n       <use style=\"stroke:#000000;stroke-width:0.8;\" x=\"61.426191\" xlink:href=\"#m89ea513879\" y=\"281.262727\"/>\r\n      </g>\r\n     </g>\r\n     <g id=\"text_1\">\r\n      <!-- −1.5 -->\r\n      <g transform=\"translate(49.284784 295.861165)scale(0.1 -0.1)\">\r\n       <defs>\r\n        <path d=\"M 10.59375 35.5 \r\nL 73.1875 35.5 \r\nL 73.1875 27.203125 \r\nL 10.59375 27.203125 \r\nz\r\n\" id=\"DejaVuSans-8722\"/>\r\n        <path d=\"M 12.40625 8.296875 \r\nL 28.515625 8.296875 \r\nL 28.515625 63.921875 \r\nL 10.984375 60.40625 \r\nL 10.984375 69.390625 \r\nL 28.421875 72.90625 \r\nL 38.28125 72.90625 \r\nL 38.28125 8.296875 \r\nL 54.390625 8.296875 \r\nL 54.390625 0 \r\nL 12.40625 0 \r\nz\r\n\" id=\"DejaVuSans-49\"/>\r\n        <path d=\"M 10.6875 12.40625 \r\nL 21 12.40625 \r\nL 21 0 \r\nL 10.6875 0 \r\nz\r\n\" id=\"DejaVuSans-46\"/>\r\n        <path d=\"M 10.796875 72.90625 \r\nL 49.515625 72.90625 \r\nL 49.515625 64.59375 \r\nL 19.828125 64.59375 \r\nL 19.828125 46.734375 \r\nQ 21.96875 47.46875 24.109375 47.828125 \r\nQ 26.265625 48.1875 28.421875 48.1875 \r\nQ 40.625 48.1875 47.75 41.5 \r\nQ 54.890625 34.8125 54.890625 23.390625 \r\nQ 54.890625 11.625 47.5625 5.09375 \r\nQ 40.234375 -1.421875 26.90625 -1.421875 \r\nQ 22.3125 -1.421875 17.546875 -0.640625 \r\nQ 12.796875 0.140625 7.71875 1.703125 \r\nL 7.71875 11.625 \r\nQ 12.109375 9.234375 16.796875 8.0625 \r\nQ 21.484375 6.890625 26.703125 6.890625 \r\nQ 35.15625 6.890625 40.078125 11.328125 \r\nQ 45.015625 15.765625 45.015625 23.390625 \r\nQ 45.015625 31 40.078125 35.4375 \r\nQ 35.15625 39.890625 26.703125 39.890625 \r\nQ 22.75 39.890625 18.8125 39.015625 \r\nQ 14.890625 38.140625 10.796875 36.28125 \r\nz\r\n\" id=\"DejaVuSans-53\"/>\r\n       </defs>\r\n       <use xlink:href=\"#DejaVuSans-8722\"/>\r\n       <use x=\"83.789062\" xlink:href=\"#DejaVuSans-49\"/>\r\n       <use x=\"147.412109\" xlink:href=\"#DejaVuSans-46\"/>\r\n       <use x=\"179.199219\" xlink:href=\"#DejaVuSans-53\"/>\r\n      </g>\r\n     </g>\r\n    </g>\r\n    <g id=\"xtick_2\">\r\n     <g id=\"line2d_2\">\r\n      <g>\r\n       <use style=\"stroke:#000000;stroke-width:0.8;\" x=\"99.302598\" xlink:href=\"#m89ea513879\" y=\"281.262727\"/>\r\n      </g>\r\n     </g>\r\n     <g id=\"text_2\">\r\n      <!-- −1.0 -->\r\n      <g transform=\"translate(87.161191 295.861165)scale(0.1 -0.1)\">\r\n       <defs>\r\n        <path d=\"M 31.78125 66.40625 \r\nQ 24.171875 66.40625 20.328125 58.90625 \r\nQ 16.5 51.421875 16.5 36.375 \r\nQ 16.5 21.390625 20.328125 13.890625 \r\nQ 24.171875 6.390625 31.78125 6.390625 \r\nQ 39.453125 6.390625 43.28125 13.890625 \r\nQ 47.125 21.390625 47.125 36.375 \r\nQ 47.125 51.421875 43.28125 58.90625 \r\nQ 39.453125 66.40625 31.78125 66.40625 \r\nz\r\nM 31.78125 74.21875 \r\nQ 44.046875 74.21875 50.515625 64.515625 \r\nQ 56.984375 54.828125 56.984375 36.375 \r\nQ 56.984375 17.96875 50.515625 8.265625 \r\nQ 44.046875 -1.421875 31.78125 -1.421875 \r\nQ 19.53125 -1.421875 13.0625 8.265625 \r\nQ 6.59375 17.96875 6.59375 36.375 \r\nQ 6.59375 54.828125 13.0625 64.515625 \r\nQ 19.53125 74.21875 31.78125 74.21875 \r\nz\r\n\" id=\"DejaVuSans-48\"/>\r\n       </defs>\r\n       <use xlink:href=\"#DejaVuSans-8722\"/>\r\n       <use x=\"83.789062\" xlink:href=\"#DejaVuSans-49\"/>\r\n       <use x=\"147.412109\" xlink:href=\"#DejaVuSans-46\"/>\r\n       <use x=\"179.199219\" xlink:href=\"#DejaVuSans-48\"/>\r\n      </g>\r\n     </g>\r\n    </g>\r\n    <g id=\"xtick_3\">\r\n     <g id=\"line2d_3\">\r\n      <g>\r\n       <use style=\"stroke:#000000;stroke-width:0.8;\" x=\"137.179004\" xlink:href=\"#m89ea513879\" y=\"281.262727\"/>\r\n      </g>\r\n     </g>\r\n     <g id=\"text_3\">\r\n      <!-- −0.5 -->\r\n      <g transform=\"translate(125.037598 295.861165)scale(0.1 -0.1)\">\r\n       <use xlink:href=\"#DejaVuSans-8722\"/>\r\n       <use x=\"83.789062\" xlink:href=\"#DejaVuSans-48\"/>\r\n       <use x=\"147.412109\" xlink:href=\"#DejaVuSans-46\"/>\r\n       <use x=\"179.199219\" xlink:href=\"#DejaVuSans-53\"/>\r\n      </g>\r\n     </g>\r\n    </g>\r\n    <g id=\"xtick_4\">\r\n     <g id=\"line2d_4\">\r\n      <g>\r\n       <use style=\"stroke:#000000;stroke-width:0.8;\" x=\"175.055411\" xlink:href=\"#m89ea513879\" y=\"281.262727\"/>\r\n      </g>\r\n     </g>\r\n     <g id=\"text_4\">\r\n      <!-- 0.0 -->\r\n      <g transform=\"translate(167.103849 295.861165)scale(0.1 -0.1)\">\r\n       <use xlink:href=\"#DejaVuSans-48\"/>\r\n       <use x=\"63.623047\" xlink:href=\"#DejaVuSans-46\"/>\r\n       <use x=\"95.410156\" xlink:href=\"#DejaVuSans-48\"/>\r\n      </g>\r\n     </g>\r\n    </g>\r\n    <g id=\"xtick_5\">\r\n     <g id=\"line2d_5\">\r\n      <g>\r\n       <use style=\"stroke:#000000;stroke-width:0.8;\" x=\"212.931818\" xlink:href=\"#m89ea513879\" y=\"281.262727\"/>\r\n      </g>\r\n     </g>\r\n     <g id=\"text_5\">\r\n      <!-- 0.5 -->\r\n      <g transform=\"translate(204.980256 295.861165)scale(0.1 -0.1)\">\r\n       <use xlink:href=\"#DejaVuSans-48\"/>\r\n       <use x=\"63.623047\" xlink:href=\"#DejaVuSans-46\"/>\r\n       <use x=\"95.410156\" xlink:href=\"#DejaVuSans-53\"/>\r\n      </g>\r\n     </g>\r\n    </g>\r\n    <g id=\"xtick_6\">\r\n     <g id=\"line2d_6\">\r\n      <g>\r\n       <use style=\"stroke:#000000;stroke-width:0.8;\" x=\"250.808225\" xlink:href=\"#m89ea513879\" y=\"281.262727\"/>\r\n      </g>\r\n     </g>\r\n     <g id=\"text_6\">\r\n      <!-- 1.0 -->\r\n      <g transform=\"translate(242.856663 295.861165)scale(0.1 -0.1)\">\r\n       <use xlink:href=\"#DejaVuSans-49\"/>\r\n       <use x=\"63.623047\" xlink:href=\"#DejaVuSans-46\"/>\r\n       <use x=\"95.410156\" xlink:href=\"#DejaVuSans-48\"/>\r\n      </g>\r\n     </g>\r\n    </g>\r\n    <g id=\"xtick_7\">\r\n     <g id=\"line2d_7\">\r\n      <g>\r\n       <use style=\"stroke:#000000;stroke-width:0.8;\" x=\"288.684632\" xlink:href=\"#m89ea513879\" y=\"281.262727\"/>\r\n      </g>\r\n     </g>\r\n     <g id=\"text_7\">\r\n      <!-- 1.5 -->\r\n      <g transform=\"translate(280.733069 295.861165)scale(0.1 -0.1)\">\r\n       <use xlink:href=\"#DejaVuSans-49\"/>\r\n       <use x=\"63.623047\" xlink:href=\"#DejaVuSans-46\"/>\r\n       <use x=\"95.410156\" xlink:href=\"#DejaVuSans-53\"/>\r\n      </g>\r\n     </g>\r\n    </g>\r\n   </g>\r\n   <g id=\"matplotlib.axis_2\">\r\n    <g id=\"ytick_1\">\r\n     <g id=\"line2d_8\">\r\n      <defs>\r\n       <path d=\"M 0 0 \r\nL -3.5 0 \r\n\" id=\"mf463830a3a\" style=\"stroke:#000000;stroke-width:0.8;\"/>\r\n      </defs>\r\n      <g>\r\n       <use style=\"stroke:#000000;stroke-width:0.8;\" x=\"38.482813\" xlink:href=\"#mf463830a3a\" y=\"268.045718\"/>\r\n      </g>\r\n     </g>\r\n     <g id=\"text_8\">\r\n      <!-- −1.5 -->\r\n      <g transform=\"translate(7.2 271.844937)scale(0.1 -0.1)\">\r\n       <use xlink:href=\"#DejaVuSans-8722\"/>\r\n       <use x=\"83.789062\" xlink:href=\"#DejaVuSans-49\"/>\r\n       <use x=\"147.412109\" xlink:href=\"#DejaVuSans-46\"/>\r\n       <use x=\"179.199219\" xlink:href=\"#DejaVuSans-53\"/>\r\n      </g>\r\n     </g>\r\n    </g>\r\n    <g id=\"ytick_2\">\r\n     <g id=\"line2d_9\">\r\n      <g>\r\n       <use style=\"stroke:#000000;stroke-width:0.8;\" x=\"38.482813\" xlink:href=\"#mf463830a3a\" y=\"231.32479\"/>\r\n      </g>\r\n     </g>\r\n     <g id=\"text_9\">\r\n      <!-- −1.0 -->\r\n      <g transform=\"translate(7.2 235.124009)scale(0.1 -0.1)\">\r\n       <use xlink:href=\"#DejaVuSans-8722\"/>\r\n       <use x=\"83.789062\" xlink:href=\"#DejaVuSans-49\"/>\r\n       <use x=\"147.412109\" xlink:href=\"#DejaVuSans-46\"/>\r\n       <use x=\"179.199219\" xlink:href=\"#DejaVuSans-48\"/>\r\n      </g>\r\n     </g>\r\n    </g>\r\n    <g id=\"ytick_3\">\r\n     <g id=\"line2d_10\">\r\n      <g>\r\n       <use style=\"stroke:#000000;stroke-width:0.8;\" x=\"38.482813\" xlink:href=\"#mf463830a3a\" y=\"194.603861\"/>\r\n      </g>\r\n     </g>\r\n     <g id=\"text_10\">\r\n      <!-- −0.5 -->\r\n      <g transform=\"translate(7.2 198.40308)scale(0.1 -0.1)\">\r\n       <use xlink:href=\"#DejaVuSans-8722\"/>\r\n       <use x=\"83.789062\" xlink:href=\"#DejaVuSans-48\"/>\r\n       <use x=\"147.412109\" xlink:href=\"#DejaVuSans-46\"/>\r\n       <use x=\"179.199219\" xlink:href=\"#DejaVuSans-53\"/>\r\n      </g>\r\n     </g>\r\n    </g>\r\n    <g id=\"ytick_4\">\r\n     <g id=\"line2d_11\">\r\n      <g>\r\n       <use style=\"stroke:#000000;stroke-width:0.8;\" x=\"38.482813\" xlink:href=\"#mf463830a3a\" y=\"157.882933\"/>\r\n      </g>\r\n     </g>\r\n     <g id=\"text_11\">\r\n      <!-- 0.0 -->\r\n      <g transform=\"translate(15.579688 161.682152)scale(0.1 -0.1)\">\r\n       <use xlink:href=\"#DejaVuSans-48\"/>\r\n       <use x=\"63.623047\" xlink:href=\"#DejaVuSans-46\"/>\r\n       <use x=\"95.410156\" xlink:href=\"#DejaVuSans-48\"/>\r\n      </g>\r\n     </g>\r\n    </g>\r\n    <g id=\"ytick_5\">\r\n     <g id=\"line2d_12\">\r\n      <g>\r\n       <use style=\"stroke:#000000;stroke-width:0.8;\" x=\"38.482813\" xlink:href=\"#mf463830a3a\" y=\"121.162004\"/>\r\n      </g>\r\n     </g>\r\n     <g id=\"text_12\">\r\n      <!-- 0.5 -->\r\n      <g transform=\"translate(15.579688 124.961223)scale(0.1 -0.1)\">\r\n       <use xlink:href=\"#DejaVuSans-48\"/>\r\n       <use x=\"63.623047\" xlink:href=\"#DejaVuSans-46\"/>\r\n       <use x=\"95.410156\" xlink:href=\"#DejaVuSans-53\"/>\r\n      </g>\r\n     </g>\r\n    </g>\r\n    <g id=\"ytick_6\">\r\n     <g id=\"line2d_13\">\r\n      <g>\r\n       <use style=\"stroke:#000000;stroke-width:0.8;\" x=\"38.482813\" xlink:href=\"#mf463830a3a\" y=\"84.441076\"/>\r\n      </g>\r\n     </g>\r\n     <g id=\"text_13\">\r\n      <!-- 1.0 -->\r\n      <g transform=\"translate(15.579688 88.240295)scale(0.1 -0.1)\">\r\n       <use xlink:href=\"#DejaVuSans-49\"/>\r\n       <use x=\"63.623047\" xlink:href=\"#DejaVuSans-46\"/>\r\n       <use x=\"95.410156\" xlink:href=\"#DejaVuSans-48\"/>\r\n      </g>\r\n     </g>\r\n    </g>\r\n    <g id=\"ytick_7\">\r\n     <g id=\"line2d_14\">\r\n      <g>\r\n       <use style=\"stroke:#000000;stroke-width:0.8;\" x=\"38.482813\" xlink:href=\"#mf463830a3a\" y=\"47.720147\"/>\r\n      </g>\r\n     </g>\r\n     <g id=\"text_14\">\r\n      <!-- 1.5 -->\r\n      <g transform=\"translate(15.579688 51.519366)scale(0.1 -0.1)\">\r\n       <use xlink:href=\"#DejaVuSans-49\"/>\r\n       <use x=\"63.623047\" xlink:href=\"#DejaVuSans-46\"/>\r\n       <use x=\"95.410156\" xlink:href=\"#DejaVuSans-53\"/>\r\n      </g>\r\n     </g>\r\n    </g>\r\n    <g id=\"ytick_8\">\r\n     <g id=\"line2d_15\">\r\n      <g>\r\n       <use style=\"stroke:#000000;stroke-width:0.8;\" x=\"38.482813\" xlink:href=\"#mf463830a3a\" y=\"10.999219\"/>\r\n      </g>\r\n     </g>\r\n     <g id=\"text_15\">\r\n      <!-- 2.0 -->\r\n      <g transform=\"translate(15.579688 14.798437)scale(0.1 -0.1)\">\r\n       <defs>\r\n        <path d=\"M 19.1875 8.296875 \r\nL 53.609375 8.296875 \r\nL 53.609375 0 \r\nL 7.328125 0 \r\nL 7.328125 8.296875 \r\nQ 12.9375 14.109375 22.625 23.890625 \r\nQ 32.328125 33.6875 34.8125 36.53125 \r\nQ 39.546875 41.84375 41.421875 45.53125 \r\nQ 43.3125 49.21875 43.3125 52.78125 \r\nQ 43.3125 58.59375 39.234375 62.25 \r\nQ 35.15625 65.921875 28.609375 65.921875 \r\nQ 23.96875 65.921875 18.8125 64.3125 \r\nQ 13.671875 62.703125 7.8125 59.421875 \r\nL 7.8125 69.390625 \r\nQ 13.765625 71.78125 18.9375 73 \r\nQ 24.125 74.21875 28.421875 74.21875 \r\nQ 39.75 74.21875 46.484375 68.546875 \r\nQ 53.21875 62.890625 53.21875 53.421875 \r\nQ 53.21875 48.921875 51.53125 44.890625 \r\nQ 49.859375 40.875 45.40625 35.40625 \r\nQ 44.1875 33.984375 37.640625 27.21875 \r\nQ 31.109375 20.453125 19.1875 8.296875 \r\nz\r\n\" id=\"DejaVuSans-50\"/>\r\n       </defs>\r\n       <use xlink:href=\"#DejaVuSans-50\"/>\r\n       <use x=\"63.623047\" xlink:href=\"#DejaVuSans-46\"/>\r\n       <use x=\"95.410156\" xlink:href=\"#DejaVuSans-48\"/>\r\n      </g>\r\n     </g>\r\n    </g>\r\n   </g>\r\n   <g id=\"patch_3\">\r\n    <path d=\"M 38.482813 281.262727 \r\nL 38.482813 9.462727 \r\n\" style=\"fill:none;stroke:#000000;stroke-linecap:square;stroke-linejoin:miter;stroke-width:0.8;\"/>\r\n   </g>\r\n   <g id=\"patch_4\">\r\n    <path d=\"M 317.482813 281.262727 \r\nL 317.482813 9.462727 \r\n\" style=\"fill:none;stroke:#000000;stroke-linecap:square;stroke-linejoin:miter;stroke-width:0.8;\"/>\r\n   </g>\r\n   <g id=\"patch_5\">\r\n    <path d=\"M 38.482812 281.262727 \r\nL 317.482813 281.262727 \r\n\" style=\"fill:none;stroke:#000000;stroke-linecap:square;stroke-linejoin:miter;stroke-width:0.8;\"/>\r\n   </g>\r\n   <g id=\"patch_6\">\r\n    <path d=\"M 38.482812 9.462727 \r\nL 317.482813 9.462727 \r\n\" style=\"fill:none;stroke:#000000;stroke-linecap:square;stroke-linejoin:miter;stroke-width:0.8;\"/>\r\n   </g>\r\n  </g>\r\n </g>\r\n <defs>\r\n  <clipPath id=\"p6e39fb9e80\">\r\n   <rect height=\"271.8\" width=\"279\" x=\"38.482813\" y=\"9.462727\"/>\r\n  </clipPath>\r\n </defs>\r\n</svg>\r\n",
      "text/plain": [
       "<Figure size 360x360 with 1 Axes>"
      ]
     },
     "metadata": {
      "needs_background": "light"
     },
     "output_type": "display_data"
    }
   ],
   "source": [
    "data=np.loadtxt('../data/data/synthetic/Aggregation.txt')\n",
    "x=data[:,1:]\n",
    "y=data[:,0]\n",
    "print(\"y=\",np.unique(y))\n",
    "ss_x=StandardScaler()\n",
    "x=ss_x.fit_transform(x)\n",
    "\n",
    "plt.figure(figsize=[5,5])\n",
    "for i in np.unique(y):\n",
    "    plt.scatter(x[y==i,0],x[y==i,1],s=20)"
   ]
  },
  {
   "cell_type": "code",
   "execution_count": 28,
   "metadata": {},
   "outputs": [
    {
     "data": {
      "image/svg+xml": "<?xml version=\"1.0\" encoding=\"utf-8\" standalone=\"no\"?>\r\n<!DOCTYPE svg PUBLIC \"-//W3C//DTD SVG 1.1//EN\"\r\n  \"http://www.w3.org/Graphics/SVG/1.1/DTD/svg11.dtd\">\r\n<!-- Created with matplotlib (https://matplotlib.org/) -->\r\n<svg height=\"302.878125pt\" version=\"1.1\" viewBox=\"0 0 331.045312 302.878125\" width=\"331.045312pt\" xmlns=\"http://www.w3.org/2000/svg\" xmlns:xlink=\"http://www.w3.org/1999/xlink\">\r\n <metadata>\r\n  <rdf:RDF xmlns:cc=\"http://creativecommons.org/ns#\" xmlns:dc=\"http://purl.org/dc/elements/1.1/\" xmlns:rdf=\"http://www.w3.org/1999/02/22-rdf-syntax-ns#\">\r\n   <cc:Work>\r\n    <dc:type rdf:resource=\"http://purl.org/dc/dcmitype/StillImage\"/>\r\n    <dc:date>2022-06-28T09:02:18.575291</dc:date>\r\n    <dc:format>image/svg+xml</dc:format>\r\n    <dc:creator>\r\n     <cc:Agent>\r\n      <dc:title>Matplotlib v3.3.2, https://matplotlib.org/</dc:title>\r\n     </cc:Agent>\r\n    </dc:creator>\r\n   </cc:Work>\r\n  </rdf:RDF>\r\n </metadata>\r\n <defs>\r\n  <style type=\"text/css\">*{stroke-linecap:butt;stroke-linejoin:round;}</style>\r\n </defs>\r\n <g id=\"figure_1\">\r\n  <g id=\"patch_1\">\r\n   <path d=\"M 0 302.878125 \r\nL 331.045312 302.878125 \r\nL 331.045312 0 \r\nL 0 0 \r\nz\r\n\" style=\"fill:none;\"/>\r\n  </g>\r\n  <g id=\"axes_1\">\r\n   <g id=\"patch_2\">\r\n    <path d=\"M 44.845313 279 \r\nL 323.845312 279 \r\nL 323.845312 7.2 \r\nL 44.845313 7.2 \r\nz\r\n\" style=\"fill:#ffffff;\"/>\r\n   </g>\r\n   <g id=\"PathCollection_1\">\r\n    <defs>\r\n     <path d=\"M 0 2.236068 \r\nC 0.593012 2.236068 1.161816 2.000462 1.581139 1.581139 \r\nC 2.000462 1.161816 2.236068 0.593012 2.236068 0 \r\nC 2.236068 -0.593012 2.000462 -1.161816 1.581139 -1.581139 \r\nC 1.161816 -2.000462 0.593012 -2.236068 0 -2.236068 \r\nC -0.593012 -2.236068 -1.161816 -2.000462 -1.581139 -1.581139 \r\nC -2.000462 -1.161816 -2.236068 -0.593012 -2.236068 0 \r\nC -2.236068 0.593012 -2.000462 1.161816 -1.581139 1.581139 \r\nC -1.161816 2.000462 -0.593012 2.236068 0 2.236068 \r\nz\r\n\" id=\"mc6938b49d4\" style=\"stroke:#1f77b4;\"/>\r\n    </defs>\r\n    <g clip-path=\"url(#pc8d0a12e81)\">\r\n     <use style=\"fill:#1f77b4;stroke:#1f77b4;\" x=\"311.163494\" xlink:href=\"#mc6938b49d4\" y=\"266.645455\"/>\r\n     <use style=\"fill:#1f77b4;stroke:#1f77b4;\" x=\"311.163494\" xlink:href=\"#mc6938b49d4\" y=\"266.645455\"/>\r\n     <use style=\"fill:#1f77b4;stroke:#1f77b4;\" x=\"311.163494\" xlink:href=\"#mc6938b49d4\" y=\"266.645455\"/>\r\n     <use style=\"fill:#1f77b4;stroke:#1f77b4;\" x=\"311.163494\" xlink:href=\"#mc6938b49d4\" y=\"266.645455\"/>\r\n     <use style=\"fill:#1f77b4;stroke:#1f77b4;\" x=\"311.163494\" xlink:href=\"#mc6938b49d4\" y=\"266.645455\"/>\r\n     <use style=\"fill:#1f77b4;stroke:#1f77b4;\" x=\"311.163494\" xlink:href=\"#mc6938b49d4\" y=\"266.645455\"/>\r\n     <use style=\"fill:#1f77b4;stroke:#1f77b4;\" x=\"311.163494\" xlink:href=\"#mc6938b49d4\" y=\"266.645455\"/>\r\n     <use style=\"fill:#1f77b4;stroke:#1f77b4;\" x=\"311.163494\" xlink:href=\"#mc6938b49d4\" y=\"266.645455\"/>\r\n     <use style=\"fill:#1f77b4;stroke:#1f77b4;\" x=\"311.163494\" xlink:href=\"#mc6938b49d4\" y=\"266.645455\"/>\r\n     <use style=\"fill:#1f77b4;stroke:#1f77b4;\" x=\"311.163494\" xlink:href=\"#mc6938b49d4\" y=\"266.645455\"/>\r\n     <use style=\"fill:#1f77b4;stroke:#1f77b4;\" x=\"311.163494\" xlink:href=\"#mc6938b49d4\" y=\"266.645455\"/>\r\n     <use style=\"fill:#1f77b4;stroke:#1f77b4;\" x=\"311.163494\" xlink:href=\"#mc6938b49d4\" y=\"266.645455\"/>\r\n     <use style=\"fill:#1f77b4;stroke:#1f77b4;\" x=\"311.163494\" xlink:href=\"#mc6938b49d4\" y=\"266.645455\"/>\r\n     <use style=\"fill:#1f77b4;stroke:#1f77b4;\" x=\"311.163494\" xlink:href=\"#mc6938b49d4\" y=\"266.645455\"/>\r\n     <use style=\"fill:#1f77b4;stroke:#1f77b4;\" x=\"311.163494\" xlink:href=\"#mc6938b49d4\" y=\"266.645455\"/>\r\n     <use style=\"fill:#1f77b4;stroke:#1f77b4;\" x=\"311.163494\" xlink:href=\"#mc6938b49d4\" y=\"266.645455\"/>\r\n     <use style=\"fill:#1f77b4;stroke:#1f77b4;\" x=\"311.163494\" xlink:href=\"#mc6938b49d4\" y=\"266.645455\"/>\r\n     <use style=\"fill:#1f77b4;stroke:#1f77b4;\" x=\"311.163494\" xlink:href=\"#mc6938b49d4\" y=\"266.645455\"/>\r\n     <use style=\"fill:#1f77b4;stroke:#1f77b4;\" x=\"311.163494\" xlink:href=\"#mc6938b49d4\" y=\"266.645455\"/>\r\n     <use style=\"fill:#1f77b4;stroke:#1f77b4;\" x=\"311.163494\" xlink:href=\"#mc6938b49d4\" y=\"266.645455\"/>\r\n     <use style=\"fill:#1f77b4;stroke:#1f77b4;\" x=\"311.163494\" xlink:href=\"#mc6938b49d4\" y=\"266.645455\"/>\r\n     <use style=\"fill:#1f77b4;stroke:#1f77b4;\" x=\"311.163494\" xlink:href=\"#mc6938b49d4\" y=\"266.645455\"/>\r\n     <use style=\"fill:#1f77b4;stroke:#1f77b4;\" x=\"311.163494\" xlink:href=\"#mc6938b49d4\" y=\"266.645455\"/>\r\n     <use style=\"fill:#1f77b4;stroke:#1f77b4;\" x=\"311.163494\" xlink:href=\"#mc6938b49d4\" y=\"266.645455\"/>\r\n     <use style=\"fill:#1f77b4;stroke:#1f77b4;\" x=\"311.163494\" xlink:href=\"#mc6938b49d4\" y=\"266.645455\"/>\r\n     <use style=\"fill:#1f77b4;stroke:#1f77b4;\" x=\"311.163494\" xlink:href=\"#mc6938b49d4\" y=\"266.645455\"/>\r\n     <use style=\"fill:#1f77b4;stroke:#1f77b4;\" x=\"311.163494\" xlink:href=\"#mc6938b49d4\" y=\"266.645455\"/>\r\n     <use style=\"fill:#1f77b4;stroke:#1f77b4;\" x=\"311.163494\" xlink:href=\"#mc6938b49d4\" y=\"266.645455\"/>\r\n     <use style=\"fill:#1f77b4;stroke:#1f77b4;\" x=\"311.163494\" xlink:href=\"#mc6938b49d4\" y=\"266.645455\"/>\r\n     <use style=\"fill:#1f77b4;stroke:#1f77b4;\" x=\"311.163494\" xlink:href=\"#mc6938b49d4\" y=\"266.645455\"/>\r\n     <use style=\"fill:#1f77b4;stroke:#1f77b4;\" x=\"311.163494\" xlink:href=\"#mc6938b49d4\" y=\"266.645455\"/>\r\n     <use style=\"fill:#1f77b4;stroke:#1f77b4;\" x=\"311.163494\" xlink:href=\"#mc6938b49d4\" y=\"266.645455\"/>\r\n     <use style=\"fill:#1f77b4;stroke:#1f77b4;\" x=\"311.163494\" xlink:href=\"#mc6938b49d4\" y=\"266.645455\"/>\r\n     <use style=\"fill:#1f77b4;stroke:#1f77b4;\" x=\"311.163494\" xlink:href=\"#mc6938b49d4\" y=\"266.645455\"/>\r\n     <use style=\"fill:#1f77b4;stroke:#1f77b4;\" x=\"311.163494\" xlink:href=\"#mc6938b49d4\" y=\"266.645455\"/>\r\n     <use style=\"fill:#1f77b4;stroke:#1f77b4;\" x=\"311.163494\" xlink:href=\"#mc6938b49d4\" y=\"266.645455\"/>\r\n     <use style=\"fill:#1f77b4;stroke:#1f77b4;\" x=\"311.163494\" xlink:href=\"#mc6938b49d4\" y=\"266.645455\"/>\r\n     <use style=\"fill:#1f77b4;stroke:#1f77b4;\" x=\"311.163494\" xlink:href=\"#mc6938b49d4\" y=\"266.645455\"/>\r\n     <use style=\"fill:#1f77b4;stroke:#1f77b4;\" x=\"311.163494\" xlink:href=\"#mc6938b49d4\" y=\"266.645455\"/>\r\n     <use style=\"fill:#1f77b4;stroke:#1f77b4;\" x=\"311.163494\" xlink:href=\"#mc6938b49d4\" y=\"266.645455\"/>\r\n     <use style=\"fill:#1f77b4;stroke:#1f77b4;\" x=\"311.163494\" xlink:href=\"#mc6938b49d4\" y=\"266.645455\"/>\r\n     <use style=\"fill:#1f77b4;stroke:#1f77b4;\" x=\"311.163494\" xlink:href=\"#mc6938b49d4\" y=\"266.645455\"/>\r\n     <use style=\"fill:#1f77b4;stroke:#1f77b4;\" x=\"311.163494\" xlink:href=\"#mc6938b49d4\" y=\"266.645455\"/>\r\n     <use style=\"fill:#1f77b4;stroke:#1f77b4;\" x=\"311.163494\" xlink:href=\"#mc6938b49d4\" y=\"266.645455\"/>\r\n     <use style=\"fill:#1f77b4;stroke:#1f77b4;\" x=\"311.163494\" xlink:href=\"#mc6938b49d4\" y=\"266.645455\"/>\r\n    </g>\r\n   </g>\r\n   <g id=\"PathCollection_2\">\r\n    <defs>\r\n     <path d=\"M 0 2.236068 \r\nC 0.593012 2.236068 1.161816 2.000462 1.581139 1.581139 \r\nC 2.000462 1.161816 2.236068 0.593012 2.236068 0 \r\nC 2.236068 -0.593012 2.000462 -1.161816 1.581139 -1.581139 \r\nC 1.161816 -2.000462 0.593012 -2.236068 0 -2.236068 \r\nC -0.593012 -2.236068 -1.161816 -2.000462 -1.581139 -1.581139 \r\nC -2.000462 -1.161816 -2.236068 -0.593012 -2.236068 0 \r\nC -2.236068 0.593012 -2.000462 1.161816 -1.581139 1.581139 \r\nC -1.161816 2.000462 -0.593012 2.236068 0 2.236068 \r\nz\r\n\" id=\"me249af4f7c\" style=\"stroke:#ff7f0e;\"/>\r\n    </defs>\r\n    <g clip-path=\"url(#pc8d0a12e81)\">\r\n     <use style=\"fill:#ff7f0e;stroke:#ff7f0e;\" x=\"311.163494\" xlink:href=\"#me249af4f7c\" y=\"19.554545\"/>\r\n     <use style=\"fill:#ff7f0e;stroke:#ff7f0e;\" x=\"311.163494\" xlink:href=\"#me249af4f7c\" y=\"19.554545\"/>\r\n     <use style=\"fill:#ff7f0e;stroke:#ff7f0e;\" x=\"311.163494\" xlink:href=\"#me249af4f7c\" y=\"19.554545\"/>\r\n     <use style=\"fill:#ff7f0e;stroke:#ff7f0e;\" x=\"311.163494\" xlink:href=\"#me249af4f7c\" y=\"19.554545\"/>\r\n     <use style=\"fill:#ff7f0e;stroke:#ff7f0e;\" x=\"311.163494\" xlink:href=\"#me249af4f7c\" y=\"19.554545\"/>\r\n     <use style=\"fill:#ff7f0e;stroke:#ff7f0e;\" x=\"311.163494\" xlink:href=\"#me249af4f7c\" y=\"19.554545\"/>\r\n     <use style=\"fill:#ff7f0e;stroke:#ff7f0e;\" x=\"311.163494\" xlink:href=\"#me249af4f7c\" y=\"19.554545\"/>\r\n     <use style=\"fill:#ff7f0e;stroke:#ff7f0e;\" x=\"311.163494\" xlink:href=\"#me249af4f7c\" y=\"19.554545\"/>\r\n     <use style=\"fill:#ff7f0e;stroke:#ff7f0e;\" x=\"311.163494\" xlink:href=\"#me249af4f7c\" y=\"19.554545\"/>\r\n     <use style=\"fill:#ff7f0e;stroke:#ff7f0e;\" x=\"311.163494\" xlink:href=\"#me249af4f7c\" y=\"19.554545\"/>\r\n     <use style=\"fill:#ff7f0e;stroke:#ff7f0e;\" x=\"311.163494\" xlink:href=\"#me249af4f7c\" y=\"19.554545\"/>\r\n     <use style=\"fill:#ff7f0e;stroke:#ff7f0e;\" x=\"311.163494\" xlink:href=\"#me249af4f7c\" y=\"19.554545\"/>\r\n     <use style=\"fill:#ff7f0e;stroke:#ff7f0e;\" x=\"311.163494\" xlink:href=\"#me249af4f7c\" y=\"19.554545\"/>\r\n     <use style=\"fill:#ff7f0e;stroke:#ff7f0e;\" x=\"311.163494\" xlink:href=\"#me249af4f7c\" y=\"19.554545\"/>\r\n     <use style=\"fill:#ff7f0e;stroke:#ff7f0e;\" x=\"311.163494\" xlink:href=\"#me249af4f7c\" y=\"19.554545\"/>\r\n     <use style=\"fill:#ff7f0e;stroke:#ff7f0e;\" x=\"311.163494\" xlink:href=\"#me249af4f7c\" y=\"19.554545\"/>\r\n     <use style=\"fill:#ff7f0e;stroke:#ff7f0e;\" x=\"311.163494\" xlink:href=\"#me249af4f7c\" y=\"19.554545\"/>\r\n     <use style=\"fill:#ff7f0e;stroke:#ff7f0e;\" x=\"311.163494\" xlink:href=\"#me249af4f7c\" y=\"19.554545\"/>\r\n     <use style=\"fill:#ff7f0e;stroke:#ff7f0e;\" x=\"311.163494\" xlink:href=\"#me249af4f7c\" y=\"19.554545\"/>\r\n     <use style=\"fill:#ff7f0e;stroke:#ff7f0e;\" x=\"311.163494\" xlink:href=\"#me249af4f7c\" y=\"19.554545\"/>\r\n     <use style=\"fill:#ff7f0e;stroke:#ff7f0e;\" x=\"311.163494\" xlink:href=\"#me249af4f7c\" y=\"19.554545\"/>\r\n     <use style=\"fill:#ff7f0e;stroke:#ff7f0e;\" x=\"311.163494\" xlink:href=\"#me249af4f7c\" y=\"19.554545\"/>\r\n     <use style=\"fill:#ff7f0e;stroke:#ff7f0e;\" x=\"311.163494\" xlink:href=\"#me249af4f7c\" y=\"19.554545\"/>\r\n     <use style=\"fill:#ff7f0e;stroke:#ff7f0e;\" x=\"311.163494\" xlink:href=\"#me249af4f7c\" y=\"19.554545\"/>\r\n     <use style=\"fill:#ff7f0e;stroke:#ff7f0e;\" x=\"311.163494\" xlink:href=\"#me249af4f7c\" y=\"19.554545\"/>\r\n     <use style=\"fill:#ff7f0e;stroke:#ff7f0e;\" x=\"311.163494\" xlink:href=\"#me249af4f7c\" y=\"19.554545\"/>\r\n     <use style=\"fill:#ff7f0e;stroke:#ff7f0e;\" x=\"311.163494\" xlink:href=\"#me249af4f7c\" y=\"19.554545\"/>\r\n     <use style=\"fill:#ff7f0e;stroke:#ff7f0e;\" x=\"311.163494\" xlink:href=\"#me249af4f7c\" y=\"19.554545\"/>\r\n     <use style=\"fill:#ff7f0e;stroke:#ff7f0e;\" x=\"311.163494\" xlink:href=\"#me249af4f7c\" y=\"19.554545\"/>\r\n     <use style=\"fill:#ff7f0e;stroke:#ff7f0e;\" x=\"311.163494\" xlink:href=\"#me249af4f7c\" y=\"19.554545\"/>\r\n     <use style=\"fill:#ff7f0e;stroke:#ff7f0e;\" x=\"311.163494\" xlink:href=\"#me249af4f7c\" y=\"19.554545\"/>\r\n     <use style=\"fill:#ff7f0e;stroke:#ff7f0e;\" x=\"311.163494\" xlink:href=\"#me249af4f7c\" y=\"19.554545\"/>\r\n     <use style=\"fill:#ff7f0e;stroke:#ff7f0e;\" x=\"311.163494\" xlink:href=\"#me249af4f7c\" y=\"19.554545\"/>\r\n     <use style=\"fill:#ff7f0e;stroke:#ff7f0e;\" x=\"311.163494\" xlink:href=\"#me249af4f7c\" y=\"19.554545\"/>\r\n     <use style=\"fill:#ff7f0e;stroke:#ff7f0e;\" x=\"311.163494\" xlink:href=\"#me249af4f7c\" y=\"19.554545\"/>\r\n     <use style=\"fill:#ff7f0e;stroke:#ff7f0e;\" x=\"311.163494\" xlink:href=\"#me249af4f7c\" y=\"19.554545\"/>\r\n     <use style=\"fill:#ff7f0e;stroke:#ff7f0e;\" x=\"311.163494\" xlink:href=\"#me249af4f7c\" y=\"19.554545\"/>\r\n     <use style=\"fill:#ff7f0e;stroke:#ff7f0e;\" x=\"311.163494\" xlink:href=\"#me249af4f7c\" y=\"19.554545\"/>\r\n     <use style=\"fill:#ff7f0e;stroke:#ff7f0e;\" x=\"311.163494\" xlink:href=\"#me249af4f7c\" y=\"19.554545\"/>\r\n     <use style=\"fill:#ff7f0e;stroke:#ff7f0e;\" x=\"311.163494\" xlink:href=\"#me249af4f7c\" y=\"19.554545\"/>\r\n     <use style=\"fill:#ff7f0e;stroke:#ff7f0e;\" x=\"311.163494\" xlink:href=\"#me249af4f7c\" y=\"19.554545\"/>\r\n     <use style=\"fill:#ff7f0e;stroke:#ff7f0e;\" x=\"311.163494\" xlink:href=\"#me249af4f7c\" y=\"19.554545\"/>\r\n     <use style=\"fill:#ff7f0e;stroke:#ff7f0e;\" x=\"311.163494\" xlink:href=\"#me249af4f7c\" y=\"19.554545\"/>\r\n     <use style=\"fill:#ff7f0e;stroke:#ff7f0e;\" x=\"311.163494\" xlink:href=\"#me249af4f7c\" y=\"19.554545\"/>\r\n     <use style=\"fill:#ff7f0e;stroke:#ff7f0e;\" x=\"311.163494\" xlink:href=\"#me249af4f7c\" y=\"19.554545\"/>\r\n     <use style=\"fill:#ff7f0e;stroke:#ff7f0e;\" x=\"311.163494\" xlink:href=\"#me249af4f7c\" y=\"19.554545\"/>\r\n     <use style=\"fill:#ff7f0e;stroke:#ff7f0e;\" x=\"311.163494\" xlink:href=\"#me249af4f7c\" y=\"19.554545\"/>\r\n     <use style=\"fill:#ff7f0e;stroke:#ff7f0e;\" x=\"311.163494\" xlink:href=\"#me249af4f7c\" y=\"19.554545\"/>\r\n     <use style=\"fill:#ff7f0e;stroke:#ff7f0e;\" x=\"311.163494\" xlink:href=\"#me249af4f7c\" y=\"19.554545\"/>\r\n     <use style=\"fill:#ff7f0e;stroke:#ff7f0e;\" x=\"311.163494\" xlink:href=\"#me249af4f7c\" y=\"19.554545\"/>\r\n     <use style=\"fill:#ff7f0e;stroke:#ff7f0e;\" x=\"311.163494\" xlink:href=\"#me249af4f7c\" y=\"19.554545\"/>\r\n     <use style=\"fill:#ff7f0e;stroke:#ff7f0e;\" x=\"311.163494\" xlink:href=\"#me249af4f7c\" y=\"19.554545\"/>\r\n     <use style=\"fill:#ff7f0e;stroke:#ff7f0e;\" x=\"311.163494\" xlink:href=\"#me249af4f7c\" y=\"19.554545\"/>\r\n     <use style=\"fill:#ff7f0e;stroke:#ff7f0e;\" x=\"311.163494\" xlink:href=\"#me249af4f7c\" y=\"19.554545\"/>\r\n     <use style=\"fill:#ff7f0e;stroke:#ff7f0e;\" x=\"311.163494\" xlink:href=\"#me249af4f7c\" y=\"19.554545\"/>\r\n     <use style=\"fill:#ff7f0e;stroke:#ff7f0e;\" x=\"311.163494\" xlink:href=\"#me249af4f7c\" y=\"19.554545\"/>\r\n     <use style=\"fill:#ff7f0e;stroke:#ff7f0e;\" x=\"311.163494\" xlink:href=\"#me249af4f7c\" y=\"19.554545\"/>\r\n     <use style=\"fill:#ff7f0e;stroke:#ff7f0e;\" x=\"311.163494\" xlink:href=\"#me249af4f7c\" y=\"19.554545\"/>\r\n     <use style=\"fill:#ff7f0e;stroke:#ff7f0e;\" x=\"311.163494\" xlink:href=\"#me249af4f7c\" y=\"19.554545\"/>\r\n     <use style=\"fill:#ff7f0e;stroke:#ff7f0e;\" x=\"311.163494\" xlink:href=\"#me249af4f7c\" y=\"19.554545\"/>\r\n     <use style=\"fill:#ff7f0e;stroke:#ff7f0e;\" x=\"311.163494\" xlink:href=\"#me249af4f7c\" y=\"19.554545\"/>\r\n     <use style=\"fill:#ff7f0e;stroke:#ff7f0e;\" x=\"311.163494\" xlink:href=\"#me249af4f7c\" y=\"19.554545\"/>\r\n     <use style=\"fill:#ff7f0e;stroke:#ff7f0e;\" x=\"311.163494\" xlink:href=\"#me249af4f7c\" y=\"19.554545\"/>\r\n     <use style=\"fill:#ff7f0e;stroke:#ff7f0e;\" x=\"311.163494\" xlink:href=\"#me249af4f7c\" y=\"19.554545\"/>\r\n     <use style=\"fill:#ff7f0e;stroke:#ff7f0e;\" x=\"311.163494\" xlink:href=\"#me249af4f7c\" y=\"19.554545\"/>\r\n     <use style=\"fill:#ff7f0e;stroke:#ff7f0e;\" x=\"311.163494\" xlink:href=\"#me249af4f7c\" y=\"19.554545\"/>\r\n     <use style=\"fill:#ff7f0e;stroke:#ff7f0e;\" x=\"311.163494\" xlink:href=\"#me249af4f7c\" y=\"19.554545\"/>\r\n     <use style=\"fill:#ff7f0e;stroke:#ff7f0e;\" x=\"311.163494\" xlink:href=\"#me249af4f7c\" y=\"19.554545\"/>\r\n     <use style=\"fill:#ff7f0e;stroke:#ff7f0e;\" x=\"311.163494\" xlink:href=\"#me249af4f7c\" y=\"19.554545\"/>\r\n     <use style=\"fill:#ff7f0e;stroke:#ff7f0e;\" x=\"311.163494\" xlink:href=\"#me249af4f7c\" y=\"19.554545\"/>\r\n     <use style=\"fill:#ff7f0e;stroke:#ff7f0e;\" x=\"311.163494\" xlink:href=\"#me249af4f7c\" y=\"19.554545\"/>\r\n     <use style=\"fill:#ff7f0e;stroke:#ff7f0e;\" x=\"311.163494\" xlink:href=\"#me249af4f7c\" y=\"19.554545\"/>\r\n     <use style=\"fill:#ff7f0e;stroke:#ff7f0e;\" x=\"311.163494\" xlink:href=\"#me249af4f7c\" y=\"19.554545\"/>\r\n     <use style=\"fill:#ff7f0e;stroke:#ff7f0e;\" x=\"311.163494\" xlink:href=\"#me249af4f7c\" y=\"19.554545\"/>\r\n     <use style=\"fill:#ff7f0e;stroke:#ff7f0e;\" x=\"311.163494\" xlink:href=\"#me249af4f7c\" y=\"19.554545\"/>\r\n     <use style=\"fill:#ff7f0e;stroke:#ff7f0e;\" x=\"311.163494\" xlink:href=\"#me249af4f7c\" y=\"19.554545\"/>\r\n     <use style=\"fill:#ff7f0e;stroke:#ff7f0e;\" x=\"311.163494\" xlink:href=\"#me249af4f7c\" y=\"19.554545\"/>\r\n     <use style=\"fill:#ff7f0e;stroke:#ff7f0e;\" x=\"311.163494\" xlink:href=\"#me249af4f7c\" y=\"19.554545\"/>\r\n     <use style=\"fill:#ff7f0e;stroke:#ff7f0e;\" x=\"311.163494\" xlink:href=\"#me249af4f7c\" y=\"19.554545\"/>\r\n     <use style=\"fill:#ff7f0e;stroke:#ff7f0e;\" x=\"311.163494\" xlink:href=\"#me249af4f7c\" y=\"19.554545\"/>\r\n     <use style=\"fill:#ff7f0e;stroke:#ff7f0e;\" x=\"311.163494\" xlink:href=\"#me249af4f7c\" y=\"19.554545\"/>\r\n     <use style=\"fill:#ff7f0e;stroke:#ff7f0e;\" x=\"311.163494\" xlink:href=\"#me249af4f7c\" y=\"19.554545\"/>\r\n     <use style=\"fill:#ff7f0e;stroke:#ff7f0e;\" x=\"311.163494\" xlink:href=\"#me249af4f7c\" y=\"19.554545\"/>\r\n     <use style=\"fill:#ff7f0e;stroke:#ff7f0e;\" x=\"311.163494\" xlink:href=\"#me249af4f7c\" y=\"19.554545\"/>\r\n     <use style=\"fill:#ff7f0e;stroke:#ff7f0e;\" x=\"311.163494\" xlink:href=\"#me249af4f7c\" y=\"19.554545\"/>\r\n     <use style=\"fill:#ff7f0e;stroke:#ff7f0e;\" x=\"311.163494\" xlink:href=\"#me249af4f7c\" y=\"19.554545\"/>\r\n     <use style=\"fill:#ff7f0e;stroke:#ff7f0e;\" x=\"311.163494\" xlink:href=\"#me249af4f7c\" y=\"19.554545\"/>\r\n     <use style=\"fill:#ff7f0e;stroke:#ff7f0e;\" x=\"311.163494\" xlink:href=\"#me249af4f7c\" y=\"19.554545\"/>\r\n     <use style=\"fill:#ff7f0e;stroke:#ff7f0e;\" x=\"311.163494\" xlink:href=\"#me249af4f7c\" y=\"19.554545\"/>\r\n     <use style=\"fill:#ff7f0e;stroke:#ff7f0e;\" x=\"311.163494\" xlink:href=\"#me249af4f7c\" y=\"19.554545\"/>\r\n     <use style=\"fill:#ff7f0e;stroke:#ff7f0e;\" x=\"311.163494\" xlink:href=\"#me249af4f7c\" y=\"19.554545\"/>\r\n     <use style=\"fill:#ff7f0e;stroke:#ff7f0e;\" x=\"311.163494\" xlink:href=\"#me249af4f7c\" y=\"19.554545\"/>\r\n     <use style=\"fill:#ff7f0e;stroke:#ff7f0e;\" x=\"311.163494\" xlink:href=\"#me249af4f7c\" y=\"19.554545\"/>\r\n     <use style=\"fill:#ff7f0e;stroke:#ff7f0e;\" x=\"311.163494\" xlink:href=\"#me249af4f7c\" y=\"19.554545\"/>\r\n     <use style=\"fill:#ff7f0e;stroke:#ff7f0e;\" x=\"311.163494\" xlink:href=\"#me249af4f7c\" y=\"19.554545\"/>\r\n     <use style=\"fill:#ff7f0e;stroke:#ff7f0e;\" x=\"311.163494\" xlink:href=\"#me249af4f7c\" y=\"19.554545\"/>\r\n     <use style=\"fill:#ff7f0e;stroke:#ff7f0e;\" x=\"311.163494\" xlink:href=\"#me249af4f7c\" y=\"19.554545\"/>\r\n     <use style=\"fill:#ff7f0e;stroke:#ff7f0e;\" x=\"311.163494\" xlink:href=\"#me249af4f7c\" y=\"19.554545\"/>\r\n     <use style=\"fill:#ff7f0e;stroke:#ff7f0e;\" x=\"311.163494\" xlink:href=\"#me249af4f7c\" y=\"19.554545\"/>\r\n     <use style=\"fill:#ff7f0e;stroke:#ff7f0e;\" x=\"311.163494\" xlink:href=\"#me249af4f7c\" y=\"19.554545\"/>\r\n     <use style=\"fill:#ff7f0e;stroke:#ff7f0e;\" x=\"311.163494\" xlink:href=\"#me249af4f7c\" y=\"19.554545\"/>\r\n     <use style=\"fill:#ff7f0e;stroke:#ff7f0e;\" x=\"311.163494\" xlink:href=\"#me249af4f7c\" y=\"19.554545\"/>\r\n     <use style=\"fill:#ff7f0e;stroke:#ff7f0e;\" x=\"311.163494\" xlink:href=\"#me249af4f7c\" y=\"19.554545\"/>\r\n     <use style=\"fill:#ff7f0e;stroke:#ff7f0e;\" x=\"311.163494\" xlink:href=\"#me249af4f7c\" y=\"19.554545\"/>\r\n     <use style=\"fill:#ff7f0e;stroke:#ff7f0e;\" x=\"311.163494\" xlink:href=\"#me249af4f7c\" y=\"19.554545\"/>\r\n     <use style=\"fill:#ff7f0e;stroke:#ff7f0e;\" x=\"311.163494\" xlink:href=\"#me249af4f7c\" y=\"19.554545\"/>\r\n     <use style=\"fill:#ff7f0e;stroke:#ff7f0e;\" x=\"311.163494\" xlink:href=\"#me249af4f7c\" y=\"19.554545\"/>\r\n     <use style=\"fill:#ff7f0e;stroke:#ff7f0e;\" x=\"311.163494\" xlink:href=\"#me249af4f7c\" y=\"19.554545\"/>\r\n     <use style=\"fill:#ff7f0e;stroke:#ff7f0e;\" x=\"311.163494\" xlink:href=\"#me249af4f7c\" y=\"19.554545\"/>\r\n     <use style=\"fill:#ff7f0e;stroke:#ff7f0e;\" x=\"311.163494\" xlink:href=\"#me249af4f7c\" y=\"19.554545\"/>\r\n     <use style=\"fill:#ff7f0e;stroke:#ff7f0e;\" x=\"311.163494\" xlink:href=\"#me249af4f7c\" y=\"19.554545\"/>\r\n     <use style=\"fill:#ff7f0e;stroke:#ff7f0e;\" x=\"311.163494\" xlink:href=\"#me249af4f7c\" y=\"19.554545\"/>\r\n     <use style=\"fill:#ff7f0e;stroke:#ff7f0e;\" x=\"311.163494\" xlink:href=\"#me249af4f7c\" y=\"19.554545\"/>\r\n     <use style=\"fill:#ff7f0e;stroke:#ff7f0e;\" x=\"311.163494\" xlink:href=\"#me249af4f7c\" y=\"19.554545\"/>\r\n     <use style=\"fill:#ff7f0e;stroke:#ff7f0e;\" x=\"311.163494\" xlink:href=\"#me249af4f7c\" y=\"19.554545\"/>\r\n     <use style=\"fill:#ff7f0e;stroke:#ff7f0e;\" x=\"311.163494\" xlink:href=\"#me249af4f7c\" y=\"19.554545\"/>\r\n     <use style=\"fill:#ff7f0e;stroke:#ff7f0e;\" x=\"311.163494\" xlink:href=\"#me249af4f7c\" y=\"19.554545\"/>\r\n     <use style=\"fill:#ff7f0e;stroke:#ff7f0e;\" x=\"311.163494\" xlink:href=\"#me249af4f7c\" y=\"19.554545\"/>\r\n     <use style=\"fill:#ff7f0e;stroke:#ff7f0e;\" x=\"311.163494\" xlink:href=\"#me249af4f7c\" y=\"19.554545\"/>\r\n     <use style=\"fill:#ff7f0e;stroke:#ff7f0e;\" x=\"311.163494\" xlink:href=\"#me249af4f7c\" y=\"19.554545\"/>\r\n     <use style=\"fill:#ff7f0e;stroke:#ff7f0e;\" x=\"311.163494\" xlink:href=\"#me249af4f7c\" y=\"19.554545\"/>\r\n     <use style=\"fill:#ff7f0e;stroke:#ff7f0e;\" x=\"311.163494\" xlink:href=\"#me249af4f7c\" y=\"19.554545\"/>\r\n     <use style=\"fill:#ff7f0e;stroke:#ff7f0e;\" x=\"311.163494\" xlink:href=\"#me249af4f7c\" y=\"19.554545\"/>\r\n     <use style=\"fill:#ff7f0e;stroke:#ff7f0e;\" x=\"311.163494\" xlink:href=\"#me249af4f7c\" y=\"19.554545\"/>\r\n     <use style=\"fill:#ff7f0e;stroke:#ff7f0e;\" x=\"311.163494\" xlink:href=\"#me249af4f7c\" y=\"19.554545\"/>\r\n     <use style=\"fill:#ff7f0e;stroke:#ff7f0e;\" x=\"311.163494\" xlink:href=\"#me249af4f7c\" y=\"19.554545\"/>\r\n     <use style=\"fill:#ff7f0e;stroke:#ff7f0e;\" x=\"311.163494\" xlink:href=\"#me249af4f7c\" y=\"19.554545\"/>\r\n     <use style=\"fill:#ff7f0e;stroke:#ff7f0e;\" x=\"311.163494\" xlink:href=\"#me249af4f7c\" y=\"19.554545\"/>\r\n     <use style=\"fill:#ff7f0e;stroke:#ff7f0e;\" x=\"311.163494\" xlink:href=\"#me249af4f7c\" y=\"19.554545\"/>\r\n     <use style=\"fill:#ff7f0e;stroke:#ff7f0e;\" x=\"311.163494\" xlink:href=\"#me249af4f7c\" y=\"19.554545\"/>\r\n     <use style=\"fill:#ff7f0e;stroke:#ff7f0e;\" x=\"311.163494\" xlink:href=\"#me249af4f7c\" y=\"19.554545\"/>\r\n     <use style=\"fill:#ff7f0e;stroke:#ff7f0e;\" x=\"311.163494\" xlink:href=\"#me249af4f7c\" y=\"19.554545\"/>\r\n     <use style=\"fill:#ff7f0e;stroke:#ff7f0e;\" x=\"311.163494\" xlink:href=\"#me249af4f7c\" y=\"19.554545\"/>\r\n     <use style=\"fill:#ff7f0e;stroke:#ff7f0e;\" x=\"311.163494\" xlink:href=\"#me249af4f7c\" y=\"19.554545\"/>\r\n     <use style=\"fill:#ff7f0e;stroke:#ff7f0e;\" x=\"311.163494\" xlink:href=\"#me249af4f7c\" y=\"19.554545\"/>\r\n     <use style=\"fill:#ff7f0e;stroke:#ff7f0e;\" x=\"311.163494\" xlink:href=\"#me249af4f7c\" y=\"19.554545\"/>\r\n     <use style=\"fill:#ff7f0e;stroke:#ff7f0e;\" x=\"311.163494\" xlink:href=\"#me249af4f7c\" y=\"19.554545\"/>\r\n     <use style=\"fill:#ff7f0e;stroke:#ff7f0e;\" x=\"311.163494\" xlink:href=\"#me249af4f7c\" y=\"19.554545\"/>\r\n     <use style=\"fill:#ff7f0e;stroke:#ff7f0e;\" x=\"311.163494\" xlink:href=\"#me249af4f7c\" y=\"19.554545\"/>\r\n     <use style=\"fill:#ff7f0e;stroke:#ff7f0e;\" x=\"311.163494\" xlink:href=\"#me249af4f7c\" y=\"19.554545\"/>\r\n     <use style=\"fill:#ff7f0e;stroke:#ff7f0e;\" x=\"311.163494\" xlink:href=\"#me249af4f7c\" y=\"19.554545\"/>\r\n     <use style=\"fill:#ff7f0e;stroke:#ff7f0e;\" x=\"311.163494\" xlink:href=\"#me249af4f7c\" y=\"19.554545\"/>\r\n     <use style=\"fill:#ff7f0e;stroke:#ff7f0e;\" x=\"311.163494\" xlink:href=\"#me249af4f7c\" y=\"19.554545\"/>\r\n     <use style=\"fill:#ff7f0e;stroke:#ff7f0e;\" x=\"311.163494\" xlink:href=\"#me249af4f7c\" y=\"19.554545\"/>\r\n     <use style=\"fill:#ff7f0e;stroke:#ff7f0e;\" x=\"311.163494\" xlink:href=\"#me249af4f7c\" y=\"19.554545\"/>\r\n     <use style=\"fill:#ff7f0e;stroke:#ff7f0e;\" x=\"311.163494\" xlink:href=\"#me249af4f7c\" y=\"19.554545\"/>\r\n     <use style=\"fill:#ff7f0e;stroke:#ff7f0e;\" x=\"311.163494\" xlink:href=\"#me249af4f7c\" y=\"19.554545\"/>\r\n     <use style=\"fill:#ff7f0e;stroke:#ff7f0e;\" x=\"311.163494\" xlink:href=\"#me249af4f7c\" y=\"19.554545\"/>\r\n     <use style=\"fill:#ff7f0e;stroke:#ff7f0e;\" x=\"311.163494\" xlink:href=\"#me249af4f7c\" y=\"19.554545\"/>\r\n     <use style=\"fill:#ff7f0e;stroke:#ff7f0e;\" x=\"311.163494\" xlink:href=\"#me249af4f7c\" y=\"19.554545\"/>\r\n     <use style=\"fill:#ff7f0e;stroke:#ff7f0e;\" x=\"311.163494\" xlink:href=\"#me249af4f7c\" y=\"19.554545\"/>\r\n     <use style=\"fill:#ff7f0e;stroke:#ff7f0e;\" x=\"311.163494\" xlink:href=\"#me249af4f7c\" y=\"19.554545\"/>\r\n     <use style=\"fill:#ff7f0e;stroke:#ff7f0e;\" x=\"311.163494\" xlink:href=\"#me249af4f7c\" y=\"19.554545\"/>\r\n     <use style=\"fill:#ff7f0e;stroke:#ff7f0e;\" x=\"311.163494\" xlink:href=\"#me249af4f7c\" y=\"19.554545\"/>\r\n     <use style=\"fill:#ff7f0e;stroke:#ff7f0e;\" x=\"311.163494\" xlink:href=\"#me249af4f7c\" y=\"19.554545\"/>\r\n     <use style=\"fill:#ff7f0e;stroke:#ff7f0e;\" x=\"311.163494\" xlink:href=\"#me249af4f7c\" y=\"19.554545\"/>\r\n     <use style=\"fill:#ff7f0e;stroke:#ff7f0e;\" x=\"311.163494\" xlink:href=\"#me249af4f7c\" y=\"19.554545\"/>\r\n     <use style=\"fill:#ff7f0e;stroke:#ff7f0e;\" x=\"311.163494\" xlink:href=\"#me249af4f7c\" y=\"19.554545\"/>\r\n     <use style=\"fill:#ff7f0e;stroke:#ff7f0e;\" x=\"311.163494\" xlink:href=\"#me249af4f7c\" y=\"19.554545\"/>\r\n     <use style=\"fill:#ff7f0e;stroke:#ff7f0e;\" x=\"311.163494\" xlink:href=\"#me249af4f7c\" y=\"19.554545\"/>\r\n     <use style=\"fill:#ff7f0e;stroke:#ff7f0e;\" x=\"311.163494\" xlink:href=\"#me249af4f7c\" y=\"19.554545\"/>\r\n     <use style=\"fill:#ff7f0e;stroke:#ff7f0e;\" x=\"311.163494\" xlink:href=\"#me249af4f7c\" y=\"19.554545\"/>\r\n     <use style=\"fill:#ff7f0e;stroke:#ff7f0e;\" x=\"311.163494\" xlink:href=\"#me249af4f7c\" y=\"19.554545\"/>\r\n     <use style=\"fill:#ff7f0e;stroke:#ff7f0e;\" x=\"311.163494\" xlink:href=\"#me249af4f7c\" y=\"19.554545\"/>\r\n     <use style=\"fill:#ff7f0e;stroke:#ff7f0e;\" x=\"311.163494\" xlink:href=\"#me249af4f7c\" y=\"19.554545\"/>\r\n     <use style=\"fill:#ff7f0e;stroke:#ff7f0e;\" x=\"311.163494\" xlink:href=\"#me249af4f7c\" y=\"19.554545\"/>\r\n     <use style=\"fill:#ff7f0e;stroke:#ff7f0e;\" x=\"311.163494\" xlink:href=\"#me249af4f7c\" y=\"19.554545\"/>\r\n     <use style=\"fill:#ff7f0e;stroke:#ff7f0e;\" x=\"311.163494\" xlink:href=\"#me249af4f7c\" y=\"19.554545\"/>\r\n     <use style=\"fill:#ff7f0e;stroke:#ff7f0e;\" x=\"311.163494\" xlink:href=\"#me249af4f7c\" y=\"19.554545\"/>\r\n     <use style=\"fill:#ff7f0e;stroke:#ff7f0e;\" x=\"311.163494\" xlink:href=\"#me249af4f7c\" y=\"19.554545\"/>\r\n    </g>\r\n   </g>\r\n   <g id=\"PathCollection_3\">\r\n    <defs>\r\n     <path d=\"M 0 2.236068 \r\nC 0.593012 2.236068 1.161816 2.000462 1.581139 1.581139 \r\nC 2.000462 1.161816 2.236068 0.593012 2.236068 0 \r\nC 2.236068 -0.593012 2.000462 -1.161816 1.581139 -1.581139 \r\nC 1.161816 -2.000462 0.593012 -2.236068 0 -2.236068 \r\nC -0.593012 -2.236068 -1.161816 -2.000462 -1.581139 -1.581139 \r\nC -2.000462 -1.161816 -2.236068 -0.593012 -2.236068 0 \r\nC -2.236068 0.593012 -2.000462 1.161816 -1.581139 1.581139 \r\nC -1.161816 2.000462 -0.593012 2.236068 0 2.236068 \r\nz\r\n\" id=\"m6da9800ad7\" style=\"stroke:#2ca02c;\"/>\r\n    </defs>\r\n    <g clip-path=\"url(#pc8d0a12e81)\">\r\n     <use style=\"fill:#2ca02c;stroke:#2ca02c;\" x=\"311.163494\" xlink:href=\"#m6da9800ad7\" y=\"19.554545\"/>\r\n     <use style=\"fill:#2ca02c;stroke:#2ca02c;\" x=\"311.163494\" xlink:href=\"#m6da9800ad7\" y=\"19.554545\"/>\r\n     <use style=\"fill:#2ca02c;stroke:#2ca02c;\" x=\"311.163494\" xlink:href=\"#m6da9800ad7\" y=\"19.554545\"/>\r\n     <use style=\"fill:#2ca02c;stroke:#2ca02c;\" x=\"311.163494\" xlink:href=\"#m6da9800ad7\" y=\"19.554545\"/>\r\n     <use style=\"fill:#2ca02c;stroke:#2ca02c;\" x=\"311.163494\" xlink:href=\"#m6da9800ad7\" y=\"19.554545\"/>\r\n     <use style=\"fill:#2ca02c;stroke:#2ca02c;\" x=\"311.163494\" xlink:href=\"#m6da9800ad7\" y=\"19.554545\"/>\r\n     <use style=\"fill:#2ca02c;stroke:#2ca02c;\" x=\"311.163494\" xlink:href=\"#m6da9800ad7\" y=\"19.554545\"/>\r\n     <use style=\"fill:#2ca02c;stroke:#2ca02c;\" x=\"311.163494\" xlink:href=\"#m6da9800ad7\" y=\"19.554545\"/>\r\n     <use style=\"fill:#2ca02c;stroke:#2ca02c;\" x=\"311.163494\" xlink:href=\"#m6da9800ad7\" y=\"19.554545\"/>\r\n     <use style=\"fill:#2ca02c;stroke:#2ca02c;\" x=\"311.163494\" xlink:href=\"#m6da9800ad7\" y=\"19.554545\"/>\r\n     <use style=\"fill:#2ca02c;stroke:#2ca02c;\" x=\"311.163494\" xlink:href=\"#m6da9800ad7\" y=\"19.554545\"/>\r\n     <use style=\"fill:#2ca02c;stroke:#2ca02c;\" x=\"311.163494\" xlink:href=\"#m6da9800ad7\" y=\"19.554545\"/>\r\n     <use style=\"fill:#2ca02c;stroke:#2ca02c;\" x=\"311.163494\" xlink:href=\"#m6da9800ad7\" y=\"19.554545\"/>\r\n     <use style=\"fill:#2ca02c;stroke:#2ca02c;\" x=\"311.163494\" xlink:href=\"#m6da9800ad7\" y=\"19.554545\"/>\r\n     <use style=\"fill:#2ca02c;stroke:#2ca02c;\" x=\"311.163494\" xlink:href=\"#m6da9800ad7\" y=\"19.554545\"/>\r\n     <use style=\"fill:#2ca02c;stroke:#2ca02c;\" x=\"311.163494\" xlink:href=\"#m6da9800ad7\" y=\"19.554545\"/>\r\n     <use style=\"fill:#2ca02c;stroke:#2ca02c;\" x=\"311.163494\" xlink:href=\"#m6da9800ad7\" y=\"19.554545\"/>\r\n     <use style=\"fill:#2ca02c;stroke:#2ca02c;\" x=\"311.163494\" xlink:href=\"#m6da9800ad7\" y=\"19.554545\"/>\r\n     <use style=\"fill:#2ca02c;stroke:#2ca02c;\" x=\"311.163494\" xlink:href=\"#m6da9800ad7\" y=\"19.554545\"/>\r\n     <use style=\"fill:#2ca02c;stroke:#2ca02c;\" x=\"311.163494\" xlink:href=\"#m6da9800ad7\" y=\"19.554545\"/>\r\n     <use style=\"fill:#2ca02c;stroke:#2ca02c;\" x=\"311.163494\" xlink:href=\"#m6da9800ad7\" y=\"19.554545\"/>\r\n     <use style=\"fill:#2ca02c;stroke:#2ca02c;\" x=\"311.163494\" xlink:href=\"#m6da9800ad7\" y=\"19.554545\"/>\r\n     <use style=\"fill:#2ca02c;stroke:#2ca02c;\" x=\"311.163494\" xlink:href=\"#m6da9800ad7\" y=\"19.554545\"/>\r\n     <use style=\"fill:#2ca02c;stroke:#2ca02c;\" x=\"311.163494\" xlink:href=\"#m6da9800ad7\" y=\"19.554545\"/>\r\n     <use style=\"fill:#2ca02c;stroke:#2ca02c;\" x=\"311.163494\" xlink:href=\"#m6da9800ad7\" y=\"19.554545\"/>\r\n     <use style=\"fill:#2ca02c;stroke:#2ca02c;\" x=\"311.163494\" xlink:href=\"#m6da9800ad7\" y=\"19.554545\"/>\r\n     <use style=\"fill:#2ca02c;stroke:#2ca02c;\" x=\"311.163494\" xlink:href=\"#m6da9800ad7\" y=\"19.554545\"/>\r\n     <use style=\"fill:#2ca02c;stroke:#2ca02c;\" x=\"311.163494\" xlink:href=\"#m6da9800ad7\" y=\"19.554545\"/>\r\n     <use style=\"fill:#2ca02c;stroke:#2ca02c;\" x=\"311.163494\" xlink:href=\"#m6da9800ad7\" y=\"19.554545\"/>\r\n     <use style=\"fill:#2ca02c;stroke:#2ca02c;\" x=\"311.163494\" xlink:href=\"#m6da9800ad7\" y=\"19.554545\"/>\r\n     <use style=\"fill:#2ca02c;stroke:#2ca02c;\" x=\"311.163494\" xlink:href=\"#m6da9800ad7\" y=\"19.554545\"/>\r\n     <use style=\"fill:#2ca02c;stroke:#2ca02c;\" x=\"311.163494\" xlink:href=\"#m6da9800ad7\" y=\"19.554545\"/>\r\n     <use style=\"fill:#2ca02c;stroke:#2ca02c;\" x=\"311.163494\" xlink:href=\"#m6da9800ad7\" y=\"19.554545\"/>\r\n     <use style=\"fill:#2ca02c;stroke:#2ca02c;\" x=\"311.163494\" xlink:href=\"#m6da9800ad7\" y=\"19.554545\"/>\r\n     <use style=\"fill:#2ca02c;stroke:#2ca02c;\" x=\"311.163494\" xlink:href=\"#m6da9800ad7\" y=\"19.554545\"/>\r\n     <use style=\"fill:#2ca02c;stroke:#2ca02c;\" x=\"311.163494\" xlink:href=\"#m6da9800ad7\" y=\"19.554545\"/>\r\n     <use style=\"fill:#2ca02c;stroke:#2ca02c;\" x=\"311.163494\" xlink:href=\"#m6da9800ad7\" y=\"19.554545\"/>\r\n     <use style=\"fill:#2ca02c;stroke:#2ca02c;\" x=\"311.163494\" xlink:href=\"#m6da9800ad7\" y=\"19.554545\"/>\r\n     <use style=\"fill:#2ca02c;stroke:#2ca02c;\" x=\"311.163494\" xlink:href=\"#m6da9800ad7\" y=\"19.554545\"/>\r\n     <use style=\"fill:#2ca02c;stroke:#2ca02c;\" x=\"311.163494\" xlink:href=\"#m6da9800ad7\" y=\"19.554545\"/>\r\n     <use style=\"fill:#2ca02c;stroke:#2ca02c;\" x=\"311.163494\" xlink:href=\"#m6da9800ad7\" y=\"19.554545\"/>\r\n     <use style=\"fill:#2ca02c;stroke:#2ca02c;\" x=\"311.163494\" xlink:href=\"#m6da9800ad7\" y=\"19.554545\"/>\r\n     <use style=\"fill:#2ca02c;stroke:#2ca02c;\" x=\"311.163494\" xlink:href=\"#m6da9800ad7\" y=\"19.554545\"/>\r\n     <use style=\"fill:#2ca02c;stroke:#2ca02c;\" x=\"311.163494\" xlink:href=\"#m6da9800ad7\" y=\"19.554545\"/>\r\n     <use style=\"fill:#2ca02c;stroke:#2ca02c;\" x=\"311.163494\" xlink:href=\"#m6da9800ad7\" y=\"19.554545\"/>\r\n     <use style=\"fill:#2ca02c;stroke:#2ca02c;\" x=\"311.163494\" xlink:href=\"#m6da9800ad7\" y=\"19.554545\"/>\r\n     <use style=\"fill:#2ca02c;stroke:#2ca02c;\" x=\"311.163494\" xlink:href=\"#m6da9800ad7\" y=\"19.554545\"/>\r\n     <use style=\"fill:#2ca02c;stroke:#2ca02c;\" x=\"311.163494\" xlink:href=\"#m6da9800ad7\" y=\"19.554545\"/>\r\n     <use style=\"fill:#2ca02c;stroke:#2ca02c;\" x=\"311.163494\" xlink:href=\"#m6da9800ad7\" y=\"19.554545\"/>\r\n     <use style=\"fill:#2ca02c;stroke:#2ca02c;\" x=\"311.163494\" xlink:href=\"#m6da9800ad7\" y=\"19.554545\"/>\r\n     <use style=\"fill:#2ca02c;stroke:#2ca02c;\" x=\"311.163494\" xlink:href=\"#m6da9800ad7\" y=\"19.554545\"/>\r\n     <use style=\"fill:#2ca02c;stroke:#2ca02c;\" x=\"311.163494\" xlink:href=\"#m6da9800ad7\" y=\"19.554545\"/>\r\n     <use style=\"fill:#2ca02c;stroke:#2ca02c;\" x=\"311.163494\" xlink:href=\"#m6da9800ad7\" y=\"19.554545\"/>\r\n     <use style=\"fill:#2ca02c;stroke:#2ca02c;\" x=\"311.163494\" xlink:href=\"#m6da9800ad7\" y=\"19.554545\"/>\r\n     <use style=\"fill:#2ca02c;stroke:#2ca02c;\" x=\"311.163494\" xlink:href=\"#m6da9800ad7\" y=\"19.554545\"/>\r\n     <use style=\"fill:#2ca02c;stroke:#2ca02c;\" x=\"311.163494\" xlink:href=\"#m6da9800ad7\" y=\"19.554545\"/>\r\n     <use style=\"fill:#2ca02c;stroke:#2ca02c;\" x=\"311.163494\" xlink:href=\"#m6da9800ad7\" y=\"19.554545\"/>\r\n     <use style=\"fill:#2ca02c;stroke:#2ca02c;\" x=\"311.163494\" xlink:href=\"#m6da9800ad7\" y=\"19.554545\"/>\r\n     <use style=\"fill:#2ca02c;stroke:#2ca02c;\" x=\"311.163494\" xlink:href=\"#m6da9800ad7\" y=\"19.554545\"/>\r\n     <use style=\"fill:#2ca02c;stroke:#2ca02c;\" x=\"311.163494\" xlink:href=\"#m6da9800ad7\" y=\"19.554545\"/>\r\n     <use style=\"fill:#2ca02c;stroke:#2ca02c;\" x=\"311.163494\" xlink:href=\"#m6da9800ad7\" y=\"19.554545\"/>\r\n     <use style=\"fill:#2ca02c;stroke:#2ca02c;\" x=\"311.163494\" xlink:href=\"#m6da9800ad7\" y=\"19.554545\"/>\r\n     <use style=\"fill:#2ca02c;stroke:#2ca02c;\" x=\"311.163494\" xlink:href=\"#m6da9800ad7\" y=\"19.554545\"/>\r\n     <use style=\"fill:#2ca02c;stroke:#2ca02c;\" x=\"311.163494\" xlink:href=\"#m6da9800ad7\" y=\"19.554545\"/>\r\n     <use style=\"fill:#2ca02c;stroke:#2ca02c;\" x=\"311.163494\" xlink:href=\"#m6da9800ad7\" y=\"19.554545\"/>\r\n     <use style=\"fill:#2ca02c;stroke:#2ca02c;\" x=\"311.163494\" xlink:href=\"#m6da9800ad7\" y=\"19.554545\"/>\r\n     <use style=\"fill:#2ca02c;stroke:#2ca02c;\" x=\"311.163494\" xlink:href=\"#m6da9800ad7\" y=\"19.554545\"/>\r\n     <use style=\"fill:#2ca02c;stroke:#2ca02c;\" x=\"311.163494\" xlink:href=\"#m6da9800ad7\" y=\"19.554545\"/>\r\n     <use style=\"fill:#2ca02c;stroke:#2ca02c;\" x=\"311.163494\" xlink:href=\"#m6da9800ad7\" y=\"19.554545\"/>\r\n     <use style=\"fill:#2ca02c;stroke:#2ca02c;\" x=\"311.163494\" xlink:href=\"#m6da9800ad7\" y=\"19.554545\"/>\r\n     <use style=\"fill:#2ca02c;stroke:#2ca02c;\" x=\"311.163494\" xlink:href=\"#m6da9800ad7\" y=\"19.554545\"/>\r\n     <use style=\"fill:#2ca02c;stroke:#2ca02c;\" x=\"311.163494\" xlink:href=\"#m6da9800ad7\" y=\"19.554545\"/>\r\n     <use style=\"fill:#2ca02c;stroke:#2ca02c;\" x=\"311.163494\" xlink:href=\"#m6da9800ad7\" y=\"19.554545\"/>\r\n     <use style=\"fill:#2ca02c;stroke:#2ca02c;\" x=\"311.163494\" xlink:href=\"#m6da9800ad7\" y=\"19.554545\"/>\r\n     <use style=\"fill:#2ca02c;stroke:#2ca02c;\" x=\"311.163494\" xlink:href=\"#m6da9800ad7\" y=\"19.554545\"/>\r\n     <use style=\"fill:#2ca02c;stroke:#2ca02c;\" x=\"311.163494\" xlink:href=\"#m6da9800ad7\" y=\"19.554545\"/>\r\n     <use style=\"fill:#2ca02c;stroke:#2ca02c;\" x=\"311.163494\" xlink:href=\"#m6da9800ad7\" y=\"19.554545\"/>\r\n     <use style=\"fill:#2ca02c;stroke:#2ca02c;\" x=\"311.163494\" xlink:href=\"#m6da9800ad7\" y=\"19.554545\"/>\r\n     <use style=\"fill:#2ca02c;stroke:#2ca02c;\" x=\"311.163494\" xlink:href=\"#m6da9800ad7\" y=\"19.554545\"/>\r\n     <use style=\"fill:#2ca02c;stroke:#2ca02c;\" x=\"311.163494\" xlink:href=\"#m6da9800ad7\" y=\"19.554545\"/>\r\n     <use style=\"fill:#2ca02c;stroke:#2ca02c;\" x=\"311.163494\" xlink:href=\"#m6da9800ad7\" y=\"19.554545\"/>\r\n     <use style=\"fill:#2ca02c;stroke:#2ca02c;\" x=\"311.163494\" xlink:href=\"#m6da9800ad7\" y=\"19.554545\"/>\r\n     <use style=\"fill:#2ca02c;stroke:#2ca02c;\" x=\"311.163494\" xlink:href=\"#m6da9800ad7\" y=\"19.554545\"/>\r\n     <use style=\"fill:#2ca02c;stroke:#2ca02c;\" x=\"311.163494\" xlink:href=\"#m6da9800ad7\" y=\"19.554545\"/>\r\n     <use style=\"fill:#2ca02c;stroke:#2ca02c;\" x=\"311.163494\" xlink:href=\"#m6da9800ad7\" y=\"19.554545\"/>\r\n     <use style=\"fill:#2ca02c;stroke:#2ca02c;\" x=\"311.163494\" xlink:href=\"#m6da9800ad7\" y=\"19.554545\"/>\r\n     <use style=\"fill:#2ca02c;stroke:#2ca02c;\" x=\"311.163494\" xlink:href=\"#m6da9800ad7\" y=\"19.554545\"/>\r\n     <use style=\"fill:#2ca02c;stroke:#2ca02c;\" x=\"311.163494\" xlink:href=\"#m6da9800ad7\" y=\"19.554545\"/>\r\n     <use style=\"fill:#2ca02c;stroke:#2ca02c;\" x=\"311.163494\" xlink:href=\"#m6da9800ad7\" y=\"19.554545\"/>\r\n     <use style=\"fill:#2ca02c;stroke:#2ca02c;\" x=\"311.163494\" xlink:href=\"#m6da9800ad7\" y=\"19.554545\"/>\r\n     <use style=\"fill:#2ca02c;stroke:#2ca02c;\" x=\"311.163494\" xlink:href=\"#m6da9800ad7\" y=\"19.554545\"/>\r\n     <use style=\"fill:#2ca02c;stroke:#2ca02c;\" x=\"311.163494\" xlink:href=\"#m6da9800ad7\" y=\"19.554545\"/>\r\n     <use style=\"fill:#2ca02c;stroke:#2ca02c;\" x=\"311.163494\" xlink:href=\"#m6da9800ad7\" y=\"19.554545\"/>\r\n     <use style=\"fill:#2ca02c;stroke:#2ca02c;\" x=\"311.163494\" xlink:href=\"#m6da9800ad7\" y=\"19.554545\"/>\r\n     <use style=\"fill:#2ca02c;stroke:#2ca02c;\" x=\"311.163494\" xlink:href=\"#m6da9800ad7\" y=\"19.554545\"/>\r\n     <use style=\"fill:#2ca02c;stroke:#2ca02c;\" x=\"311.163494\" xlink:href=\"#m6da9800ad7\" y=\"19.554545\"/>\r\n     <use style=\"fill:#2ca02c;stroke:#2ca02c;\" x=\"311.163494\" xlink:href=\"#m6da9800ad7\" y=\"19.554545\"/>\r\n     <use style=\"fill:#2ca02c;stroke:#2ca02c;\" x=\"311.163494\" xlink:href=\"#m6da9800ad7\" y=\"19.554545\"/>\r\n     <use style=\"fill:#2ca02c;stroke:#2ca02c;\" x=\"311.163494\" xlink:href=\"#m6da9800ad7\" y=\"19.554545\"/>\r\n     <use style=\"fill:#2ca02c;stroke:#2ca02c;\" x=\"311.163494\" xlink:href=\"#m6da9800ad7\" y=\"19.554545\"/>\r\n     <use style=\"fill:#2ca02c;stroke:#2ca02c;\" x=\"311.163494\" xlink:href=\"#m6da9800ad7\" y=\"19.554545\"/>\r\n     <use style=\"fill:#2ca02c;stroke:#2ca02c;\" x=\"311.163494\" xlink:href=\"#m6da9800ad7\" y=\"19.554545\"/>\r\n    </g>\r\n   </g>\r\n   <g id=\"PathCollection_4\">\r\n    <defs>\r\n     <path d=\"M 0 2.236068 \r\nC 0.593012 2.236068 1.161816 2.000462 1.581139 1.581139 \r\nC 2.000462 1.161816 2.236068 0.593012 2.236068 0 \r\nC 2.236068 -0.593012 2.000462 -1.161816 1.581139 -1.581139 \r\nC 1.161816 -2.000462 0.593012 -2.236068 0 -2.236068 \r\nC -0.593012 -2.236068 -1.161816 -2.000462 -1.581139 -1.581139 \r\nC -2.000462 -1.161816 -2.236068 -0.593012 -2.236068 0 \r\nC -2.236068 0.593012 -2.000462 1.161816 -1.581139 1.581139 \r\nC -1.161816 2.000462 -0.593012 2.236068 0 2.236068 \r\nz\r\n\" id=\"m8f178d8125\" style=\"stroke:#d62728;\"/>\r\n    </defs>\r\n    <g clip-path=\"url(#pc8d0a12e81)\">\r\n     <use style=\"fill:#d62728;stroke:#d62728;\" x=\"57.527131\" xlink:href=\"#m8f178d8125\" y=\"19.554545\"/>\r\n     <use style=\"fill:#d62728;stroke:#d62728;\" x=\"57.527131\" xlink:href=\"#m8f178d8125\" y=\"19.554545\"/>\r\n     <use style=\"fill:#d62728;stroke:#d62728;\" x=\"57.527131\" xlink:href=\"#m8f178d8125\" y=\"19.554545\"/>\r\n     <use style=\"fill:#d62728;stroke:#d62728;\" x=\"57.527131\" xlink:href=\"#m8f178d8125\" y=\"19.554545\"/>\r\n     <use style=\"fill:#d62728;stroke:#d62728;\" x=\"57.527131\" xlink:href=\"#m8f178d8125\" y=\"19.554545\"/>\r\n     <use style=\"fill:#d62728;stroke:#d62728;\" x=\"57.527131\" xlink:href=\"#m8f178d8125\" y=\"19.554545\"/>\r\n     <use style=\"fill:#d62728;stroke:#d62728;\" x=\"57.527131\" xlink:href=\"#m8f178d8125\" y=\"19.554545\"/>\r\n     <use style=\"fill:#d62728;stroke:#d62728;\" x=\"57.527131\" xlink:href=\"#m8f178d8125\" y=\"19.554545\"/>\r\n     <use style=\"fill:#d62728;stroke:#d62728;\" x=\"57.527131\" xlink:href=\"#m8f178d8125\" y=\"19.554545\"/>\r\n     <use style=\"fill:#d62728;stroke:#d62728;\" x=\"57.527131\" xlink:href=\"#m8f178d8125\" y=\"19.554545\"/>\r\n     <use style=\"fill:#d62728;stroke:#d62728;\" x=\"57.527131\" xlink:href=\"#m8f178d8125\" y=\"19.554545\"/>\r\n     <use style=\"fill:#d62728;stroke:#d62728;\" x=\"57.527131\" xlink:href=\"#m8f178d8125\" y=\"19.554545\"/>\r\n     <use style=\"fill:#d62728;stroke:#d62728;\" x=\"57.527131\" xlink:href=\"#m8f178d8125\" y=\"19.554545\"/>\r\n     <use style=\"fill:#d62728;stroke:#d62728;\" x=\"57.527131\" xlink:href=\"#m8f178d8125\" y=\"19.554545\"/>\r\n     <use style=\"fill:#d62728;stroke:#d62728;\" x=\"57.527131\" xlink:href=\"#m8f178d8125\" y=\"19.554545\"/>\r\n     <use style=\"fill:#d62728;stroke:#d62728;\" x=\"57.527131\" xlink:href=\"#m8f178d8125\" y=\"19.554545\"/>\r\n     <use style=\"fill:#d62728;stroke:#d62728;\" x=\"57.527131\" xlink:href=\"#m8f178d8125\" y=\"19.554545\"/>\r\n     <use style=\"fill:#d62728;stroke:#d62728;\" x=\"57.527131\" xlink:href=\"#m8f178d8125\" y=\"19.554545\"/>\r\n     <use style=\"fill:#d62728;stroke:#d62728;\" x=\"57.527131\" xlink:href=\"#m8f178d8125\" y=\"19.554545\"/>\r\n     <use style=\"fill:#d62728;stroke:#d62728;\" x=\"57.527131\" xlink:href=\"#m8f178d8125\" y=\"19.554545\"/>\r\n     <use style=\"fill:#d62728;stroke:#d62728;\" x=\"57.527131\" xlink:href=\"#m8f178d8125\" y=\"19.554545\"/>\r\n     <use style=\"fill:#d62728;stroke:#d62728;\" x=\"57.527131\" xlink:href=\"#m8f178d8125\" y=\"19.554545\"/>\r\n     <use style=\"fill:#d62728;stroke:#d62728;\" x=\"57.527131\" xlink:href=\"#m8f178d8125\" y=\"19.554545\"/>\r\n     <use style=\"fill:#d62728;stroke:#d62728;\" x=\"57.527131\" xlink:href=\"#m8f178d8125\" y=\"19.554545\"/>\r\n     <use style=\"fill:#d62728;stroke:#d62728;\" x=\"57.527131\" xlink:href=\"#m8f178d8125\" y=\"19.554545\"/>\r\n     <use style=\"fill:#d62728;stroke:#d62728;\" x=\"57.527131\" xlink:href=\"#m8f178d8125\" y=\"19.554545\"/>\r\n     <use style=\"fill:#d62728;stroke:#d62728;\" x=\"57.527131\" xlink:href=\"#m8f178d8125\" y=\"19.554545\"/>\r\n     <use style=\"fill:#d62728;stroke:#d62728;\" x=\"57.527131\" xlink:href=\"#m8f178d8125\" y=\"19.554545\"/>\r\n     <use style=\"fill:#d62728;stroke:#d62728;\" x=\"57.527131\" xlink:href=\"#m8f178d8125\" y=\"19.554545\"/>\r\n     <use style=\"fill:#d62728;stroke:#d62728;\" x=\"57.527131\" xlink:href=\"#m8f178d8125\" y=\"19.554545\"/>\r\n     <use style=\"fill:#d62728;stroke:#d62728;\" x=\"57.527131\" xlink:href=\"#m8f178d8125\" y=\"19.554545\"/>\r\n     <use style=\"fill:#d62728;stroke:#d62728;\" x=\"57.527131\" xlink:href=\"#m8f178d8125\" y=\"19.554545\"/>\r\n     <use style=\"fill:#d62728;stroke:#d62728;\" x=\"57.527131\" xlink:href=\"#m8f178d8125\" y=\"19.554545\"/>\r\n     <use style=\"fill:#d62728;stroke:#d62728;\" x=\"57.527131\" xlink:href=\"#m8f178d8125\" y=\"19.554545\"/>\r\n     <use style=\"fill:#d62728;stroke:#d62728;\" x=\"57.527131\" xlink:href=\"#m8f178d8125\" y=\"19.554545\"/>\r\n     <use style=\"fill:#d62728;stroke:#d62728;\" x=\"57.527131\" xlink:href=\"#m8f178d8125\" y=\"19.554545\"/>\r\n     <use style=\"fill:#d62728;stroke:#d62728;\" x=\"57.527131\" xlink:href=\"#m8f178d8125\" y=\"19.554545\"/>\r\n     <use style=\"fill:#d62728;stroke:#d62728;\" x=\"57.527131\" xlink:href=\"#m8f178d8125\" y=\"19.554545\"/>\r\n     <use style=\"fill:#d62728;stroke:#d62728;\" x=\"57.527131\" xlink:href=\"#m8f178d8125\" y=\"19.554545\"/>\r\n     <use style=\"fill:#d62728;stroke:#d62728;\" x=\"57.527131\" xlink:href=\"#m8f178d8125\" y=\"19.554545\"/>\r\n     <use style=\"fill:#d62728;stroke:#d62728;\" x=\"57.527131\" xlink:href=\"#m8f178d8125\" y=\"19.554545\"/>\r\n     <use style=\"fill:#d62728;stroke:#d62728;\" x=\"57.527131\" xlink:href=\"#m8f178d8125\" y=\"19.554545\"/>\r\n     <use style=\"fill:#d62728;stroke:#d62728;\" x=\"57.527131\" xlink:href=\"#m8f178d8125\" y=\"19.554545\"/>\r\n     <use style=\"fill:#d62728;stroke:#d62728;\" x=\"57.527131\" xlink:href=\"#m8f178d8125\" y=\"19.554545\"/>\r\n     <use style=\"fill:#d62728;stroke:#d62728;\" x=\"57.527131\" xlink:href=\"#m8f178d8125\" y=\"19.554545\"/>\r\n     <use style=\"fill:#d62728;stroke:#d62728;\" x=\"57.527131\" xlink:href=\"#m8f178d8125\" y=\"19.554545\"/>\r\n     <use style=\"fill:#d62728;stroke:#d62728;\" x=\"57.527131\" xlink:href=\"#m8f178d8125\" y=\"19.554545\"/>\r\n     <use style=\"fill:#d62728;stroke:#d62728;\" x=\"57.527131\" xlink:href=\"#m8f178d8125\" y=\"19.554545\"/>\r\n     <use style=\"fill:#d62728;stroke:#d62728;\" x=\"57.527131\" xlink:href=\"#m8f178d8125\" y=\"19.554545\"/>\r\n     <use style=\"fill:#d62728;stroke:#d62728;\" x=\"57.527131\" xlink:href=\"#m8f178d8125\" y=\"19.554545\"/>\r\n     <use style=\"fill:#d62728;stroke:#d62728;\" x=\"57.527131\" xlink:href=\"#m8f178d8125\" y=\"19.554545\"/>\r\n     <use style=\"fill:#d62728;stroke:#d62728;\" x=\"57.527131\" xlink:href=\"#m8f178d8125\" y=\"19.554545\"/>\r\n     <use style=\"fill:#d62728;stroke:#d62728;\" x=\"57.527131\" xlink:href=\"#m8f178d8125\" y=\"19.554545\"/>\r\n     <use style=\"fill:#d62728;stroke:#d62728;\" x=\"57.527131\" xlink:href=\"#m8f178d8125\" y=\"19.554545\"/>\r\n     <use style=\"fill:#d62728;stroke:#d62728;\" x=\"57.527131\" xlink:href=\"#m8f178d8125\" y=\"19.554545\"/>\r\n     <use style=\"fill:#d62728;stroke:#d62728;\" x=\"57.527131\" xlink:href=\"#m8f178d8125\" y=\"19.554545\"/>\r\n     <use style=\"fill:#d62728;stroke:#d62728;\" x=\"57.527131\" xlink:href=\"#m8f178d8125\" y=\"19.554545\"/>\r\n     <use style=\"fill:#d62728;stroke:#d62728;\" x=\"57.527131\" xlink:href=\"#m8f178d8125\" y=\"19.554545\"/>\r\n     <use style=\"fill:#d62728;stroke:#d62728;\" x=\"57.527131\" xlink:href=\"#m8f178d8125\" y=\"19.554545\"/>\r\n     <use style=\"fill:#d62728;stroke:#d62728;\" x=\"57.527131\" xlink:href=\"#m8f178d8125\" y=\"19.554545\"/>\r\n     <use style=\"fill:#d62728;stroke:#d62728;\" x=\"57.527131\" xlink:href=\"#m8f178d8125\" y=\"19.554545\"/>\r\n     <use style=\"fill:#d62728;stroke:#d62728;\" x=\"57.527131\" xlink:href=\"#m8f178d8125\" y=\"19.554545\"/>\r\n     <use style=\"fill:#d62728;stroke:#d62728;\" x=\"57.527131\" xlink:href=\"#m8f178d8125\" y=\"19.554545\"/>\r\n     <use style=\"fill:#d62728;stroke:#d62728;\" x=\"57.527131\" xlink:href=\"#m8f178d8125\" y=\"19.554545\"/>\r\n     <use style=\"fill:#d62728;stroke:#d62728;\" x=\"57.527131\" xlink:href=\"#m8f178d8125\" y=\"19.554545\"/>\r\n     <use style=\"fill:#d62728;stroke:#d62728;\" x=\"57.527131\" xlink:href=\"#m8f178d8125\" y=\"19.554545\"/>\r\n     <use style=\"fill:#d62728;stroke:#d62728;\" x=\"57.527131\" xlink:href=\"#m8f178d8125\" y=\"19.554545\"/>\r\n     <use style=\"fill:#d62728;stroke:#d62728;\" x=\"57.527131\" xlink:href=\"#m8f178d8125\" y=\"19.554545\"/>\r\n     <use style=\"fill:#d62728;stroke:#d62728;\" x=\"57.527131\" xlink:href=\"#m8f178d8125\" y=\"19.554545\"/>\r\n     <use style=\"fill:#d62728;stroke:#d62728;\" x=\"57.527131\" xlink:href=\"#m8f178d8125\" y=\"19.554545\"/>\r\n     <use style=\"fill:#d62728;stroke:#d62728;\" x=\"57.527131\" xlink:href=\"#m8f178d8125\" y=\"19.554545\"/>\r\n     <use style=\"fill:#d62728;stroke:#d62728;\" x=\"57.527131\" xlink:href=\"#m8f178d8125\" y=\"19.554545\"/>\r\n     <use style=\"fill:#d62728;stroke:#d62728;\" x=\"57.527131\" xlink:href=\"#m8f178d8125\" y=\"19.554545\"/>\r\n     <use style=\"fill:#d62728;stroke:#d62728;\" x=\"57.527131\" xlink:href=\"#m8f178d8125\" y=\"19.554545\"/>\r\n     <use style=\"fill:#d62728;stroke:#d62728;\" x=\"57.527131\" xlink:href=\"#m8f178d8125\" y=\"19.554545\"/>\r\n     <use style=\"fill:#d62728;stroke:#d62728;\" x=\"57.527131\" xlink:href=\"#m8f178d8125\" y=\"19.554545\"/>\r\n     <use style=\"fill:#d62728;stroke:#d62728;\" x=\"57.527131\" xlink:href=\"#m8f178d8125\" y=\"19.554545\"/>\r\n     <use style=\"fill:#d62728;stroke:#d62728;\" x=\"57.527131\" xlink:href=\"#m8f178d8125\" y=\"19.554545\"/>\r\n     <use style=\"fill:#d62728;stroke:#d62728;\" x=\"57.527131\" xlink:href=\"#m8f178d8125\" y=\"19.554545\"/>\r\n     <use style=\"fill:#d62728;stroke:#d62728;\" x=\"57.527131\" xlink:href=\"#m8f178d8125\" y=\"19.554545\"/>\r\n     <use style=\"fill:#d62728;stroke:#d62728;\" x=\"57.527131\" xlink:href=\"#m8f178d8125\" y=\"19.554545\"/>\r\n     <use style=\"fill:#d62728;stroke:#d62728;\" x=\"57.527131\" xlink:href=\"#m8f178d8125\" y=\"19.554545\"/>\r\n     <use style=\"fill:#d62728;stroke:#d62728;\" x=\"57.527131\" xlink:href=\"#m8f178d8125\" y=\"19.554545\"/>\r\n     <use style=\"fill:#d62728;stroke:#d62728;\" x=\"57.527131\" xlink:href=\"#m8f178d8125\" y=\"19.554545\"/>\r\n     <use style=\"fill:#d62728;stroke:#d62728;\" x=\"57.527131\" xlink:href=\"#m8f178d8125\" y=\"19.554545\"/>\r\n     <use style=\"fill:#d62728;stroke:#d62728;\" x=\"57.527131\" xlink:href=\"#m8f178d8125\" y=\"19.554545\"/>\r\n     <use style=\"fill:#d62728;stroke:#d62728;\" x=\"57.527131\" xlink:href=\"#m8f178d8125\" y=\"19.554545\"/>\r\n     <use style=\"fill:#d62728;stroke:#d62728;\" x=\"57.527131\" xlink:href=\"#m8f178d8125\" y=\"19.554545\"/>\r\n     <use style=\"fill:#d62728;stroke:#d62728;\" x=\"57.527131\" xlink:href=\"#m8f178d8125\" y=\"19.554545\"/>\r\n     <use style=\"fill:#d62728;stroke:#d62728;\" x=\"57.527131\" xlink:href=\"#m8f178d8125\" y=\"19.554545\"/>\r\n     <use style=\"fill:#d62728;stroke:#d62728;\" x=\"57.527131\" xlink:href=\"#m8f178d8125\" y=\"19.554545\"/>\r\n     <use style=\"fill:#d62728;stroke:#d62728;\" x=\"57.527131\" xlink:href=\"#m8f178d8125\" y=\"19.554545\"/>\r\n     <use style=\"fill:#d62728;stroke:#d62728;\" x=\"57.527131\" xlink:href=\"#m8f178d8125\" y=\"19.554545\"/>\r\n     <use style=\"fill:#d62728;stroke:#d62728;\" x=\"57.527131\" xlink:href=\"#m8f178d8125\" y=\"19.554545\"/>\r\n     <use style=\"fill:#d62728;stroke:#d62728;\" x=\"57.527131\" xlink:href=\"#m8f178d8125\" y=\"19.554545\"/>\r\n     <use style=\"fill:#d62728;stroke:#d62728;\" x=\"57.527131\" xlink:href=\"#m8f178d8125\" y=\"19.554545\"/>\r\n     <use style=\"fill:#d62728;stroke:#d62728;\" x=\"57.527131\" xlink:href=\"#m8f178d8125\" y=\"19.554545\"/>\r\n     <use style=\"fill:#d62728;stroke:#d62728;\" x=\"57.527131\" xlink:href=\"#m8f178d8125\" y=\"19.554545\"/>\r\n     <use style=\"fill:#d62728;stroke:#d62728;\" x=\"57.527131\" xlink:href=\"#m8f178d8125\" y=\"19.554545\"/>\r\n     <use style=\"fill:#d62728;stroke:#d62728;\" x=\"57.527131\" xlink:href=\"#m8f178d8125\" y=\"19.554545\"/>\r\n     <use style=\"fill:#d62728;stroke:#d62728;\" x=\"57.527131\" xlink:href=\"#m8f178d8125\" y=\"19.554545\"/>\r\n     <use style=\"fill:#d62728;stroke:#d62728;\" x=\"57.527131\" xlink:href=\"#m8f178d8125\" y=\"19.554545\"/>\r\n     <use style=\"fill:#d62728;stroke:#d62728;\" x=\"57.527131\" xlink:href=\"#m8f178d8125\" y=\"19.554545\"/>\r\n     <use style=\"fill:#d62728;stroke:#d62728;\" x=\"57.527131\" xlink:href=\"#m8f178d8125\" y=\"19.554545\"/>\r\n     <use style=\"fill:#d62728;stroke:#d62728;\" x=\"57.527131\" xlink:href=\"#m8f178d8125\" y=\"19.554545\"/>\r\n     <use style=\"fill:#d62728;stroke:#d62728;\" x=\"57.527131\" xlink:href=\"#m8f178d8125\" y=\"19.554545\"/>\r\n     <use style=\"fill:#d62728;stroke:#d62728;\" x=\"57.527131\" xlink:href=\"#m8f178d8125\" y=\"19.554545\"/>\r\n     <use style=\"fill:#d62728;stroke:#d62728;\" x=\"57.527131\" xlink:href=\"#m8f178d8125\" y=\"19.554545\"/>\r\n     <use style=\"fill:#d62728;stroke:#d62728;\" x=\"57.527131\" xlink:href=\"#m8f178d8125\" y=\"19.554545\"/>\r\n     <use style=\"fill:#d62728;stroke:#d62728;\" x=\"57.527131\" xlink:href=\"#m8f178d8125\" y=\"19.554545\"/>\r\n     <use style=\"fill:#d62728;stroke:#d62728;\" x=\"57.527131\" xlink:href=\"#m8f178d8125\" y=\"19.554545\"/>\r\n     <use style=\"fill:#d62728;stroke:#d62728;\" x=\"57.527131\" xlink:href=\"#m8f178d8125\" y=\"19.554545\"/>\r\n     <use style=\"fill:#d62728;stroke:#d62728;\" x=\"57.527131\" xlink:href=\"#m8f178d8125\" y=\"19.554545\"/>\r\n     <use style=\"fill:#d62728;stroke:#d62728;\" x=\"57.527131\" xlink:href=\"#m8f178d8125\" y=\"19.554545\"/>\r\n     <use style=\"fill:#d62728;stroke:#d62728;\" x=\"57.527131\" xlink:href=\"#m8f178d8125\" y=\"19.554545\"/>\r\n     <use style=\"fill:#d62728;stroke:#d62728;\" x=\"57.527131\" xlink:href=\"#m8f178d8125\" y=\"19.554545\"/>\r\n     <use style=\"fill:#d62728;stroke:#d62728;\" x=\"57.527131\" xlink:href=\"#m8f178d8125\" y=\"19.554545\"/>\r\n     <use style=\"fill:#d62728;stroke:#d62728;\" x=\"57.527131\" xlink:href=\"#m8f178d8125\" y=\"19.554545\"/>\r\n     <use style=\"fill:#d62728;stroke:#d62728;\" x=\"57.527131\" xlink:href=\"#m8f178d8125\" y=\"19.554545\"/>\r\n     <use style=\"fill:#d62728;stroke:#d62728;\" x=\"57.527131\" xlink:href=\"#m8f178d8125\" y=\"19.554545\"/>\r\n     <use style=\"fill:#d62728;stroke:#d62728;\" x=\"57.527131\" xlink:href=\"#m8f178d8125\" y=\"19.554545\"/>\r\n     <use style=\"fill:#d62728;stroke:#d62728;\" x=\"57.527131\" xlink:href=\"#m8f178d8125\" y=\"19.554545\"/>\r\n     <use style=\"fill:#d62728;stroke:#d62728;\" x=\"57.527131\" xlink:href=\"#m8f178d8125\" y=\"19.554545\"/>\r\n     <use style=\"fill:#d62728;stroke:#d62728;\" x=\"57.527131\" xlink:href=\"#m8f178d8125\" y=\"19.554545\"/>\r\n     <use style=\"fill:#d62728;stroke:#d62728;\" x=\"57.527131\" xlink:href=\"#m8f178d8125\" y=\"19.554545\"/>\r\n     <use style=\"fill:#d62728;stroke:#d62728;\" x=\"57.527131\" xlink:href=\"#m8f178d8125\" y=\"19.554545\"/>\r\n     <use style=\"fill:#d62728;stroke:#d62728;\" x=\"57.527131\" xlink:href=\"#m8f178d8125\" y=\"19.554545\"/>\r\n     <use style=\"fill:#d62728;stroke:#d62728;\" x=\"57.527131\" xlink:href=\"#m8f178d8125\" y=\"19.554545\"/>\r\n     <use style=\"fill:#d62728;stroke:#d62728;\" x=\"57.527131\" xlink:href=\"#m8f178d8125\" y=\"19.554545\"/>\r\n     <use style=\"fill:#d62728;stroke:#d62728;\" x=\"57.527131\" xlink:href=\"#m8f178d8125\" y=\"19.554545\"/>\r\n     <use style=\"fill:#d62728;stroke:#d62728;\" x=\"57.527131\" xlink:href=\"#m8f178d8125\" y=\"19.554545\"/>\r\n     <use style=\"fill:#d62728;stroke:#d62728;\" x=\"57.527131\" xlink:href=\"#m8f178d8125\" y=\"19.554545\"/>\r\n     <use style=\"fill:#d62728;stroke:#d62728;\" x=\"57.527131\" xlink:href=\"#m8f178d8125\" y=\"19.554545\"/>\r\n     <use style=\"fill:#d62728;stroke:#d62728;\" x=\"57.527131\" xlink:href=\"#m8f178d8125\" y=\"19.554545\"/>\r\n     <use style=\"fill:#d62728;stroke:#d62728;\" x=\"57.527131\" xlink:href=\"#m8f178d8125\" y=\"19.554545\"/>\r\n     <use style=\"fill:#d62728;stroke:#d62728;\" x=\"57.527131\" xlink:href=\"#m8f178d8125\" y=\"19.554545\"/>\r\n     <use style=\"fill:#d62728;stroke:#d62728;\" x=\"57.527131\" xlink:href=\"#m8f178d8125\" y=\"19.554545\"/>\r\n     <use style=\"fill:#d62728;stroke:#d62728;\" x=\"57.527131\" xlink:href=\"#m8f178d8125\" y=\"19.554545\"/>\r\n     <use style=\"fill:#d62728;stroke:#d62728;\" x=\"57.527131\" xlink:href=\"#m8f178d8125\" y=\"19.554545\"/>\r\n     <use style=\"fill:#d62728;stroke:#d62728;\" x=\"57.527131\" xlink:href=\"#m8f178d8125\" y=\"19.554545\"/>\r\n     <use style=\"fill:#d62728;stroke:#d62728;\" x=\"57.527131\" xlink:href=\"#m8f178d8125\" y=\"19.554545\"/>\r\n     <use style=\"fill:#d62728;stroke:#d62728;\" x=\"57.527131\" xlink:href=\"#m8f178d8125\" y=\"19.554545\"/>\r\n     <use style=\"fill:#d62728;stroke:#d62728;\" x=\"57.527131\" xlink:href=\"#m8f178d8125\" y=\"19.554545\"/>\r\n     <use style=\"fill:#d62728;stroke:#d62728;\" x=\"57.527131\" xlink:href=\"#m8f178d8125\" y=\"19.554545\"/>\r\n     <use style=\"fill:#d62728;stroke:#d62728;\" x=\"57.527131\" xlink:href=\"#m8f178d8125\" y=\"19.554545\"/>\r\n     <use style=\"fill:#d62728;stroke:#d62728;\" x=\"57.527131\" xlink:href=\"#m8f178d8125\" y=\"19.554545\"/>\r\n     <use style=\"fill:#d62728;stroke:#d62728;\" x=\"57.527131\" xlink:href=\"#m8f178d8125\" y=\"19.554545\"/>\r\n     <use style=\"fill:#d62728;stroke:#d62728;\" x=\"57.527131\" xlink:href=\"#m8f178d8125\" y=\"19.554545\"/>\r\n     <use style=\"fill:#d62728;stroke:#d62728;\" x=\"57.527131\" xlink:href=\"#m8f178d8125\" y=\"19.554545\"/>\r\n     <use style=\"fill:#d62728;stroke:#d62728;\" x=\"57.527131\" xlink:href=\"#m8f178d8125\" y=\"19.554545\"/>\r\n     <use style=\"fill:#d62728;stroke:#d62728;\" x=\"57.527131\" xlink:href=\"#m8f178d8125\" y=\"19.554545\"/>\r\n     <use style=\"fill:#d62728;stroke:#d62728;\" x=\"57.527131\" xlink:href=\"#m8f178d8125\" y=\"19.554545\"/>\r\n     <use style=\"fill:#d62728;stroke:#d62728;\" x=\"57.527131\" xlink:href=\"#m8f178d8125\" y=\"19.554545\"/>\r\n     <use style=\"fill:#d62728;stroke:#d62728;\" x=\"57.527131\" xlink:href=\"#m8f178d8125\" y=\"19.554545\"/>\r\n     <use style=\"fill:#d62728;stroke:#d62728;\" x=\"57.527131\" xlink:href=\"#m8f178d8125\" y=\"19.554545\"/>\r\n     <use style=\"fill:#d62728;stroke:#d62728;\" x=\"57.527131\" xlink:href=\"#m8f178d8125\" y=\"19.554545\"/>\r\n     <use style=\"fill:#d62728;stroke:#d62728;\" x=\"57.527131\" xlink:href=\"#m8f178d8125\" y=\"19.554545\"/>\r\n     <use style=\"fill:#d62728;stroke:#d62728;\" x=\"57.527131\" xlink:href=\"#m8f178d8125\" y=\"19.554545\"/>\r\n     <use style=\"fill:#d62728;stroke:#d62728;\" x=\"57.527131\" xlink:href=\"#m8f178d8125\" y=\"19.554545\"/>\r\n     <use style=\"fill:#d62728;stroke:#d62728;\" x=\"57.527131\" xlink:href=\"#m8f178d8125\" y=\"19.554545\"/>\r\n     <use style=\"fill:#d62728;stroke:#d62728;\" x=\"57.527131\" xlink:href=\"#m8f178d8125\" y=\"19.554545\"/>\r\n     <use style=\"fill:#d62728;stroke:#d62728;\" x=\"57.527131\" xlink:href=\"#m8f178d8125\" y=\"19.554545\"/>\r\n     <use style=\"fill:#d62728;stroke:#d62728;\" x=\"57.527131\" xlink:href=\"#m8f178d8125\" y=\"19.554545\"/>\r\n     <use style=\"fill:#d62728;stroke:#d62728;\" x=\"57.527131\" xlink:href=\"#m8f178d8125\" y=\"19.554545\"/>\r\n     <use style=\"fill:#d62728;stroke:#d62728;\" x=\"57.527131\" xlink:href=\"#m8f178d8125\" y=\"19.554545\"/>\r\n     <use style=\"fill:#d62728;stroke:#d62728;\" x=\"57.527131\" xlink:href=\"#m8f178d8125\" y=\"19.554545\"/>\r\n     <use style=\"fill:#d62728;stroke:#d62728;\" x=\"57.527131\" xlink:href=\"#m8f178d8125\" y=\"19.554545\"/>\r\n     <use style=\"fill:#d62728;stroke:#d62728;\" x=\"57.527131\" xlink:href=\"#m8f178d8125\" y=\"19.554545\"/>\r\n     <use style=\"fill:#d62728;stroke:#d62728;\" x=\"57.527131\" xlink:href=\"#m8f178d8125\" y=\"19.554545\"/>\r\n     <use style=\"fill:#d62728;stroke:#d62728;\" x=\"57.527131\" xlink:href=\"#m8f178d8125\" y=\"19.554545\"/>\r\n     <use style=\"fill:#d62728;stroke:#d62728;\" x=\"57.527131\" xlink:href=\"#m8f178d8125\" y=\"19.554545\"/>\r\n     <use style=\"fill:#d62728;stroke:#d62728;\" x=\"57.527131\" xlink:href=\"#m8f178d8125\" y=\"19.554545\"/>\r\n     <use style=\"fill:#d62728;stroke:#d62728;\" x=\"57.527131\" xlink:href=\"#m8f178d8125\" y=\"19.554545\"/>\r\n     <use style=\"fill:#d62728;stroke:#d62728;\" x=\"57.527131\" xlink:href=\"#m8f178d8125\" y=\"19.554545\"/>\r\n     <use style=\"fill:#d62728;stroke:#d62728;\" x=\"57.527131\" xlink:href=\"#m8f178d8125\" y=\"19.554545\"/>\r\n     <use style=\"fill:#d62728;stroke:#d62728;\" x=\"57.527131\" xlink:href=\"#m8f178d8125\" y=\"19.554545\"/>\r\n     <use style=\"fill:#d62728;stroke:#d62728;\" x=\"57.527131\" xlink:href=\"#m8f178d8125\" y=\"19.554545\"/>\r\n     <use style=\"fill:#d62728;stroke:#d62728;\" x=\"57.527131\" xlink:href=\"#m8f178d8125\" y=\"19.554545\"/>\r\n     <use style=\"fill:#d62728;stroke:#d62728;\" x=\"57.527131\" xlink:href=\"#m8f178d8125\" y=\"19.554545\"/>\r\n     <use style=\"fill:#d62728;stroke:#d62728;\" x=\"57.527131\" xlink:href=\"#m8f178d8125\" y=\"19.554545\"/>\r\n     <use style=\"fill:#d62728;stroke:#d62728;\" x=\"57.527131\" xlink:href=\"#m8f178d8125\" y=\"19.554545\"/>\r\n     <use style=\"fill:#d62728;stroke:#d62728;\" x=\"57.527131\" xlink:href=\"#m8f178d8125\" y=\"19.554545\"/>\r\n     <use style=\"fill:#d62728;stroke:#d62728;\" x=\"57.527131\" xlink:href=\"#m8f178d8125\" y=\"19.554545\"/>\r\n     <use style=\"fill:#d62728;stroke:#d62728;\" x=\"57.527131\" xlink:href=\"#m8f178d8125\" y=\"19.554545\"/>\r\n     <use style=\"fill:#d62728;stroke:#d62728;\" x=\"57.527131\" xlink:href=\"#m8f178d8125\" y=\"19.554545\"/>\r\n     <use style=\"fill:#d62728;stroke:#d62728;\" x=\"57.527131\" xlink:href=\"#m8f178d8125\" y=\"19.554545\"/>\r\n     <use style=\"fill:#d62728;stroke:#d62728;\" x=\"57.527131\" xlink:href=\"#m8f178d8125\" y=\"19.554545\"/>\r\n     <use style=\"fill:#d62728;stroke:#d62728;\" x=\"57.527131\" xlink:href=\"#m8f178d8125\" y=\"19.554545\"/>\r\n     <use style=\"fill:#d62728;stroke:#d62728;\" x=\"57.527131\" xlink:href=\"#m8f178d8125\" y=\"19.554545\"/>\r\n     <use style=\"fill:#d62728;stroke:#d62728;\" x=\"57.527131\" xlink:href=\"#m8f178d8125\" y=\"19.554545\"/>\r\n     <use style=\"fill:#d62728;stroke:#d62728;\" x=\"57.527131\" xlink:href=\"#m8f178d8125\" y=\"19.554545\"/>\r\n     <use style=\"fill:#d62728;stroke:#d62728;\" x=\"57.527131\" xlink:href=\"#m8f178d8125\" y=\"19.554545\"/>\r\n     <use style=\"fill:#d62728;stroke:#d62728;\" x=\"57.527131\" xlink:href=\"#m8f178d8125\" y=\"19.554545\"/>\r\n     <use style=\"fill:#d62728;stroke:#d62728;\" x=\"57.527131\" xlink:href=\"#m8f178d8125\" y=\"19.554545\"/>\r\n     <use style=\"fill:#d62728;stroke:#d62728;\" x=\"57.527131\" xlink:href=\"#m8f178d8125\" y=\"19.554545\"/>\r\n     <use style=\"fill:#d62728;stroke:#d62728;\" x=\"57.527131\" xlink:href=\"#m8f178d8125\" y=\"19.554545\"/>\r\n     <use style=\"fill:#d62728;stroke:#d62728;\" x=\"57.527131\" xlink:href=\"#m8f178d8125\" y=\"19.554545\"/>\r\n     <use style=\"fill:#d62728;stroke:#d62728;\" x=\"57.527131\" xlink:href=\"#m8f178d8125\" y=\"19.554545\"/>\r\n     <use style=\"fill:#d62728;stroke:#d62728;\" x=\"57.527131\" xlink:href=\"#m8f178d8125\" y=\"19.554545\"/>\r\n     <use style=\"fill:#d62728;stroke:#d62728;\" x=\"57.527131\" xlink:href=\"#m8f178d8125\" y=\"19.554545\"/>\r\n     <use style=\"fill:#d62728;stroke:#d62728;\" x=\"57.527131\" xlink:href=\"#m8f178d8125\" y=\"19.554545\"/>\r\n     <use style=\"fill:#d62728;stroke:#d62728;\" x=\"57.527131\" xlink:href=\"#m8f178d8125\" y=\"19.554545\"/>\r\n     <use style=\"fill:#d62728;stroke:#d62728;\" x=\"57.527131\" xlink:href=\"#m8f178d8125\" y=\"19.554545\"/>\r\n     <use style=\"fill:#d62728;stroke:#d62728;\" x=\"57.527131\" xlink:href=\"#m8f178d8125\" y=\"19.554545\"/>\r\n     <use style=\"fill:#d62728;stroke:#d62728;\" x=\"57.527131\" xlink:href=\"#m8f178d8125\" y=\"19.554545\"/>\r\n     <use style=\"fill:#d62728;stroke:#d62728;\" x=\"57.527131\" xlink:href=\"#m8f178d8125\" y=\"19.554545\"/>\r\n     <use style=\"fill:#d62728;stroke:#d62728;\" x=\"57.527131\" xlink:href=\"#m8f178d8125\" y=\"19.554545\"/>\r\n     <use style=\"fill:#d62728;stroke:#d62728;\" x=\"57.527131\" xlink:href=\"#m8f178d8125\" y=\"19.554545\"/>\r\n     <use style=\"fill:#d62728;stroke:#d62728;\" x=\"57.527131\" xlink:href=\"#m8f178d8125\" y=\"19.554545\"/>\r\n     <use style=\"fill:#d62728;stroke:#d62728;\" x=\"57.527131\" xlink:href=\"#m8f178d8125\" y=\"19.554545\"/>\r\n     <use style=\"fill:#d62728;stroke:#d62728;\" x=\"57.527131\" xlink:href=\"#m8f178d8125\" y=\"19.554545\"/>\r\n     <use style=\"fill:#d62728;stroke:#d62728;\" x=\"57.527131\" xlink:href=\"#m8f178d8125\" y=\"19.554545\"/>\r\n     <use style=\"fill:#d62728;stroke:#d62728;\" x=\"57.527131\" xlink:href=\"#m8f178d8125\" y=\"19.554545\"/>\r\n     <use style=\"fill:#d62728;stroke:#d62728;\" x=\"57.527131\" xlink:href=\"#m8f178d8125\" y=\"19.554545\"/>\r\n     <use style=\"fill:#d62728;stroke:#d62728;\" x=\"57.527131\" xlink:href=\"#m8f178d8125\" y=\"19.554545\"/>\r\n     <use style=\"fill:#d62728;stroke:#d62728;\" x=\"57.527131\" xlink:href=\"#m8f178d8125\" y=\"19.554545\"/>\r\n     <use style=\"fill:#d62728;stroke:#d62728;\" x=\"57.527131\" xlink:href=\"#m8f178d8125\" y=\"19.554545\"/>\r\n     <use style=\"fill:#d62728;stroke:#d62728;\" x=\"57.527131\" xlink:href=\"#m8f178d8125\" y=\"19.554545\"/>\r\n     <use style=\"fill:#d62728;stroke:#d62728;\" x=\"57.527131\" xlink:href=\"#m8f178d8125\" y=\"19.554545\"/>\r\n     <use style=\"fill:#d62728;stroke:#d62728;\" x=\"57.527131\" xlink:href=\"#m8f178d8125\" y=\"19.554545\"/>\r\n     <use style=\"fill:#d62728;stroke:#d62728;\" x=\"57.527131\" xlink:href=\"#m8f178d8125\" y=\"19.554545\"/>\r\n     <use style=\"fill:#d62728;stroke:#d62728;\" x=\"57.527131\" xlink:href=\"#m8f178d8125\" y=\"19.554545\"/>\r\n     <use style=\"fill:#d62728;stroke:#d62728;\" x=\"57.527131\" xlink:href=\"#m8f178d8125\" y=\"19.554545\"/>\r\n     <use style=\"fill:#d62728;stroke:#d62728;\" x=\"57.527131\" xlink:href=\"#m8f178d8125\" y=\"19.554545\"/>\r\n     <use style=\"fill:#d62728;stroke:#d62728;\" x=\"57.527131\" xlink:href=\"#m8f178d8125\" y=\"19.554545\"/>\r\n     <use style=\"fill:#d62728;stroke:#d62728;\" x=\"57.527131\" xlink:href=\"#m8f178d8125\" y=\"19.554545\"/>\r\n     <use style=\"fill:#d62728;stroke:#d62728;\" x=\"57.527131\" xlink:href=\"#m8f178d8125\" y=\"19.554545\"/>\r\n     <use style=\"fill:#d62728;stroke:#d62728;\" x=\"57.527131\" xlink:href=\"#m8f178d8125\" y=\"19.554545\"/>\r\n     <use style=\"fill:#d62728;stroke:#d62728;\" x=\"57.527131\" xlink:href=\"#m8f178d8125\" y=\"19.554545\"/>\r\n     <use style=\"fill:#d62728;stroke:#d62728;\" x=\"57.527131\" xlink:href=\"#m8f178d8125\" y=\"19.554545\"/>\r\n     <use style=\"fill:#d62728;stroke:#d62728;\" x=\"57.527131\" xlink:href=\"#m8f178d8125\" y=\"19.554545\"/>\r\n     <use style=\"fill:#d62728;stroke:#d62728;\" x=\"57.527131\" xlink:href=\"#m8f178d8125\" y=\"19.554545\"/>\r\n     <use style=\"fill:#d62728;stroke:#d62728;\" x=\"57.527131\" xlink:href=\"#m8f178d8125\" y=\"19.554545\"/>\r\n     <use style=\"fill:#d62728;stroke:#d62728;\" x=\"57.527131\" xlink:href=\"#m8f178d8125\" y=\"19.554545\"/>\r\n     <use style=\"fill:#d62728;stroke:#d62728;\" x=\"57.527131\" xlink:href=\"#m8f178d8125\" y=\"19.554545\"/>\r\n     <use style=\"fill:#d62728;stroke:#d62728;\" x=\"57.527131\" xlink:href=\"#m8f178d8125\" y=\"19.554545\"/>\r\n     <use style=\"fill:#d62728;stroke:#d62728;\" x=\"57.527131\" xlink:href=\"#m8f178d8125\" y=\"19.554545\"/>\r\n     <use style=\"fill:#d62728;stroke:#d62728;\" x=\"57.527131\" xlink:href=\"#m8f178d8125\" y=\"19.554545\"/>\r\n     <use style=\"fill:#d62728;stroke:#d62728;\" x=\"57.527131\" xlink:href=\"#m8f178d8125\" y=\"19.554545\"/>\r\n     <use style=\"fill:#d62728;stroke:#d62728;\" x=\"57.527131\" xlink:href=\"#m8f178d8125\" y=\"19.554545\"/>\r\n     <use style=\"fill:#d62728;stroke:#d62728;\" x=\"57.527131\" xlink:href=\"#m8f178d8125\" y=\"19.554545\"/>\r\n     <use style=\"fill:#d62728;stroke:#d62728;\" x=\"57.527131\" xlink:href=\"#m8f178d8125\" y=\"19.554545\"/>\r\n     <use style=\"fill:#d62728;stroke:#d62728;\" x=\"57.527131\" xlink:href=\"#m8f178d8125\" y=\"19.554545\"/>\r\n     <use style=\"fill:#d62728;stroke:#d62728;\" x=\"57.527131\" xlink:href=\"#m8f178d8125\" y=\"19.554545\"/>\r\n     <use style=\"fill:#d62728;stroke:#d62728;\" x=\"57.527131\" xlink:href=\"#m8f178d8125\" y=\"19.554545\"/>\r\n     <use style=\"fill:#d62728;stroke:#d62728;\" x=\"57.527131\" xlink:href=\"#m8f178d8125\" y=\"19.554545\"/>\r\n     <use style=\"fill:#d62728;stroke:#d62728;\" x=\"57.527131\" xlink:href=\"#m8f178d8125\" y=\"19.554545\"/>\r\n     <use style=\"fill:#d62728;stroke:#d62728;\" x=\"57.527131\" xlink:href=\"#m8f178d8125\" y=\"19.554545\"/>\r\n     <use style=\"fill:#d62728;stroke:#d62728;\" x=\"57.527131\" xlink:href=\"#m8f178d8125\" y=\"19.554545\"/>\r\n     <use style=\"fill:#d62728;stroke:#d62728;\" x=\"57.527131\" xlink:href=\"#m8f178d8125\" y=\"19.554545\"/>\r\n     <use style=\"fill:#d62728;stroke:#d62728;\" x=\"57.527131\" xlink:href=\"#m8f178d8125\" y=\"19.554545\"/>\r\n     <use style=\"fill:#d62728;stroke:#d62728;\" x=\"57.527131\" xlink:href=\"#m8f178d8125\" y=\"19.554545\"/>\r\n     <use style=\"fill:#d62728;stroke:#d62728;\" x=\"57.527131\" xlink:href=\"#m8f178d8125\" y=\"19.554545\"/>\r\n     <use style=\"fill:#d62728;stroke:#d62728;\" x=\"57.527131\" xlink:href=\"#m8f178d8125\" y=\"19.554545\"/>\r\n     <use style=\"fill:#d62728;stroke:#d62728;\" x=\"57.527131\" xlink:href=\"#m8f178d8125\" y=\"19.554545\"/>\r\n     <use style=\"fill:#d62728;stroke:#d62728;\" x=\"57.527131\" xlink:href=\"#m8f178d8125\" y=\"19.554545\"/>\r\n     <use style=\"fill:#d62728;stroke:#d62728;\" x=\"57.527131\" xlink:href=\"#m8f178d8125\" y=\"19.554545\"/>\r\n     <use style=\"fill:#d62728;stroke:#d62728;\" x=\"57.527131\" xlink:href=\"#m8f178d8125\" y=\"19.554545\"/>\r\n     <use style=\"fill:#d62728;stroke:#d62728;\" x=\"57.527131\" xlink:href=\"#m8f178d8125\" y=\"19.554545\"/>\r\n     <use style=\"fill:#d62728;stroke:#d62728;\" x=\"57.527131\" xlink:href=\"#m8f178d8125\" y=\"19.554545\"/>\r\n     <use style=\"fill:#d62728;stroke:#d62728;\" x=\"57.527131\" xlink:href=\"#m8f178d8125\" y=\"19.554545\"/>\r\n     <use style=\"fill:#d62728;stroke:#d62728;\" x=\"57.527131\" xlink:href=\"#m8f178d8125\" y=\"19.554545\"/>\r\n     <use style=\"fill:#d62728;stroke:#d62728;\" x=\"57.527131\" xlink:href=\"#m8f178d8125\" y=\"19.554545\"/>\r\n     <use style=\"fill:#d62728;stroke:#d62728;\" x=\"57.527131\" xlink:href=\"#m8f178d8125\" y=\"19.554545\"/>\r\n     <use style=\"fill:#d62728;stroke:#d62728;\" x=\"57.527131\" xlink:href=\"#m8f178d8125\" y=\"19.554545\"/>\r\n     <use style=\"fill:#d62728;stroke:#d62728;\" x=\"57.527131\" xlink:href=\"#m8f178d8125\" y=\"19.554545\"/>\r\n     <use style=\"fill:#d62728;stroke:#d62728;\" x=\"57.527131\" xlink:href=\"#m8f178d8125\" y=\"19.554545\"/>\r\n     <use style=\"fill:#d62728;stroke:#d62728;\" x=\"57.527131\" xlink:href=\"#m8f178d8125\" y=\"19.554545\"/>\r\n     <use style=\"fill:#d62728;stroke:#d62728;\" x=\"57.527131\" xlink:href=\"#m8f178d8125\" y=\"19.554545\"/>\r\n     <use style=\"fill:#d62728;stroke:#d62728;\" x=\"57.527131\" xlink:href=\"#m8f178d8125\" y=\"19.554545\"/>\r\n     <use style=\"fill:#d62728;stroke:#d62728;\" x=\"57.527131\" xlink:href=\"#m8f178d8125\" y=\"19.554545\"/>\r\n     <use style=\"fill:#d62728;stroke:#d62728;\" x=\"57.527131\" xlink:href=\"#m8f178d8125\" y=\"19.554545\"/>\r\n     <use style=\"fill:#d62728;stroke:#d62728;\" x=\"57.527131\" xlink:href=\"#m8f178d8125\" y=\"19.554545\"/>\r\n    </g>\r\n   </g>\r\n   <g id=\"PathCollection_5\">\r\n    <defs>\r\n     <path d=\"M 0 2.236068 \r\nC 0.593012 2.236068 1.161816 2.000462 1.581139 1.581139 \r\nC 2.000462 1.161816 2.236068 0.593012 2.236068 0 \r\nC 2.236068 -0.593012 2.000462 -1.161816 1.581139 -1.581139 \r\nC 1.161816 -2.000462 0.593012 -2.236068 0 -2.236068 \r\nC -0.593012 -2.236068 -1.161816 -2.000462 -1.581139 -1.581139 \r\nC -2.000462 -1.161816 -2.236068 -0.593012 -2.236068 0 \r\nC -2.236068 0.593012 -2.000462 1.161816 -1.581139 1.581139 \r\nC -1.161816 2.000462 -0.593012 2.236068 0 2.236068 \r\nz\r\n\" id=\"m2519c997e4\" style=\"stroke:#9467bd;\"/>\r\n    </defs>\r\n    <g clip-path=\"url(#pc8d0a12e81)\">\r\n     <use style=\"fill:#9467bd;stroke:#9467bd;\" x=\"311.163494\" xlink:href=\"#m2519c997e4\" y=\"19.554545\"/>\r\n     <use style=\"fill:#9467bd;stroke:#9467bd;\" x=\"311.163494\" xlink:href=\"#m2519c997e4\" y=\"19.554545\"/>\r\n     <use style=\"fill:#9467bd;stroke:#9467bd;\" x=\"311.163494\" xlink:href=\"#m2519c997e4\" y=\"19.554545\"/>\r\n     <use style=\"fill:#9467bd;stroke:#9467bd;\" x=\"311.163494\" xlink:href=\"#m2519c997e4\" y=\"19.554545\"/>\r\n     <use style=\"fill:#9467bd;stroke:#9467bd;\" x=\"311.163494\" xlink:href=\"#m2519c997e4\" y=\"19.554545\"/>\r\n     <use style=\"fill:#9467bd;stroke:#9467bd;\" x=\"311.163494\" xlink:href=\"#m2519c997e4\" y=\"19.554545\"/>\r\n     <use style=\"fill:#9467bd;stroke:#9467bd;\" x=\"311.163494\" xlink:href=\"#m2519c997e4\" y=\"19.554545\"/>\r\n     <use style=\"fill:#9467bd;stroke:#9467bd;\" x=\"311.163494\" xlink:href=\"#m2519c997e4\" y=\"19.554545\"/>\r\n     <use style=\"fill:#9467bd;stroke:#9467bd;\" x=\"311.163494\" xlink:href=\"#m2519c997e4\" y=\"19.554545\"/>\r\n     <use style=\"fill:#9467bd;stroke:#9467bd;\" x=\"311.163494\" xlink:href=\"#m2519c997e4\" y=\"19.554545\"/>\r\n     <use style=\"fill:#9467bd;stroke:#9467bd;\" x=\"311.163494\" xlink:href=\"#m2519c997e4\" y=\"19.554545\"/>\r\n     <use style=\"fill:#9467bd;stroke:#9467bd;\" x=\"311.163494\" xlink:href=\"#m2519c997e4\" y=\"19.554545\"/>\r\n     <use style=\"fill:#9467bd;stroke:#9467bd;\" x=\"311.163494\" xlink:href=\"#m2519c997e4\" y=\"19.554545\"/>\r\n     <use style=\"fill:#9467bd;stroke:#9467bd;\" x=\"311.163494\" xlink:href=\"#m2519c997e4\" y=\"19.554545\"/>\r\n     <use style=\"fill:#9467bd;stroke:#9467bd;\" x=\"311.163494\" xlink:href=\"#m2519c997e4\" y=\"19.554545\"/>\r\n     <use style=\"fill:#9467bd;stroke:#9467bd;\" x=\"311.163494\" xlink:href=\"#m2519c997e4\" y=\"19.554545\"/>\r\n     <use style=\"fill:#9467bd;stroke:#9467bd;\" x=\"311.163494\" xlink:href=\"#m2519c997e4\" y=\"19.554545\"/>\r\n     <use style=\"fill:#9467bd;stroke:#9467bd;\" x=\"311.163494\" xlink:href=\"#m2519c997e4\" y=\"19.554545\"/>\r\n     <use style=\"fill:#9467bd;stroke:#9467bd;\" x=\"311.163494\" xlink:href=\"#m2519c997e4\" y=\"19.554545\"/>\r\n     <use style=\"fill:#9467bd;stroke:#9467bd;\" x=\"311.163494\" xlink:href=\"#m2519c997e4\" y=\"19.554545\"/>\r\n     <use style=\"fill:#9467bd;stroke:#9467bd;\" x=\"311.163494\" xlink:href=\"#m2519c997e4\" y=\"19.554545\"/>\r\n     <use style=\"fill:#9467bd;stroke:#9467bd;\" x=\"311.163494\" xlink:href=\"#m2519c997e4\" y=\"19.554545\"/>\r\n     <use style=\"fill:#9467bd;stroke:#9467bd;\" x=\"311.163494\" xlink:href=\"#m2519c997e4\" y=\"19.554545\"/>\r\n     <use style=\"fill:#9467bd;stroke:#9467bd;\" x=\"311.163494\" xlink:href=\"#m2519c997e4\" y=\"19.554545\"/>\r\n     <use style=\"fill:#9467bd;stroke:#9467bd;\" x=\"311.163494\" xlink:href=\"#m2519c997e4\" y=\"19.554545\"/>\r\n     <use style=\"fill:#9467bd;stroke:#9467bd;\" x=\"311.163494\" xlink:href=\"#m2519c997e4\" y=\"19.554545\"/>\r\n     <use style=\"fill:#9467bd;stroke:#9467bd;\" x=\"311.163494\" xlink:href=\"#m2519c997e4\" y=\"19.554545\"/>\r\n     <use style=\"fill:#9467bd;stroke:#9467bd;\" x=\"311.163494\" xlink:href=\"#m2519c997e4\" y=\"19.554545\"/>\r\n     <use style=\"fill:#9467bd;stroke:#9467bd;\" x=\"311.163494\" xlink:href=\"#m2519c997e4\" y=\"19.554545\"/>\r\n     <use style=\"fill:#9467bd;stroke:#9467bd;\" x=\"311.163494\" xlink:href=\"#m2519c997e4\" y=\"19.554545\"/>\r\n     <use style=\"fill:#9467bd;stroke:#9467bd;\" x=\"311.163494\" xlink:href=\"#m2519c997e4\" y=\"19.554545\"/>\r\n     <use style=\"fill:#9467bd;stroke:#9467bd;\" x=\"311.163494\" xlink:href=\"#m2519c997e4\" y=\"19.554545\"/>\r\n     <use style=\"fill:#9467bd;stroke:#9467bd;\" x=\"311.163494\" xlink:href=\"#m2519c997e4\" y=\"19.554545\"/>\r\n     <use style=\"fill:#9467bd;stroke:#9467bd;\" x=\"311.163494\" xlink:href=\"#m2519c997e4\" y=\"19.554545\"/>\r\n    </g>\r\n   </g>\r\n   <g id=\"PathCollection_6\">\r\n    <defs>\r\n     <path d=\"M 0 2.236068 \r\nC 0.593012 2.236068 1.161816 2.000462 1.581139 1.581139 \r\nC 2.000462 1.161816 2.236068 0.593012 2.236068 0 \r\nC 2.236068 -0.593012 2.000462 -1.161816 1.581139 -1.581139 \r\nC 1.161816 -2.000462 0.593012 -2.236068 0 -2.236068 \r\nC -0.593012 -2.236068 -1.161816 -2.000462 -1.581139 -1.581139 \r\nC -2.000462 -1.161816 -2.236068 -0.593012 -2.236068 0 \r\nC -2.236068 0.593012 -2.000462 1.161816 -1.581139 1.581139 \r\nC -1.161816 2.000462 -0.593012 2.236068 0 2.236068 \r\nz\r\n\" id=\"mae7f067b3e\" style=\"stroke:#8c564b;\"/>\r\n    </defs>\r\n    <g clip-path=\"url(#pc8d0a12e81)\">\r\n     <use style=\"fill:#8c564b;stroke:#8c564b;\" x=\"311.163494\" xlink:href=\"#mae7f067b3e\" y=\"19.554545\"/>\r\n     <use style=\"fill:#8c564b;stroke:#8c564b;\" x=\"311.163494\" xlink:href=\"#mae7f067b3e\" y=\"19.554545\"/>\r\n     <use style=\"fill:#8c564b;stroke:#8c564b;\" x=\"311.163494\" xlink:href=\"#mae7f067b3e\" y=\"19.554545\"/>\r\n     <use style=\"fill:#8c564b;stroke:#8c564b;\" x=\"311.163494\" xlink:href=\"#mae7f067b3e\" y=\"19.554545\"/>\r\n     <use style=\"fill:#8c564b;stroke:#8c564b;\" x=\"311.163494\" xlink:href=\"#mae7f067b3e\" y=\"19.554545\"/>\r\n     <use style=\"fill:#8c564b;stroke:#8c564b;\" x=\"311.163494\" xlink:href=\"#mae7f067b3e\" y=\"19.554545\"/>\r\n     <use style=\"fill:#8c564b;stroke:#8c564b;\" x=\"311.163494\" xlink:href=\"#mae7f067b3e\" y=\"19.554545\"/>\r\n     <use style=\"fill:#8c564b;stroke:#8c564b;\" x=\"311.163494\" xlink:href=\"#mae7f067b3e\" y=\"19.554545\"/>\r\n     <use style=\"fill:#8c564b;stroke:#8c564b;\" x=\"311.163494\" xlink:href=\"#mae7f067b3e\" y=\"19.554545\"/>\r\n     <use style=\"fill:#8c564b;stroke:#8c564b;\" x=\"311.163494\" xlink:href=\"#mae7f067b3e\" y=\"19.554545\"/>\r\n     <use style=\"fill:#8c564b;stroke:#8c564b;\" x=\"311.163494\" xlink:href=\"#mae7f067b3e\" y=\"19.554545\"/>\r\n     <use style=\"fill:#8c564b;stroke:#8c564b;\" x=\"311.163494\" xlink:href=\"#mae7f067b3e\" y=\"19.554545\"/>\r\n     <use style=\"fill:#8c564b;stroke:#8c564b;\" x=\"311.163494\" xlink:href=\"#mae7f067b3e\" y=\"19.554545\"/>\r\n     <use style=\"fill:#8c564b;stroke:#8c564b;\" x=\"311.163494\" xlink:href=\"#mae7f067b3e\" y=\"19.554545\"/>\r\n     <use style=\"fill:#8c564b;stroke:#8c564b;\" x=\"311.163494\" xlink:href=\"#mae7f067b3e\" y=\"19.554545\"/>\r\n     <use style=\"fill:#8c564b;stroke:#8c564b;\" x=\"311.163494\" xlink:href=\"#mae7f067b3e\" y=\"19.554545\"/>\r\n     <use style=\"fill:#8c564b;stroke:#8c564b;\" x=\"311.163494\" xlink:href=\"#mae7f067b3e\" y=\"19.554545\"/>\r\n     <use style=\"fill:#8c564b;stroke:#8c564b;\" x=\"311.163494\" xlink:href=\"#mae7f067b3e\" y=\"19.554545\"/>\r\n     <use style=\"fill:#8c564b;stroke:#8c564b;\" x=\"311.163494\" xlink:href=\"#mae7f067b3e\" y=\"19.554545\"/>\r\n     <use style=\"fill:#8c564b;stroke:#8c564b;\" x=\"311.163494\" xlink:href=\"#mae7f067b3e\" y=\"19.554545\"/>\r\n     <use style=\"fill:#8c564b;stroke:#8c564b;\" x=\"311.163494\" xlink:href=\"#mae7f067b3e\" y=\"19.554545\"/>\r\n     <use style=\"fill:#8c564b;stroke:#8c564b;\" x=\"311.163494\" xlink:href=\"#mae7f067b3e\" y=\"19.554545\"/>\r\n     <use style=\"fill:#8c564b;stroke:#8c564b;\" x=\"311.163494\" xlink:href=\"#mae7f067b3e\" y=\"19.554545\"/>\r\n     <use style=\"fill:#8c564b;stroke:#8c564b;\" x=\"311.163494\" xlink:href=\"#mae7f067b3e\" y=\"19.554545\"/>\r\n     <use style=\"fill:#8c564b;stroke:#8c564b;\" x=\"311.163494\" xlink:href=\"#mae7f067b3e\" y=\"19.554545\"/>\r\n     <use style=\"fill:#8c564b;stroke:#8c564b;\" x=\"311.163494\" xlink:href=\"#mae7f067b3e\" y=\"19.554545\"/>\r\n     <use style=\"fill:#8c564b;stroke:#8c564b;\" x=\"311.163494\" xlink:href=\"#mae7f067b3e\" y=\"19.554545\"/>\r\n     <use style=\"fill:#8c564b;stroke:#8c564b;\" x=\"311.163494\" xlink:href=\"#mae7f067b3e\" y=\"19.554545\"/>\r\n     <use style=\"fill:#8c564b;stroke:#8c564b;\" x=\"311.163494\" xlink:href=\"#mae7f067b3e\" y=\"19.554545\"/>\r\n     <use style=\"fill:#8c564b;stroke:#8c564b;\" x=\"311.163494\" xlink:href=\"#mae7f067b3e\" y=\"19.554545\"/>\r\n     <use style=\"fill:#8c564b;stroke:#8c564b;\" x=\"311.163494\" xlink:href=\"#mae7f067b3e\" y=\"19.554545\"/>\r\n     <use style=\"fill:#8c564b;stroke:#8c564b;\" x=\"311.163494\" xlink:href=\"#mae7f067b3e\" y=\"19.554545\"/>\r\n     <use style=\"fill:#8c564b;stroke:#8c564b;\" x=\"311.163494\" xlink:href=\"#mae7f067b3e\" y=\"19.554545\"/>\r\n     <use style=\"fill:#8c564b;stroke:#8c564b;\" x=\"311.163494\" xlink:href=\"#mae7f067b3e\" y=\"19.554545\"/>\r\n     <use style=\"fill:#8c564b;stroke:#8c564b;\" x=\"311.163494\" xlink:href=\"#mae7f067b3e\" y=\"19.554545\"/>\r\n     <use style=\"fill:#8c564b;stroke:#8c564b;\" x=\"311.163494\" xlink:href=\"#mae7f067b3e\" y=\"19.554545\"/>\r\n     <use style=\"fill:#8c564b;stroke:#8c564b;\" x=\"311.163494\" xlink:href=\"#mae7f067b3e\" y=\"19.554545\"/>\r\n     <use style=\"fill:#8c564b;stroke:#8c564b;\" x=\"311.163494\" xlink:href=\"#mae7f067b3e\" y=\"19.554545\"/>\r\n     <use style=\"fill:#8c564b;stroke:#8c564b;\" x=\"311.163494\" xlink:href=\"#mae7f067b3e\" y=\"19.554545\"/>\r\n     <use style=\"fill:#8c564b;stroke:#8c564b;\" x=\"311.163494\" xlink:href=\"#mae7f067b3e\" y=\"19.554545\"/>\r\n     <use style=\"fill:#8c564b;stroke:#8c564b;\" x=\"311.163494\" xlink:href=\"#mae7f067b3e\" y=\"19.554545\"/>\r\n     <use style=\"fill:#8c564b;stroke:#8c564b;\" x=\"311.163494\" xlink:href=\"#mae7f067b3e\" y=\"19.554545\"/>\r\n     <use style=\"fill:#8c564b;stroke:#8c564b;\" x=\"311.163494\" xlink:href=\"#mae7f067b3e\" y=\"19.554545\"/>\r\n     <use style=\"fill:#8c564b;stroke:#8c564b;\" x=\"311.163494\" xlink:href=\"#mae7f067b3e\" y=\"19.554545\"/>\r\n     <use style=\"fill:#8c564b;stroke:#8c564b;\" x=\"311.163494\" xlink:href=\"#mae7f067b3e\" y=\"19.554545\"/>\r\n     <use style=\"fill:#8c564b;stroke:#8c564b;\" x=\"311.163494\" xlink:href=\"#mae7f067b3e\" y=\"19.554545\"/>\r\n     <use style=\"fill:#8c564b;stroke:#8c564b;\" x=\"311.163494\" xlink:href=\"#mae7f067b3e\" y=\"19.554545\"/>\r\n     <use style=\"fill:#8c564b;stroke:#8c564b;\" x=\"311.163494\" xlink:href=\"#mae7f067b3e\" y=\"19.554545\"/>\r\n     <use style=\"fill:#8c564b;stroke:#8c564b;\" x=\"311.163494\" xlink:href=\"#mae7f067b3e\" y=\"19.554545\"/>\r\n     <use style=\"fill:#8c564b;stroke:#8c564b;\" x=\"311.163494\" xlink:href=\"#mae7f067b3e\" y=\"19.554545\"/>\r\n     <use style=\"fill:#8c564b;stroke:#8c564b;\" x=\"311.163494\" xlink:href=\"#mae7f067b3e\" y=\"19.554545\"/>\r\n     <use style=\"fill:#8c564b;stroke:#8c564b;\" x=\"311.163494\" xlink:href=\"#mae7f067b3e\" y=\"19.554545\"/>\r\n     <use style=\"fill:#8c564b;stroke:#8c564b;\" x=\"311.163494\" xlink:href=\"#mae7f067b3e\" y=\"19.554545\"/>\r\n     <use style=\"fill:#8c564b;stroke:#8c564b;\" x=\"311.163494\" xlink:href=\"#mae7f067b3e\" y=\"19.554545\"/>\r\n     <use style=\"fill:#8c564b;stroke:#8c564b;\" x=\"311.163494\" xlink:href=\"#mae7f067b3e\" y=\"19.554545\"/>\r\n     <use style=\"fill:#8c564b;stroke:#8c564b;\" x=\"311.163494\" xlink:href=\"#mae7f067b3e\" y=\"19.554545\"/>\r\n     <use style=\"fill:#8c564b;stroke:#8c564b;\" x=\"311.163494\" xlink:href=\"#mae7f067b3e\" y=\"19.554545\"/>\r\n     <use style=\"fill:#8c564b;stroke:#8c564b;\" x=\"311.163494\" xlink:href=\"#mae7f067b3e\" y=\"19.554545\"/>\r\n     <use style=\"fill:#8c564b;stroke:#8c564b;\" x=\"311.163494\" xlink:href=\"#mae7f067b3e\" y=\"19.554545\"/>\r\n     <use style=\"fill:#8c564b;stroke:#8c564b;\" x=\"311.163494\" xlink:href=\"#mae7f067b3e\" y=\"19.554545\"/>\r\n     <use style=\"fill:#8c564b;stroke:#8c564b;\" x=\"311.163494\" xlink:href=\"#mae7f067b3e\" y=\"19.554545\"/>\r\n     <use style=\"fill:#8c564b;stroke:#8c564b;\" x=\"311.163494\" xlink:href=\"#mae7f067b3e\" y=\"19.554545\"/>\r\n     <use style=\"fill:#8c564b;stroke:#8c564b;\" x=\"311.163494\" xlink:href=\"#mae7f067b3e\" y=\"19.554545\"/>\r\n     <use style=\"fill:#8c564b;stroke:#8c564b;\" x=\"311.163494\" xlink:href=\"#mae7f067b3e\" y=\"19.554545\"/>\r\n     <use style=\"fill:#8c564b;stroke:#8c564b;\" x=\"311.163494\" xlink:href=\"#mae7f067b3e\" y=\"19.554545\"/>\r\n     <use style=\"fill:#8c564b;stroke:#8c564b;\" x=\"311.163494\" xlink:href=\"#mae7f067b3e\" y=\"19.554545\"/>\r\n     <use style=\"fill:#8c564b;stroke:#8c564b;\" x=\"311.163494\" xlink:href=\"#mae7f067b3e\" y=\"19.554545\"/>\r\n     <use style=\"fill:#8c564b;stroke:#8c564b;\" x=\"311.163494\" xlink:href=\"#mae7f067b3e\" y=\"19.554545\"/>\r\n     <use style=\"fill:#8c564b;stroke:#8c564b;\" x=\"311.163494\" xlink:href=\"#mae7f067b3e\" y=\"19.554545\"/>\r\n     <use style=\"fill:#8c564b;stroke:#8c564b;\" x=\"311.163494\" xlink:href=\"#mae7f067b3e\" y=\"19.554545\"/>\r\n     <use style=\"fill:#8c564b;stroke:#8c564b;\" x=\"311.163494\" xlink:href=\"#mae7f067b3e\" y=\"19.554545\"/>\r\n     <use style=\"fill:#8c564b;stroke:#8c564b;\" x=\"311.163494\" xlink:href=\"#mae7f067b3e\" y=\"19.554545\"/>\r\n     <use style=\"fill:#8c564b;stroke:#8c564b;\" x=\"311.163494\" xlink:href=\"#mae7f067b3e\" y=\"19.554545\"/>\r\n     <use style=\"fill:#8c564b;stroke:#8c564b;\" x=\"311.163494\" xlink:href=\"#mae7f067b3e\" y=\"19.554545\"/>\r\n     <use style=\"fill:#8c564b;stroke:#8c564b;\" x=\"311.163494\" xlink:href=\"#mae7f067b3e\" y=\"19.554545\"/>\r\n     <use style=\"fill:#8c564b;stroke:#8c564b;\" x=\"311.163494\" xlink:href=\"#mae7f067b3e\" y=\"19.554545\"/>\r\n     <use style=\"fill:#8c564b;stroke:#8c564b;\" x=\"311.163494\" xlink:href=\"#mae7f067b3e\" y=\"19.554545\"/>\r\n     <use style=\"fill:#8c564b;stroke:#8c564b;\" x=\"311.163494\" xlink:href=\"#mae7f067b3e\" y=\"19.554545\"/>\r\n     <use style=\"fill:#8c564b;stroke:#8c564b;\" x=\"311.163494\" xlink:href=\"#mae7f067b3e\" y=\"19.554545\"/>\r\n     <use style=\"fill:#8c564b;stroke:#8c564b;\" x=\"311.163494\" xlink:href=\"#mae7f067b3e\" y=\"19.554545\"/>\r\n     <use style=\"fill:#8c564b;stroke:#8c564b;\" x=\"311.163494\" xlink:href=\"#mae7f067b3e\" y=\"19.554545\"/>\r\n     <use style=\"fill:#8c564b;stroke:#8c564b;\" x=\"311.163494\" xlink:href=\"#mae7f067b3e\" y=\"19.554545\"/>\r\n     <use style=\"fill:#8c564b;stroke:#8c564b;\" x=\"311.163494\" xlink:href=\"#mae7f067b3e\" y=\"19.554545\"/>\r\n     <use style=\"fill:#8c564b;stroke:#8c564b;\" x=\"311.163494\" xlink:href=\"#mae7f067b3e\" y=\"19.554545\"/>\r\n     <use style=\"fill:#8c564b;stroke:#8c564b;\" x=\"311.163494\" xlink:href=\"#mae7f067b3e\" y=\"19.554545\"/>\r\n     <use style=\"fill:#8c564b;stroke:#8c564b;\" x=\"311.163494\" xlink:href=\"#mae7f067b3e\" y=\"19.554545\"/>\r\n     <use style=\"fill:#8c564b;stroke:#8c564b;\" x=\"311.163494\" xlink:href=\"#mae7f067b3e\" y=\"19.554545\"/>\r\n     <use style=\"fill:#8c564b;stroke:#8c564b;\" x=\"311.163494\" xlink:href=\"#mae7f067b3e\" y=\"19.554545\"/>\r\n     <use style=\"fill:#8c564b;stroke:#8c564b;\" x=\"311.163494\" xlink:href=\"#mae7f067b3e\" y=\"19.554545\"/>\r\n     <use style=\"fill:#8c564b;stroke:#8c564b;\" x=\"311.163494\" xlink:href=\"#mae7f067b3e\" y=\"19.554545\"/>\r\n     <use style=\"fill:#8c564b;stroke:#8c564b;\" x=\"311.163494\" xlink:href=\"#mae7f067b3e\" y=\"19.554545\"/>\r\n     <use style=\"fill:#8c564b;stroke:#8c564b;\" x=\"311.163494\" xlink:href=\"#mae7f067b3e\" y=\"19.554545\"/>\r\n     <use style=\"fill:#8c564b;stroke:#8c564b;\" x=\"311.163494\" xlink:href=\"#mae7f067b3e\" y=\"19.554545\"/>\r\n     <use style=\"fill:#8c564b;stroke:#8c564b;\" x=\"311.163494\" xlink:href=\"#mae7f067b3e\" y=\"19.554545\"/>\r\n     <use style=\"fill:#8c564b;stroke:#8c564b;\" x=\"311.163494\" xlink:href=\"#mae7f067b3e\" y=\"19.554545\"/>\r\n     <use style=\"fill:#8c564b;stroke:#8c564b;\" x=\"311.163494\" xlink:href=\"#mae7f067b3e\" y=\"19.554545\"/>\r\n     <use style=\"fill:#8c564b;stroke:#8c564b;\" x=\"311.163494\" xlink:href=\"#mae7f067b3e\" y=\"19.554545\"/>\r\n     <use style=\"fill:#8c564b;stroke:#8c564b;\" x=\"311.163494\" xlink:href=\"#mae7f067b3e\" y=\"19.554545\"/>\r\n     <use style=\"fill:#8c564b;stroke:#8c564b;\" x=\"311.163494\" xlink:href=\"#mae7f067b3e\" y=\"19.554545\"/>\r\n     <use style=\"fill:#8c564b;stroke:#8c564b;\" x=\"311.163494\" xlink:href=\"#mae7f067b3e\" y=\"19.554545\"/>\r\n     <use style=\"fill:#8c564b;stroke:#8c564b;\" x=\"311.163494\" xlink:href=\"#mae7f067b3e\" y=\"19.554545\"/>\r\n     <use style=\"fill:#8c564b;stroke:#8c564b;\" x=\"311.163494\" xlink:href=\"#mae7f067b3e\" y=\"19.554545\"/>\r\n     <use style=\"fill:#8c564b;stroke:#8c564b;\" x=\"311.163494\" xlink:href=\"#mae7f067b3e\" y=\"19.554545\"/>\r\n     <use style=\"fill:#8c564b;stroke:#8c564b;\" x=\"311.163494\" xlink:href=\"#mae7f067b3e\" y=\"19.554545\"/>\r\n     <use style=\"fill:#8c564b;stroke:#8c564b;\" x=\"311.163494\" xlink:href=\"#mae7f067b3e\" y=\"19.554545\"/>\r\n     <use style=\"fill:#8c564b;stroke:#8c564b;\" x=\"311.163494\" xlink:href=\"#mae7f067b3e\" y=\"19.554545\"/>\r\n     <use style=\"fill:#8c564b;stroke:#8c564b;\" x=\"311.163494\" xlink:href=\"#mae7f067b3e\" y=\"19.554545\"/>\r\n     <use style=\"fill:#8c564b;stroke:#8c564b;\" x=\"311.163494\" xlink:href=\"#mae7f067b3e\" y=\"19.554545\"/>\r\n     <use style=\"fill:#8c564b;stroke:#8c564b;\" x=\"311.163494\" xlink:href=\"#mae7f067b3e\" y=\"19.554545\"/>\r\n     <use style=\"fill:#8c564b;stroke:#8c564b;\" x=\"311.163494\" xlink:href=\"#mae7f067b3e\" y=\"19.554545\"/>\r\n     <use style=\"fill:#8c564b;stroke:#8c564b;\" x=\"311.163494\" xlink:href=\"#mae7f067b3e\" y=\"19.554545\"/>\r\n     <use style=\"fill:#8c564b;stroke:#8c564b;\" x=\"311.163494\" xlink:href=\"#mae7f067b3e\" y=\"19.554545\"/>\r\n     <use style=\"fill:#8c564b;stroke:#8c564b;\" x=\"311.163494\" xlink:href=\"#mae7f067b3e\" y=\"19.554545\"/>\r\n     <use style=\"fill:#8c564b;stroke:#8c564b;\" x=\"311.163494\" xlink:href=\"#mae7f067b3e\" y=\"19.554545\"/>\r\n     <use style=\"fill:#8c564b;stroke:#8c564b;\" x=\"311.163494\" xlink:href=\"#mae7f067b3e\" y=\"19.554545\"/>\r\n     <use style=\"fill:#8c564b;stroke:#8c564b;\" x=\"311.163494\" xlink:href=\"#mae7f067b3e\" y=\"19.554545\"/>\r\n     <use style=\"fill:#8c564b;stroke:#8c564b;\" x=\"311.163494\" xlink:href=\"#mae7f067b3e\" y=\"19.554545\"/>\r\n     <use style=\"fill:#8c564b;stroke:#8c564b;\" x=\"311.163494\" xlink:href=\"#mae7f067b3e\" y=\"19.554545\"/>\r\n     <use style=\"fill:#8c564b;stroke:#8c564b;\" x=\"311.163494\" xlink:href=\"#mae7f067b3e\" y=\"19.554545\"/>\r\n     <use style=\"fill:#8c564b;stroke:#8c564b;\" x=\"311.163494\" xlink:href=\"#mae7f067b3e\" y=\"19.554545\"/>\r\n     <use style=\"fill:#8c564b;stroke:#8c564b;\" x=\"311.163494\" xlink:href=\"#mae7f067b3e\" y=\"19.554545\"/>\r\n     <use style=\"fill:#8c564b;stroke:#8c564b;\" x=\"311.163494\" xlink:href=\"#mae7f067b3e\" y=\"19.554545\"/>\r\n     <use style=\"fill:#8c564b;stroke:#8c564b;\" x=\"311.163494\" xlink:href=\"#mae7f067b3e\" y=\"19.554545\"/>\r\n     <use style=\"fill:#8c564b;stroke:#8c564b;\" x=\"311.163494\" xlink:href=\"#mae7f067b3e\" y=\"19.554545\"/>\r\n     <use style=\"fill:#8c564b;stroke:#8c564b;\" x=\"311.163494\" xlink:href=\"#mae7f067b3e\" y=\"19.554545\"/>\r\n     <use style=\"fill:#8c564b;stroke:#8c564b;\" x=\"311.163494\" xlink:href=\"#mae7f067b3e\" y=\"19.554545\"/>\r\n     <use style=\"fill:#8c564b;stroke:#8c564b;\" x=\"311.163494\" xlink:href=\"#mae7f067b3e\" y=\"19.554545\"/>\r\n     <use style=\"fill:#8c564b;stroke:#8c564b;\" x=\"311.163494\" xlink:href=\"#mae7f067b3e\" y=\"19.554545\"/>\r\n     <use style=\"fill:#8c564b;stroke:#8c564b;\" x=\"311.163494\" xlink:href=\"#mae7f067b3e\" y=\"19.554545\"/>\r\n     <use style=\"fill:#8c564b;stroke:#8c564b;\" x=\"311.163494\" xlink:href=\"#mae7f067b3e\" y=\"19.554545\"/>\r\n    </g>\r\n   </g>\r\n   <g id=\"PathCollection_7\">\r\n    <defs>\r\n     <path d=\"M 0 2.236068 \r\nC 0.593012 2.236068 1.161816 2.000462 1.581139 1.581139 \r\nC 2.000462 1.161816 2.236068 0.593012 2.236068 0 \r\nC 2.236068 -0.593012 2.000462 -1.161816 1.581139 -1.581139 \r\nC 1.161816 -2.000462 0.593012 -2.236068 0 -2.236068 \r\nC -0.593012 -2.236068 -1.161816 -2.000462 -1.581139 -1.581139 \r\nC -2.000462 -1.161816 -2.236068 -0.593012 -2.236068 0 \r\nC -2.236068 0.593012 -2.000462 1.161816 -1.581139 1.581139 \r\nC -1.161816 2.000462 -0.593012 2.236068 0 2.236068 \r\nz\r\n\" id=\"m9be0f752dd\" style=\"stroke:#e377c2;\"/>\r\n    </defs>\r\n    <g clip-path=\"url(#pc8d0a12e81)\">\r\n     <use style=\"fill:#e377c2;stroke:#e377c2;\" x=\"57.527131\" xlink:href=\"#m9be0f752dd\" y=\"19.554545\"/>\r\n     <use style=\"fill:#e377c2;stroke:#e377c2;\" x=\"57.527131\" xlink:href=\"#m9be0f752dd\" y=\"19.554545\"/>\r\n     <use style=\"fill:#e377c2;stroke:#e377c2;\" x=\"57.527131\" xlink:href=\"#m9be0f752dd\" y=\"19.554545\"/>\r\n     <use style=\"fill:#e377c2;stroke:#e377c2;\" x=\"57.527131\" xlink:href=\"#m9be0f752dd\" y=\"19.554545\"/>\r\n     <use style=\"fill:#e377c2;stroke:#e377c2;\" x=\"57.527131\" xlink:href=\"#m9be0f752dd\" y=\"19.554545\"/>\r\n     <use style=\"fill:#e377c2;stroke:#e377c2;\" x=\"57.527131\" xlink:href=\"#m9be0f752dd\" y=\"19.554545\"/>\r\n     <use style=\"fill:#e377c2;stroke:#e377c2;\" x=\"57.527131\" xlink:href=\"#m9be0f752dd\" y=\"19.554545\"/>\r\n     <use style=\"fill:#e377c2;stroke:#e377c2;\" x=\"57.527131\" xlink:href=\"#m9be0f752dd\" y=\"19.554545\"/>\r\n     <use style=\"fill:#e377c2;stroke:#e377c2;\" x=\"57.527131\" xlink:href=\"#m9be0f752dd\" y=\"19.554545\"/>\r\n     <use style=\"fill:#e377c2;stroke:#e377c2;\" x=\"57.527131\" xlink:href=\"#m9be0f752dd\" y=\"19.554545\"/>\r\n     <use style=\"fill:#e377c2;stroke:#e377c2;\" x=\"57.527131\" xlink:href=\"#m9be0f752dd\" y=\"19.554545\"/>\r\n     <use style=\"fill:#e377c2;stroke:#e377c2;\" x=\"57.527131\" xlink:href=\"#m9be0f752dd\" y=\"19.554545\"/>\r\n     <use style=\"fill:#e377c2;stroke:#e377c2;\" x=\"57.527131\" xlink:href=\"#m9be0f752dd\" y=\"19.554545\"/>\r\n     <use style=\"fill:#e377c2;stroke:#e377c2;\" x=\"57.527131\" xlink:href=\"#m9be0f752dd\" y=\"19.554545\"/>\r\n     <use style=\"fill:#e377c2;stroke:#e377c2;\" x=\"57.527131\" xlink:href=\"#m9be0f752dd\" y=\"19.554545\"/>\r\n     <use style=\"fill:#e377c2;stroke:#e377c2;\" x=\"57.527131\" xlink:href=\"#m9be0f752dd\" y=\"19.554545\"/>\r\n     <use style=\"fill:#e377c2;stroke:#e377c2;\" x=\"57.527131\" xlink:href=\"#m9be0f752dd\" y=\"19.554545\"/>\r\n     <use style=\"fill:#e377c2;stroke:#e377c2;\" x=\"57.527131\" xlink:href=\"#m9be0f752dd\" y=\"19.554545\"/>\r\n     <use style=\"fill:#e377c2;stroke:#e377c2;\" x=\"57.527131\" xlink:href=\"#m9be0f752dd\" y=\"19.554545\"/>\r\n     <use style=\"fill:#e377c2;stroke:#e377c2;\" x=\"57.527131\" xlink:href=\"#m9be0f752dd\" y=\"19.554545\"/>\r\n     <use style=\"fill:#e377c2;stroke:#e377c2;\" x=\"57.527131\" xlink:href=\"#m9be0f752dd\" y=\"19.554545\"/>\r\n     <use style=\"fill:#e377c2;stroke:#e377c2;\" x=\"57.527131\" xlink:href=\"#m9be0f752dd\" y=\"19.554545\"/>\r\n     <use style=\"fill:#e377c2;stroke:#e377c2;\" x=\"57.527131\" xlink:href=\"#m9be0f752dd\" y=\"19.554545\"/>\r\n     <use style=\"fill:#e377c2;stroke:#e377c2;\" x=\"57.527131\" xlink:href=\"#m9be0f752dd\" y=\"19.554545\"/>\r\n     <use style=\"fill:#e377c2;stroke:#e377c2;\" x=\"57.527131\" xlink:href=\"#m9be0f752dd\" y=\"19.554545\"/>\r\n     <use style=\"fill:#e377c2;stroke:#e377c2;\" x=\"57.527131\" xlink:href=\"#m9be0f752dd\" y=\"19.554545\"/>\r\n     <use style=\"fill:#e377c2;stroke:#e377c2;\" x=\"57.527131\" xlink:href=\"#m9be0f752dd\" y=\"19.554545\"/>\r\n     <use style=\"fill:#e377c2;stroke:#e377c2;\" x=\"57.527131\" xlink:href=\"#m9be0f752dd\" y=\"19.554545\"/>\r\n     <use style=\"fill:#e377c2;stroke:#e377c2;\" x=\"57.527131\" xlink:href=\"#m9be0f752dd\" y=\"19.554545\"/>\r\n     <use style=\"fill:#e377c2;stroke:#e377c2;\" x=\"57.527131\" xlink:href=\"#m9be0f752dd\" y=\"19.554545\"/>\r\n     <use style=\"fill:#e377c2;stroke:#e377c2;\" x=\"57.527131\" xlink:href=\"#m9be0f752dd\" y=\"19.554545\"/>\r\n     <use style=\"fill:#e377c2;stroke:#e377c2;\" x=\"57.527131\" xlink:href=\"#m9be0f752dd\" y=\"19.554545\"/>\r\n     <use style=\"fill:#e377c2;stroke:#e377c2;\" x=\"57.527131\" xlink:href=\"#m9be0f752dd\" y=\"19.554545\"/>\r\n     <use style=\"fill:#e377c2;stroke:#e377c2;\" x=\"57.527131\" xlink:href=\"#m9be0f752dd\" y=\"19.554545\"/>\r\n    </g>\r\n   </g>\r\n   <g id=\"matplotlib.axis_1\">\r\n    <g id=\"xtick_1\">\r\n     <g id=\"line2d_1\">\r\n      <defs>\r\n       <path d=\"M 0 0 \r\nL 0 3.5 \r\n\" id=\"m6d6d8f92b4\" style=\"stroke:#000000;stroke-width:0.8;\"/>\r\n      </defs>\r\n      <g>\r\n       <use style=\"stroke:#000000;stroke-width:0.8;\" x=\"88.960089\" xlink:href=\"#m6d6d8f92b4\" y=\"279\"/>\r\n      </g>\r\n     </g>\r\n     <g id=\"text_1\">\r\n      <!-- −0.05 -->\r\n      <g transform=\"translate(73.637433 293.598437)scale(0.1 -0.1)\">\r\n       <defs>\r\n        <path d=\"M 10.59375 35.5 \r\nL 73.1875 35.5 \r\nL 73.1875 27.203125 \r\nL 10.59375 27.203125 \r\nz\r\n\" id=\"DejaVuSans-8722\"/>\r\n        <path d=\"M 31.78125 66.40625 \r\nQ 24.171875 66.40625 20.328125 58.90625 \r\nQ 16.5 51.421875 16.5 36.375 \r\nQ 16.5 21.390625 20.328125 13.890625 \r\nQ 24.171875 6.390625 31.78125 6.390625 \r\nQ 39.453125 6.390625 43.28125 13.890625 \r\nQ 47.125 21.390625 47.125 36.375 \r\nQ 47.125 51.421875 43.28125 58.90625 \r\nQ 39.453125 66.40625 31.78125 66.40625 \r\nz\r\nM 31.78125 74.21875 \r\nQ 44.046875 74.21875 50.515625 64.515625 \r\nQ 56.984375 54.828125 56.984375 36.375 \r\nQ 56.984375 17.96875 50.515625 8.265625 \r\nQ 44.046875 -1.421875 31.78125 -1.421875 \r\nQ 19.53125 -1.421875 13.0625 8.265625 \r\nQ 6.59375 17.96875 6.59375 36.375 \r\nQ 6.59375 54.828125 13.0625 64.515625 \r\nQ 19.53125 74.21875 31.78125 74.21875 \r\nz\r\n\" id=\"DejaVuSans-48\"/>\r\n        <path d=\"M 10.6875 12.40625 \r\nL 21 12.40625 \r\nL 21 0 \r\nL 10.6875 0 \r\nz\r\n\" id=\"DejaVuSans-46\"/>\r\n        <path d=\"M 10.796875 72.90625 \r\nL 49.515625 72.90625 \r\nL 49.515625 64.59375 \r\nL 19.828125 64.59375 \r\nL 19.828125 46.734375 \r\nQ 21.96875 47.46875 24.109375 47.828125 \r\nQ 26.265625 48.1875 28.421875 48.1875 \r\nQ 40.625 48.1875 47.75 41.5 \r\nQ 54.890625 34.8125 54.890625 23.390625 \r\nQ 54.890625 11.625 47.5625 5.09375 \r\nQ 40.234375 -1.421875 26.90625 -1.421875 \r\nQ 22.3125 -1.421875 17.546875 -0.640625 \r\nQ 12.796875 0.140625 7.71875 1.703125 \r\nL 7.71875 11.625 \r\nQ 12.109375 9.234375 16.796875 8.0625 \r\nQ 21.484375 6.890625 26.703125 6.890625 \r\nQ 35.15625 6.890625 40.078125 11.328125 \r\nQ 45.015625 15.765625 45.015625 23.390625 \r\nQ 45.015625 31 40.078125 35.4375 \r\nQ 35.15625 39.890625 26.703125 39.890625 \r\nQ 22.75 39.890625 18.8125 39.015625 \r\nQ 14.890625 38.140625 10.796875 36.28125 \r\nz\r\n\" id=\"DejaVuSans-53\"/>\r\n       </defs>\r\n       <use xlink:href=\"#DejaVuSans-8722\"/>\r\n       <use x=\"83.789062\" xlink:href=\"#DejaVuSans-48\"/>\r\n       <use x=\"147.412109\" xlink:href=\"#DejaVuSans-46\"/>\r\n       <use x=\"179.199219\" xlink:href=\"#DejaVuSans-48\"/>\r\n       <use x=\"242.822266\" xlink:href=\"#DejaVuSans-53\"/>\r\n      </g>\r\n     </g>\r\n    </g>\r\n    <g id=\"xtick_2\">\r\n     <g id=\"line2d_2\">\r\n      <g>\r\n       <use style=\"stroke:#000000;stroke-width:0.8;\" x=\"133.40077\" xlink:href=\"#m6d6d8f92b4\" y=\"279\"/>\r\n      </g>\r\n     </g>\r\n     <g id=\"text_2\">\r\n      <!-- −0.04 -->\r\n      <g transform=\"translate(118.078114 293.598437)scale(0.1 -0.1)\">\r\n       <defs>\r\n        <path d=\"M 37.796875 64.3125 \r\nL 12.890625 25.390625 \r\nL 37.796875 25.390625 \r\nz\r\nM 35.203125 72.90625 \r\nL 47.609375 72.90625 \r\nL 47.609375 25.390625 \r\nL 58.015625 25.390625 \r\nL 58.015625 17.1875 \r\nL 47.609375 17.1875 \r\nL 47.609375 0 \r\nL 37.796875 0 \r\nL 37.796875 17.1875 \r\nL 4.890625 17.1875 \r\nL 4.890625 26.703125 \r\nz\r\n\" id=\"DejaVuSans-52\"/>\r\n       </defs>\r\n       <use xlink:href=\"#DejaVuSans-8722\"/>\r\n       <use x=\"83.789062\" xlink:href=\"#DejaVuSans-48\"/>\r\n       <use x=\"147.412109\" xlink:href=\"#DejaVuSans-46\"/>\r\n       <use x=\"179.199219\" xlink:href=\"#DejaVuSans-48\"/>\r\n       <use x=\"242.822266\" xlink:href=\"#DejaVuSans-52\"/>\r\n      </g>\r\n     </g>\r\n    </g>\r\n    <g id=\"xtick_3\">\r\n     <g id=\"line2d_3\">\r\n      <g>\r\n       <use style=\"stroke:#000000;stroke-width:0.8;\" x=\"177.841451\" xlink:href=\"#m6d6d8f92b4\" y=\"279\"/>\r\n      </g>\r\n     </g>\r\n     <g id=\"text_3\">\r\n      <!-- −0.03 -->\r\n      <g transform=\"translate(162.518795 293.598437)scale(0.1 -0.1)\">\r\n       <defs>\r\n        <path d=\"M 40.578125 39.3125 \r\nQ 47.65625 37.796875 51.625 33 \r\nQ 55.609375 28.21875 55.609375 21.1875 \r\nQ 55.609375 10.40625 48.1875 4.484375 \r\nQ 40.765625 -1.421875 27.09375 -1.421875 \r\nQ 22.515625 -1.421875 17.65625 -0.515625 \r\nQ 12.796875 0.390625 7.625 2.203125 \r\nL 7.625 11.71875 \r\nQ 11.71875 9.328125 16.59375 8.109375 \r\nQ 21.484375 6.890625 26.8125 6.890625 \r\nQ 36.078125 6.890625 40.9375 10.546875 \r\nQ 45.796875 14.203125 45.796875 21.1875 \r\nQ 45.796875 27.640625 41.28125 31.265625 \r\nQ 36.765625 34.90625 28.71875 34.90625 \r\nL 20.21875 34.90625 \r\nL 20.21875 43.015625 \r\nL 29.109375 43.015625 \r\nQ 36.375 43.015625 40.234375 45.921875 \r\nQ 44.09375 48.828125 44.09375 54.296875 \r\nQ 44.09375 59.90625 40.109375 62.90625 \r\nQ 36.140625 65.921875 28.71875 65.921875 \r\nQ 24.65625 65.921875 20.015625 65.03125 \r\nQ 15.375 64.15625 9.8125 62.3125 \r\nL 9.8125 71.09375 \r\nQ 15.4375 72.65625 20.34375 73.4375 \r\nQ 25.25 74.21875 29.59375 74.21875 \r\nQ 40.828125 74.21875 47.359375 69.109375 \r\nQ 53.90625 64.015625 53.90625 55.328125 \r\nQ 53.90625 49.265625 50.4375 45.09375 \r\nQ 46.96875 40.921875 40.578125 39.3125 \r\nz\r\n\" id=\"DejaVuSans-51\"/>\r\n       </defs>\r\n       <use xlink:href=\"#DejaVuSans-8722\"/>\r\n       <use x=\"83.789062\" xlink:href=\"#DejaVuSans-48\"/>\r\n       <use x=\"147.412109\" xlink:href=\"#DejaVuSans-46\"/>\r\n       <use x=\"179.199219\" xlink:href=\"#DejaVuSans-48\"/>\r\n       <use x=\"242.822266\" xlink:href=\"#DejaVuSans-51\"/>\r\n      </g>\r\n     </g>\r\n    </g>\r\n    <g id=\"xtick_4\">\r\n     <g id=\"line2d_4\">\r\n      <g>\r\n       <use style=\"stroke:#000000;stroke-width:0.8;\" x=\"222.282132\" xlink:href=\"#m6d6d8f92b4\" y=\"279\"/>\r\n      </g>\r\n     </g>\r\n     <g id=\"text_4\">\r\n      <!-- −0.02 -->\r\n      <g transform=\"translate(206.959476 293.598437)scale(0.1 -0.1)\">\r\n       <defs>\r\n        <path d=\"M 19.1875 8.296875 \r\nL 53.609375 8.296875 \r\nL 53.609375 0 \r\nL 7.328125 0 \r\nL 7.328125 8.296875 \r\nQ 12.9375 14.109375 22.625 23.890625 \r\nQ 32.328125 33.6875 34.8125 36.53125 \r\nQ 39.546875 41.84375 41.421875 45.53125 \r\nQ 43.3125 49.21875 43.3125 52.78125 \r\nQ 43.3125 58.59375 39.234375 62.25 \r\nQ 35.15625 65.921875 28.609375 65.921875 \r\nQ 23.96875 65.921875 18.8125 64.3125 \r\nQ 13.671875 62.703125 7.8125 59.421875 \r\nL 7.8125 69.390625 \r\nQ 13.765625 71.78125 18.9375 73 \r\nQ 24.125 74.21875 28.421875 74.21875 \r\nQ 39.75 74.21875 46.484375 68.546875 \r\nQ 53.21875 62.890625 53.21875 53.421875 \r\nQ 53.21875 48.921875 51.53125 44.890625 \r\nQ 49.859375 40.875 45.40625 35.40625 \r\nQ 44.1875 33.984375 37.640625 27.21875 \r\nQ 31.109375 20.453125 19.1875 8.296875 \r\nz\r\n\" id=\"DejaVuSans-50\"/>\r\n       </defs>\r\n       <use xlink:href=\"#DejaVuSans-8722\"/>\r\n       <use x=\"83.789062\" xlink:href=\"#DejaVuSans-48\"/>\r\n       <use x=\"147.412109\" xlink:href=\"#DejaVuSans-46\"/>\r\n       <use x=\"179.199219\" xlink:href=\"#DejaVuSans-48\"/>\r\n       <use x=\"242.822266\" xlink:href=\"#DejaVuSans-50\"/>\r\n      </g>\r\n     </g>\r\n    </g>\r\n    <g id=\"xtick_5\">\r\n     <g id=\"line2d_5\">\r\n      <g>\r\n       <use style=\"stroke:#000000;stroke-width:0.8;\" x=\"266.722813\" xlink:href=\"#m6d6d8f92b4\" y=\"279\"/>\r\n      </g>\r\n     </g>\r\n     <g id=\"text_5\">\r\n      <!-- −0.01 -->\r\n      <g transform=\"translate(251.400157 293.598437)scale(0.1 -0.1)\">\r\n       <defs>\r\n        <path d=\"M 12.40625 8.296875 \r\nL 28.515625 8.296875 \r\nL 28.515625 63.921875 \r\nL 10.984375 60.40625 \r\nL 10.984375 69.390625 \r\nL 28.421875 72.90625 \r\nL 38.28125 72.90625 \r\nL 38.28125 8.296875 \r\nL 54.390625 8.296875 \r\nL 54.390625 0 \r\nL 12.40625 0 \r\nz\r\n\" id=\"DejaVuSans-49\"/>\r\n       </defs>\r\n       <use xlink:href=\"#DejaVuSans-8722\"/>\r\n       <use x=\"83.789062\" xlink:href=\"#DejaVuSans-48\"/>\r\n       <use x=\"147.412109\" xlink:href=\"#DejaVuSans-46\"/>\r\n       <use x=\"179.199219\" xlink:href=\"#DejaVuSans-48\"/>\r\n       <use x=\"242.822266\" xlink:href=\"#DejaVuSans-49\"/>\r\n      </g>\r\n     </g>\r\n    </g>\r\n    <g id=\"xtick_6\">\r\n     <g id=\"line2d_6\">\r\n      <g>\r\n       <use style=\"stroke:#000000;stroke-width:0.8;\" x=\"311.163494\" xlink:href=\"#m6d6d8f92b4\" y=\"279\"/>\r\n      </g>\r\n     </g>\r\n     <g id=\"text_6\">\r\n      <!-- 0.00 -->\r\n      <g transform=\"translate(300.030682 293.598437)scale(0.1 -0.1)\">\r\n       <use xlink:href=\"#DejaVuSans-48\"/>\r\n       <use x=\"63.623047\" xlink:href=\"#DejaVuSans-46\"/>\r\n       <use x=\"95.410156\" xlink:href=\"#DejaVuSans-48\"/>\r\n       <use x=\"159.033203\" xlink:href=\"#DejaVuSans-48\"/>\r\n      </g>\r\n     </g>\r\n    </g>\r\n   </g>\r\n   <g id=\"matplotlib.axis_2\">\r\n    <g id=\"ytick_1\">\r\n     <g id=\"line2d_7\">\r\n      <defs>\r\n       <path d=\"M 0 0 \r\nL -3.5 0 \r\n\" id=\"m9a865420fd\" style=\"stroke:#000000;stroke-width:0.8;\"/>\r\n      </defs>\r\n      <g>\r\n       <use style=\"stroke:#000000;stroke-width:0.8;\" x=\"44.845313\" xlink:href=\"#m9a865420fd\" y=\"251.609615\"/>\r\n      </g>\r\n     </g>\r\n     <g id=\"text_7\">\r\n      <!-- −0.14 -->\r\n      <g transform=\"translate(7.2 255.408833)scale(0.1 -0.1)\">\r\n       <use xlink:href=\"#DejaVuSans-8722\"/>\r\n       <use x=\"83.789062\" xlink:href=\"#DejaVuSans-48\"/>\r\n       <use x=\"147.412109\" xlink:href=\"#DejaVuSans-46\"/>\r\n       <use x=\"179.199219\" xlink:href=\"#DejaVuSans-49\"/>\r\n       <use x=\"242.822266\" xlink:href=\"#DejaVuSans-52\"/>\r\n      </g>\r\n     </g>\r\n    </g>\r\n    <g id=\"ytick_2\">\r\n     <g id=\"line2d_8\">\r\n      <g>\r\n       <use style=\"stroke:#000000;stroke-width:0.8;\" x=\"44.845313\" xlink:href=\"#m9a865420fd\" y=\"218.45889\"/>\r\n      </g>\r\n     </g>\r\n     <g id=\"text_8\">\r\n      <!-- −0.12 -->\r\n      <g transform=\"translate(7.2 222.258109)scale(0.1 -0.1)\">\r\n       <use xlink:href=\"#DejaVuSans-8722\"/>\r\n       <use x=\"83.789062\" xlink:href=\"#DejaVuSans-48\"/>\r\n       <use x=\"147.412109\" xlink:href=\"#DejaVuSans-46\"/>\r\n       <use x=\"179.199219\" xlink:href=\"#DejaVuSans-49\"/>\r\n       <use x=\"242.822266\" xlink:href=\"#DejaVuSans-50\"/>\r\n      </g>\r\n     </g>\r\n    </g>\r\n    <g id=\"ytick_3\">\r\n     <g id=\"line2d_9\">\r\n      <g>\r\n       <use style=\"stroke:#000000;stroke-width:0.8;\" x=\"44.845313\" xlink:href=\"#m9a865420fd\" y=\"185.308166\"/>\r\n      </g>\r\n     </g>\r\n     <g id=\"text_9\">\r\n      <!-- −0.10 -->\r\n      <g transform=\"translate(7.2 189.107385)scale(0.1 -0.1)\">\r\n       <use xlink:href=\"#DejaVuSans-8722\"/>\r\n       <use x=\"83.789062\" xlink:href=\"#DejaVuSans-48\"/>\r\n       <use x=\"147.412109\" xlink:href=\"#DejaVuSans-46\"/>\r\n       <use x=\"179.199219\" xlink:href=\"#DejaVuSans-49\"/>\r\n       <use x=\"242.822266\" xlink:href=\"#DejaVuSans-48\"/>\r\n      </g>\r\n     </g>\r\n    </g>\r\n    <g id=\"ytick_4\">\r\n     <g id=\"line2d_10\">\r\n      <g>\r\n       <use style=\"stroke:#000000;stroke-width:0.8;\" x=\"44.845313\" xlink:href=\"#m9a865420fd\" y=\"152.157442\"/>\r\n      </g>\r\n     </g>\r\n     <g id=\"text_10\">\r\n      <!-- −0.08 -->\r\n      <g transform=\"translate(7.2 155.956661)scale(0.1 -0.1)\">\r\n       <defs>\r\n        <path d=\"M 31.78125 34.625 \r\nQ 24.75 34.625 20.71875 30.859375 \r\nQ 16.703125 27.09375 16.703125 20.515625 \r\nQ 16.703125 13.921875 20.71875 10.15625 \r\nQ 24.75 6.390625 31.78125 6.390625 \r\nQ 38.8125 6.390625 42.859375 10.171875 \r\nQ 46.921875 13.96875 46.921875 20.515625 \r\nQ 46.921875 27.09375 42.890625 30.859375 \r\nQ 38.875 34.625 31.78125 34.625 \r\nz\r\nM 21.921875 38.8125 \r\nQ 15.578125 40.375 12.03125 44.71875 \r\nQ 8.5 49.078125 8.5 55.328125 \r\nQ 8.5 64.0625 14.71875 69.140625 \r\nQ 20.953125 74.21875 31.78125 74.21875 \r\nQ 42.671875 74.21875 48.875 69.140625 \r\nQ 55.078125 64.0625 55.078125 55.328125 \r\nQ 55.078125 49.078125 51.53125 44.71875 \r\nQ 48 40.375 41.703125 38.8125 \r\nQ 48.828125 37.15625 52.796875 32.3125 \r\nQ 56.78125 27.484375 56.78125 20.515625 \r\nQ 56.78125 9.90625 50.3125 4.234375 \r\nQ 43.84375 -1.421875 31.78125 -1.421875 \r\nQ 19.734375 -1.421875 13.25 4.234375 \r\nQ 6.78125 9.90625 6.78125 20.515625 \r\nQ 6.78125 27.484375 10.78125 32.3125 \r\nQ 14.796875 37.15625 21.921875 38.8125 \r\nz\r\nM 18.3125 54.390625 \r\nQ 18.3125 48.734375 21.84375 45.5625 \r\nQ 25.390625 42.390625 31.78125 42.390625 \r\nQ 38.140625 42.390625 41.71875 45.5625 \r\nQ 45.3125 48.734375 45.3125 54.390625 \r\nQ 45.3125 60.0625 41.71875 63.234375 \r\nQ 38.140625 66.40625 31.78125 66.40625 \r\nQ 25.390625 66.40625 21.84375 63.234375 \r\nQ 18.3125 60.0625 18.3125 54.390625 \r\nz\r\n\" id=\"DejaVuSans-56\"/>\r\n       </defs>\r\n       <use xlink:href=\"#DejaVuSans-8722\"/>\r\n       <use x=\"83.789062\" xlink:href=\"#DejaVuSans-48\"/>\r\n       <use x=\"147.412109\" xlink:href=\"#DejaVuSans-46\"/>\r\n       <use x=\"179.199219\" xlink:href=\"#DejaVuSans-48\"/>\r\n       <use x=\"242.822266\" xlink:href=\"#DejaVuSans-56\"/>\r\n      </g>\r\n     </g>\r\n    </g>\r\n    <g id=\"ytick_5\">\r\n     <g id=\"line2d_11\">\r\n      <g>\r\n       <use style=\"stroke:#000000;stroke-width:0.8;\" x=\"44.845313\" xlink:href=\"#m9a865420fd\" y=\"119.006718\"/>\r\n      </g>\r\n     </g>\r\n     <g id=\"text_11\">\r\n      <!-- −0.06 -->\r\n      <g transform=\"translate(7.2 122.805937)scale(0.1 -0.1)\">\r\n       <defs>\r\n        <path d=\"M 33.015625 40.375 \r\nQ 26.375 40.375 22.484375 35.828125 \r\nQ 18.609375 31.296875 18.609375 23.390625 \r\nQ 18.609375 15.53125 22.484375 10.953125 \r\nQ 26.375 6.390625 33.015625 6.390625 \r\nQ 39.65625 6.390625 43.53125 10.953125 \r\nQ 47.40625 15.53125 47.40625 23.390625 \r\nQ 47.40625 31.296875 43.53125 35.828125 \r\nQ 39.65625 40.375 33.015625 40.375 \r\nz\r\nM 52.59375 71.296875 \r\nL 52.59375 62.3125 \r\nQ 48.875 64.0625 45.09375 64.984375 \r\nQ 41.3125 65.921875 37.59375 65.921875 \r\nQ 27.828125 65.921875 22.671875 59.328125 \r\nQ 17.53125 52.734375 16.796875 39.40625 \r\nQ 19.671875 43.65625 24.015625 45.921875 \r\nQ 28.375 48.1875 33.59375 48.1875 \r\nQ 44.578125 48.1875 50.953125 41.515625 \r\nQ 57.328125 34.859375 57.328125 23.390625 \r\nQ 57.328125 12.15625 50.6875 5.359375 \r\nQ 44.046875 -1.421875 33.015625 -1.421875 \r\nQ 20.359375 -1.421875 13.671875 8.265625 \r\nQ 6.984375 17.96875 6.984375 36.375 \r\nQ 6.984375 53.65625 15.1875 63.9375 \r\nQ 23.390625 74.21875 37.203125 74.21875 \r\nQ 40.921875 74.21875 44.703125 73.484375 \r\nQ 48.484375 72.75 52.59375 71.296875 \r\nz\r\n\" id=\"DejaVuSans-54\"/>\r\n       </defs>\r\n       <use xlink:href=\"#DejaVuSans-8722\"/>\r\n       <use x=\"83.789062\" xlink:href=\"#DejaVuSans-48\"/>\r\n       <use x=\"147.412109\" xlink:href=\"#DejaVuSans-46\"/>\r\n       <use x=\"179.199219\" xlink:href=\"#DejaVuSans-48\"/>\r\n       <use x=\"242.822266\" xlink:href=\"#DejaVuSans-54\"/>\r\n      </g>\r\n     </g>\r\n    </g>\r\n    <g id=\"ytick_6\">\r\n     <g id=\"line2d_12\">\r\n      <g>\r\n       <use style=\"stroke:#000000;stroke-width:0.8;\" x=\"44.845313\" xlink:href=\"#m9a865420fd\" y=\"85.855994\"/>\r\n      </g>\r\n     </g>\r\n     <g id=\"text_12\">\r\n      <!-- −0.04 -->\r\n      <g transform=\"translate(7.2 89.655213)scale(0.1 -0.1)\">\r\n       <use xlink:href=\"#DejaVuSans-8722\"/>\r\n       <use x=\"83.789062\" xlink:href=\"#DejaVuSans-48\"/>\r\n       <use x=\"147.412109\" xlink:href=\"#DejaVuSans-46\"/>\r\n       <use x=\"179.199219\" xlink:href=\"#DejaVuSans-48\"/>\r\n       <use x=\"242.822266\" xlink:href=\"#DejaVuSans-52\"/>\r\n      </g>\r\n     </g>\r\n    </g>\r\n    <g id=\"ytick_7\">\r\n     <g id=\"line2d_13\">\r\n      <g>\r\n       <use style=\"stroke:#000000;stroke-width:0.8;\" x=\"44.845313\" xlink:href=\"#m9a865420fd\" y=\"52.70527\"/>\r\n      </g>\r\n     </g>\r\n     <g id=\"text_13\">\r\n      <!-- −0.02 -->\r\n      <g transform=\"translate(7.2 56.504488)scale(0.1 -0.1)\">\r\n       <use xlink:href=\"#DejaVuSans-8722\"/>\r\n       <use x=\"83.789062\" xlink:href=\"#DejaVuSans-48\"/>\r\n       <use x=\"147.412109\" xlink:href=\"#DejaVuSans-46\"/>\r\n       <use x=\"179.199219\" xlink:href=\"#DejaVuSans-48\"/>\r\n       <use x=\"242.822266\" xlink:href=\"#DejaVuSans-50\"/>\r\n      </g>\r\n     </g>\r\n    </g>\r\n    <g id=\"ytick_8\">\r\n     <g id=\"line2d_14\">\r\n      <g>\r\n       <use style=\"stroke:#000000;stroke-width:0.8;\" x=\"44.845313\" xlink:href=\"#m9a865420fd\" y=\"19.554545\"/>\r\n      </g>\r\n     </g>\r\n     <g id=\"text_14\">\r\n      <!-- 0.00 -->\r\n      <g transform=\"translate(15.579688 23.353764)scale(0.1 -0.1)\">\r\n       <use xlink:href=\"#DejaVuSans-48\"/>\r\n       <use x=\"63.623047\" xlink:href=\"#DejaVuSans-46\"/>\r\n       <use x=\"95.410156\" xlink:href=\"#DejaVuSans-48\"/>\r\n       <use x=\"159.033203\" xlink:href=\"#DejaVuSans-48\"/>\r\n      </g>\r\n     </g>\r\n    </g>\r\n   </g>\r\n   <g id=\"patch_3\">\r\n    <path d=\"M 44.845313 279 \r\nL 44.845313 7.2 \r\n\" style=\"fill:none;stroke:#000000;stroke-linecap:square;stroke-linejoin:miter;stroke-width:0.8;\"/>\r\n   </g>\r\n   <g id=\"patch_4\">\r\n    <path d=\"M 323.845312 279 \r\nL 323.845312 7.2 \r\n\" style=\"fill:none;stroke:#000000;stroke-linecap:square;stroke-linejoin:miter;stroke-width:0.8;\"/>\r\n   </g>\r\n   <g id=\"patch_5\">\r\n    <path d=\"M 44.845312 279 \r\nL 323.845313 279 \r\n\" style=\"fill:none;stroke:#000000;stroke-linecap:square;stroke-linejoin:miter;stroke-width:0.8;\"/>\r\n   </g>\r\n   <g id=\"patch_6\">\r\n    <path d=\"M 44.845312 7.2 \r\nL 323.845313 7.2 \r\n\" style=\"fill:none;stroke:#000000;stroke-linecap:square;stroke-linejoin:miter;stroke-width:0.8;\"/>\r\n   </g>\r\n  </g>\r\n </g>\r\n <defs>\r\n  <clipPath id=\"pc8d0a12e81\">\r\n   <rect height=\"271.8\" width=\"279\" x=\"44.845313\" y=\"7.2\"/>\r\n  </clipPath>\r\n </defs>\r\n</svg>\r\n",
      "text/plain": [
       "<Figure size 360x360 with 1 Axes>"
      ]
     },
     "metadata": {
      "needs_background": "light"
     },
     "output_type": "display_data"
    }
   ],
   "source": [
    "#LE重构\n",
    "x_DR=le(x,2,10,1,jump=False)\n",
    "plt.figure(figsize=(5,5))\n",
    "for i in np.unique(y):\n",
    "    plt.scatter(x_DR[y==i,0],x_DR[y==i,1],s=20)"
   ]
  },
  {
   "cell_type": "markdown",
   "metadata": {},
   "source": []
  },
  {
   "cell_type": "markdown",
   "metadata": {},
   "source": [
    "## 瑞士卷例子"
   ]
  },
  {
   "cell_type": "code",
   "execution_count": 101,
   "metadata": {},
   "outputs": [],
   "source": [
    "#画漂亮的3维图\n",
    "import pandas as pd\n",
    "import plotly.express as px # 数据可视化\n",
    "def chart(X, y):\n",
    "  #--------------------------------------------------------------------------#\n",
    "  # This section is not mandatory as its purpose is to sort the data by label \n",
    "  # 这个部分不是强制性的，因为它的目的是按标签对数据进行排序\n",
    "  # so, we can maintain consistent colors for digits across multiple graphs\n",
    "    #我们可以在多个图中为数字保持一致的颜色\n",
    "   \n",
    "  # Concatenate X and y arrays  连接X和y数组\n",
    "  arr_concat=np.concatenate((X, y.reshape(y.shape[0],1)), axis=1)\n",
    "  # Create a Pandas dataframe using the above array\n",
    "  df=pd.DataFrame(arr_concat, columns=['x', 'y', 'z', 'label'])\n",
    "  # Convert label data type from float to integer 将标签数据类型从浮点数转换为整数\n",
    "  df['label'] = df['label'].astype(int)\n",
    "  # Finally, sort the dataframe by label  根据标签对数据进行排序\n",
    "  df.sort_values(by='label', axis=0, ascending=True, inplace=True)\n",
    "  #--------------------------------------------------------------------------#\n",
    "   \n",
    "  # Create a 3D graph\n",
    "  fig = px.scatter_3d(df, x='x', y='y', z='z', color=df['label'].astype(str), height=900, width=950)\n",
    "\n",
    "  # Update chart looks\n",
    "  fig.update_layout(title_text='UMAP',\n",
    "                    showlegend=True,\n",
    "                    legend=dict(orientation=\"h\", yanchor=\"top\", y=0, xanchor=\"center\", x=0.5),\n",
    "                    scene_camera=dict(up=dict(x=0, y=0, z=1),\n",
    "                                          center=dict(x=0, y=0, z=-0.1),\n",
    "                                          eye=dict(x=1.5, y=-1.4, z=0.5)),\n",
    "                                          margin=dict(l=0, r=0, b=0, t=0),\n",
    "                    scene = dict(xaxis=dict(backgroundcolor='white',\n",
    "                                            color='black',\n",
    "                                            gridcolor='#f0f0f0',\n",
    "                                            title_font=dict(size=10),\n",
    "                                            tickfont=dict(size=10),\n",
    "                                            ),\n",
    "                                  yaxis=dict(backgroundcolor='white',\n",
    "                                            color='black',\n",
    "                                            gridcolor='#f0f0f0',\n",
    "                                            title_font=dict(size=10),\n",
    "                                            tickfont=dict(size=10),\n",
    "                                            ),\n",
    "                                  zaxis=dict(backgroundcolor='lightgrey',\n",
    "                                            color='black',\n",
    "                                            gridcolor='#f0f0f0',\n",
    "                                            title_font=dict(size=10),\n",
    "                                            tickfont=dict(size=10),\n",
    "                                            )))\n",
    "  # Update marker size\n",
    "  fig.update_traces(marker=dict(size=3, line=dict(color='black', width=0.1)))\n",
    "   \n",
    "  fig.show()"
   ]
  },
  {
   "cell_type": "code",
   "execution_count": 102,
   "metadata": {},
   "outputs": [],
   "source": [
    "#瑞士卷数据集\n",
    "def make_swiss_roll(n_samples, noise=0.0, random_state=None):\n",
    "    #Generate a swiss roll dataset.\n",
    "    t = 1.5 * np.pi * (1 + 2 * np.random.rand(1, n_samples))\n",
    "    x = t * np.cos(t)\n",
    "    y = 83 * np.random.rand(1, n_samples)\n",
    "    z = t * np.sin(t)\n",
    "    X = np.concatenate((x, y, z))\n",
    "    X += noise * np.random.randn(3, n_samples)\n",
    "    X = X.T\n",
    "    t = np.squeeze(t)\n",
    "    return X, t"
   ]
  },
  {
   "cell_type": "code",
   "execution_count": 103,
   "metadata": {},
   "outputs": [
    {
     "data": {
      "application/vnd.plotly.v1+json": {
       "config": {
        "plotlyServerURL": "https://plot.ly"
       },
       "data": [
        {
         "hovertemplate": "color=4<br>x=%{x}<br>y=%{y}<br>z=%{z}<extra></extra>",
         "legendgroup": "4",
         "marker": {
          "color": "#636efa",
          "line": {
           "color": "black",
           "width": 0.1
          },
          "size": 3,
          "symbol": "circle"
         },
         "mode": "markers",
         "name": "4",
         "scene": "scene",
         "showlegend": true,
         "type": "scatter3d",
         "x": [
          -0.15725147195209685,
          -0.29823872358530873,
          -0.21151524869430605,
          -0.21579208705882233,
          -0.15824237720178805,
          -0.17506232547096223,
          -0.25584327273757146,
          -0.23602962275028208,
          -0.2579531202559344,
          -0.24620924751837178,
          -0.23410911398068074,
          -0.3045747467522372,
          -0.2107784646222951,
          -0.2692739591501797,
          -0.22543704643892187,
          -0.2422900754933931,
          -0.2983879090550788,
          -0.20441154632193465,
          -0.16885321025526515
         ],
         "y": [
          -0.4379895366985352,
          1.2253135374725441,
          -1.2993976842797883,
          0.4224913164591802,
          1.5630285678309392,
          -0.3533962077943402,
          -1.4945648216622707,
          -0.39511491209326904,
          -1.3327211873012141,
          -0.22201870036408172,
          -1.4824133017828391,
          0.20502547089114964,
          0.1617130724566708,
          1.6940724075659526,
          -0.9416364639215979,
          -0.49356734271002844,
          1.3085281764117735,
          1.1896368887296278,
          0.7278000287467877
         ],
         "z": [
          -0.7125428964948174,
          -0.7080718773311043,
          -0.7140591462319442,
          -0.7140082265322618,
          -0.7126064013351602,
          -0.7134813581563083,
          -0.7123103497555032,
          -0.7134270555479477,
          -0.7121592856031069,
          -0.712921349584268,
          -0.7135064049388925,
          -0.7072184115973765,
          -0.714065392827162,
          -0.7112423378808264,
          -0.7138014363897938,
          -0.7131330246878085,
          -0.7080524473157145,
          -0.7140884877335578,
          -0.7132030173246933
         ]
        },
        {
         "hovertemplate": "color=5<br>x=%{x}<br>y=%{y}<br>z=%{z}<extra></extra>",
         "legendgroup": "5",
         "marker": {
          "color": "#EF553B",
          "line": {
           "color": "black",
           "width": 0.1
          },
          "size": 3,
          "symbol": "circle"
         },
         "mode": "markers",
         "name": "5",
         "scene": "scene",
         "showlegend": true,
         "type": "scatter3d",
         "x": [
          0.23129390092327554,
          0.36692200006810816,
          -0.007152918050604046,
          0.2425766055162867,
          -0.08736678239728782,
          -0.11398542008024141,
          0.12152837292851548,
          0.021088017254705403,
          0.11232057295635564,
          0.4238995341716768,
          0.4606429205442808,
          0.09185982603814166,
          0.4692441283063616,
          0.4388438342065298,
          0.21425632542005701,
          0.203740882236719,
          0.149534190142135,
          -0.09614872430267066,
          0.04478519028032025,
          0.36685162108262803,
          0.4935058725256171,
          -0.019133185571030352,
          0.3405049487018247,
          0.13291284545759285,
          -0.09734335042746668,
          0.23818459016785984,
          -0.12367284625294045,
          0.09502123853399419,
          -0.05753581479618894,
          0.0974274879311293,
          0.03592662802927114,
          0.46179340739616537,
          0.29425261616514004,
          0.4434800319090726,
          -0.12776409683829446,
          0.2735481595742708,
          0.4826433960227003,
          0.12557338753257682,
          -0.11821980078471027,
          0.29821169487362076,
          0.2580130288675107,
          0.4464751448608255,
          0.4294659489260932,
          -0.1108601273349712,
          0.07762636374843332,
          -0.09297837442195206,
          0.11975079778901734,
          -0.12949635836347478,
          0.4738303603283674
         ],
         "y": [
          1.4023804479037618,
          -0.5802352619494905,
          -1.5266439960991878,
          0.769874507668243,
          -0.5679842443321337,
          -0.11187881290853302,
          -0.13132099107428669,
          -1.2683222211310161,
          -0.9340257351022818,
          1.6855396191592997,
          0.15815509844908418,
          0.07230805727443186,
          0.2020112398674228,
          0.2906674440440682,
          0.9976895304352446,
          1.6695726514445544,
          0.2736029600628429,
          -0.5362756424397916,
          0.2961961690101131,
          1.7620135230836036,
          -0.21783880701973865,
          0.6167468965279753,
          1.3213938268786647,
          1.443320211008134,
          -0.4832798032214919,
          0.3176633091281092,
          0.8997567645771841,
          1.1477738921786695,
          1.3589338049268713,
          -1.5374827918388911,
          -0.4769280015407924,
          0.9953502322426262,
          -0.32121123547353175,
          -0.6328026482014576,
          0.5448124368510971,
          -0.487703025816049,
          -0.9316754473419941,
          -1.6290041705513618,
          0.947101800384174,
          -1.5432691900897677,
          -0.4451649139141961,
          -0.5295058676959822,
          -0.01895533662950548,
          -1.1832286660579958,
          0.8841390594291665,
          -0.22161943887763974,
          -0.7508395778623943,
          -1.4836924429376726,
          -1.1742073161256388
         ],
         "z": [
          -0.5766332636613825,
          -0.4597762677112097,
          -0.6873924754626926,
          -0.5687565520360001,
          -0.7047007988834373,
          -0.7084716921881112,
          -0.6397513584993075,
          -0.6791113909925441,
          -0.6440390474738076,
          -0.39168506285033483,
          -0.33854472891088827,
          -0.6530580978667312,
          -0.3247308741604627,
          -0.3711149833633371,
          -0.5879973133998333,
          -0.5947040683631887,
          -0.6258065429231469,
          -0.7060520414395772,
          -0.6712488439649187,
          -0.45985176402056427,
          -0.2821960445026137,
          -0.690555168475009,
          -0.4868469198056784,
          -0.6342489118871272,
          -0.7062276851109569,
          -0.5718567551198444,
          -0.7096040936048431,
          -0.6517097116735986,
          -0.6993169470680345,
          -0.6506724398243208,
          -0.6742871690169615,
          -0.3367310003388162,
          -0.5287929903054355,
          -0.3644575164807215,
          -0.7100440071204585,
          -0.5456072161975656,
          -0.30194874249362164,
          -0.6378219654654931,
          -0.7089823757460982,
          -0.5254473098024033,
          -0.557506637420208,
          -0.3600825308207414,
          -0.3841757781734946,
          -0.7080791041346118,
          -0.6589281365738348,
          -0.7055764324388606,
          -0.640590345842387,
          -0.7102234171034286,
          -0.31711479613239696
         ]
        },
        {
         "hovertemplate": "color=6<br>x=%{x}<br>y=%{y}<br>z=%{z}<extra></extra>",
         "legendgroup": "6",
         "marker": {
          "color": "#00cc96",
          "line": {
           "color": "black",
           "width": 0.1
          },
          "size": 3,
          "symbol": "circle"
         },
         "mode": "markers",
         "name": "6",
         "scene": "scene",
         "showlegend": true,
         "type": "scatter3d",
         "x": [
          0.5348318907166264,
          0.5774722812825187,
          0.522932191632124,
          0.5571913173163073,
          0.5799640318412731,
          0.5820839868811267,
          0.5393900987811988,
          0.5397695692699139,
          0.5901271058819724,
          0.5617554271838436,
          0.5924550450240044,
          0.47941776924119217,
          0.5725581906926435,
          0.587803478402332,
          0.5591097549755731,
          0.5877756994107993,
          0.5278014487308396,
          0.5058691493934473,
          0.5028162314843465,
          0.5705045514916228,
          0.532786901289027,
          0.5740353670593121,
          0.564339639386722,
          0.5466475161773022,
          0.5524980679803381,
          0.5031084690644004,
          0.5852603567766024,
          0.570748857335984,
          0.5426756195803962,
          0.5674788033923132,
          0.5953813966212217,
          0.5880860393680486,
          0.588470338315172,
          0.5912911733060255,
          0.5201971451919091,
          0.5433237548849474,
          0.5934947172562829,
          0.5882554644168365,
          0.4978456952315172,
          0.4382105887162266,
          0.5943165801373193,
          0.5815274739831717,
          0.5042367812403165,
          0.5096090936825475,
          0.5684463823171585,
          0.5775330983641263,
          0.5876513070856038,
          0.5757385316237504,
          0.5769970352063106,
          0.5180708636969978,
          0.559658836050469,
          0.5953040097468819,
          0.4826030352853673,
          0.5875922774793031
         ],
         "y": [
          0.6465127521932301,
          -0.567977196630137,
          -0.7600201058459622,
          0.2417769025227688,
          0.4140256467924263,
          -0.06438493213074202,
          0.9186645385366785,
          0.010173671611071387,
          -0.8566287319112778,
          -0.4320936263110009,
          -0.004955735898951313,
          0.2992140776000308,
          -1.1402665842636799,
          -1.2003210349053253,
          -0.5260055637874818,
          0.4778752181938811,
          -0.8676814937000765,
          -1.5634188212197775,
          -0.25876212115137076,
          0.11273589299936827,
          -0.6187776647130749,
          -1.1174333502735083,
          -0.6907768653274746,
          1.7249907215997449,
          1.227116465572823,
          0.8721521980465071,
          0.2141697291818668,
          -0.8285374493897019,
          1.5375913531534835,
          -1.1849908531758877,
          1.5076189338105668,
          1.2021699349893837,
          1.5850884888240921,
          1.1771674943418373,
          1.1173825322737443,
          -0.8686332546767849,
          -0.43562855570127984,
          1.6910012150845621,
          -1.621141371177092,
          -0.638335613753545,
          -0.7997180277867323,
          -1.5426964441075985,
          -0.44809799526939464,
          0.6070360812932954,
          0.326277014765098,
          -0.047154162571015,
          -0.3614242686866691,
          -1.2113180691318708,
          0.581856613216845,
          -0.49915964896516246,
          0.8992934039851016,
          -0.08310511834344743,
          0.23561017885389626,
          -1.6233786238930294
         ],
         "z": [
          -0.19248662498433397,
          0.3104980567567787,
          0.48930478469017635,
          0.39261560082318037,
          0.2975477207052458,
          -0.02382763963126755,
          -0.18061982146337557,
          -0.17960782387844293,
          0.032957500747139046,
          -0.11269524816511736,
          0.05747742624794927,
          0.5804173704655248,
          0.3335832268802888,
          0.013588746392661262,
          -0.1218139195229825,
          0.013377052517379468,
          -0.20983743155164264,
          0.527975402305462,
          0.5344453590244532,
          -0.07943941298785638,
          0.4646375722307178,
          -0.06427288109800312,
          -0.1034089555953548,
          -0.1605530214011074,
          -0.14313762238726763,
          0.533831300868504,
          -0.0043828995233548326,
          0.34143078927468967,
          0.43766555949335406,
          0.35489609360768337,
          0.1349285130993037,
          0.24546044585949628,
          0.01879452039479673,
          0.0443251864159181,
          0.4958200958211773,
          -0.16993590599706251,
          0.18896635251415603,
          0.01709029975449081,
          0.5447255114576103,
          0.6495597973557949,
          0.08613368498349243,
          -0.026977627317350445,
          0.5314500733484175,
          0.5198775902736057,
          0.3510006598906894,
          -0.04788927481663083,
          0.24883567537077386,
          -0.05648573709937336,
          0.3128615923008378,
          0.500795399010892,
          0.38410564951084564,
          0.14298158696093027,
          0.5744966001506591,
          0.24928655185427198
         ]
        },
        {
         "hovertemplate": "color=7<br>x=%{x}<br>y=%{y}<br>z=%{z}<extra></extra>",
         "legendgroup": "7",
         "marker": {
          "color": "#ab63fa",
          "line": {
           "color": "black",
           "width": 0.1
          },
          "size": 3,
          "symbol": "circle"
         },
         "mode": "markers",
         "name": "7",
         "scene": "scene",
         "showlegend": true,
         "type": "scatter3d",
         "x": [
          -0.14499843110897126,
          -0.07089800511909053,
          0.038277639949453636,
          0.4175623090984177,
          0.3017316517553563,
          -0.13696472135685953,
          0.023206541921376198,
          0.07835290579518689,
          -0.24266761448722463,
          -0.27211845838919285,
          0.113504840607044,
          -0.024084841404802236,
          0.23528966647038546,
          -0.11383686565314315,
          -0.5214679969933268,
          -0.152379543471066,
          -0.18816335069160098,
          -0.3688933971044476,
          -0.3337122344989896,
          0.39386593462044267,
          -0.5114720534936034,
          0.40315270846754253,
          0.1614250855105248,
          0.004662585825139435,
          0.0032752175353127798,
          -0.1229959211516318,
          0.1255945118193885,
          -0.011155984717527377,
          -0.4907887284088762,
          0.28026841264716074,
          0.4338454407349981,
          0.028322656021233194,
          -0.28158461309597754,
          0.2953689684477438,
          -0.12370242429235243,
          0.08343394657730076,
          0.11391120172226557,
          0.3842656778425863,
          0.07169130060722376,
          -0.2755675701051938,
          -0.4772603061477891,
          -0.520201749589923,
          0.4121160377228863,
          0.17186392682788307,
          0.08085583142403574,
          0.21548574890666689,
          0.35719512533116116,
          -0.04491708783846278,
          0.3340792529981786
         ],
         "y": [
          1.2930763644414354,
          -1.4577337617404813,
          1.5619882635484674,
          0.053210882239806884,
          0.3846325142461966,
          1.6130979739348263,
          0.5274026197761419,
          -1.1576157552658117,
          0.4113984174310773,
          -0.4369354933538645,
          -0.10590094210322024,
          -0.6267834275974692,
          -1.493819685457891,
          -0.41290928722891085,
          1.8797796896045527,
          -0.12756487027984723,
          1.7697494337987663,
          -1.0841787031494963,
          -0.7973473743867111,
          -1.0031513471889764,
          -1.2568269191632324,
          -1.1829455498811638,
          -0.5058964014206699,
          -0.01889275790316344,
          -0.2863798847845034,
          -1.6478122985886512,
          1.2441555345993671,
          -0.7326476086218995,
          -1.048457968704279,
          -0.5008427944064878,
          0.19645870404041438,
          -0.006112625725014212,
          0.8818000714897319,
          -1.0727501883921542,
          1.048835000212232,
          0.1134046744424177,
          -0.5782693325818488,
          0.17546661974090375,
          0.608666957235839,
          -1.493996151391117,
          0.1192913022117179,
          1.8038038480613672,
          -0.7868235662522761,
          -0.864070677635666,
          0.8787812082091747,
          -1.3798353632583,
          -0.1199768064488792,
          0.39804184188539526,
          -1.6203944626451225
         ],
         "z": [
          1.084625794743109,
          1.0585130030775705,
          1.0089206056839783,
          0.6800032235868964,
          0.8170067861588748,
          1.0820685311259362,
          1.0166192948381774,
          0.9870060617389103,
          1.1106873478019985,
          1.1167907834550077,
          0.9659543339567389,
          1.0389612473262009,
          0.877636263886476,
          1.074340698100676,
          1.1381862250858594,
          1.0869183368515403,
          1.0972717943982158,
          1.131405614445933,
          1.1270415036860804,
          0.7122388013515968,
          1.1383373445973834,
          0.6999202944760927,
          0.9342502436791019,
          1.0257022577297332,
          1.026364844751147,
          1.077466518126439,
          0.9582946013751128,
          1.0331195505076005,
          1.1383867105325878,
          0.8377410388763413,
          0.6561981635259792,
          1.014038128570891,
          1.1185856418243918,
          0.8232768275033184,
          1.0777040518078564,
          0.9840720328448537,
          0.9657004508759145,
          0.7245779597108946,
          0.9907986063677738,
          1.1174540988378339,
          1.1382266442311613,
          1.1382099519753923,
          0.6876510223912686,
          0.9268490501414665,
          0.9855652525583422,
          0.8938265745290138,
          0.7574062645164459,
          1.0479666776252772,
          0.7833909392458858
         ]
        },
        {
         "hovertemplate": "color=8<br>x=%{x}<br>y=%{y}<br>z=%{z}<extra></extra>",
         "legendgroup": "8",
         "marker": {
          "color": "#FFA15A",
          "line": {
           "color": "black",
           "width": 0.1
          },
          "size": 3,
          "symbol": "circle"
         },
         "mode": "markers",
         "name": "8",
         "scene": "scene",
         "showlegend": true,
         "type": "scatter3d",
         "x": [
          -0.7266027559799324,
          -1.5639215923393976,
          -0.584474332531275,
          -1.382790214877869,
          -0.976786295315772,
          -0.7856887905172603,
          -1.212915533463742,
          -1.4758192680946411,
          -1.5626845483069987,
          -0.7473602092212925,
          -0.6943650082127573,
          -0.7435560963858603,
          -0.7614690937439726,
          -0.8260784099647183,
          -1.1924979328347478,
          -1.2114255505603881,
          -0.7904810161738359,
          -1.5655698502546909,
          -0.6835484033097946,
          -1.4032071040900822,
          -0.6834875129043197,
          -0.8493326752522035,
          -1.07068217129974,
          -1.0272148099018878,
          -0.9756202474669775,
          -1.2610382896138326,
          -1.269174371479589,
          -1.2431870610530966,
          -1.1599691340674396,
          -1.0279162381416804,
          -1.1256400415230408,
          -1.5375172821318348,
          -1.5466510161004496,
          -1.3062516823833143,
          -0.6960746956811963,
          -0.7637144300584127,
          -0.723907459099642,
          -1.3523124231880401,
          -0.6426179573939818,
          -0.54239518517119,
          -1.5053129041179736,
          -1.081096513915119,
          -1.3870910886214096,
          -1.5681091022361648,
          -0.6398854626236732,
          -0.8192110874431773,
          -1.5359287569357103
         ],
         "y": [
          1.4225485781017941,
          -1.3609250090787055,
          0.3262534512449549,
          1.1809447516141869,
          1.357638519723453,
          1.6166958794134232,
          -1.2089682755980202,
          1.629840968490181,
          0.15630933452796925,
          1.7544440348281802,
          -1.6050066581203182,
          -1.4931354593391304,
          0.3503481037452495,
          1.017631148453871,
          1.8770249566651447,
          1.2872640329648781,
          -1.1331353524833758,
          -0.3588843387157859,
          0.5082107125891737,
          -0.39681779909712,
          0.5281289478194036,
          1.405468805784726,
          -0.7726502849113158,
          -1.0375448492736035,
          -0.3216417719563887,
          1.089552761268614,
          -0.5991621540010375,
          -0.761169966348498,
          -1.0381548375116436,
          -0.5944823886328761,
          0.2056245977776721,
          0.7673443505180263,
          0.9094998407113101,
          -1.0102817168796372,
          0.6120555089562689,
          0.08770836844305528,
          -0.6566543213784718,
          1.1857792235173332,
          0.10301246033991844,
          -0.9541660784292115,
          1.4131727579626028,
          -1.393409515965695,
          -0.7652565993198074,
          -1.5707546087908772,
          -0.968940877466742,
          1.5723710963154351,
          -0.7181163309191332
         ],
         "z": [
          1.1167235437977483,
          0.5365543763071826,
          1.135327543273535,
          0.7660997081390574,
          1.0408440586012488,
          1.1039297788129354,
          0.9096493410230467,
          0.6616183055596412,
          0.5385477614505295,
          1.1125741718229147,
          1.1224359394688097,
          1.113362412444488,
          1.1095411890626752,
          1.09341826175102,
          0.9237499081525506,
          0.9106983953776435,
          1.1027584035167188,
          0.5338857676192873,
          1.1241546257686417,
          0.7450686413628197,
          1.1241640206006693,
          1.086700812902621,
          0.996525128485946,
          1.0182235165018765,
          1.0413358385603946,
          0.8739884860592144,
          0.8676039337713758,
          0.8876286093686663,
          0.9450283615434123,
          1.0178898729888617,
          0.9659833997973333,
          0.577450228956466,
          0.5636821480307872,
          0.8371112743309136,
          1.1221552082736583,
          1.1090425490080011,
          1.11723514702626,
          0.7957811448759035,
          1.1297654143525768,
          1.1376016044553343,
          0.6231597492575042,
          0.9910106350322276,
          0.761748938015931,
          0.5297460860824188,
          1.1300899292606867,
          1.095308378432299,
          0.5798062640758709
         ]
        },
        {
         "hovertemplate": "color=9<br>x=%{x}<br>y=%{y}<br>z=%{z}<extra></extra>",
         "legendgroup": "9",
         "marker": {
          "color": "#19d3f3",
          "line": {
           "color": "black",
           "width": 0.1
          },
          "size": 3,
          "symbol": "circle"
         },
         "mode": "markers",
         "name": "9",
         "scene": "scene",
         "showlegend": true,
         "type": "scatter3d",
         "x": [
          -1.72724374778522,
          -1.6385180510942927,
          -1.7601699900930048,
          -1.760144042557718,
          -1.7594422138362202,
          -1.7534154296372062,
          -1.7062135493416066,
          -1.658405802994349,
          -1.7273307657629617,
          -1.7585631073360788,
          -1.653667979041954,
          -1.7501568562144096,
          -1.6294025396533882,
          -1.741093479912797,
          -1.751771118132723,
          -1.7366658839571014,
          -1.759203448032325,
          -1.7572314935835196,
          -1.7488851310023106,
          -1.7009253070183055,
          -1.7381516210108945,
          -1.742537036345667,
          -1.6654149198105037,
          -1.6949065058562238,
          -1.7602378428147891,
          -1.684727181152079,
          -1.632681601093688,
          -1.7211122469301154,
          -1.7274228677590848,
          -1.7191991935694078,
          -1.747301400966016,
          -1.718583058156439,
          -1.6790035749312093,
          -1.7387240510028192,
          -1.7222459584682128,
          -1.6158213265921935,
          -1.6085752079007596,
          -1.677556193871259,
          -1.7358558073812027,
          -1.7523550195660673,
          -1.6260810259728418,
          -1.739762145714719,
          -1.716893174207519,
          -1.7356320475036155,
          -1.751072703855228,
          -1.7332038271504557,
          -1.6727515350253392,
          -1.6642900827771276,
          -1.7500623486166969,
          -1.6705397701455558,
          -1.6904064140624389,
          -1.7600007740652295,
          -1.7600805482321098
         ],
         "y": [
          0.7114692162250411,
          -1.2049304143871666,
          1.7715651089763689,
          1.261661951146733,
          -1.3287854278996554,
          -0.09544339826724517,
          -1.1668218226228715,
          -0.4315196458176348,
          -1.553238862447284,
          -1.4119689274264782,
          0.4884228527145522,
          -0.48776906294623273,
          0.3600876159948589,
          0.08527054952204222,
          1.540870832946131,
          -0.8776041109303799,
          -0.32849939655154226,
          1.0702494481165652,
          1.322509906785233,
          1.0192154716409954,
          -1.2746580519736102,
          0.4771922128413959,
          0.9784995606943528,
          0.3562407208598692,
          1.7389919569521297,
          -0.2447478300542974,
          -1.3440674511932098,
          -1.0639812509770241,
          -1.2410575517218665,
          -0.9526398875995108,
          -1.2140022967270137,
          -0.6954435437454642,
          0.9730760832837995,
          1.0339677162505956,
          -1.0257096891893558,
          1.2648302087890735,
          -1.3339232047558975,
          -1.07040342649989,
          -1.3385874842601637,
          0.11646003146292483,
          -1.5651053284117906,
          -1.4037906919057888,
          0.9508335902017294,
          -0.3550450615703613,
          -0.41695214518172813,
          -0.0634472549786595,
          1.3371751355816937,
          1.6695729436924878,
          1.8621355165701154,
          1.7289376541962527,
          0.8010307110180234,
          -0.6877281135580281,
          -1.0310064849576925
         ],
         "z": [
          -0.45603331711082923,
          -0.7231293620695992,
          -0.1446458455219979,
          -0.1422805162323773,
          -0.20463718494837996,
          -0.29402065076437395,
          0.21800256196425272,
          0.35277568615605387,
          0.1368588806674731,
          -0.22553671197559816,
          0.3639771805490195,
          0.006047357823375584,
          -0.7430877945441489,
          -0.38543881171597605,
          -0.3094827866780182,
          0.09208926158056106,
          -0.10544612714337075,
          -0.24839516823151572,
          0.016040002062209176,
          -0.5561495407598422,
          0.08416193653682598,
          -0.37673793791363086,
          0.3356468416704601,
          -0.5755056117913742,
          -0.15973674237408206,
          0.2844047295346385,
          0.4104303692255618,
          0.1630596883683368,
          -0.4552303513660054,
          0.1706726122379712,
          0.027718646975524352,
          -0.49248062103991963,
          0.3002834714939253,
          -0.3990273795179554,
          0.15845535997784602,
          0.44458952699542587,
          0.45853615569056455,
          0.3041999840919953,
          0.09630301828227122,
          -0.012871538436320908,
          -0.7501638644134623,
          0.07525170216804364,
          0.17960451104286715,
          -0.4156613604967398,
          -0.3155885995033589,
          -0.4279892287557102,
          0.3169345074489992,
          0.33844285892275855,
          -0.3240212853890904,
          0.32266543353015764,
          -0.5893669256411757,
          -0.13292830036301564,
          -0.17891681880952162
         ]
        },
        {
         "hovertemplate": "color=10<br>x=%{x}<br>y=%{y}<br>z=%{z}<extra></extra>",
         "legendgroup": "10",
         "marker": {
          "color": "#FF6692",
          "line": {
           "color": "black",
           "width": 0.1
          },
          "size": 3,
          "symbol": "circle"
         },
         "mode": "markers",
         "name": "10",
         "scene": "scene",
         "showlegend": true,
         "type": "scatter3d",
         "x": [
          -0.732261690383601,
          -0.7553249248119293,
          -1.1963702921921187,
          -0.8662232696656363,
          -0.8567387131397242,
          -1.2893500395436908,
          -0.8764552411506419,
          -1.2810888344874123,
          -1.2372092814548998,
          -0.7144387372709051,
          -1.4728657637469211,
          -1.4668764179329825,
          -0.8136259173369783,
          -0.9665855505109383,
          -0.545071705755616,
          -1.1055111872887824,
          -0.6235089660304284,
          -0.6224692032574709,
          -1.1869200922090974,
          -1.3918112832172749,
          -1.2706667880386593,
          -1.467813699372099,
          -0.9236813077335836,
          -1.4326171920874962,
          -1.207033944519397,
          -1.0659310217061346,
          -0.4855844191869584,
          -1.396390852900411,
          -1.5642542035823555,
          -1.0089241987134738,
          -0.5824908365586735,
          -1.4793180869335754,
          -1.440014578502838,
          -1.2140248396191726,
          -0.981538193652411,
          -0.9530464485737048,
          -0.7778958707591392,
          -1.1400494627290432,
          -1.3069208328109636,
          -0.5189443993046429,
          -1.4901982739192596,
          -0.8946926986000956,
          -0.541299577859672,
          -1.2728543351167765,
          -0.5489867283444518,
          -0.6034967501945685,
          -1.0675176879897563,
          -1.558327487553464,
          -1.0118194480510938,
          -1.5897698336646664
         ],
         "y": [
          -0.4881698879142866,
          -1.5059820209278119,
          0.4752929207571375,
          0.6825299643194226,
          0.08636832790367752,
          0.8890086468694904,
          -0.23359190746426925,
          -0.7388254193537177,
          0.21771384955555895,
          0.4100550474261171,
          -1.523964974070224,
          -1.4189014373336803,
          1.2289019296902617,
          0.6862993243509274,
          -0.8297216535847737,
          0.09060291105276774,
          -0.47069556543883856,
          1.212895871241715,
          0.8779878464787376,
          -1.3491262089365215,
          1.751339683875055,
          0.8349738193115385,
          -1.4079640848111754,
          0.46450279029001684,
          -0.8001990735367395,
          1.6426584797580348,
          -0.8341224040234662,
          1.2382851590470754,
          -1.1497693935054518,
          -0.5886707258138166,
          1.073189052394948,
          -1.2680058430688879,
          0.18746966208420593,
          0.8277497483486568,
          -0.2714865512547953,
          0.48279686341317524,
          1.4922640104570204,
          0.7669069938370148,
          1.391538078005208,
          0.45514034232936307,
          0.7507280589352517,
          0.6395686145296808,
          0.29241767166094335,
          -1.0648468332716003,
          -1.0353997114425608,
          0.7012777616306308,
          -0.38653403750525905,
          1.010115693905476,
          -1.5638888674078737,
          -0.3276548461620829
         ],
         "z": [
          -1.5332616743772296,
          -1.5252475125765186,
          -1.2837957958915538,
          -1.4810660883016087,
          -1.4852238111356546,
          -1.2051374366069707,
          -1.47649811622925,
          -1.2126569185431146,
          -1.2508066544618992,
          -1.5391892377158465,
          -1.0032629345028783,
          -1.0111519439110306,
          -1.5032133600799173,
          -1.4324080397514862,
          -1.5844922980683027,
          -1.3494923395871783,
          -1.5659357603546797,
          -1.5662086080052438,
          -1.2911071690545928,
          -1.1016559534858346,
          -1.2219866723078816,
          -1.0099246220557612,
          -1.4542771922357178,
          -1.0542745017894375,
          -1.2754032144181209,
          -1.3751257034732607,
          -1.5958888939979667,
          -1.0965350178470885,
          -0.8667401902973216,
          -1.4091730788314305,
          -1.5761484329467135,
          -0.9946391358430783,
          -1.0452384892474682,
          -1.2698176978986002,
          -1.424394441710166,
          -1.4394872321891998,
          -1.5170226915976897,
          -1.3256932826287,
          -1.1887676561901956,
          -1.5897775274770944,
          -0.9797926821115446,
          -1.4681407918403038,
          -1.5852826392694501,
          -1.2200426760887784,
          -1.5836622341198376,
          -1.571059152128194,
          -1.374130511629215,
          -0.876684974844578,
          -1.4075218956171114,
          -0.8217112473676986
         ]
        },
        {
         "hovertemplate": "color=11<br>x=%{x}<br>y=%{y}<br>z=%{z}<extra></extra>",
         "legendgroup": "11",
         "marker": {
          "color": "#B6E880",
          "line": {
           "color": "black",
           "width": 0.1
          },
          "size": 3,
          "symbol": "circle"
         },
         "mode": "markers",
         "name": "11",
         "scene": "scene",
         "showlegend": true,
         "type": "scatter3d",
         "x": [
          0.18274814539819592,
          0.32531760559740547,
          0.41985688425382717,
          0.7362850307653248,
          -0.08176414514290185,
          0.8820342938229818,
          0.6234173569742262,
          -0.09153504027170338,
          0.09487855245240674,
          0.08245666360003984,
          0.9476015091428305,
          0.2598916006319898,
          0.8488621987704619,
          1.112734263770426,
          1.1360712205246701,
          -0.0017348120990847461,
          1.1138634435264398,
          -0.23892752783509622,
          0.13776744664972326,
          1.0705136812543998,
          0.7454497941065243,
          0.8882092394582023,
          0.8995920181657315,
          0.008124483450137719,
          0.7666636631353282,
          0.7401147808104077,
          0.8695691176625072,
          0.49194808051864447,
          0.27037330119233766,
          1.1337482069949503,
          0.5784597619697862,
          0.7707564098251273,
          1.1004840897280104,
          0.7954494937648228,
          -0.07840770446364749,
          -0.11339598207375781,
          1.0094801806390887,
          0.9330936951165381,
          0.5406627585449045,
          0.2832886338041708,
          0.6749302545721196,
          1.0586141467550632,
          0.550957432533215,
          0.3100253848202386,
          0.3336430019736437,
          0.5875057282277588,
          0.9382947876255813,
          -0.2726721585068468,
          0.441563440861935,
          -0.07297112039937696,
          0.9692573327299794,
          -0.0006766167759437707,
          0.3713468401127903,
          -0.15765518026735542,
          0.08443876681135806
         ],
         "y": [
          1.1361549410445693,
          0.9307896574903812,
          -1.0566860667594054,
          -0.5786444653990606,
          -0.10544796057492735,
          -0.3222967490884175,
          0.40925255768692964,
          -1.1057892269114877,
          0.7634306790336981,
          1.323875070343137,
          0.44724382449123856,
          0.9699268427945141,
          -0.19678782777257428,
          0.7489617623021751,
          0.5693889129962958,
          -0.9650297522268526,
          -0.2694134032926126,
          0.7718893412021163,
          0.5716276133306873,
          -1.109786038953149,
          -0.24431538175471082,
          -1.3399675745108697,
          -1.2604676871321179,
          -1.5310085886183962,
          1.6490634450287602,
          -1.2319508686616616,
          1.1498920223829507,
          -1.072230626809918,
          -1.1527516596546772,
          1.4142441424886558,
          -1.4249755783987947,
          0.34384707841179546,
          -1.4232160541063297,
          -1.2905953841120616,
          1.0743963969756656,
          -0.40059008354790426,
          -1.1283617243267017,
          -0.8613714268596595,
          -1.3535845322628857,
          0.8477187362859118,
          1.6396456244163788,
          -0.9795473804496009,
          1.5026165348191034,
          -0.8736939205277116,
          0.916772071469445,
          1.4857911884269692,
          -0.9113629516930418,
          1.5744431395827487,
          1.5704936286458697,
          -1.2889511311146509,
          1.809861147854727,
          0.696960496768933,
          -0.10793861829619324,
          1.2096516906948722,
          1.463640618310012
         ],
         "z": [
          -1.575536378994472,
          -1.5356643962510084,
          -1.5016731877336404,
          -1.3378137357281439,
          -1.6157176816598806,
          -1.230836067689494,
          -1.4059239627752949,
          -1.6163918837853872,
          -1.593634975164577,
          -1.5958069829550043,
          -1.1744607061668135,
          -1.5556141810387178,
          -1.2572825667985899,
          -1.0032610391331238,
          -0.9748981629910207,
          -1.6080465179712078,
          -1.0019163951983778,
          -1.6196653182729077,
          -1.585403152173478,
          -1.0516478505901694,
          -1.3317541613751551,
          -1.2257647665300564,
          -1.216290666958016,
          -1.6068353505512165,
          -1.317403782389594,
          -1.335291727628379,
          -1.2409297807529263,
          -1.4714419161335461,
          -1.5526092835798635,
          -0.9777766109622535,
          -1.4299104729516907,
          -1.314582257074524,
          -1.017674307938167,
          -1.2971868350301725,
          -1.6154729415472389,
          -1.6176942227040827,
          -1.1156983116021295,
          -1.1874294428385397,
          -1.4487849877568324,
          -1.5488071148654448,
          -1.3762903681694718,
          -1.064655479896188,
          -1.4437583615628002,
          -1.5405836136568176,
          -1.5329196557632923,
          -1.4252203415497913,
          -1.1828136602146953,
          -1.618592583742397,
          -1.4929739546932903,
          -1.6150622589225088,
          -1.1545476476121346,
          -1.607919331534421,
          -1.5198942799972561,
          -1.6194597768540955,
          -1.595466763432544
         ]
        },
        {
         "hovertemplate": "color=12<br>x=%{x}<br>y=%{y}<br>z=%{z}<extra></extra>",
         "legendgroup": "12",
         "marker": {
          "color": "#FF97FF",
          "line": {
           "color": "black",
           "width": 0.1
          },
          "size": 3,
          "symbol": "circle"
         },
         "mode": "markers",
         "name": "12",
         "scene": "scene",
         "showlegend": true,
         "type": "scatter3d",
         "x": [
          1.5172952021727655,
          1.4727961673767884,
          1.4934948191926316,
          1.5216581376097464,
          1.4609345446138717,
          1.5218070691157495,
          1.492378681089982,
          1.4562119165089256,
          1.5172721280104051,
          1.4344840052332049,
          1.2332640969335786,
          1.5220697527905607,
          1.4826130752118825,
          1.4651211167353684,
          1.4274464819948036,
          1.4708573260410658,
          1.257774284926197,
          1.317942101958355,
          1.4624731084535656,
          1.4619588424346428,
          1.4324734776287522,
          1.4525846077501434,
          1.4082880583412372,
          1.5191394108423315,
          1.483069287431622,
          1.464494716647466,
          1.2099219267003314,
          1.495027654804986,
          1.4968172722417061,
          1.4174743161560002,
          1.4422105596614598,
          1.2601098364843373,
          1.519763462033195,
          1.4110852931104494,
          1.166451721642312,
          1.1823906733346479,
          1.4206993585772012,
          1.4527442596645868,
          1.496056934373871,
          1.5097750516855746,
          1.35925756431268,
          1.5069475901148472,
          1.5002123218060834,
          1.1953926685453795,
          1.435649713483276,
          1.4840950970119504,
          1.1700657513212493,
          1.5233467013174216,
          1.4633927926245596,
          1.5109950930150116,
          1.466133892648712,
          1.4789346651677218,
          1.523637346876417,
          1.4074555980258192,
          1.4638658990499367,
          1.4261176338103165,
          1.5239910121889162,
          1.523530290383457,
          1.504453545208737,
          1.2171126327160229,
          1.4309665637016808,
          1.4321435004702485,
          1.4383258359927678,
          1.4934799823573848,
          1.184794868581927,
          1.522748626658378
         ],
         "y": [
          0.7013062148725904,
          -1.5628158109333012,
          0.04732415021884788,
          0.49999584518678997,
          1.5322268999766382,
          0.7590752871056559,
          1.0976155231817544,
          -1.4848017299786571,
          -0.25258222678536185,
          1.4924812899987379,
          -0.18878133376700462,
          -0.6650185321440368,
          -0.07102448681413817,
          0.7376820502849,
          0.9082871257736415,
          1.5901523607183383,
          1.0454652868495768,
          1.5506386983711475,
          -0.8449923613186593,
          -1.1798146738429838,
          0.21742320852322844,
          0.7077629675647338,
          -1.0496119737311624,
          0.25231654648741564,
          -1.2263936798443258,
          -0.6510236183488368,
          -0.6768116455942919,
          -0.9457140309054154,
          1.8373155021428398,
          -1.1310687658941065,
          1.3774533197181515,
          -0.8690045906531861,
          -1.2359029502133376,
          0.9100389169905765,
          0.7377266578476583,
          -0.34108361847386054,
          1.4304164230597085,
          -0.5168194406756632,
          0.020306303153112513,
          -1.0568448823414736,
          0.9933909827588212,
          0.1015074551154462,
          1.008112593456985,
          -0.1976718468091921,
          -1.0869358307271144,
          0.20615231199978754,
          -0.6365830888530719,
          1.1794171530586361,
          -0.845291148575638,
          0.4200561698997611,
          -1.2048222459358149,
          -0.4501767569904413,
          0.47666906426957584,
          0.9740147256643162,
          1.2507332151888968,
          -0.5939344095325645,
          -1.308654430532578,
          1.8625891185410526,
          -1.0342596551278522,
          1.759755816508228,
          -1.1516486648304556,
          -1.4666605446648788,
          0.7227353357862436,
          -0.288937489157003,
          0.5147103123938608,
          0.18459085818900137
         ],
         "z": [
          -0.025615138366657138,
          -0.293727299324252,
          -0.19831145635631733,
          0.22710753673109768,
          0.6056504825977025,
          0.22426742753426043,
          0.4688666302719515,
          0.6227779327609863,
          0.28926204813927175,
          0.6944907020075939,
          -0.8417950650887676,
          0.044103963132867505,
          -0.2516084603124401,
          -0.323785811873189,
          0.715690459246387,
          -0.301531951016027,
          -0.8035990761408255,
          -0.6992650010385706,
          -0.3336732643489516,
          0.6018483086932533,
          0.7006351840349702,
          -0.3687348209994722,
          -0.5003575644715772,
          -0.0030681864215505736,
          0.5146986557573142,
          -0.3261455682445846,
          -0.8762523511013379,
          0.4546021701727975,
          0.4445881980980309,
          0.744360349576371,
          0.6701673229572461,
          -0.7998427314849657,
          0.00548028085625388,
          0.7619741991731536,
          -0.9360605932722902,
          -0.9147447749371959,
          -0.4667656434527572,
          -0.3681899989469646,
          -0.1843944125394601,
          0.359005973718656,
          -0.6163437176017303,
          0.3802453736512372,
          -0.16035918623245393,
          -0.8968407203952922,
          -0.42321151022331055,
          -0.2448153611635604,
          -0.9312865013943459,
          0.07612366423136734,
          -0.3302651466117831,
          0.3491947051653468,
          -0.3199423715995916,
          -0.26794312988901914,
          0.08649818968421058,
          -0.502537646995207,
          0.5946813292572377,
          -0.4514049153936671,
          0.15906182430764174,
          0.08242064830070521,
          -0.133509295928633,
          -0.8658247414402213,
          -0.43725935440983443,
          0.7016367544361285,
          -0.41500238736210576,
          0.4630127083567379,
          -0.9114699172158494,
          0.20377178563069523
         ]
        },
        {
         "hovertemplate": "color=13<br>x=%{x}<br>y=%{y}<br>z=%{z}<extra></extra>",
         "legendgroup": "13",
         "marker": {
          "color": "#FECB52",
          "line": {
           "color": "black",
           "width": 0.1
          },
          "size": 3,
          "symbol": "circle"
         },
         "mode": "markers",
         "name": "13",
         "scene": "scene",
         "showlegend": true,
         "type": "scatter3d",
         "x": [
          1.1697393941332699,
          0.5853311692987552,
          0.8925275147945306,
          0.39585856316366264,
          0.7877081499505744,
          0.9023496846551471,
          1.0891697087251266,
          0.7551379174633835,
          1.200918396533686,
          0.7204954642274173,
          -0.04891214118071411,
          0.9711879578182405,
          1.389942416281064,
          1.1390461461297638,
          0.6749586492007946,
          1.1745851989575316,
          0.08568832128465834,
          0.3412979007798597,
          0.18538496785669545,
          1.3742125978817974,
          1.2198405124775424,
          0.2931797731513098,
          1.0096880999006859,
          1.3299067174923225,
          1.0608155104568062,
          0.8994293254344113,
          0.025792201508748686,
          0.07638115431585128,
          0.3682532765523082,
          1.1749049958175626,
          0.9107752127972797,
          1.3536724917037144,
          0.4240064713212328,
          1.225056303450741,
          0.6675854513688884,
          1.3597674405525173,
          0.11105523053367448,
          0.8612537356850797,
          0.6950976551952462,
          1.072356730691238,
          1.0396664396364683,
          1.3499222057886542,
          0.62734210670365,
          0.028886008185629884,
          0.8493314086786911,
          1.211774688915595,
          0.3856251656914854,
          0.41157203614690674,
          0.25831415981489836,
          0.7219885122868204
         ],
         "y": [
          0.284026388960705,
          0.9681114211109504,
          1.6144681716272844,
          -1.2224787170320708,
          -0.6702624854357468,
          -0.03980828334710548,
          -0.42880719125287203,
          -0.24917536697486684,
          0.06919251708925567,
          -0.6407586678110961,
          -0.45811198963462685,
          -0.9338587257418058,
          -0.3674455295128477,
          -0.93984610277488,
          0.9605400376161612,
          -0.0727310735501956,
          0.8280044283006177,
          0.3945901206541768,
          0.4872481172536822,
          0.625484911963579,
          -0.5863663455026314,
          1.7925287354931128,
          -0.9624952363786337,
          1.3480434775791075,
          -1.2935516264132974,
          -0.7410243458778663,
          -0.8303032205908762,
          -1.2023836565750783,
          -0.033417339143479545,
          -0.5300898973690822,
          -1.2211247935266625,
          -0.1484225794082201,
          0.8841407503018307,
          -1.1005719790203037,
          1.6344668196289585,
          0.046061941176779635,
          -0.5356685816901751,
          -1.0690758861321568,
          -0.3077927741096686,
          -0.7296563122828006,
          -0.7707220220174027,
          0.9737941158843679,
          -0.146477723170324,
          0.7374089974062553,
          -1.4134050452599984,
          1.330619421497584,
          -0.6402265554600324,
          -0.3551472425940865,
          0.43515005080659563,
          0.14536986503016458
         ],
         "z": [
          1.2145431835864091,
          1.7503139080987729,
          1.5229765212360977,
          1.8512958989512676,
          1.6109746731419567,
          1.5140771544488458,
          1.3185047924609048,
          1.6359317460792477,
          1.1700359878836788,
          1.6613439530221734,
          2.0008422965399837,
          1.4481746358852543,
          0.8166836873711223,
          1.2558887655397997,
          1.6930648162635458,
          1.2077993393423827,
          1.967161335461943,
          1.8758488975349212,
          1.9359876807289471,
          0.854364179161069,
          1.1416540777237045,
          1.8959553517116523,
          1.4083837259513148,
          0.9498417503625833,
          1.3518597091707787,
          1.5167356592068397,
          1.9833129936070468,
          1.9697958168348515,
          1.863956115959025,
          1.207352113416761,
          1.5063470271120785,
          0.9003779512630412,
          1.8378747992922768,
          1.1336338683361953,
          1.6980281791129026,
          0.887066790501134,
          1.9597449260046362,
          1.550533099740503,
          1.6792653360088163,
          1.3384661070730985,
          1.3757807266694728,
          0.9084345906952016,
          1.7243030708919853,
          1.9825249268864722,
          1.560736321314693,
          1.1538865291816962,
          1.8560464944049537,
          1.843868125827458,
          1.909647722341656,
          1.6602720311204386
         ]
        },
        {
         "hovertemplate": "color=14<br>x=%{x}<br>y=%{y}<br>z=%{z}<extra></extra>",
         "legendgroup": "14",
         "marker": {
          "color": "#636efa",
          "line": {
           "color": "black",
           "width": 0.1
          },
          "size": 3,
          "symbol": "circle"
         },
         "mode": "markers",
         "name": "14",
         "scene": "scene",
         "showlegend": true,
         "type": "scatter3d",
         "x": [
          -0.1637419577484313,
          -0.10935477661495907,
          -0.13188137072874667,
          -0.19168031181797238,
          -0.35021712939995475,
          -0.11397291329536849,
          -0.11600421567735353,
          -0.3335151870518421
         ],
         "y": [
          -0.47088603735694573,
          1.3149255898043415,
          -0.6137383351119746,
          -1.5086252400445992,
          0.157073490805108,
          1.4298129086855578,
          -0.2696184040104061,
          1.4888315584252214
         ],
         "z": [
          2.022302302957259,
          2.0129538679035535,
          2.0170024642840527,
          2.026541840949245,
          2.0435052101154665,
          2.0138043108666923,
          2.014175036099871,
          2.0422801482545405
         ]
        }
       ],
       "layout": {
        "height": 900,
        "legend": {
         "orientation": "h",
         "title": {
          "text": "color"
         },
         "tracegroupgap": 0,
         "x": 0.5,
         "xanchor": "center",
         "y": 0,
         "yanchor": "top"
        },
        "margin": {
         "b": 0,
         "l": 0,
         "r": 0,
         "t": 0
        },
        "scene": {
         "camera": {
          "center": {
           "x": 0,
           "y": 0,
           "z": -0.1
          },
          "eye": {
           "x": 1.5,
           "y": -1.4,
           "z": 0.5
          },
          "up": {
           "x": 0,
           "y": 0,
           "z": 1
          }
         },
         "domain": {
          "x": [
           0,
           1
          ],
          "y": [
           0,
           1
          ]
         },
         "xaxis": {
          "backgroundcolor": "white",
          "color": "black",
          "gridcolor": "#f0f0f0",
          "tickfont": {
           "size": 10
          },
          "title": {
           "font": {
            "size": 10
           },
           "text": "x"
          }
         },
         "yaxis": {
          "backgroundcolor": "white",
          "color": "black",
          "gridcolor": "#f0f0f0",
          "tickfont": {
           "size": 10
          },
          "title": {
           "font": {
            "size": 10
           },
           "text": "y"
          }
         },
         "zaxis": {
          "backgroundcolor": "lightgrey",
          "color": "black",
          "gridcolor": "#f0f0f0",
          "tickfont": {
           "size": 10
          },
          "title": {
           "font": {
            "size": 10
           },
           "text": "z"
          }
         }
        },
        "showlegend": true,
        "template": {
         "data": {
          "bar": [
           {
            "error_x": {
             "color": "#2a3f5f"
            },
            "error_y": {
             "color": "#2a3f5f"
            },
            "marker": {
             "line": {
              "color": "#E5ECF6",
              "width": 0.5
             },
             "pattern": {
              "fillmode": "overlay",
              "size": 10,
              "solidity": 0.2
             }
            },
            "type": "bar"
           }
          ],
          "barpolar": [
           {
            "marker": {
             "line": {
              "color": "#E5ECF6",
              "width": 0.5
             },
             "pattern": {
              "fillmode": "overlay",
              "size": 10,
              "solidity": 0.2
             }
            },
            "type": "barpolar"
           }
          ],
          "carpet": [
           {
            "aaxis": {
             "endlinecolor": "#2a3f5f",
             "gridcolor": "white",
             "linecolor": "white",
             "minorgridcolor": "white",
             "startlinecolor": "#2a3f5f"
            },
            "baxis": {
             "endlinecolor": "#2a3f5f",
             "gridcolor": "white",
             "linecolor": "white",
             "minorgridcolor": "white",
             "startlinecolor": "#2a3f5f"
            },
            "type": "carpet"
           }
          ],
          "choropleth": [
           {
            "colorbar": {
             "outlinewidth": 0,
             "ticks": ""
            },
            "type": "choropleth"
           }
          ],
          "contour": [
           {
            "colorbar": {
             "outlinewidth": 0,
             "ticks": ""
            },
            "colorscale": [
             [
              0,
              "#0d0887"
             ],
             [
              0.1111111111111111,
              "#46039f"
             ],
             [
              0.2222222222222222,
              "#7201a8"
             ],
             [
              0.3333333333333333,
              "#9c179e"
             ],
             [
              0.4444444444444444,
              "#bd3786"
             ],
             [
              0.5555555555555556,
              "#d8576b"
             ],
             [
              0.6666666666666666,
              "#ed7953"
             ],
             [
              0.7777777777777778,
              "#fb9f3a"
             ],
             [
              0.8888888888888888,
              "#fdca26"
             ],
             [
              1,
              "#f0f921"
             ]
            ],
            "type": "contour"
           }
          ],
          "contourcarpet": [
           {
            "colorbar": {
             "outlinewidth": 0,
             "ticks": ""
            },
            "type": "contourcarpet"
           }
          ],
          "heatmap": [
           {
            "colorbar": {
             "outlinewidth": 0,
             "ticks": ""
            },
            "colorscale": [
             [
              0,
              "#0d0887"
             ],
             [
              0.1111111111111111,
              "#46039f"
             ],
             [
              0.2222222222222222,
              "#7201a8"
             ],
             [
              0.3333333333333333,
              "#9c179e"
             ],
             [
              0.4444444444444444,
              "#bd3786"
             ],
             [
              0.5555555555555556,
              "#d8576b"
             ],
             [
              0.6666666666666666,
              "#ed7953"
             ],
             [
              0.7777777777777778,
              "#fb9f3a"
             ],
             [
              0.8888888888888888,
              "#fdca26"
             ],
             [
              1,
              "#f0f921"
             ]
            ],
            "type": "heatmap"
           }
          ],
          "heatmapgl": [
           {
            "colorbar": {
             "outlinewidth": 0,
             "ticks": ""
            },
            "colorscale": [
             [
              0,
              "#0d0887"
             ],
             [
              0.1111111111111111,
              "#46039f"
             ],
             [
              0.2222222222222222,
              "#7201a8"
             ],
             [
              0.3333333333333333,
              "#9c179e"
             ],
             [
              0.4444444444444444,
              "#bd3786"
             ],
             [
              0.5555555555555556,
              "#d8576b"
             ],
             [
              0.6666666666666666,
              "#ed7953"
             ],
             [
              0.7777777777777778,
              "#fb9f3a"
             ],
             [
              0.8888888888888888,
              "#fdca26"
             ],
             [
              1,
              "#f0f921"
             ]
            ],
            "type": "heatmapgl"
           }
          ],
          "histogram": [
           {
            "marker": {
             "pattern": {
              "fillmode": "overlay",
              "size": 10,
              "solidity": 0.2
             }
            },
            "type": "histogram"
           }
          ],
          "histogram2d": [
           {
            "colorbar": {
             "outlinewidth": 0,
             "ticks": ""
            },
            "colorscale": [
             [
              0,
              "#0d0887"
             ],
             [
              0.1111111111111111,
              "#46039f"
             ],
             [
              0.2222222222222222,
              "#7201a8"
             ],
             [
              0.3333333333333333,
              "#9c179e"
             ],
             [
              0.4444444444444444,
              "#bd3786"
             ],
             [
              0.5555555555555556,
              "#d8576b"
             ],
             [
              0.6666666666666666,
              "#ed7953"
             ],
             [
              0.7777777777777778,
              "#fb9f3a"
             ],
             [
              0.8888888888888888,
              "#fdca26"
             ],
             [
              1,
              "#f0f921"
             ]
            ],
            "type": "histogram2d"
           }
          ],
          "histogram2dcontour": [
           {
            "colorbar": {
             "outlinewidth": 0,
             "ticks": ""
            },
            "colorscale": [
             [
              0,
              "#0d0887"
             ],
             [
              0.1111111111111111,
              "#46039f"
             ],
             [
              0.2222222222222222,
              "#7201a8"
             ],
             [
              0.3333333333333333,
              "#9c179e"
             ],
             [
              0.4444444444444444,
              "#bd3786"
             ],
             [
              0.5555555555555556,
              "#d8576b"
             ],
             [
              0.6666666666666666,
              "#ed7953"
             ],
             [
              0.7777777777777778,
              "#fb9f3a"
             ],
             [
              0.8888888888888888,
              "#fdca26"
             ],
             [
              1,
              "#f0f921"
             ]
            ],
            "type": "histogram2dcontour"
           }
          ],
          "mesh3d": [
           {
            "colorbar": {
             "outlinewidth": 0,
             "ticks": ""
            },
            "type": "mesh3d"
           }
          ],
          "parcoords": [
           {
            "line": {
             "colorbar": {
              "outlinewidth": 0,
              "ticks": ""
             }
            },
            "type": "parcoords"
           }
          ],
          "pie": [
           {
            "automargin": true,
            "type": "pie"
           }
          ],
          "scatter": [
           {
            "marker": {
             "colorbar": {
              "outlinewidth": 0,
              "ticks": ""
             }
            },
            "type": "scatter"
           }
          ],
          "scatter3d": [
           {
            "line": {
             "colorbar": {
              "outlinewidth": 0,
              "ticks": ""
             }
            },
            "marker": {
             "colorbar": {
              "outlinewidth": 0,
              "ticks": ""
             }
            },
            "type": "scatter3d"
           }
          ],
          "scattercarpet": [
           {
            "marker": {
             "colorbar": {
              "outlinewidth": 0,
              "ticks": ""
             }
            },
            "type": "scattercarpet"
           }
          ],
          "scattergeo": [
           {
            "marker": {
             "colorbar": {
              "outlinewidth": 0,
              "ticks": ""
             }
            },
            "type": "scattergeo"
           }
          ],
          "scattergl": [
           {
            "marker": {
             "colorbar": {
              "outlinewidth": 0,
              "ticks": ""
             }
            },
            "type": "scattergl"
           }
          ],
          "scattermapbox": [
           {
            "marker": {
             "colorbar": {
              "outlinewidth": 0,
              "ticks": ""
             }
            },
            "type": "scattermapbox"
           }
          ],
          "scatterpolar": [
           {
            "marker": {
             "colorbar": {
              "outlinewidth": 0,
              "ticks": ""
             }
            },
            "type": "scatterpolar"
           }
          ],
          "scatterpolargl": [
           {
            "marker": {
             "colorbar": {
              "outlinewidth": 0,
              "ticks": ""
             }
            },
            "type": "scatterpolargl"
           }
          ],
          "scatterternary": [
           {
            "marker": {
             "colorbar": {
              "outlinewidth": 0,
              "ticks": ""
             }
            },
            "type": "scatterternary"
           }
          ],
          "surface": [
           {
            "colorbar": {
             "outlinewidth": 0,
             "ticks": ""
            },
            "colorscale": [
             [
              0,
              "#0d0887"
             ],
             [
              0.1111111111111111,
              "#46039f"
             ],
             [
              0.2222222222222222,
              "#7201a8"
             ],
             [
              0.3333333333333333,
              "#9c179e"
             ],
             [
              0.4444444444444444,
              "#bd3786"
             ],
             [
              0.5555555555555556,
              "#d8576b"
             ],
             [
              0.6666666666666666,
              "#ed7953"
             ],
             [
              0.7777777777777778,
              "#fb9f3a"
             ],
             [
              0.8888888888888888,
              "#fdca26"
             ],
             [
              1,
              "#f0f921"
             ]
            ],
            "type": "surface"
           }
          ],
          "table": [
           {
            "cells": {
             "fill": {
              "color": "#EBF0F8"
             },
             "line": {
              "color": "white"
             }
            },
            "header": {
             "fill": {
              "color": "#C8D4E3"
             },
             "line": {
              "color": "white"
             }
            },
            "type": "table"
           }
          ]
         },
         "layout": {
          "annotationdefaults": {
           "arrowcolor": "#2a3f5f",
           "arrowhead": 0,
           "arrowwidth": 1
          },
          "autotypenumbers": "strict",
          "coloraxis": {
           "colorbar": {
            "outlinewidth": 0,
            "ticks": ""
           }
          },
          "colorscale": {
           "diverging": [
            [
             0,
             "#8e0152"
            ],
            [
             0.1,
             "#c51b7d"
            ],
            [
             0.2,
             "#de77ae"
            ],
            [
             0.3,
             "#f1b6da"
            ],
            [
             0.4,
             "#fde0ef"
            ],
            [
             0.5,
             "#f7f7f7"
            ],
            [
             0.6,
             "#e6f5d0"
            ],
            [
             0.7,
             "#b8e186"
            ],
            [
             0.8,
             "#7fbc41"
            ],
            [
             0.9,
             "#4d9221"
            ],
            [
             1,
             "#276419"
            ]
           ],
           "sequential": [
            [
             0,
             "#0d0887"
            ],
            [
             0.1111111111111111,
             "#46039f"
            ],
            [
             0.2222222222222222,
             "#7201a8"
            ],
            [
             0.3333333333333333,
             "#9c179e"
            ],
            [
             0.4444444444444444,
             "#bd3786"
            ],
            [
             0.5555555555555556,
             "#d8576b"
            ],
            [
             0.6666666666666666,
             "#ed7953"
            ],
            [
             0.7777777777777778,
             "#fb9f3a"
            ],
            [
             0.8888888888888888,
             "#fdca26"
            ],
            [
             1,
             "#f0f921"
            ]
           ],
           "sequentialminus": [
            [
             0,
             "#0d0887"
            ],
            [
             0.1111111111111111,
             "#46039f"
            ],
            [
             0.2222222222222222,
             "#7201a8"
            ],
            [
             0.3333333333333333,
             "#9c179e"
            ],
            [
             0.4444444444444444,
             "#bd3786"
            ],
            [
             0.5555555555555556,
             "#d8576b"
            ],
            [
             0.6666666666666666,
             "#ed7953"
            ],
            [
             0.7777777777777778,
             "#fb9f3a"
            ],
            [
             0.8888888888888888,
             "#fdca26"
            ],
            [
             1,
             "#f0f921"
            ]
           ]
          },
          "colorway": [
           "#636efa",
           "#EF553B",
           "#00cc96",
           "#ab63fa",
           "#FFA15A",
           "#19d3f3",
           "#FF6692",
           "#B6E880",
           "#FF97FF",
           "#FECB52"
          ],
          "font": {
           "color": "#2a3f5f"
          },
          "geo": {
           "bgcolor": "white",
           "lakecolor": "white",
           "landcolor": "#E5ECF6",
           "showlakes": true,
           "showland": true,
           "subunitcolor": "white"
          },
          "hoverlabel": {
           "align": "left"
          },
          "hovermode": "closest",
          "mapbox": {
           "style": "light"
          },
          "paper_bgcolor": "white",
          "plot_bgcolor": "#E5ECF6",
          "polar": {
           "angularaxis": {
            "gridcolor": "white",
            "linecolor": "white",
            "ticks": ""
           },
           "bgcolor": "#E5ECF6",
           "radialaxis": {
            "gridcolor": "white",
            "linecolor": "white",
            "ticks": ""
           }
          },
          "scene": {
           "xaxis": {
            "backgroundcolor": "#E5ECF6",
            "gridcolor": "white",
            "gridwidth": 2,
            "linecolor": "white",
            "showbackground": true,
            "ticks": "",
            "zerolinecolor": "white"
           },
           "yaxis": {
            "backgroundcolor": "#E5ECF6",
            "gridcolor": "white",
            "gridwidth": 2,
            "linecolor": "white",
            "showbackground": true,
            "ticks": "",
            "zerolinecolor": "white"
           },
           "zaxis": {
            "backgroundcolor": "#E5ECF6",
            "gridcolor": "white",
            "gridwidth": 2,
            "linecolor": "white",
            "showbackground": true,
            "ticks": "",
            "zerolinecolor": "white"
           }
          },
          "shapedefaults": {
           "line": {
            "color": "#2a3f5f"
           }
          },
          "ternary": {
           "aaxis": {
            "gridcolor": "white",
            "linecolor": "white",
            "ticks": ""
           },
           "baxis": {
            "gridcolor": "white",
            "linecolor": "white",
            "ticks": ""
           },
           "bgcolor": "#E5ECF6",
           "caxis": {
            "gridcolor": "white",
            "linecolor": "white",
            "ticks": ""
           }
          },
          "title": {
           "x": 0.05
          },
          "xaxis": {
           "automargin": true,
           "gridcolor": "white",
           "linecolor": "white",
           "ticks": "",
           "title": {
            "standoff": 15
           },
           "zerolinecolor": "white",
           "zerolinewidth": 2
          },
          "yaxis": {
           "automargin": true,
           "gridcolor": "white",
           "linecolor": "white",
           "ticks": "",
           "title": {
            "standoff": 15
           },
           "zerolinecolor": "white",
           "zerolinewidth": 2
          }
         }
        },
        "title": {
         "text": "UMAP"
        },
        "width": 950
       }
      }
     },
     "metadata": {},
     "output_type": "display_data"
    }
   ],
   "source": [
    "#瑞士卷三维图\n",
    "X,t=make_swiss_roll(500,0)\n",
    "XX=StandardScaler()\n",
    "X=XX.fit_transform(X)\n",
    "chart(X,t)"
   ]
  },
  {
   "cell_type": "code",
   "execution_count": 107,
   "metadata": {},
   "outputs": [
    {
     "data": {
      "image/svg+xml": "<?xml version=\"1.0\" encoding=\"utf-8\" standalone=\"no\"?>\r\n<!DOCTYPE svg PUBLIC \"-//W3C//DTD SVG 1.1//EN\"\r\n  \"http://www.w3.org/Graphics/SVG/1.1/DTD/svg11.dtd\">\r\n<!-- Created with matplotlib (https://matplotlib.org/) -->\r\n<svg height=\"357.238125pt\" version=\"1.1\" viewBox=\"0 0 386.845312 357.238125\" width=\"386.845312pt\" xmlns=\"http://www.w3.org/2000/svg\" xmlns:xlink=\"http://www.w3.org/1999/xlink\">\r\n <metadata>\r\n  <rdf:RDF xmlns:cc=\"http://creativecommons.org/ns#\" xmlns:dc=\"http://purl.org/dc/elements/1.1/\" xmlns:rdf=\"http://www.w3.org/1999/02/22-rdf-syntax-ns#\">\r\n   <cc:Work>\r\n    <dc:type rdf:resource=\"http://purl.org/dc/dcmitype/StillImage\"/>\r\n    <dc:date>2022-06-23T14:59:09.907702</dc:date>\r\n    <dc:format>image/svg+xml</dc:format>\r\n    <dc:creator>\r\n     <cc:Agent>\r\n      <dc:title>Matplotlib v3.3.2, https://matplotlib.org/</dc:title>\r\n     </cc:Agent>\r\n    </dc:creator>\r\n   </cc:Work>\r\n  </rdf:RDF>\r\n </metadata>\r\n <defs>\r\n  <style type=\"text/css\">*{stroke-linecap:butt;stroke-linejoin:round;}</style>\r\n </defs>\r\n <g id=\"figure_1\">\r\n  <g id=\"patch_1\">\r\n   <path d=\"M 0 357.238125 \r\nL 386.845312 357.238125 \r\nL 386.845312 0 \r\nL 0 0 \r\nz\r\n\" style=\"fill:none;\"/>\r\n  </g>\r\n  <g id=\"axes_1\">\r\n   <g id=\"patch_2\">\r\n    <path d=\"M 44.845313 333.36 \r\nL 379.645313 333.36 \r\nL 379.645313 7.2 \r\nL 44.845313 7.2 \r\nz\r\n\" style=\"fill:#ffffff;\"/>\r\n   </g>\r\n   <g id=\"PathCollection_1\">\r\n    <defs>\r\n     <path d=\"M 0 3 \r\nC 0.795609 3 1.55874 2.683901 2.12132 2.12132 \r\nC 2.683901 1.55874 3 0.795609 3 0 \r\nC 3 -0.795609 2.683901 -1.55874 2.12132 -2.12132 \r\nC 1.55874 -2.683901 0.795609 -3 0 -3 \r\nC -0.795609 -3 -1.55874 -2.683901 -2.12132 -2.12132 \r\nC -2.683901 -1.55874 -3 -0.795609 -3 0 \r\nC -3 0.795609 -2.683901 1.55874 -2.12132 2.12132 \r\nC -1.55874 2.683901 -0.795609 3 0 3 \r\nz\r\n\" id=\"m38d429afae\" style=\"stroke:#1f77b4;\"/>\r\n    </defs>\r\n    <g clip-path=\"url(#pd56d66fd56)\">\r\n     <use style=\"fill:#1f77b4;stroke:#1f77b4;\" x=\"63.996597\" xlink:href=\"#m38d429afae\" y=\"115.483121\"/>\r\n    </g>\r\n   </g>\r\n   <g id=\"PathCollection_2\">\r\n    <defs>\r\n     <path d=\"M 0 3 \r\nC 0.795609 3 1.55874 2.683901 2.12132 2.12132 \r\nC 2.683901 1.55874 3 0.795609 3 0 \r\nC 3 -0.795609 2.683901 -1.55874 2.12132 -2.12132 \r\nC 1.55874 -2.683901 0.795609 -3 0 -3 \r\nC -0.795609 -3 -1.55874 -2.683901 -2.12132 -2.12132 \r\nC -2.683901 -1.55874 -3 -0.795609 -3 0 \r\nC -3 0.795609 -2.683901 1.55874 -2.12132 2.12132 \r\nC -1.55874 2.683901 -0.795609 3 0 3 \r\nz\r\n\" id=\"m1b2e3e7814\" style=\"stroke:#ff7f0e;\"/>\r\n    </defs>\r\n    <g clip-path=\"url(#pd56d66fd56)\">\r\n     <use style=\"fill:#ff7f0e;stroke:#ff7f0e;\" x=\"60.063494\" xlink:href=\"#m1b2e3e7814\" y=\"114.108825\"/>\r\n    </g>\r\n   </g>\r\n   <g id=\"PathCollection_3\">\r\n    <defs>\r\n     <path d=\"M 0 3 \r\nC 0.795609 3 1.55874 2.683901 2.12132 2.12132 \r\nC 2.683901 1.55874 3 0.795609 3 0 \r\nC 3 -0.795609 2.683901 -1.55874 2.12132 -2.12132 \r\nC 1.55874 -2.683901 0.795609 -3 0 -3 \r\nC -0.795609 -3 -1.55874 -2.683901 -2.12132 -2.12132 \r\nC -2.683901 -1.55874 -3 -0.795609 -3 0 \r\nC -3 0.795609 -2.683901 1.55874 -2.12132 2.12132 \r\nC -1.55874 2.683901 -0.795609 3 0 3 \r\nz\r\n\" id=\"m3d27568abb\" style=\"stroke:#2ca02c;\"/>\r\n    </defs>\r\n    <g clip-path=\"url(#pd56d66fd56)\">\r\n     <use style=\"fill:#2ca02c;stroke:#2ca02c;\" x=\"60.168161\" xlink:href=\"#m3d27568abb\" y=\"114.167413\"/>\r\n    </g>\r\n   </g>\r\n   <g id=\"PathCollection_4\">\r\n    <defs>\r\n     <path d=\"M 0 3 \r\nC 0.795609 3 1.55874 2.683901 2.12132 2.12132 \r\nC 2.683901 1.55874 3 0.795609 3 0 \r\nC 3 -0.795609 2.683901 -1.55874 2.12132 -2.12132 \r\nC 1.55874 -2.683901 0.795609 -3 0 -3 \r\nC -0.795609 -3 -1.55874 -2.683901 -2.12132 -2.12132 \r\nC -2.683901 -1.55874 -3 -0.795609 -3 0 \r\nC -3 0.795609 -2.683901 1.55874 -2.12132 2.12132 \r\nC -1.55874 2.683901 -0.795609 3 0 3 \r\nz\r\n\" id=\"m13010d7afe\" style=\"stroke:#d62728;\"/>\r\n    </defs>\r\n    <g clip-path=\"url(#pd56d66fd56)\">\r\n     <use style=\"fill:#d62728;stroke:#d62728;\" x=\"60.178074\" xlink:href=\"#m13010d7afe\" y=\"114.27973\"/>\r\n    </g>\r\n   </g>\r\n   <g id=\"PathCollection_5\">\r\n    <defs>\r\n     <path d=\"M 0 3 \r\nC 0.795609 3 1.55874 2.683901 2.12132 2.12132 \r\nC 2.683901 1.55874 3 0.795609 3 0 \r\nC 3 -0.795609 2.683901 -1.55874 2.12132 -2.12132 \r\nC 1.55874 -2.683901 0.795609 -3 0 -3 \r\nC -0.795609 -3 -1.55874 -2.683901 -2.12132 -2.12132 \r\nC -2.683901 -1.55874 -3 -0.795609 -3 0 \r\nC -3 0.795609 -2.683901 1.55874 -2.12132 2.12132 \r\nC -1.55874 2.683901 -0.795609 3 0 3 \r\nz\r\n\" id=\"md9f9739364\" style=\"stroke:#9467bd;\"/>\r\n    </defs>\r\n    <g clip-path=\"url(#pd56d66fd56)\">\r\n     <use style=\"fill:#9467bd;stroke:#9467bd;\" x=\"65.27331\" xlink:href=\"#md9f9739364\" y=\"112.485816\"/>\r\n    </g>\r\n   </g>\r\n   <g id=\"PathCollection_6\">\r\n    <defs>\r\n     <path d=\"M 0 3 \r\nC 0.795609 3 1.55874 2.683901 2.12132 2.12132 \r\nC 2.683901 1.55874 3 0.795609 3 0 \r\nC 3 -0.795609 2.683901 -1.55874 2.12132 -2.12132 \r\nC 1.55874 -2.683901 0.795609 -3 0 -3 \r\nC -0.795609 -3 -1.55874 -2.683901 -2.12132 -2.12132 \r\nC -2.683901 -1.55874 -3 -0.795609 -3 0 \r\nC -3 0.795609 -2.683901 1.55874 -2.12132 2.12132 \r\nC -1.55874 2.683901 -0.795609 3 0 3 \r\nz\r\n\" id=\"m5844ded588\" style=\"stroke:#8c564b;\"/>\r\n    </defs>\r\n    <g clip-path=\"url(#pd56d66fd56)\">\r\n     <use style=\"fill:#8c564b;stroke:#8c564b;\" x=\"65.480342\" xlink:href=\"#m5844ded588\" y=\"112.575464\"/>\r\n    </g>\r\n   </g>\r\n   <g id=\"PathCollection_7\">\r\n    <defs>\r\n     <path d=\"M 0 3 \r\nC 0.795609 3 1.55874 2.683901 2.12132 2.12132 \r\nC 2.683901 1.55874 3 0.795609 3 0 \r\nC 3 -0.795609 2.683901 -1.55874 2.12132 -2.12132 \r\nC 1.55874 -2.683901 0.795609 -3 0 -3 \r\nC -0.795609 -3 -1.55874 -2.683901 -2.12132 -2.12132 \r\nC -2.683901 -1.55874 -3 -0.795609 -3 0 \r\nC -3 0.795609 -2.683901 1.55874 -2.12132 2.12132 \r\nC -1.55874 2.683901 -0.795609 3 0 3 \r\nz\r\n\" id=\"mc2a0935a83\" style=\"stroke:#e377c2;\"/>\r\n    </defs>\r\n    <g clip-path=\"url(#pd56d66fd56)\">\r\n     <use style=\"fill:#e377c2;stroke:#e377c2;\" x=\"64.997057\" xlink:href=\"#mc2a0935a83\" y=\"114.264306\"/>\r\n    </g>\r\n   </g>\r\n   <g id=\"PathCollection_8\">\r\n    <defs>\r\n     <path d=\"M 0 3 \r\nC 0.795609 3 1.55874 2.683901 2.12132 2.12132 \r\nC 2.683901 1.55874 3 0.795609 3 0 \r\nC 3 -0.795609 2.683901 -1.55874 2.12132 -2.12132 \r\nC 1.55874 -2.683901 0.795609 -3 0 -3 \r\nC -0.795609 -3 -1.55874 -2.683901 -2.12132 -2.12132 \r\nC -2.683901 -1.55874 -3 -0.795609 -3 0 \r\nC -3 0.795609 -2.683901 1.55874 -2.12132 2.12132 \r\nC -1.55874 2.683901 -0.795609 3 0 3 \r\nz\r\n\" id=\"m18c035dbd5\" style=\"stroke:#7f7f7f;\"/>\r\n    </defs>\r\n    <g clip-path=\"url(#pd56d66fd56)\">\r\n     <use style=\"fill:#7f7f7f;stroke:#7f7f7f;\" x=\"65.121461\" xlink:href=\"#m18c035dbd5\" y=\"113.914507\"/>\r\n    </g>\r\n   </g>\r\n   <g id=\"PathCollection_9\">\r\n    <defs>\r\n     <path d=\"M 0 3 \r\nC 0.795609 3 1.55874 2.683901 2.12132 2.12132 \r\nC 2.683901 1.55874 3 0.795609 3 0 \r\nC 3 -0.795609 2.683901 -1.55874 2.12132 -2.12132 \r\nC 1.55874 -2.683901 0.795609 -3 0 -3 \r\nC -0.795609 -3 -1.55874 -2.683901 -2.12132 -2.12132 \r\nC -2.683901 -1.55874 -3 -0.795609 -3 0 \r\nC -3 0.795609 -2.683901 1.55874 -2.12132 2.12132 \r\nC -1.55874 2.683901 -0.795609 3 0 3 \r\nz\r\n\" id=\"m109ac1bd99\" style=\"stroke:#bcbd22;\"/>\r\n    </defs>\r\n    <g clip-path=\"url(#pd56d66fd56)\">\r\n     <use style=\"fill:#bcbd22;stroke:#bcbd22;\" x=\"64.997842\" xlink:href=\"#m109ac1bd99\" y=\"114.009629\"/>\r\n    </g>\r\n   </g>\r\n   <g id=\"PathCollection_10\">\r\n    <defs>\r\n     <path d=\"M 0 3 \r\nC 0.795609 3 1.55874 2.683901 2.12132 2.12132 \r\nC 2.683901 1.55874 3 0.795609 3 0 \r\nC 3 -0.795609 2.683901 -1.55874 2.12132 -2.12132 \r\nC 1.55874 -2.683901 0.795609 -3 0 -3 \r\nC -0.795609 -3 -1.55874 -2.683901 -2.12132 -2.12132 \r\nC -2.683901 -1.55874 -3 -0.795609 -3 0 \r\nC -3 0.795609 -2.683901 1.55874 -2.12132 2.12132 \r\nC -1.55874 2.683901 -0.795609 3 0 3 \r\nz\r\n\" id=\"m71c11360e5\" style=\"stroke:#17becf;\"/>\r\n    </defs>\r\n    <g clip-path=\"url(#pd56d66fd56)\">\r\n     <use style=\"fill:#17becf;stroke:#17becf;\" x=\"65.481179\" xlink:href=\"#m71c11360e5\" y=\"112.576138\"/>\r\n    </g>\r\n   </g>\r\n   <g id=\"PathCollection_11\">\r\n    <g clip-path=\"url(#pd56d66fd56)\">\r\n     <use style=\"fill:#1f77b4;stroke:#1f77b4;\" x=\"65.278835\" xlink:href=\"#m38d429afae\" y=\"112.838645\"/>\r\n    </g>\r\n   </g>\r\n   <g id=\"PathCollection_12\">\r\n    <g clip-path=\"url(#pd56d66fd56)\">\r\n     <use style=\"fill:#ff7f0e;stroke:#ff7f0e;\" x=\"63.437461\" xlink:href=\"#m1b2e3e7814\" y=\"115.425585\"/>\r\n    </g>\r\n   </g>\r\n   <g id=\"PathCollection_13\">\r\n    <g clip-path=\"url(#pd56d66fd56)\">\r\n     <use style=\"fill:#2ca02c;stroke:#2ca02c;\" x=\"65.383948\" xlink:href=\"#m3d27568abb\" y=\"112.574867\"/>\r\n    </g>\r\n   </g>\r\n   <g id=\"PathCollection_14\">\r\n    <g clip-path=\"url(#pd56d66fd56)\">\r\n     <use style=\"fill:#d62728;stroke:#d62728;\" x=\"64.785827\" xlink:href=\"#m13010d7afe\" y=\"116.030012\"/>\r\n    </g>\r\n   </g>\r\n   <g id=\"PathCollection_15\">\r\n    <g clip-path=\"url(#pd56d66fd56)\">\r\n     <use style=\"fill:#9467bd;stroke:#9467bd;\" x=\"60.395516\" xlink:href=\"#md9f9739364\" y=\"114.262691\"/>\r\n    </g>\r\n   </g>\r\n   <g id=\"PathCollection_16\">\r\n    <g clip-path=\"url(#pd56d66fd56)\">\r\n     <use style=\"fill:#8c564b;stroke:#8c564b;\" x=\"65.18537\" xlink:href=\"#m5844ded588\" y=\"114.254846\"/>\r\n    </g>\r\n   </g>\r\n   <g id=\"PathCollection_17\">\r\n    <g clip-path=\"url(#pd56d66fd56)\">\r\n     <use style=\"fill:#e377c2;stroke:#e377c2;\" x=\"61.505014\" xlink:href=\"#mc2a0935a83\" y=\"114.754745\"/>\r\n    </g>\r\n   </g>\r\n   <g id=\"PathCollection_18\">\r\n    <g clip-path=\"url(#pd56d66fd56)\">\r\n     <use style=\"fill:#7f7f7f;stroke:#7f7f7f;\" x=\"60.187276\" xlink:href=\"#m18c035dbd5\" y=\"114.289418\"/>\r\n    </g>\r\n   </g>\r\n   <g id=\"PathCollection_19\">\r\n    <g clip-path=\"url(#pd56d66fd56)\">\r\n     <use style=\"fill:#bcbd22;stroke:#bcbd22;\" x=\"65.247722\" xlink:href=\"#m109ac1bd99\" y=\"114.105364\"/>\r\n    </g>\r\n   </g>\r\n   <g id=\"PathCollection_20\">\r\n    <g clip-path=\"url(#pd56d66fd56)\">\r\n     <use style=\"fill:#17becf;stroke:#17becf;\" x=\"65.783754\" xlink:href=\"#m71c11360e5\" y=\"112.836329\"/>\r\n    </g>\r\n   </g>\r\n   <g id=\"PathCollection_21\">\r\n    <g clip-path=\"url(#pd56d66fd56)\">\r\n     <use style=\"fill:#1f77b4;stroke:#1f77b4;\" x=\"62.639437\" xlink:href=\"#m38d429afae\" y=\"115.124713\"/>\r\n    </g>\r\n   </g>\r\n   <g id=\"PathCollection_22\">\r\n    <g clip-path=\"url(#pd56d66fd56)\">\r\n     <use style=\"fill:#ff7f0e;stroke:#ff7f0e;\" x=\"61.415927\" xlink:href=\"#m1b2e3e7814\" y=\"114.796463\"/>\r\n    </g>\r\n   </g>\r\n   <g id=\"PathCollection_23\">\r\n    <g clip-path=\"url(#pd56d66fd56)\">\r\n     <use style=\"fill:#2ca02c;stroke:#2ca02c;\" x=\"61.01996\" xlink:href=\"#m3d27568abb\" y=\"114.725593\"/>\r\n    </g>\r\n   </g>\r\n   <g id=\"PathCollection_24\">\r\n    <g clip-path=\"url(#pd56d66fd56)\">\r\n     <use style=\"fill:#d62728;stroke:#d62728;\" x=\"65.232976\" xlink:href=\"#m13010d7afe\" y=\"115.285758\"/>\r\n    </g>\r\n   </g>\r\n   <g id=\"PathCollection_25\">\r\n    <g clip-path=\"url(#pd56d66fd56)\">\r\n     <use style=\"fill:#9467bd;stroke:#9467bd;\" x=\"65.43784\" xlink:href=\"#md9f9739364\" y=\"112.727504\"/>\r\n    </g>\r\n   </g>\r\n   <g id=\"PathCollection_26\">\r\n    <g clip-path=\"url(#pd56d66fd56)\">\r\n     <use style=\"fill:#8c564b;stroke:#8c564b;\" x=\"65.321768\" xlink:href=\"#m5844ded588\" y=\"114.074233\"/>\r\n    </g>\r\n   </g>\r\n   <g id=\"PathCollection_27\">\r\n    <g clip-path=\"url(#pd56d66fd56)\">\r\n     <use style=\"fill:#e377c2;stroke:#e377c2;\" x=\"65.635478\" xlink:href=\"#mc2a0935a83\" y=\"114.228407\"/>\r\n    </g>\r\n   </g>\r\n   <g id=\"PathCollection_28\">\r\n    <g clip-path=\"url(#pd56d66fd56)\">\r\n     <use style=\"fill:#7f7f7f;stroke:#7f7f7f;\" x=\"65.343748\" xlink:href=\"#m18c035dbd5\" y=\"114.618173\"/>\r\n    </g>\r\n   </g>\r\n   <g id=\"PathCollection_29\">\r\n    <g clip-path=\"url(#pd56d66fd56)\">\r\n     <use style=\"fill:#bcbd22;stroke:#bcbd22;\" x=\"65.573062\" xlink:href=\"#m109ac1bd99\" y=\"113.975311\"/>\r\n    </g>\r\n   </g>\r\n   <g id=\"PathCollection_30\">\r\n    <g clip-path=\"url(#pd56d66fd56)\">\r\n     <use style=\"fill:#17becf;stroke:#17becf;\" x=\"60.43237\" xlink:href=\"#m71c11360e5\" y=\"114.514922\"/>\r\n    </g>\r\n   </g>\r\n   <g id=\"PathCollection_31\">\r\n    <g clip-path=\"url(#pd56d66fd56)\">\r\n     <use style=\"fill:#1f77b4;stroke:#1f77b4;\" x=\"61.962792\" xlink:href=\"#m38d429afae\" y=\"115.011994\"/>\r\n    </g>\r\n   </g>\r\n   <g id=\"PathCollection_32\">\r\n    <g clip-path=\"url(#pd56d66fd56)\">\r\n     <use style=\"fill:#ff7f0e;stroke:#ff7f0e;\" x=\"66.529641\" xlink:href=\"#m1b2e3e7814\" y=\"113.419572\"/>\r\n    </g>\r\n   </g>\r\n   <g id=\"PathCollection_33\">\r\n    <g clip-path=\"url(#pd56d66fd56)\">\r\n     <use style=\"fill:#2ca02c;stroke:#2ca02c;\" x=\"66.381645\" xlink:href=\"#m3d27568abb\" y=\"113.398566\"/>\r\n    </g>\r\n   </g>\r\n   <g id=\"PathCollection_34\">\r\n    <g clip-path=\"url(#pd56d66fd56)\">\r\n     <use style=\"fill:#d62728;stroke:#d62728;\" x=\"66.914182\" xlink:href=\"#m13010d7afe\" y=\"115.384184\"/>\r\n    </g>\r\n   </g>\r\n   <g id=\"PathCollection_35\">\r\n    <g clip-path=\"url(#pd56d66fd56)\">\r\n     <use style=\"fill:#9467bd;stroke:#9467bd;\" x=\"64.883223\" xlink:href=\"#md9f9739364\" y=\"116.452105\"/>\r\n    </g>\r\n   </g>\r\n   <g id=\"PathCollection_36\">\r\n    <g clip-path=\"url(#pd56d66fd56)\">\r\n     <use style=\"fill:#8c564b;stroke:#8c564b;\" x=\"61.510824\" xlink:href=\"#m5844ded588\" y=\"115.070638\"/>\r\n    </g>\r\n   </g>\r\n   <g id=\"PathCollection_37\">\r\n    <g clip-path=\"url(#pd56d66fd56)\">\r\n     <use style=\"fill:#e377c2;stroke:#e377c2;\" x=\"65.979209\" xlink:href=\"#mc2a0935a83\" y=\"116.82452\"/>\r\n    </g>\r\n   </g>\r\n   <g id=\"PathCollection_38\">\r\n    <g clip-path=\"url(#pd56d66fd56)\">\r\n     <use style=\"fill:#7f7f7f;stroke:#7f7f7f;\" x=\"61.294152\" xlink:href=\"#m18c035dbd5\" y=\"115.275481\"/>\r\n    </g>\r\n   </g>\r\n   <g id=\"PathCollection_39\">\r\n    <g clip-path=\"url(#pd56d66fd56)\">\r\n     <use style=\"fill:#bcbd22;stroke:#bcbd22;\" x=\"66.981882\" xlink:href=\"#m109ac1bd99\" y=\"113.795107\"/>\r\n    </g>\r\n   </g>\r\n   <g id=\"PathCollection_40\">\r\n    <g clip-path=\"url(#pd56d66fd56)\">\r\n     <use style=\"fill:#17becf;stroke:#17becf;\" x=\"65.743922\" xlink:href=\"#m71c11360e5\" y=\"113.443628\"/>\r\n    </g>\r\n   </g>\r\n   <g id=\"PathCollection_41\">\r\n    <g clip-path=\"url(#pd56d66fd56)\">\r\n     <use style=\"fill:#1f77b4;stroke:#1f77b4;\" x=\"66.956897\" xlink:href=\"#m38d429afae\" y=\"115.140459\"/>\r\n    </g>\r\n   </g>\r\n   <g id=\"PathCollection_42\">\r\n    <g clip-path=\"url(#pd56d66fd56)\">\r\n     <use style=\"fill:#ff7f0e;stroke:#ff7f0e;\" x=\"67.679087\" xlink:href=\"#m1b2e3e7814\" y=\"116.962363\"/>\r\n    </g>\r\n   </g>\r\n   <g id=\"PathCollection_43\">\r\n    <g clip-path=\"url(#pd56d66fd56)\">\r\n     <use style=\"fill:#2ca02c;stroke:#2ca02c;\" x=\"67.002831\" xlink:href=\"#m3d27568abb\" y=\"113.811768\"/>\r\n    </g>\r\n   </g>\r\n   <g id=\"PathCollection_44\">\r\n    <g clip-path=\"url(#pd56d66fd56)\">\r\n     <use style=\"fill:#d62728;stroke:#d62728;\" x=\"61.16243\" xlink:href=\"#m13010d7afe\" y=\"115.349421\"/>\r\n    </g>\r\n   </g>\r\n   <g id=\"PathCollection_45\">\r\n    <g clip-path=\"url(#pd56d66fd56)\">\r\n     <use style=\"fill:#9467bd;stroke:#9467bd;\" x=\"66.638433\" xlink:href=\"#md9f9739364\" y=\"118.020383\"/>\r\n    </g>\r\n   </g>\r\n   <g id=\"PathCollection_46\">\r\n    <g clip-path=\"url(#pd56d66fd56)\">\r\n     <use style=\"fill:#8c564b;stroke:#8c564b;\" x=\"62.050711\" xlink:href=\"#m5844ded588\" y=\"116.351468\"/>\r\n    </g>\r\n   </g>\r\n   <g id=\"PathCollection_47\">\r\n    <g clip-path=\"url(#pd56d66fd56)\">\r\n     <use style=\"fill:#e377c2;stroke:#e377c2;\" x=\"62.314006\" xlink:href=\"#mc2a0935a83\" y=\"116.141627\"/>\r\n    </g>\r\n   </g>\r\n   <g id=\"PathCollection_48\">\r\n    <g clip-path=\"url(#pd56d66fd56)\">\r\n     <use style=\"fill:#7f7f7f;stroke:#7f7f7f;\" x=\"61.687454\" xlink:href=\"#m18c035dbd5\" y=\"115.921367\"/>\r\n    </g>\r\n   </g>\r\n   <g id=\"PathCollection_49\">\r\n    <g clip-path=\"url(#pd56d66fd56)\">\r\n     <use style=\"fill:#bcbd22;stroke:#bcbd22;\" x=\"67.819025\" xlink:href=\"#m109ac1bd99\" y=\"119.273381\"/>\r\n    </g>\r\n   </g>\r\n   <g id=\"PathCollection_50\">\r\n    <g clip-path=\"url(#pd56d66fd56)\">\r\n     <use style=\"fill:#17becf;stroke:#17becf;\" x=\"62.512955\" xlink:href=\"#m71c11360e5\" y=\"116.079999\"/>\r\n    </g>\r\n   </g>\r\n   <g id=\"PathCollection_51\">\r\n    <g clip-path=\"url(#pd56d66fd56)\">\r\n     <use style=\"fill:#1f77b4;stroke:#1f77b4;\" x=\"71.23573\" xlink:href=\"#m38d429afae\" y=\"119.27746\"/>\r\n    </g>\r\n   </g>\r\n   <g id=\"PathCollection_52\">\r\n    <g clip-path=\"url(#pd56d66fd56)\">\r\n     <use style=\"fill:#ff7f0e;stroke:#ff7f0e;\" x=\"72.074308\" xlink:href=\"#m1b2e3e7814\" y=\"119.783235\"/>\r\n    </g>\r\n   </g>\r\n   <g id=\"PathCollection_53\">\r\n    <g clip-path=\"url(#pd56d66fd56)\">\r\n     <use style=\"fill:#2ca02c;stroke:#2ca02c;\" x=\"71.925551\" xlink:href=\"#m3d27568abb\" y=\"119.90973\"/>\r\n    </g>\r\n   </g>\r\n   <g id=\"PathCollection_54\">\r\n    <g clip-path=\"url(#pd56d66fd56)\">\r\n     <use style=\"fill:#d62728;stroke:#d62728;\" x=\"70.238073\" xlink:href=\"#m13010d7afe\" y=\"116.496262\"/>\r\n    </g>\r\n   </g>\r\n   <g id=\"PathCollection_55\">\r\n    <g clip-path=\"url(#pd56d66fd56)\">\r\n     <use style=\"fill:#9467bd;stroke:#9467bd;\" x=\"62.400839\" xlink:href=\"#md9f9739364\" y=\"116.547717\"/>\r\n    </g>\r\n   </g>\r\n   <g id=\"PathCollection_56\">\r\n    <g clip-path=\"url(#pd56d66fd56)\">\r\n     <use style=\"fill:#8c564b;stroke:#8c564b;\" x=\"62.670702\" xlink:href=\"#m5844ded588\" y=\"117.05539\"/>\r\n    </g>\r\n   </g>\r\n   <g id=\"PathCollection_57\">\r\n    <g clip-path=\"url(#pd56d66fd56)\">\r\n     <use style=\"fill:#e377c2;stroke:#e377c2;\" x=\"73.870468\" xlink:href=\"#mc2a0935a83\" y=\"121.35689\"/>\r\n    </g>\r\n   </g>\r\n   <g id=\"PathCollection_58\">\r\n    <g clip-path=\"url(#pd56d66fd56)\">\r\n     <use style=\"fill:#7f7f7f;stroke:#7f7f7f;\" x=\"63.411681\" xlink:href=\"#m18c035dbd5\" y=\"117.838636\"/>\r\n    </g>\r\n   </g>\r\n   <g id=\"PathCollection_59\">\r\n    <g clip-path=\"url(#pd56d66fd56)\">\r\n     <use style=\"fill:#bcbd22;stroke:#bcbd22;\" x=\"72.882196\" xlink:href=\"#m109ac1bd99\" y=\"124.20656\"/>\r\n    </g>\r\n   </g>\r\n   <g id=\"PathCollection_60\">\r\n    <g clip-path=\"url(#pd56d66fd56)\">\r\n     <use style=\"fill:#17becf;stroke:#17becf;\" x=\"70.969721\" xlink:href=\"#m71c11360e5\" y=\"122.661923\"/>\r\n    </g>\r\n   </g>\r\n   <g id=\"PathCollection_61\">\r\n    <g clip-path=\"url(#pd56d66fd56)\">\r\n     <use style=\"fill:#1f77b4;stroke:#1f77b4;\" x=\"79.021555\" xlink:href=\"#m38d429afae\" y=\"125.352624\"/>\r\n    </g>\r\n   </g>\r\n   <g id=\"PathCollection_62\">\r\n    <g clip-path=\"url(#pd56d66fd56)\">\r\n     <use style=\"fill:#ff7f0e;stroke:#ff7f0e;\" x=\"75.865278\" xlink:href=\"#m1b2e3e7814\" y=\"123.1463\"/>\r\n    </g>\r\n   </g>\r\n   <g id=\"PathCollection_63\">\r\n    <g clip-path=\"url(#pd56d66fd56)\">\r\n     <use style=\"fill:#2ca02c;stroke:#2ca02c;\" x=\"72.695115\" xlink:href=\"#m3d27568abb\" y=\"124.16978\"/>\r\n    </g>\r\n   </g>\r\n   <g id=\"PathCollection_64\">\r\n    <g clip-path=\"url(#pd56d66fd56)\">\r\n     <use style=\"fill:#d62728;stroke:#d62728;\" x=\"66.586682\" xlink:href=\"#m13010d7afe\" y=\"120.485261\"/>\r\n    </g>\r\n   </g>\r\n   <g id=\"PathCollection_65\">\r\n    <g clip-path=\"url(#pd56d66fd56)\">\r\n     <use style=\"fill:#9467bd;stroke:#9467bd;\" x=\"72.001029\" xlink:href=\"#md9f9739364\" y=\"123.658249\"/>\r\n    </g>\r\n   </g>\r\n   <g id=\"PathCollection_66\">\r\n    <g clip-path=\"url(#pd56d66fd56)\">\r\n     <use style=\"fill:#8c564b;stroke:#8c564b;\" x=\"86.971747\" xlink:href=\"#m5844ded588\" y=\"130.38448\"/>\r\n    </g>\r\n   </g>\r\n   <g id=\"PathCollection_67\">\r\n    <g clip-path=\"url(#pd56d66fd56)\">\r\n     <use style=\"fill:#e377c2;stroke:#e377c2;\" x=\"86.398586\" xlink:href=\"#mc2a0935a83\" y=\"130.367692\"/>\r\n    </g>\r\n   </g>\r\n   <g id=\"PathCollection_68\">\r\n    <g clip-path=\"url(#pd56d66fd56)\">\r\n     <use style=\"fill:#7f7f7f;stroke:#7f7f7f;\" x=\"75.763513\" xlink:href=\"#m18c035dbd5\" y=\"126.101113\"/>\r\n    </g>\r\n   </g>\r\n   <g id=\"PathCollection_69\">\r\n    <g clip-path=\"url(#pd56d66fd56)\">\r\n     <use style=\"fill:#bcbd22;stroke:#bcbd22;\" x=\"87.945009\" xlink:href=\"#m109ac1bd99\" y=\"131.629575\"/>\r\n    </g>\r\n   </g>\r\n   <g id=\"PathCollection_70\">\r\n    <g clip-path=\"url(#pd56d66fd56)\">\r\n     <use style=\"fill:#17becf;stroke:#17becf;\" x=\"72.01282\" xlink:href=\"#m71c11360e5\" y=\"125.13337\"/>\r\n    </g>\r\n   </g>\r\n   <g id=\"PathCollection_71\">\r\n    <g clip-path=\"url(#pd56d66fd56)\">\r\n     <use style=\"fill:#1f77b4;stroke:#1f77b4;\" x=\"71.248071\" xlink:href=\"#m38d429afae\" y=\"125.28095\"/>\r\n    </g>\r\n   </g>\r\n   <g id=\"PathCollection_72\">\r\n    <g clip-path=\"url(#pd56d66fd56)\">\r\n     <use style=\"fill:#ff7f0e;stroke:#ff7f0e;\" x=\"73.875874\" xlink:href=\"#m1b2e3e7814\" y=\"125.163575\"/>\r\n    </g>\r\n   </g>\r\n   <g id=\"PathCollection_73\">\r\n    <g clip-path=\"url(#pd56d66fd56)\">\r\n     <use style=\"fill:#2ca02c;stroke:#2ca02c;\" x=\"88.391789\" xlink:href=\"#m3d27568abb\" y=\"131.907672\"/>\r\n    </g>\r\n   </g>\r\n   <g id=\"PathCollection_74\">\r\n    <g clip-path=\"url(#pd56d66fd56)\">\r\n     <use style=\"fill:#d62728;stroke:#d62728;\" x=\"65.926112\" xlink:href=\"#m13010d7afe\" y=\"120.557443\"/>\r\n    </g>\r\n   </g>\r\n   <g id=\"PathCollection_75\">\r\n    <g clip-path=\"url(#pd56d66fd56)\">\r\n     <use style=\"fill:#9467bd;stroke:#9467bd;\" x=\"69.680249\" xlink:href=\"#md9f9739364\" y=\"124.134347\"/>\r\n    </g>\r\n   </g>\r\n   <g id=\"PathCollection_76\">\r\n    <g clip-path=\"url(#pd56d66fd56)\">\r\n     <use style=\"fill:#8c564b;stroke:#8c564b;\" x=\"82.326199\" xlink:href=\"#m5844ded588\" y=\"128.632969\"/>\r\n    </g>\r\n   </g>\r\n   <g id=\"PathCollection_77\">\r\n    <g clip-path=\"url(#pd56d66fd56)\">\r\n     <use style=\"fill:#e377c2;stroke:#e377c2;\" x=\"81.806878\" xlink:href=\"#mc2a0935a83\" y=\"128.773292\"/>\r\n    </g>\r\n   </g>\r\n   <g id=\"PathCollection_78\">\r\n    <g clip-path=\"url(#pd56d66fd56)\">\r\n     <use style=\"fill:#7f7f7f;stroke:#7f7f7f;\" x=\"85.433802\" xlink:href=\"#m18c035dbd5\" y=\"130.281652\"/>\r\n    </g>\r\n   </g>\r\n   <g id=\"PathCollection_79\">\r\n    <g clip-path=\"url(#pd56d66fd56)\">\r\n     <use style=\"fill:#bcbd22;stroke:#bcbd22;\" x=\"74.88951\" xlink:href=\"#m109ac1bd99\" y=\"126.090701\"/>\r\n    </g>\r\n   </g>\r\n   <g id=\"PathCollection_80\">\r\n    <g clip-path=\"url(#pd56d66fd56)\">\r\n     <use style=\"fill:#17becf;stroke:#17becf;\" x=\"90.308474\" xlink:href=\"#m71c11360e5\" y=\"133.064928\"/>\r\n    </g>\r\n   </g>\r\n   <g id=\"PathCollection_81\">\r\n    <g clip-path=\"url(#pd56d66fd56)\">\r\n     <use style=\"fill:#1f77b4;stroke:#1f77b4;\" x=\"92.34225\" xlink:href=\"#m38d429afae\" y=\"134.350982\"/>\r\n    </g>\r\n   </g>\r\n   <g id=\"PathCollection_82\">\r\n    <g clip-path=\"url(#pd56d66fd56)\">\r\n     <use style=\"fill:#ff7f0e;stroke:#ff7f0e;\" x=\"75.648344\" xlink:href=\"#m1b2e3e7814\" y=\"126.644916\"/>\r\n    </g>\r\n   </g>\r\n   <g id=\"PathCollection_83\">\r\n    <g clip-path=\"url(#pd56d66fd56)\">\r\n     <use style=\"fill:#2ca02c;stroke:#2ca02c;\" x=\"93.287881\" xlink:href=\"#m3d27568abb\" y=\"134.791561\"/>\r\n    </g>\r\n   </g>\r\n   <g id=\"PathCollection_84\">\r\n    <g clip-path=\"url(#pd56d66fd56)\">\r\n     <use style=\"fill:#d62728;stroke:#d62728;\" x=\"75.659058\" xlink:href=\"#m13010d7afe\" y=\"126.550115\"/>\r\n    </g>\r\n   </g>\r\n   <g id=\"PathCollection_85\">\r\n    <g clip-path=\"url(#pd56d66fd56)\">\r\n     <use style=\"fill:#9467bd;stroke:#9467bd;\" x=\"75.820685\" xlink:href=\"#md9f9739364\" y=\"127.534392\"/>\r\n    </g>\r\n   </g>\r\n   <g id=\"PathCollection_86\">\r\n    <g clip-path=\"url(#pd56d66fd56)\">\r\n     <use style=\"fill:#8c564b;stroke:#8c564b;\" x=\"79.694712\" xlink:href=\"#m5844ded588\" y=\"133.55138\"/>\r\n    </g>\r\n   </g>\r\n   <g id=\"PathCollection_87\">\r\n    <g clip-path=\"url(#pd56d66fd56)\">\r\n     <use style=\"fill:#e377c2;stroke:#e377c2;\" x=\"94.336745\" xlink:href=\"#mc2a0935a83\" y=\"135.707181\"/>\r\n    </g>\r\n   </g>\r\n   <g id=\"PathCollection_88\">\r\n    <g clip-path=\"url(#pd56d66fd56)\">\r\n     <use style=\"fill:#7f7f7f;stroke:#7f7f7f;\" x=\"67.167969\" xlink:href=\"#m18c035dbd5\" y=\"121.874228\"/>\r\n    </g>\r\n   </g>\r\n   <g id=\"PathCollection_89\">\r\n    <g clip-path=\"url(#pd56d66fd56)\">\r\n     <use style=\"fill:#bcbd22;stroke:#bcbd22;\" x=\"68.421647\" xlink:href=\"#m109ac1bd99\" y=\"123.13008\"/>\r\n    </g>\r\n   </g>\r\n   <g id=\"PathCollection_90\">\r\n    <g clip-path=\"url(#pd56d66fd56)\">\r\n     <use style=\"fill:#17becf;stroke:#17becf;\" x=\"90.051958\" xlink:href=\"#m71c11360e5\" y=\"133.332147\"/>\r\n    </g>\r\n   </g>\r\n   <g id=\"PathCollection_91\">\r\n    <g clip-path=\"url(#pd56d66fd56)\">\r\n     <use style=\"fill:#1f77b4;stroke:#1f77b4;\" x=\"70.578835\" xlink:href=\"#m38d429afae\" y=\"125.222493\"/>\r\n    </g>\r\n   </g>\r\n   <g id=\"PathCollection_92\">\r\n    <g clip-path=\"url(#pd56d66fd56)\">\r\n     <use style=\"fill:#ff7f0e;stroke:#ff7f0e;\" x=\"76.001669\" xlink:href=\"#m1b2e3e7814\" y=\"127.038415\"/>\r\n    </g>\r\n   </g>\r\n   <g id=\"PathCollection_93\">\r\n    <g clip-path=\"url(#pd56d66fd56)\">\r\n     <use style=\"fill:#2ca02c;stroke:#2ca02c;\" x=\"89.450576\" xlink:href=\"#m3d27568abb\" y=\"133.090122\"/>\r\n    </g>\r\n   </g>\r\n   <g id=\"PathCollection_94\">\r\n    <g clip-path=\"url(#pd56d66fd56)\">\r\n     <use style=\"fill:#d62728;stroke:#d62728;\" x=\"68.898801\" xlink:href=\"#m13010d7afe\" y=\"123.657362\"/>\r\n    </g>\r\n   </g>\r\n   <g id=\"PathCollection_95\">\r\n    <g clip-path=\"url(#pd56d66fd56)\">\r\n     <use style=\"fill:#9467bd;stroke:#9467bd;\" x=\"78.906465\" xlink:href=\"#md9f9739364\" y=\"129.104033\"/>\r\n    </g>\r\n   </g>\r\n   <g id=\"PathCollection_96\">\r\n    <g clip-path=\"url(#pd56d66fd56)\">\r\n     <use style=\"fill:#8c564b;stroke:#8c564b;\" x=\"90.575375\" xlink:href=\"#m5844ded588\" y=\"136.484678\"/>\r\n    </g>\r\n   </g>\r\n   <g id=\"PathCollection_97\">\r\n    <g clip-path=\"url(#pd56d66fd56)\">\r\n     <use style=\"fill:#e377c2;stroke:#e377c2;\" x=\"72.572147\" xlink:href=\"#mc2a0935a83\" y=\"127.378266\"/>\r\n    </g>\r\n   </g>\r\n   <g id=\"PathCollection_98\">\r\n    <g clip-path=\"url(#pd56d66fd56)\">\r\n     <use style=\"fill:#7f7f7f;stroke:#7f7f7f;\" x=\"93.90465\" xlink:href=\"#m18c035dbd5\" y=\"140.374346\"/>\r\n    </g>\r\n   </g>\r\n   <g id=\"PathCollection_99\">\r\n    <g clip-path=\"url(#pd56d66fd56)\">\r\n     <use style=\"fill:#bcbd22;stroke:#bcbd22;\" x=\"102.131776\" xlink:href=\"#m109ac1bd99\" y=\"140.265546\"/>\r\n    </g>\r\n   </g>\r\n   <g id=\"PathCollection_100\">\r\n    <g clip-path=\"url(#pd56d66fd56)\">\r\n     <use style=\"fill:#17becf;stroke:#17becf;\" x=\"86.4618\" xlink:href=\"#m71c11360e5\" y=\"141.114475\"/>\r\n    </g>\r\n   </g>\r\n   <g id=\"PathCollection_101\">\r\n    <g clip-path=\"url(#pd56d66fd56)\">\r\n     <use style=\"fill:#1f77b4;stroke:#1f77b4;\" x=\"96.562402\" xlink:href=\"#m38d429afae\" y=\"141.267314\"/>\r\n    </g>\r\n   </g>\r\n   <g id=\"PathCollection_102\">\r\n    <g clip-path=\"url(#pd56d66fd56)\">\r\n     <use style=\"fill:#ff7f0e;stroke:#ff7f0e;\" x=\"82.911437\" xlink:href=\"#m1b2e3e7814\" y=\"137.619629\"/>\r\n    </g>\r\n   </g>\r\n   <g id=\"PathCollection_103\">\r\n    <g clip-path=\"url(#pd56d66fd56)\">\r\n     <use style=\"fill:#2ca02c;stroke:#2ca02c;\" x=\"94.726527\" xlink:href=\"#m3d27568abb\" y=\"136.339581\"/>\r\n    </g>\r\n   </g>\r\n   <g id=\"PathCollection_104\">\r\n    <g clip-path=\"url(#pd56d66fd56)\">\r\n     <use style=\"fill:#d62728;stroke:#d62728;\" x=\"96.290722\" xlink:href=\"#m13010d7afe\" y=\"138.922589\"/>\r\n    </g>\r\n   </g>\r\n   <g id=\"PathCollection_105\">\r\n    <g clip-path=\"url(#pd56d66fd56)\">\r\n     <use style=\"fill:#9467bd;stroke:#9467bd;\" x=\"90.365483\" xlink:href=\"#md9f9739364\" y=\"145.042235\"/>\r\n    </g>\r\n   </g>\r\n   <g id=\"PathCollection_106\">\r\n    <g clip-path=\"url(#pd56d66fd56)\">\r\n     <use style=\"fill:#8c564b;stroke:#8c564b;\" x=\"100.232545\" xlink:href=\"#m5844ded588\" y=\"139.585491\"/>\r\n    </g>\r\n   </g>\r\n   <g id=\"PathCollection_107\">\r\n    <g clip-path=\"url(#pd56d66fd56)\">\r\n     <use style=\"fill:#e377c2;stroke:#e377c2;\" x=\"78.262284\" xlink:href=\"#mc2a0935a83\" y=\"133.149767\"/>\r\n    </g>\r\n   </g>\r\n   <g id=\"PathCollection_108\">\r\n    <g clip-path=\"url(#pd56d66fd56)\">\r\n     <use style=\"fill:#7f7f7f;stroke:#7f7f7f;\" x=\"95.11319\" xlink:href=\"#m18c035dbd5\" y=\"149.862228\"/>\r\n    </g>\r\n   </g>\r\n   <g id=\"PathCollection_109\">\r\n    <g clip-path=\"url(#pd56d66fd56)\">\r\n     <use style=\"fill:#bcbd22;stroke:#bcbd22;\" x=\"70.009481\" xlink:href=\"#m109ac1bd99\" y=\"124.821283\"/>\r\n    </g>\r\n   </g>\r\n   <g id=\"PathCollection_110\">\r\n    <g clip-path=\"url(#pd56d66fd56)\">\r\n     <use style=\"fill:#17becf;stroke:#17becf;\" x=\"100.744779\" xlink:href=\"#m71c11360e5\" y=\"143.998814\"/>\r\n    </g>\r\n   </g>\r\n   <g id=\"PathCollection_111\">\r\n    <g clip-path=\"url(#pd56d66fd56)\">\r\n     <use style=\"fill:#1f77b4;stroke:#1f77b4;\" x=\"103.123838\" xlink:href=\"#m38d429afae\" y=\"145.114294\"/>\r\n    </g>\r\n   </g>\r\n   <g id=\"PathCollection_112\">\r\n    <g clip-path=\"url(#pd56d66fd56)\">\r\n     <use style=\"fill:#ff7f0e;stroke:#ff7f0e;\" x=\"73.959345\" xlink:href=\"#m1b2e3e7814\" y=\"128.823456\"/>\r\n    </g>\r\n   </g>\r\n   <g id=\"PathCollection_113\">\r\n    <g clip-path=\"url(#pd56d66fd56)\">\r\n     <use style=\"fill:#2ca02c;stroke:#2ca02c;\" x=\"98.508346\" xlink:href=\"#m3d27568abb\" y=\"143.32633\"/>\r\n    </g>\r\n   </g>\r\n   <g id=\"PathCollection_114\">\r\n    <g clip-path=\"url(#pd56d66fd56)\">\r\n     <use style=\"fill:#d62728;stroke:#d62728;\" x=\"84.63216\" xlink:href=\"#m13010d7afe\" y=\"139.487892\"/>\r\n    </g>\r\n   </g>\r\n   <g id=\"PathCollection_115\">\r\n    <g clip-path=\"url(#pd56d66fd56)\">\r\n     <use style=\"fill:#9467bd;stroke:#9467bd;\" x=\"109.409706\" xlink:href=\"#md9f9739364\" y=\"144.626069\"/>\r\n    </g>\r\n   </g>\r\n   <g id=\"PathCollection_116\">\r\n    <g clip-path=\"url(#pd56d66fd56)\">\r\n     <use style=\"fill:#8c564b;stroke:#8c564b;\" x=\"100.419943\" xlink:href=\"#m5844ded588\" y=\"145.129644\"/>\r\n    </g>\r\n   </g>\r\n   <g id=\"PathCollection_117\">\r\n    <g clip-path=\"url(#pd56d66fd56)\">\r\n     <use style=\"fill:#e377c2;stroke:#e377c2;\" x=\"78.356116\" xlink:href=\"#mc2a0935a83\" y=\"133.244833\"/>\r\n    </g>\r\n   </g>\r\n   <g id=\"PathCollection_118\">\r\n    <g clip-path=\"url(#pd56d66fd56)\">\r\n     <use style=\"fill:#7f7f7f;stroke:#7f7f7f;\" x=\"99.736244\" xlink:href=\"#m18c035dbd5\" y=\"147.938083\"/>\r\n    </g>\r\n   </g>\r\n   <g id=\"PathCollection_119\">\r\n    <g clip-path=\"url(#pd56d66fd56)\">\r\n     <use style=\"fill:#bcbd22;stroke:#bcbd22;\" x=\"112.997139\" xlink:href=\"#m109ac1bd99\" y=\"146.477633\"/>\r\n    </g>\r\n   </g>\r\n   <g id=\"PathCollection_120\">\r\n    <g clip-path=\"url(#pd56d66fd56)\">\r\n     <use style=\"fill:#17becf;stroke:#17becf;\" x=\"99.918611\" xlink:href=\"#m71c11360e5\" y=\"154.655696\"/>\r\n    </g>\r\n   </g>\r\n   <g id=\"PathCollection_121\">\r\n    <g clip-path=\"url(#pd56d66fd56)\">\r\n     <use style=\"fill:#1f77b4;stroke:#1f77b4;\" x=\"98.298533\" xlink:href=\"#m38d429afae\" y=\"153.064425\"/>\r\n    </g>\r\n   </g>\r\n   <g id=\"PathCollection_122\">\r\n    <g clip-path=\"url(#pd56d66fd56)\">\r\n     <use style=\"fill:#ff7f0e;stroke:#ff7f0e;\" x=\"103.612969\" xlink:href=\"#m1b2e3e7814\" y=\"146.510964\"/>\r\n    </g>\r\n   </g>\r\n   <g id=\"PathCollection_123\">\r\n    <g clip-path=\"url(#pd56d66fd56)\">\r\n     <use style=\"fill:#2ca02c;stroke:#2ca02c;\" x=\"101.823351\" xlink:href=\"#m3d27568abb\" y=\"156.231461\"/>\r\n    </g>\r\n   </g>\r\n   <g id=\"PathCollection_124\">\r\n    <g clip-path=\"url(#pd56d66fd56)\">\r\n     <use style=\"fill:#d62728;stroke:#d62728;\" x=\"101.227645\" xlink:href=\"#m13010d7afe\" y=\"154.444653\"/>\r\n    </g>\r\n   </g>\r\n   <g id=\"PathCollection_125\">\r\n    <g clip-path=\"url(#pd56d66fd56)\">\r\n     <use style=\"fill:#9467bd;stroke:#9467bd;\" x=\"108.1691\" xlink:href=\"#md9f9739364\" y=\"148.494677\"/>\r\n    </g>\r\n   </g>\r\n   <g id=\"PathCollection_126\">\r\n    <g clip-path=\"url(#pd56d66fd56)\">\r\n     <use style=\"fill:#8c564b;stroke:#8c564b;\" x=\"114.824075\" xlink:href=\"#m5844ded588\" y=\"148.318519\"/>\r\n    </g>\r\n   </g>\r\n   <g id=\"PathCollection_127\">\r\n    <g clip-path=\"url(#pd56d66fd56)\">\r\n     <use style=\"fill:#e377c2;stroke:#e377c2;\" x=\"113.230109\" xlink:href=\"#mc2a0935a83\" y=\"150.463662\"/>\r\n    </g>\r\n   </g>\r\n   <g id=\"PathCollection_128\">\r\n    <g clip-path=\"url(#pd56d66fd56)\">\r\n     <use style=\"fill:#7f7f7f;stroke:#7f7f7f;\" x=\"102.817798\" xlink:href=\"#m18c035dbd5\" y=\"157.158624\"/>\r\n    </g>\r\n   </g>\r\n   <g id=\"PathCollection_129\">\r\n    <g clip-path=\"url(#pd56d66fd56)\">\r\n     <use style=\"fill:#bcbd22;stroke:#bcbd22;\" x=\"105.432009\" xlink:href=\"#m109ac1bd99\" y=\"157.253566\"/>\r\n    </g>\r\n   </g>\r\n   <g id=\"PathCollection_130\">\r\n    <g clip-path=\"url(#pd56d66fd56)\">\r\n     <use style=\"fill:#17becf;stroke:#17becf;\" x=\"117.072195\" xlink:href=\"#m71c11360e5\" y=\"148.695963\"/>\r\n    </g>\r\n   </g>\r\n   <g id=\"PathCollection_131\">\r\n    <g clip-path=\"url(#pd56d66fd56)\">\r\n     <use style=\"fill:#1f77b4;stroke:#1f77b4;\" x=\"111.493656\" xlink:href=\"#m38d429afae\" y=\"167.844466\"/>\r\n    </g>\r\n   </g>\r\n   <g id=\"PathCollection_132\">\r\n    <g clip-path=\"url(#pd56d66fd56)\">\r\n     <use style=\"fill:#ff7f0e;stroke:#ff7f0e;\" x=\"118.048665\" xlink:href=\"#m1b2e3e7814\" y=\"152.082587\"/>\r\n    </g>\r\n   </g>\r\n   <g id=\"PathCollection_133\">\r\n    <g clip-path=\"url(#pd56d66fd56)\">\r\n     <use style=\"fill:#2ca02c;stroke:#2ca02c;\" x=\"111.781649\" xlink:href=\"#m3d27568abb\" y=\"153.655215\"/>\r\n    </g>\r\n   </g>\r\n   <g id=\"PathCollection_134\">\r\n    <g clip-path=\"url(#pd56d66fd56)\">\r\n     <use style=\"fill:#d62728;stroke:#d62728;\" x=\"123.808107\" xlink:href=\"#m13010d7afe\" y=\"151.753733\"/>\r\n    </g>\r\n   </g>\r\n   <g id=\"PathCollection_135\">\r\n    <g clip-path=\"url(#pd56d66fd56)\">\r\n     <use style=\"fill:#9467bd;stroke:#9467bd;\" x=\"124.309938\" xlink:href=\"#md9f9739364\" y=\"152.406557\"/>\r\n    </g>\r\n   </g>\r\n   <g id=\"PathCollection_136\">\r\n    <g clip-path=\"url(#pd56d66fd56)\">\r\n     <use style=\"fill:#8c564b;stroke:#8c564b;\" x=\"122.402501\" xlink:href=\"#m5844ded588\" y=\"158.76774\"/>\r\n    </g>\r\n   </g>\r\n   <g id=\"PathCollection_137\">\r\n    <g clip-path=\"url(#pd56d66fd56)\">\r\n     <use style=\"fill:#e377c2;stroke:#e377c2;\" x=\"122.714951\" xlink:href=\"#mc2a0935a83\" y=\"163.874133\"/>\r\n    </g>\r\n   </g>\r\n   <g id=\"PathCollection_138\">\r\n    <g clip-path=\"url(#pd56d66fd56)\">\r\n     <use style=\"fill:#7f7f7f;stroke:#7f7f7f;\" x=\"150.454822\" xlink:href=\"#m18c035dbd5\" y=\"216.462025\"/>\r\n    </g>\r\n   </g>\r\n   <g id=\"PathCollection_139\">\r\n    <g clip-path=\"url(#pd56d66fd56)\">\r\n     <use style=\"fill:#bcbd22;stroke:#bcbd22;\" x=\"122.869935\" xlink:href=\"#m109ac1bd99\" y=\"162.908327\"/>\r\n    </g>\r\n   </g>\r\n   <g id=\"PathCollection_140\">\r\n    <g clip-path=\"url(#pd56d66fd56)\">\r\n     <use style=\"fill:#17becf;stroke:#17becf;\" x=\"122.675214\" xlink:href=\"#m71c11360e5\" y=\"171.002932\"/>\r\n    </g>\r\n   </g>\r\n   <g id=\"PathCollection_141\">\r\n    <g clip-path=\"url(#pd56d66fd56)\">\r\n     <use style=\"fill:#1f77b4;stroke:#1f77b4;\" x=\"126.597746\" xlink:href=\"#m38d429afae\" y=\"176.109283\"/>\r\n    </g>\r\n   </g>\r\n   <g id=\"PathCollection_142\">\r\n    <g clip-path=\"url(#pd56d66fd56)\">\r\n     <use style=\"fill:#ff7f0e;stroke:#ff7f0e;\" x=\"141.817773\" xlink:href=\"#m1b2e3e7814\" y=\"204.614895\"/>\r\n    </g>\r\n   </g>\r\n   <g id=\"PathCollection_143\">\r\n    <g clip-path=\"url(#pd56d66fd56)\">\r\n     <use style=\"fill:#2ca02c;stroke:#2ca02c;\" x=\"126.382767\" xlink:href=\"#m3d27568abb\" y=\"154.476612\"/>\r\n    </g>\r\n   </g>\r\n   <g id=\"PathCollection_144\">\r\n    <g clip-path=\"url(#pd56d66fd56)\">\r\n     <use style=\"fill:#d62728;stroke:#d62728;\" x=\"135.829748\" xlink:href=\"#m13010d7afe\" y=\"196.066338\"/>\r\n    </g>\r\n   </g>\r\n   <g id=\"PathCollection_145\">\r\n    <g clip-path=\"url(#pd56d66fd56)\">\r\n     <use style=\"fill:#9467bd;stroke:#9467bd;\" x=\"154.294384\" xlink:href=\"#md9f9739364\" y=\"221.40314\"/>\r\n    </g>\r\n   </g>\r\n   <g id=\"PathCollection_146\">\r\n    <g clip-path=\"url(#pd56d66fd56)\">\r\n     <use style=\"fill:#8c564b;stroke:#8c564b;\" x=\"126.382116\" xlink:href=\"#m5844ded588\" y=\"175.205829\"/>\r\n    </g>\r\n   </g>\r\n   <g id=\"PathCollection_147\">\r\n    <g clip-path=\"url(#pd56d66fd56)\">\r\n     <use style=\"fill:#e377c2;stroke:#e377c2;\" x=\"133.233431\" xlink:href=\"#mc2a0935a83\" y=\"192.348893\"/>\r\n    </g>\r\n   </g>\r\n   <g id=\"PathCollection_148\">\r\n    <g clip-path=\"url(#pd56d66fd56)\">\r\n     <use style=\"fill:#7f7f7f;stroke:#7f7f7f;\" x=\"125.411723\" xlink:href=\"#m18c035dbd5\" y=\"173.183996\"/>\r\n    </g>\r\n   </g>\r\n   <g id=\"PathCollection_149\">\r\n    <g clip-path=\"url(#pd56d66fd56)\">\r\n     <use style=\"fill:#bcbd22;stroke:#bcbd22;\" x=\"125.784719\" xlink:href=\"#m109ac1bd99\" y=\"170.922201\"/>\r\n    </g>\r\n   </g>\r\n   <g id=\"PathCollection_150\">\r\n    <g clip-path=\"url(#pd56d66fd56)\">\r\n     <use style=\"fill:#17becf;stroke:#17becf;\" x=\"128.771338\" xlink:href=\"#m71c11360e5\" y=\"167.101496\"/>\r\n    </g>\r\n   </g>\r\n   <g id=\"PathCollection_151\">\r\n    <g clip-path=\"url(#pd56d66fd56)\">\r\n     <use style=\"fill:#1f77b4;stroke:#1f77b4;\" x=\"125.682318\" xlink:href=\"#m38d429afae\" y=\"165.561451\"/>\r\n    </g>\r\n   </g>\r\n   <g id=\"PathCollection_152\">\r\n    <g clip-path=\"url(#pd56d66fd56)\">\r\n     <use style=\"fill:#ff7f0e;stroke:#ff7f0e;\" x=\"133.226368\" xlink:href=\"#m1b2e3e7814\" y=\"189.07742\"/>\r\n    </g>\r\n   </g>\r\n   <g id=\"PathCollection_153\">\r\n    <g clip-path=\"url(#pd56d66fd56)\">\r\n     <use style=\"fill:#2ca02c;stroke:#2ca02c;\" x=\"135.946904\" xlink:href=\"#m3d27568abb\" y=\"156.148406\"/>\r\n    </g>\r\n   </g>\r\n   <g id=\"PathCollection_154\">\r\n    <g clip-path=\"url(#pd56d66fd56)\">\r\n     <use style=\"fill:#d62728;stroke:#d62728;\" x=\"126.699997\" xlink:href=\"#m13010d7afe\" y=\"168.575941\"/>\r\n    </g>\r\n   </g>\r\n   <g id=\"PathCollection_155\">\r\n    <g clip-path=\"url(#pd56d66fd56)\">\r\n     <use style=\"fill:#9467bd;stroke:#9467bd;\" x=\"136.521767\" xlink:href=\"#md9f9739364\" y=\"156.301919\"/>\r\n    </g>\r\n   </g>\r\n   <g id=\"PathCollection_156\">\r\n    <g clip-path=\"url(#pd56d66fd56)\">\r\n     <use style=\"fill:#8c564b;stroke:#8c564b;\" x=\"146.364905\" xlink:href=\"#m5844ded588\" y=\"210.886112\"/>\r\n    </g>\r\n   </g>\r\n   <g id=\"PathCollection_157\">\r\n    <g clip-path=\"url(#pd56d66fd56)\">\r\n     <use style=\"fill:#e377c2;stroke:#e377c2;\" x=\"158.378117\" xlink:href=\"#mc2a0935a83\" y=\"226.346495\"/>\r\n    </g>\r\n   </g>\r\n   <g id=\"PathCollection_158\">\r\n    <g clip-path=\"url(#pd56d66fd56)\">\r\n     <use style=\"fill:#7f7f7f;stroke:#7f7f7f;\" x=\"152.448109\" xlink:href=\"#m18c035dbd5\" y=\"218.919968\"/>\r\n    </g>\r\n   </g>\r\n   <g id=\"PathCollection_159\">\r\n    <g clip-path=\"url(#pd56d66fd56)\">\r\n     <use style=\"fill:#bcbd22;stroke:#bcbd22;\" x=\"126.270711\" xlink:href=\"#m109ac1bd99\" y=\"172.456782\"/>\r\n    </g>\r\n   </g>\r\n   <g id=\"PathCollection_160\">\r\n    <g clip-path=\"url(#pd56d66fd56)\">\r\n     <use style=\"fill:#17becf;stroke:#17becf;\" x=\"162.572447\" xlink:href=\"#m71c11360e5\" y=\"231.288921\"/>\r\n    </g>\r\n   </g>\r\n   <g id=\"PathCollection_161\">\r\n    <g clip-path=\"url(#pd56d66fd56)\">\r\n     <use style=\"fill:#1f77b4;stroke:#1f77b4;\" x=\"143.519918\" xlink:href=\"#m38d429afae\" y=\"202.996544\"/>\r\n    </g>\r\n   </g>\r\n   <g id=\"PathCollection_162\">\r\n    <g clip-path=\"url(#pd56d66fd56)\">\r\n     <use style=\"fill:#ff7f0e;stroke:#ff7f0e;\" x=\"131.436393\" xlink:href=\"#m1b2e3e7814\" y=\"172.188647\"/>\r\n    </g>\r\n   </g>\r\n   <g id=\"PathCollection_163\">\r\n    <g clip-path=\"url(#pd56d66fd56)\">\r\n     <use style=\"fill:#2ca02c;stroke:#2ca02c;\" x=\"166.892311\" xlink:href=\"#m3d27568abb\" y=\"165.319162\"/>\r\n    </g>\r\n   </g>\r\n   <g id=\"PathCollection_164\">\r\n    <g clip-path=\"url(#pd56d66fd56)\">\r\n     <use style=\"fill:#d62728;stroke:#d62728;\" x=\"143.984939\" xlink:href=\"#m13010d7afe\" y=\"207.007768\"/>\r\n    </g>\r\n   </g>\r\n   <g id=\"PathCollection_165\">\r\n    <g clip-path=\"url(#pd56d66fd56)\">\r\n     <use style=\"fill:#9467bd;stroke:#9467bd;\" x=\"154.356631\" xlink:href=\"#md9f9739364\" y=\"184.013565\"/>\r\n    </g>\r\n   </g>\r\n   <g id=\"PathCollection_166\">\r\n    <g clip-path=\"url(#pd56d66fd56)\">\r\n     <use style=\"fill:#8c564b;stroke:#8c564b;\" x=\"162.487446\" xlink:href=\"#m5844ded588\" y=\"183.305778\"/>\r\n    </g>\r\n   </g>\r\n   <g id=\"PathCollection_167\">\r\n    <g clip-path=\"url(#pd56d66fd56)\">\r\n     <use style=\"fill:#e377c2;stroke:#e377c2;\" x=\"157.543789\" xlink:href=\"#mc2a0935a83\" y=\"216.259429\"/>\r\n    </g>\r\n   </g>\r\n   <g id=\"PathCollection_168\">\r\n    <g clip-path=\"url(#pd56d66fd56)\">\r\n     <use style=\"fill:#7f7f7f;stroke:#7f7f7f;\" x=\"162.62443\" xlink:href=\"#m18c035dbd5\" y=\"186.684887\"/>\r\n    </g>\r\n   </g>\r\n   <g id=\"PathCollection_169\">\r\n    <g clip-path=\"url(#pd56d66fd56)\">\r\n     <use style=\"fill:#bcbd22;stroke:#bcbd22;\" x=\"165.142332\" xlink:href=\"#m109ac1bd99\" y=\"184.367703\"/>\r\n    </g>\r\n   </g>\r\n   <g id=\"PathCollection_170\">\r\n    <g clip-path=\"url(#pd56d66fd56)\">\r\n     <use style=\"fill:#17becf;stroke:#17becf;\" x=\"172.773937\" xlink:href=\"#m71c11360e5\" y=\"242.844864\"/>\r\n    </g>\r\n   </g>\r\n   <g id=\"PathCollection_171\">\r\n    <g clip-path=\"url(#pd56d66fd56)\">\r\n     <use style=\"fill:#1f77b4;stroke:#1f77b4;\" x=\"174.876951\" xlink:href=\"#m38d429afae\" y=\"245.213318\"/>\r\n    </g>\r\n   </g>\r\n   <g id=\"PathCollection_172\">\r\n    <g clip-path=\"url(#pd56d66fd56)\">\r\n     <use style=\"fill:#ff7f0e;stroke:#ff7f0e;\" x=\"163.287916\" xlink:href=\"#m1b2e3e7814\" y=\"188.500978\"/>\r\n    </g>\r\n   </g>\r\n   <g id=\"PathCollection_173\">\r\n    <g clip-path=\"url(#pd56d66fd56)\">\r\n     <use style=\"fill:#2ca02c;stroke:#2ca02c;\" x=\"159.205054\" xlink:href=\"#m3d27568abb\" y=\"218.447598\"/>\r\n    </g>\r\n   </g>\r\n   <g id=\"PathCollection_174\">\r\n    <g clip-path=\"url(#pd56d66fd56)\">\r\n     <use style=\"fill:#d62728;stroke:#d62728;\" x=\"163.385624\" xlink:href=\"#m13010d7afe\" y=\"188.605189\"/>\r\n    </g>\r\n   </g>\r\n   <g id=\"PathCollection_175\">\r\n    <g clip-path=\"url(#pd56d66fd56)\">\r\n     <use style=\"fill:#9467bd;stroke:#9467bd;\" x=\"160.880772\" xlink:href=\"#md9f9739364\" y=\"219.401764\"/>\r\n    </g>\r\n   </g>\r\n   <g id=\"PathCollection_176\">\r\n    <g clip-path=\"url(#pd56d66fd56)\">\r\n     <use style=\"fill:#8c564b;stroke:#8c564b;\" x=\"161.512354\" xlink:href=\"#m5844ded588\" y=\"221.208196\"/>\r\n    </g>\r\n   </g>\r\n   <g id=\"PathCollection_177\">\r\n    <g clip-path=\"url(#pd56d66fd56)\">\r\n     <use style=\"fill:#e377c2;stroke:#e377c2;\" x=\"161.750639\" xlink:href=\"#mc2a0935a83\" y=\"221.014264\"/>\r\n    </g>\r\n   </g>\r\n   <g id=\"PathCollection_178\">\r\n    <g clip-path=\"url(#pd56d66fd56)\">\r\n     <use style=\"fill:#7f7f7f;stroke:#7f7f7f;\" x=\"168.053736\" xlink:href=\"#m18c035dbd5\" y=\"185.175165\"/>\r\n    </g>\r\n   </g>\r\n   <g id=\"PathCollection_179\">\r\n    <g clip-path=\"url(#pd56d66fd56)\">\r\n     <use style=\"fill:#bcbd22;stroke:#bcbd22;\" x=\"164.56208\" xlink:href=\"#m109ac1bd99\" y=\"225.661502\"/>\r\n    </g>\r\n   </g>\r\n   <g id=\"PathCollection_180\">\r\n    <g clip-path=\"url(#pd56d66fd56)\">\r\n     <use style=\"fill:#17becf;stroke:#17becf;\" x=\"168.62576\" xlink:href=\"#m71c11360e5\" y=\"201.85871\"/>\r\n    </g>\r\n   </g>\r\n   <g id=\"PathCollection_181\">\r\n    <g clip-path=\"url(#pd56d66fd56)\">\r\n     <use style=\"fill:#1f77b4;stroke:#1f77b4;\" x=\"181.368652\" xlink:href=\"#m38d429afae\" y=\"251.521609\"/>\r\n    </g>\r\n   </g>\r\n   <g id=\"PathCollection_182\">\r\n    <g clip-path=\"url(#pd56d66fd56)\">\r\n     <use style=\"fill:#ff7f0e;stroke:#ff7f0e;\" x=\"168.085587\" xlink:href=\"#m1b2e3e7814\" y=\"185.522509\"/>\r\n    </g>\r\n   </g>\r\n   <g id=\"PathCollection_183\">\r\n    <g clip-path=\"url(#pd56d66fd56)\">\r\n     <use style=\"fill:#2ca02c;stroke:#2ca02c;\" x=\"179.446565\" xlink:href=\"#m3d27568abb\" y=\"249.900208\"/>\r\n    </g>\r\n   </g>\r\n   <g id=\"PathCollection_184\">\r\n    <g clip-path=\"url(#pd56d66fd56)\">\r\n     <use style=\"fill:#d62728;stroke:#d62728;\" x=\"161.356462\" xlink:href=\"#m13010d7afe\" y=\"220.217927\"/>\r\n    </g>\r\n   </g>\r\n   <g id=\"PathCollection_185\">\r\n    <g clip-path=\"url(#pd56d66fd56)\">\r\n     <use style=\"fill:#9467bd;stroke:#9467bd;\" x=\"162.365399\" xlink:href=\"#md9f9739364\" y=\"218.632147\"/>\r\n    </g>\r\n   </g>\r\n   <g id=\"PathCollection_186\">\r\n    <g clip-path=\"url(#pd56d66fd56)\">\r\n     <use style=\"fill:#8c564b;stroke:#8c564b;\" x=\"180.118892\" xlink:href=\"#m5844ded588\" y=\"250.510567\"/>\r\n    </g>\r\n   </g>\r\n   <g id=\"PathCollection_187\">\r\n    <g clip-path=\"url(#pd56d66fd56)\">\r\n     <use style=\"fill:#e377c2;stroke:#e377c2;\" x=\"167.448357\" xlink:href=\"#mc2a0935a83\" y=\"191.079494\"/>\r\n    </g>\r\n   </g>\r\n   <g id=\"PathCollection_188\">\r\n    <g clip-path=\"url(#pd56d66fd56)\">\r\n     <use style=\"fill:#7f7f7f;stroke:#7f7f7f;\" x=\"180.201004\" xlink:href=\"#m18c035dbd5\" y=\"250.588242\"/>\r\n    </g>\r\n   </g>\r\n   <g id=\"PathCollection_189\">\r\n    <g clip-path=\"url(#pd56d66fd56)\">\r\n     <use style=\"fill:#bcbd22;stroke:#bcbd22;\" x=\"181.402725\" xlink:href=\"#m109ac1bd99\" y=\"249.33621\"/>\r\n    </g>\r\n   </g>\r\n   <g id=\"PathCollection_190\">\r\n    <g clip-path=\"url(#pd56d66fd56)\">\r\n     <use style=\"fill:#17becf;stroke:#17becf;\" x=\"182.658339\" xlink:href=\"#m71c11360e5\" y=\"252.599983\"/>\r\n    </g>\r\n   </g>\r\n   <g id=\"PathCollection_191\">\r\n    <g clip-path=\"url(#pd56d66fd56)\">\r\n     <use style=\"fill:#1f77b4;stroke:#1f77b4;\" x=\"173.532858\" xlink:href=\"#m38d429afae\" y=\"216.812549\"/>\r\n    </g>\r\n   </g>\r\n   <g id=\"PathCollection_192\">\r\n    <g clip-path=\"url(#pd56d66fd56)\">\r\n     <use style=\"fill:#ff7f0e;stroke:#ff7f0e;\" x=\"184.682459\" xlink:href=\"#m1b2e3e7814\" y=\"254.21519\"/>\r\n    </g>\r\n   </g>\r\n   <g id=\"PathCollection_193\">\r\n    <g clip-path=\"url(#pd56d66fd56)\">\r\n     <use style=\"fill:#2ca02c;stroke:#2ca02c;\" x=\"176.778411\" xlink:href=\"#m3d27568abb\" y=\"208.6519\"/>\r\n    </g>\r\n   </g>\r\n   <g id=\"PathCollection_194\">\r\n    <g clip-path=\"url(#pd56d66fd56)\">\r\n     <use style=\"fill:#d62728;stroke:#d62728;\" x=\"178.710422\" xlink:href=\"#m13010d7afe\" y=\"217.158265\"/>\r\n    </g>\r\n   </g>\r\n   <g id=\"PathCollection_195\">\r\n    <g clip-path=\"url(#pd56d66fd56)\">\r\n     <use style=\"fill:#9467bd;stroke:#9467bd;\" x=\"178.699153\" xlink:href=\"#md9f9739364\" y=\"215.731245\"/>\r\n    </g>\r\n   </g>\r\n   <g id=\"PathCollection_196\">\r\n    <g clip-path=\"url(#pd56d66fd56)\">\r\n     <use style=\"fill:#8c564b;stroke:#8c564b;\" x=\"173.276963\" xlink:href=\"#m5844ded588\" y=\"199.868989\"/>\r\n    </g>\r\n   </g>\r\n   <g id=\"PathCollection_197\">\r\n    <g clip-path=\"url(#pd56d66fd56)\">\r\n     <use style=\"fill:#e377c2;stroke:#e377c2;\" x=\"163.762504\" xlink:href=\"#mc2a0935a83\" y=\"219.399207\"/>\r\n    </g>\r\n   </g>\r\n   <g id=\"PathCollection_198\">\r\n    <g clip-path=\"url(#pd56d66fd56)\">\r\n     <use style=\"fill:#7f7f7f;stroke:#7f7f7f;\" x=\"179.341389\" xlink:href=\"#m18c035dbd5\" y=\"213.228073\"/>\r\n    </g>\r\n   </g>\r\n   <g id=\"PathCollection_199\">\r\n    <g clip-path=\"url(#pd56d66fd56)\">\r\n     <use style=\"fill:#bcbd22;stroke:#bcbd22;\" x=\"185.938421\" xlink:href=\"#m109ac1bd99\" y=\"255.284443\"/>\r\n    </g>\r\n   </g>\r\n   <g id=\"PathCollection_200\">\r\n    <g clip-path=\"url(#pd56d66fd56)\">\r\n     <use style=\"fill:#17becf;stroke:#17becf;\" x=\"192.619386\" xlink:href=\"#m71c11360e5\" y=\"260.613995\"/>\r\n    </g>\r\n   </g>\r\n   <g id=\"PathCollection_201\">\r\n    <g clip-path=\"url(#pd56d66fd56)\">\r\n     <use style=\"fill:#1f77b4;stroke:#1f77b4;\" x=\"179.290155\" xlink:href=\"#m38d429afae\" y=\"212.470331\"/>\r\n    </g>\r\n   </g>\r\n   <g id=\"PathCollection_202\">\r\n    <g clip-path=\"url(#pd56d66fd56)\">\r\n     <use style=\"fill:#ff7f0e;stroke:#ff7f0e;\" x=\"185.163112\" xlink:href=\"#m1b2e3e7814\" y=\"222.756301\"/>\r\n    </g>\r\n   </g>\r\n   <g id=\"PathCollection_203\">\r\n    <g clip-path=\"url(#pd56d66fd56)\">\r\n     <use style=\"fill:#2ca02c;stroke:#2ca02c;\" x=\"194.634138\" xlink:href=\"#m3d27568abb\" y=\"261.680675\"/>\r\n    </g>\r\n   </g>\r\n   <g id=\"PathCollection_204\">\r\n    <g clip-path=\"url(#pd56d66fd56)\">\r\n     <use style=\"fill:#d62728;stroke:#d62728;\" x=\"187.672997\" xlink:href=\"#m13010d7afe\" y=\"227.541827\"/>\r\n    </g>\r\n   </g>\r\n   <g id=\"PathCollection_205\">\r\n    <g clip-path=\"url(#pd56d66fd56)\">\r\n     <use style=\"fill:#9467bd;stroke:#9467bd;\" x=\"182.915774\" xlink:href=\"#md9f9739364\" y=\"218.380294\"/>\r\n    </g>\r\n   </g>\r\n   <g id=\"PathCollection_206\">\r\n    <g clip-path=\"url(#pd56d66fd56)\">\r\n     <use style=\"fill:#8c564b;stroke:#8c564b;\" x=\"199.945806\" xlink:href=\"#m5844ded588\" y=\"265.938527\"/>\r\n    </g>\r\n   </g>\r\n   <g id=\"PathCollection_207\">\r\n    <g clip-path=\"url(#pd56d66fd56)\">\r\n     <use style=\"fill:#e377c2;stroke:#e377c2;\" x=\"200.024643\" xlink:href=\"#mc2a0935a83\" y=\"265.991564\"/>\r\n    </g>\r\n   </g>\r\n   <g id=\"PathCollection_208\">\r\n    <g clip-path=\"url(#pd56d66fd56)\">\r\n     <use style=\"fill:#7f7f7f;stroke:#7f7f7f;\" x=\"194.256373\" xlink:href=\"#m18c035dbd5\" y=\"233.862096\"/>\r\n    </g>\r\n   </g>\r\n   <g id=\"PathCollection_209\">\r\n    <g clip-path=\"url(#pd56d66fd56)\">\r\n     <use style=\"fill:#bcbd22;stroke:#bcbd22;\" x=\"201.317739\" xlink:href=\"#m109ac1bd99\" y=\"242.306871\"/>\r\n    </g>\r\n   </g>\r\n   <g id=\"PathCollection_210\">\r\n    <g clip-path=\"url(#pd56d66fd56)\">\r\n     <use style=\"fill:#17becf;stroke:#17becf;\" x=\"204.503358\" xlink:href=\"#m71c11360e5\" y=\"268.968741\"/>\r\n    </g>\r\n   </g>\r\n   <g id=\"PathCollection_211\">\r\n    <g clip-path=\"url(#pd56d66fd56)\">\r\n     <use style=\"fill:#1f77b4;stroke:#1f77b4;\" x=\"206.472956\" xlink:href=\"#m38d429afae\" y=\"270.409874\"/>\r\n    </g>\r\n   </g>\r\n   <g id=\"PathCollection_212\">\r\n    <g clip-path=\"url(#pd56d66fd56)\">\r\n     <use style=\"fill:#ff7f0e;stroke:#ff7f0e;\" x=\"201.872731\" xlink:href=\"#m1b2e3e7814\" y=\"242.822538\"/>\r\n    </g>\r\n   </g>\r\n   <g id=\"PathCollection_213\">\r\n    <g clip-path=\"url(#pd56d66fd56)\">\r\n     <use style=\"fill:#2ca02c;stroke:#2ca02c;\" x=\"211.58183\" xlink:href=\"#m3d27568abb\" y=\"272.285324\"/>\r\n    </g>\r\n   </g>\r\n   <g id=\"PathCollection_214\">\r\n    <g clip-path=\"url(#pd56d66fd56)\">\r\n     <use style=\"fill:#d62728;stroke:#d62728;\" x=\"207.53216\" xlink:href=\"#m13010d7afe\" y=\"270.202142\"/>\r\n    </g>\r\n   </g>\r\n   <g id=\"PathCollection_215\">\r\n    <g clip-path=\"url(#pd56d66fd56)\">\r\n     <use style=\"fill:#9467bd;stroke:#9467bd;\" x=\"218.32884\" xlink:href=\"#md9f9739364\" y=\"263.072992\"/>\r\n    </g>\r\n   </g>\r\n   <g id=\"PathCollection_216\">\r\n    <g clip-path=\"url(#pd56d66fd56)\">\r\n     <use style=\"fill:#8c564b;stroke:#8c564b;\" x=\"269.442925\" xlink:href=\"#m5844ded588\" y=\"318.382481\"/>\r\n    </g>\r\n   </g>\r\n   <g id=\"PathCollection_217\">\r\n    <g clip-path=\"url(#pd56d66fd56)\">\r\n     <use style=\"fill:#e377c2;stroke:#e377c2;\" x=\"210.21455\" xlink:href=\"#mc2a0935a83\" y=\"251.889669\"/>\r\n    </g>\r\n   </g>\r\n   <g id=\"PathCollection_218\">\r\n    <g clip-path=\"url(#pd56d66fd56)\">\r\n     <use style=\"fill:#7f7f7f;stroke:#7f7f7f;\" x=\"269.915395\" xlink:href=\"#m18c035dbd5\" y=\"318.534545\"/>\r\n    </g>\r\n   </g>\r\n   <g id=\"PathCollection_219\">\r\n    <g clip-path=\"url(#pd56d66fd56)\">\r\n     <use style=\"fill:#bcbd22;stroke:#bcbd22;\" x=\"269.435131\" xlink:href=\"#m109ac1bd99\" y=\"318.365311\"/>\r\n    </g>\r\n   </g>\r\n   <g id=\"PathCollection_220\">\r\n    <g clip-path=\"url(#pd56d66fd56)\">\r\n     <use style=\"fill:#17becf;stroke:#17becf;\" x=\"209.101732\" xlink:href=\"#m71c11360e5\" y=\"271.844842\"/>\r\n    </g>\r\n   </g>\r\n   <g id=\"PathCollection_221\">\r\n    <g clip-path=\"url(#pd56d66fd56)\">\r\n     <use style=\"fill:#1f77b4;stroke:#1f77b4;\" x=\"269.55811\" xlink:href=\"#m38d429afae\" y=\"318.351135\"/>\r\n    </g>\r\n   </g>\r\n   <g id=\"PathCollection_222\">\r\n    <g clip-path=\"url(#pd56d66fd56)\">\r\n     <use style=\"fill:#ff7f0e;stroke:#ff7f0e;\" x=\"212.176913\" xlink:href=\"#m1b2e3e7814\" y=\"270.403446\"/>\r\n    </g>\r\n   </g>\r\n   <g id=\"PathCollection_223\">\r\n    <g clip-path=\"url(#pd56d66fd56)\">\r\n     <use style=\"fill:#2ca02c;stroke:#2ca02c;\" x=\"216.384775\" xlink:href=\"#m3d27568abb\" y=\"257.618645\"/>\r\n    </g>\r\n   </g>\r\n   <g id=\"PathCollection_224\">\r\n    <g clip-path=\"url(#pd56d66fd56)\">\r\n     <use style=\"fill:#d62728;stroke:#d62728;\" x=\"208.8872\" xlink:href=\"#m13010d7afe\" y=\"271.916242\"/>\r\n    </g>\r\n   </g>\r\n   <g id=\"PathCollection_225\">\r\n    <g clip-path=\"url(#pd56d66fd56)\">\r\n     <use style=\"fill:#9467bd;stroke:#9467bd;\" x=\"211.529087\" xlink:href=\"#md9f9739364\" y=\"272.555671\"/>\r\n    </g>\r\n   </g>\r\n   <g id=\"PathCollection_226\">\r\n    <g clip-path=\"url(#pd56d66fd56)\">\r\n     <use style=\"fill:#8c564b;stroke:#8c564b;\" x=\"211.245608\" xlink:href=\"#m5844ded588\" y=\"272.868937\"/>\r\n    </g>\r\n   </g>\r\n   <g id=\"PathCollection_227\">\r\n    <g clip-path=\"url(#pd56d66fd56)\">\r\n     <use style=\"fill:#e377c2;stroke:#e377c2;\" x=\"212.70529\" xlink:href=\"#mc2a0935a83\" y=\"273.427214\"/>\r\n    </g>\r\n   </g>\r\n   <g id=\"PathCollection_228\">\r\n    <g clip-path=\"url(#pd56d66fd56)\">\r\n     <use style=\"fill:#7f7f7f;stroke:#7f7f7f;\" x=\"268.525371\" xlink:href=\"#m18c035dbd5\" y=\"316.632217\"/>\r\n    </g>\r\n   </g>\r\n   <g id=\"PathCollection_229\">\r\n    <g clip-path=\"url(#pd56d66fd56)\">\r\n     <use style=\"fill:#bcbd22;stroke:#bcbd22;\" x=\"211.549734\" xlink:href=\"#m109ac1bd99\" y=\"272.563442\"/>\r\n    </g>\r\n   </g>\r\n   <g id=\"PathCollection_230\">\r\n    <g clip-path=\"url(#pd56d66fd56)\">\r\n     <use style=\"fill:#17becf;stroke:#17becf;\" x=\"227.749751\" xlink:href=\"#m71c11360e5\" y=\"268.698166\"/>\r\n    </g>\r\n   </g>\r\n   <g id=\"PathCollection_231\">\r\n    <g clip-path=\"url(#pd56d66fd56)\">\r\n     <use style=\"fill:#1f77b4;stroke:#1f77b4;\" x=\"269.434722\" xlink:href=\"#m38d429afae\" y=\"317.207911\"/>\r\n    </g>\r\n   </g>\r\n   <g id=\"PathCollection_232\">\r\n    <g clip-path=\"url(#pd56d66fd56)\">\r\n     <use style=\"fill:#ff7f0e;stroke:#ff7f0e;\" x=\"216.106102\" xlink:href=\"#m1b2e3e7814\" y=\"274.312301\"/>\r\n    </g>\r\n   </g>\r\n   <g id=\"PathCollection_233\">\r\n    <g clip-path=\"url(#pd56d66fd56)\">\r\n     <use style=\"fill:#2ca02c;stroke:#2ca02c;\" x=\"268.024295\" xlink:href=\"#m3d27568abb\" y=\"315.532823\"/>\r\n    </g>\r\n   </g>\r\n   <g id=\"PathCollection_234\">\r\n    <g clip-path=\"url(#pd56d66fd56)\">\r\n     <use style=\"fill:#d62728;stroke:#d62728;\" x=\"268.432118\" xlink:href=\"#m13010d7afe\" y=\"315.216207\"/>\r\n    </g>\r\n   </g>\r\n   <g id=\"PathCollection_235\">\r\n    <g clip-path=\"url(#pd56d66fd56)\">\r\n     <use style=\"fill:#9467bd;stroke:#9467bd;\" x=\"267.891851\" xlink:href=\"#md9f9739364\" y=\"314.735534\"/>\r\n    </g>\r\n   </g>\r\n   <g id=\"PathCollection_236\">\r\n    <g clip-path=\"url(#pd56d66fd56)\">\r\n     <use style=\"fill:#8c564b;stroke:#8c564b;\" x=\"270.321444\" xlink:href=\"#m5844ded588\" y=\"317.778898\"/>\r\n    </g>\r\n   </g>\r\n   <g id=\"PathCollection_237\">\r\n    <g clip-path=\"url(#pd56d66fd56)\">\r\n     <use style=\"fill:#e377c2;stroke:#e377c2;\" x=\"270.691039\" xlink:href=\"#mc2a0935a83\" y=\"317.09572\"/>\r\n    </g>\r\n   </g>\r\n   <g id=\"PathCollection_238\">\r\n    <g clip-path=\"url(#pd56d66fd56)\">\r\n     <use style=\"fill:#7f7f7f;stroke:#7f7f7f;\" x=\"265.653411\" xlink:href=\"#m18c035dbd5\" y=\"311.440128\"/>\r\n    </g>\r\n   </g>\r\n   <g id=\"PathCollection_239\">\r\n    <g clip-path=\"url(#pd56d66fd56)\">\r\n     <use style=\"fill:#bcbd22;stroke:#bcbd22;\" x=\"270.318211\" xlink:href=\"#m109ac1bd99\" y=\"316.825411\"/>\r\n    </g>\r\n   </g>\r\n   <g id=\"PathCollection_240\">\r\n    <g clip-path=\"url(#pd56d66fd56)\">\r\n     <use style=\"fill:#17becf;stroke:#17becf;\" x=\"270.783425\" xlink:href=\"#m71c11360e5\" y=\"316.977228\"/>\r\n    </g>\r\n   </g>\r\n   <g id=\"PathCollection_241\">\r\n    <g clip-path=\"url(#pd56d66fd56)\">\r\n     <use style=\"fill:#1f77b4;stroke:#1f77b4;\" x=\"270.237082\" xlink:href=\"#m38d429afae\" y=\"315.918081\"/>\r\n    </g>\r\n   </g>\r\n   <g id=\"PathCollection_242\">\r\n    <g clip-path=\"url(#pd56d66fd56)\">\r\n     <use style=\"fill:#ff7f0e;stroke:#ff7f0e;\" x=\"227.007565\" xlink:href=\"#m1b2e3e7814\" y=\"278.083566\"/>\r\n    </g>\r\n   </g>\r\n   <g id=\"PathCollection_243\">\r\n    <g clip-path=\"url(#pd56d66fd56)\">\r\n     <use style=\"fill:#2ca02c;stroke:#2ca02c;\" x=\"238.785839\" xlink:href=\"#m3d27568abb\" y=\"278.716939\"/>\r\n    </g>\r\n   </g>\r\n   <g id=\"PathCollection_244\">\r\n    <g clip-path=\"url(#pd56d66fd56)\">\r\n     <use style=\"fill:#d62728;stroke:#d62728;\" x=\"240.654498\" xlink:href=\"#m13010d7afe\" y=\"278.382083\"/>\r\n    </g>\r\n   </g>\r\n   <g id=\"PathCollection_245\">\r\n    <g clip-path=\"url(#pd56d66fd56)\">\r\n     <use style=\"fill:#9467bd;stroke:#9467bd;\" x=\"244.791266\" xlink:href=\"#md9f9739364\" y=\"283.076444\"/>\r\n    </g>\r\n   </g>\r\n   <g id=\"PathCollection_246\">\r\n    <g clip-path=\"url(#pd56d66fd56)\">\r\n     <use style=\"fill:#8c564b;stroke:#8c564b;\" x=\"253.428821\" xlink:href=\"#m5844ded588\" y=\"293.900227\"/>\r\n    </g>\r\n   </g>\r\n   <g id=\"PathCollection_247\">\r\n    <g clip-path=\"url(#pd56d66fd56)\">\r\n     <use style=\"fill:#e377c2;stroke:#e377c2;\" x=\"232.570212\" xlink:href=\"#mc2a0935a83\" y=\"278.976102\"/>\r\n    </g>\r\n   </g>\r\n   <g id=\"PathCollection_248\">\r\n    <g clip-path=\"url(#pd56d66fd56)\">\r\n     <use style=\"fill:#7f7f7f;stroke:#7f7f7f;\" x=\"224.764735\" xlink:href=\"#m18c035dbd5\" y=\"278.161007\"/>\r\n    </g>\r\n   </g>\r\n   <g id=\"PathCollection_249\">\r\n    <g clip-path=\"url(#pd56d66fd56)\">\r\n     <use style=\"fill:#bcbd22;stroke:#bcbd22;\" x=\"227.866804\" xlink:href=\"#m109ac1bd99\" y=\"279.050857\"/>\r\n    </g>\r\n   </g>\r\n   <g id=\"PathCollection_250\">\r\n    <g clip-path=\"url(#pd56d66fd56)\">\r\n     <use style=\"fill:#17becf;stroke:#17becf;\" x=\"266.878237\" xlink:href=\"#m71c11360e5\" y=\"308.822366\"/>\r\n    </g>\r\n   </g>\r\n   <g id=\"PathCollection_251\">\r\n    <g clip-path=\"url(#pd56d66fd56)\">\r\n     <use style=\"fill:#1f77b4;stroke:#1f77b4;\" x=\"272.003009\" xlink:href=\"#m38d429afae\" y=\"313.884376\"/>\r\n    </g>\r\n   </g>\r\n   <g id=\"PathCollection_252\">\r\n    <g clip-path=\"url(#pd56d66fd56)\">\r\n     <use style=\"fill:#ff7f0e;stroke:#ff7f0e;\" x=\"272.890358\" xlink:href=\"#m1b2e3e7814\" y=\"314.652491\"/>\r\n    </g>\r\n   </g>\r\n   <g id=\"PathCollection_253\">\r\n    <g clip-path=\"url(#pd56d66fd56)\">\r\n     <use style=\"fill:#2ca02c;stroke:#2ca02c;\" x=\"245.911556\" xlink:href=\"#m3d27568abb\" y=\"279.992688\"/>\r\n    </g>\r\n   </g>\r\n   <g id=\"PathCollection_254\">\r\n    <g clip-path=\"url(#pd56d66fd56)\">\r\n     <use style=\"fill:#d62728;stroke:#d62728;\" x=\"247.802609\" xlink:href=\"#m13010d7afe\" y=\"283.881365\"/>\r\n    </g>\r\n   </g>\r\n   <g id=\"PathCollection_255\">\r\n    <g clip-path=\"url(#pd56d66fd56)\">\r\n     <use style=\"fill:#9467bd;stroke:#9467bd;\" x=\"227.993167\" xlink:href=\"#md9f9739364\" y=\"279.055112\"/>\r\n    </g>\r\n   </g>\r\n   <g id=\"PathCollection_256\">\r\n    <g clip-path=\"url(#pd56d66fd56)\">\r\n     <use style=\"fill:#8c564b;stroke:#8c564b;\" x=\"249.46463\" xlink:href=\"#m5844ded588\" y=\"286.472695\"/>\r\n    </g>\r\n   </g>\r\n   <g id=\"PathCollection_257\">\r\n    <g clip-path=\"url(#pd56d66fd56)\">\r\n     <use style=\"fill:#e377c2;stroke:#e377c2;\" x=\"227.802575\" xlink:href=\"#mc2a0935a83\" y=\"279.06158\"/>\r\n    </g>\r\n   </g>\r\n   <g id=\"PathCollection_258\">\r\n    <g clip-path=\"url(#pd56d66fd56)\">\r\n     <use style=\"fill:#7f7f7f;stroke:#7f7f7f;\" x=\"260.876106\" xlink:href=\"#m18c035dbd5\" y=\"281.201081\"/>\r\n    </g>\r\n   </g>\r\n   <g id=\"PathCollection_259\">\r\n    <g clip-path=\"url(#pd56d66fd56)\">\r\n     <use style=\"fill:#bcbd22;stroke:#bcbd22;\" x=\"251.774435\" xlink:href=\"#m109ac1bd99\" y=\"282.256296\"/>\r\n    </g>\r\n   </g>\r\n   <g id=\"PathCollection_260\">\r\n    <g clip-path=\"url(#pd56d66fd56)\">\r\n     <use style=\"fill:#17becf;stroke:#17becf;\" x=\"251.910176\" xlink:href=\"#m71c11360e5\" y=\"280.360034\"/>\r\n    </g>\r\n   </g>\r\n   <g id=\"PathCollection_261\">\r\n    <g clip-path=\"url(#pd56d66fd56)\">\r\n     <use style=\"fill:#1f77b4;stroke:#1f77b4;\" x=\"250.506914\" xlink:href=\"#m38d429afae\" y=\"286.388221\"/>\r\n    </g>\r\n   </g>\r\n   <g id=\"PathCollection_262\">\r\n    <g clip-path=\"url(#pd56d66fd56)\">\r\n     <use style=\"fill:#ff7f0e;stroke:#ff7f0e;\" x=\"248.956808\" xlink:href=\"#m1b2e3e7814\" y=\"284.178809\"/>\r\n    </g>\r\n   </g>\r\n   <g id=\"PathCollection_263\">\r\n    <g clip-path=\"url(#pd56d66fd56)\">\r\n     <use style=\"fill:#2ca02c;stroke:#2ca02c;\" x=\"280.39874\" xlink:href=\"#m3d27568abb\" y=\"307.012992\"/>\r\n    </g>\r\n   </g>\r\n   <g id=\"PathCollection_264\">\r\n    <g clip-path=\"url(#pd56d66fd56)\">\r\n     <use style=\"fill:#d62728;stroke:#d62728;\" x=\"258.886147\" xlink:href=\"#m13010d7afe\" y=\"280.751237\"/>\r\n    </g>\r\n   </g>\r\n   <g id=\"PathCollection_265\">\r\n    <g clip-path=\"url(#pd56d66fd56)\">\r\n     <use style=\"fill:#9467bd;stroke:#9467bd;\" x=\"255.304757\" xlink:href=\"#md9f9739364\" y=\"292.574405\"/>\r\n    </g>\r\n   </g>\r\n   <g id=\"PathCollection_266\">\r\n    <g clip-path=\"url(#pd56d66fd56)\">\r\n     <use style=\"fill:#8c564b;stroke:#8c564b;\" x=\"259.606915\" xlink:href=\"#m5844ded588\" y=\"279.870593\"/>\r\n    </g>\r\n   </g>\r\n   <g id=\"PathCollection_267\">\r\n    <g clip-path=\"url(#pd56d66fd56)\">\r\n     <use style=\"fill:#e377c2;stroke:#e377c2;\" x=\"261.046138\" xlink:href=\"#mc2a0935a83\" y=\"281.188416\"/>\r\n    </g>\r\n   </g>\r\n   <g id=\"PathCollection_268\">\r\n    <g clip-path=\"url(#pd56d66fd56)\">\r\n     <use style=\"fill:#7f7f7f;stroke:#7f7f7f;\" x=\"261.937543\" xlink:href=\"#m18c035dbd5\" y=\"280.268594\"/>\r\n    </g>\r\n   </g>\r\n   <g id=\"PathCollection_269\">\r\n    <g clip-path=\"url(#pd56d66fd56)\">\r\n     <use style=\"fill:#bcbd22;stroke:#bcbd22;\" x=\"295.120536\" xlink:href=\"#m109ac1bd99\" y=\"297.485779\"/>\r\n    </g>\r\n   </g>\r\n   <g id=\"PathCollection_270\">\r\n    <g clip-path=\"url(#pd56d66fd56)\">\r\n     <use style=\"fill:#17becf;stroke:#17becf;\" x=\"270.768451\" xlink:href=\"#m71c11360e5\" y=\"279.552286\"/>\r\n    </g>\r\n   </g>\r\n   <g id=\"PathCollection_271\">\r\n    <g clip-path=\"url(#pd56d66fd56)\">\r\n     <use style=\"fill:#1f77b4;stroke:#1f77b4;\" x=\"296.107385\" xlink:href=\"#m38d429afae\" y=\"296.741297\"/>\r\n    </g>\r\n   </g>\r\n   <g id=\"PathCollection_272\">\r\n    <g clip-path=\"url(#pd56d66fd56)\">\r\n     <use style=\"fill:#ff7f0e;stroke:#ff7f0e;\" x=\"257.41275\" xlink:href=\"#m1b2e3e7814\" y=\"285.861133\"/>\r\n    </g>\r\n   </g>\r\n   <g id=\"PathCollection_273\">\r\n    <g clip-path=\"url(#pd56d66fd56)\">\r\n     <use style=\"fill:#2ca02c;stroke:#2ca02c;\" x=\"299.126425\" xlink:href=\"#m3d27568abb\" y=\"294.445869\"/>\r\n    </g>\r\n   </g>\r\n   <g id=\"PathCollection_274\">\r\n    <g clip-path=\"url(#pd56d66fd56)\">\r\n     <use style=\"fill:#d62728;stroke:#d62728;\" x=\"280.114635\" xlink:href=\"#m13010d7afe\" y=\"275.872463\"/>\r\n    </g>\r\n   </g>\r\n   <g id=\"PathCollection_275\">\r\n    <g clip-path=\"url(#pd56d66fd56)\">\r\n     <use style=\"fill:#9467bd;stroke:#9467bd;\" x=\"290.05719\" xlink:href=\"#md9f9739364\" y=\"274.25391\"/>\r\n    </g>\r\n   </g>\r\n   <g id=\"PathCollection_276\">\r\n    <g clip-path=\"url(#pd56d66fd56)\">\r\n     <use style=\"fill:#8c564b;stroke:#8c564b;\" x=\"299.939167\" xlink:href=\"#m5844ded588\" y=\"293.366132\"/>\r\n    </g>\r\n   </g>\r\n   <g id=\"PathCollection_277\">\r\n    <g clip-path=\"url(#pd56d66fd56)\">\r\n     <use style=\"fill:#e377c2;stroke:#e377c2;\" x=\"300.625132\" xlink:href=\"#mc2a0935a83\" y=\"292.787153\"/>\r\n    </g>\r\n   </g>\r\n   <g id=\"PathCollection_278\">\r\n    <g clip-path=\"url(#pd56d66fd56)\">\r\n     <use style=\"fill:#7f7f7f;stroke:#7f7f7f;\" x=\"291.49898\" xlink:href=\"#m18c035dbd5\" y=\"273.482985\"/>\r\n    </g>\r\n   </g>\r\n   <g id=\"PathCollection_279\">\r\n    <g clip-path=\"url(#pd56d66fd56)\">\r\n     <use style=\"fill:#bcbd22;stroke:#bcbd22;\" x=\"299.917314\" xlink:href=\"#m109ac1bd99\" y=\"293.404523\"/>\r\n    </g>\r\n   </g>\r\n   <g id=\"PathCollection_280\">\r\n    <g clip-path=\"url(#pd56d66fd56)\">\r\n     <use style=\"fill:#17becf;stroke:#17becf;\" x=\"285.134395\" xlink:href=\"#m71c11360e5\" y=\"277.011262\"/>\r\n    </g>\r\n   </g>\r\n   <g id=\"PathCollection_281\">\r\n    <g clip-path=\"url(#pd56d66fd56)\">\r\n     <use style=\"fill:#1f77b4;stroke:#1f77b4;\" x=\"288.025267\" xlink:href=\"#m38d429afae\" y=\"275.558286\"/>\r\n    </g>\r\n   </g>\r\n   <g id=\"PathCollection_282\">\r\n    <g clip-path=\"url(#pd56d66fd56)\">\r\n     <use style=\"fill:#ff7f0e;stroke:#ff7f0e;\" x=\"295.631593\" xlink:href=\"#m1b2e3e7814\" y=\"269.899733\"/>\r\n    </g>\r\n   </g>\r\n   <g id=\"PathCollection_283\">\r\n    <g clip-path=\"url(#pd56d66fd56)\">\r\n     <use style=\"fill:#2ca02c;stroke:#2ca02c;\" x=\"302.689338\" xlink:href=\"#m3d27568abb\" y=\"290.122014\"/>\r\n    </g>\r\n   </g>\r\n   <g id=\"PathCollection_284\">\r\n    <g clip-path=\"url(#pd56d66fd56)\">\r\n     <use style=\"fill:#d62728;stroke:#d62728;\" x=\"299.394296\" xlink:href=\"#m13010d7afe\" y=\"267.713825\"/>\r\n    </g>\r\n   </g>\r\n   <g id=\"PathCollection_285\">\r\n    <g clip-path=\"url(#pd56d66fd56)\">\r\n     <use style=\"fill:#9467bd;stroke:#9467bd;\" x=\"295.239605\" xlink:href=\"#md9f9739364\" y=\"271.947246\"/>\r\n    </g>\r\n   </g>\r\n   <g id=\"PathCollection_286\">\r\n    <g clip-path=\"url(#pd56d66fd56)\">\r\n     <use style=\"fill:#8c564b;stroke:#8c564b;\" x=\"308.268396\" xlink:href=\"#m5844ded588\" y=\"277.725244\"/>\r\n    </g>\r\n   </g>\r\n   <g id=\"PathCollection_287\">\r\n    <g clip-path=\"url(#pd56d66fd56)\">\r\n     <use style=\"fill:#e377c2;stroke:#e377c2;\" x=\"305.068171\" xlink:href=\"#mc2a0935a83\" y=\"285.661777\"/>\r\n    </g>\r\n   </g>\r\n   <g id=\"PathCollection_288\">\r\n    <g clip-path=\"url(#pd56d66fd56)\">\r\n     <use style=\"fill:#7f7f7f;stroke:#7f7f7f;\" x=\"304.023867\" xlink:href=\"#m18c035dbd5\" y=\"262.545593\"/>\r\n    </g>\r\n   </g>\r\n   <g id=\"PathCollection_289\">\r\n    <g clip-path=\"url(#pd56d66fd56)\">\r\n     <use style=\"fill:#bcbd22;stroke:#bcbd22;\" x=\"294.318585\" xlink:href=\"#m109ac1bd99\" y=\"273.874167\"/>\r\n    </g>\r\n   </g>\r\n   <g id=\"PathCollection_290\">\r\n    <g clip-path=\"url(#pd56d66fd56)\">\r\n     <use style=\"fill:#17becf;stroke:#17becf;\" x=\"295.473693\" xlink:href=\"#m71c11360e5\" y=\"272.459032\"/>\r\n    </g>\r\n   </g>\r\n   <g id=\"PathCollection_291\">\r\n    <g clip-path=\"url(#pd56d66fd56)\">\r\n     <use style=\"fill:#1f77b4;stroke:#1f77b4;\" x=\"308.263315\" xlink:href=\"#m38d429afae\" y=\"277.748926\"/>\r\n    </g>\r\n   </g>\r\n   <g id=\"PathCollection_292\">\r\n    <g clip-path=\"url(#pd56d66fd56)\">\r\n     <use style=\"fill:#ff7f0e;stroke:#ff7f0e;\" x=\"295.634509\" xlink:href=\"#m1b2e3e7814\" y=\"272.985006\"/>\r\n    </g>\r\n   </g>\r\n   <g id=\"PathCollection_293\">\r\n    <g clip-path=\"url(#pd56d66fd56)\">\r\n     <use style=\"fill:#2ca02c;stroke:#2ca02c;\" x=\"296.519044\" xlink:href=\"#m3d27568abb\" y=\"271.395728\"/>\r\n    </g>\r\n   </g>\r\n   <g id=\"PathCollection_294\">\r\n    <g clip-path=\"url(#pd56d66fd56)\">\r\n     <use style=\"fill:#d62728;stroke:#d62728;\" x=\"297.906731\" xlink:href=\"#m13010d7afe\" y=\"271.230629\"/>\r\n    </g>\r\n   </g>\r\n   <g id=\"PathCollection_295\">\r\n    <g clip-path=\"url(#pd56d66fd56)\">\r\n     <use style=\"fill:#9467bd;stroke:#9467bd;\" x=\"299.963412\" xlink:href=\"#md9f9739364\" y=\"273.485972\"/>\r\n    </g>\r\n   </g>\r\n   <g id=\"PathCollection_296\">\r\n    <g clip-path=\"url(#pd56d66fd56)\">\r\n     <use style=\"fill:#8c564b;stroke:#8c564b;\" x=\"309.368731\" xlink:href=\"#m5844ded588\" y=\"274.511551\"/>\r\n    </g>\r\n   </g>\r\n   <g id=\"PathCollection_297\">\r\n    <g clip-path=\"url(#pd56d66fd56)\">\r\n     <use style=\"fill:#e377c2;stroke:#e377c2;\" x=\"304.72652\" xlink:href=\"#mc2a0935a83\" y=\"261.799105\"/>\r\n    </g>\r\n   </g>\r\n   <g id=\"PathCollection_298\">\r\n    <g clip-path=\"url(#pd56d66fd56)\">\r\n     <use style=\"fill:#7f7f7f;stroke:#7f7f7f;\" x=\"306.884975\" xlink:href=\"#m18c035dbd5\" y=\"284.152461\"/>\r\n    </g>\r\n   </g>\r\n   <g id=\"PathCollection_299\">\r\n    <g clip-path=\"url(#pd56d66fd56)\">\r\n     <use style=\"fill:#bcbd22;stroke:#bcbd22;\" x=\"310.173741\" xlink:href=\"#m109ac1bd99\" y=\"273.849677\"/>\r\n    </g>\r\n   </g>\r\n   <g id=\"PathCollection_300\">\r\n    <g clip-path=\"url(#pd56d66fd56)\">\r\n     <use style=\"fill:#17becf;stroke:#17becf;\" x=\"308.104383\" xlink:href=\"#m71c11360e5\" y=\"273.813994\"/>\r\n    </g>\r\n   </g>\r\n   <g id=\"PathCollection_301\">\r\n    <g clip-path=\"url(#pd56d66fd56)\">\r\n     <use style=\"fill:#1f77b4;stroke:#1f77b4;\" x=\"300.117932\" xlink:href=\"#m38d429afae\" y=\"269.754489\"/>\r\n    </g>\r\n   </g>\r\n   <g id=\"PathCollection_302\">\r\n    <g clip-path=\"url(#pd56d66fd56)\">\r\n     <use style=\"fill:#ff7f0e;stroke:#ff7f0e;\" x=\"302.657104\" xlink:href=\"#m1b2e3e7814\" y=\"268.099798\"/>\r\n    </g>\r\n   </g>\r\n   <g id=\"PathCollection_303\">\r\n    <g clip-path=\"url(#pd56d66fd56)\">\r\n     <use style=\"fill:#2ca02c;stroke:#2ca02c;\" x=\"309.271968\" xlink:href=\"#m3d27568abb\" y=\"280.449131\"/>\r\n    </g>\r\n   </g>\r\n   <g id=\"PathCollection_304\">\r\n    <g clip-path=\"url(#pd56d66fd56)\">\r\n     <use style=\"fill:#d62728;stroke:#d62728;\" x=\"304.268428\" xlink:href=\"#m13010d7afe\" y=\"266.522816\"/>\r\n    </g>\r\n   </g>\r\n   <g id=\"PathCollection_305\">\r\n    <g clip-path=\"url(#pd56d66fd56)\">\r\n     <use style=\"fill:#9467bd;stroke:#9467bd;\" x=\"308.676572\" xlink:href=\"#md9f9739364\" y=\"271.752323\"/>\r\n    </g>\r\n   </g>\r\n   <g id=\"PathCollection_306\">\r\n    <g clip-path=\"url(#pd56d66fd56)\">\r\n     <use style=\"fill:#8c564b;stroke:#8c564b;\" x=\"306.55246\" xlink:href=\"#m5844ded588\" y=\"263.995216\"/>\r\n    </g>\r\n   </g>\r\n   <g id=\"PathCollection_307\">\r\n    <g clip-path=\"url(#pd56d66fd56)\">\r\n     <use style=\"fill:#e377c2;stroke:#e377c2;\" x=\"306.769865\" xlink:href=\"#mc2a0935a83\" y=\"269.675821\"/>\r\n    </g>\r\n   </g>\r\n   <g id=\"PathCollection_308\">\r\n    <g clip-path=\"url(#pd56d66fd56)\">\r\n     <use style=\"fill:#7f7f7f;stroke:#7f7f7f;\" x=\"310.663027\" xlink:href=\"#m18c035dbd5\" y=\"255.695341\"/>\r\n    </g>\r\n   </g>\r\n   <g id=\"PathCollection_309\">\r\n    <g clip-path=\"url(#pd56d66fd56)\">\r\n     <use style=\"fill:#bcbd22;stroke:#bcbd22;\" x=\"312.217852\" xlink:href=\"#m109ac1bd99\" y=\"252.675849\"/>\r\n    </g>\r\n   </g>\r\n   <g id=\"PathCollection_310\">\r\n    <g clip-path=\"url(#pd56d66fd56)\">\r\n     <use style=\"fill:#17becf;stroke:#17becf;\" x=\"313.430576\" xlink:href=\"#m71c11360e5\" y=\"273.824353\"/>\r\n    </g>\r\n   </g>\r\n   <g id=\"PathCollection_311\">\r\n    <g clip-path=\"url(#pd56d66fd56)\">\r\n     <use style=\"fill:#1f77b4;stroke:#1f77b4;\" x=\"312.124578\" xlink:href=\"#m38d429afae\" y=\"270.60169\"/>\r\n    </g>\r\n   </g>\r\n   <g id=\"PathCollection_312\">\r\n    <g clip-path=\"url(#pd56d66fd56)\">\r\n     <use style=\"fill:#ff7f0e;stroke:#ff7f0e;\" x=\"307.522287\" xlink:href=\"#m1b2e3e7814\" y=\"264.469844\"/>\r\n    </g>\r\n   </g>\r\n   <g id=\"PathCollection_313\">\r\n    <g clip-path=\"url(#pd56d66fd56)\">\r\n     <use style=\"fill:#2ca02c;stroke:#2ca02c;\" x=\"314.655436\" xlink:href=\"#m3d27568abb\" y=\"265.97962\"/>\r\n    </g>\r\n   </g>\r\n   <g id=\"PathCollection_314\">\r\n    <g clip-path=\"url(#pd56d66fd56)\">\r\n     <use style=\"fill:#d62728;stroke:#d62728;\" x=\"316.189387\" xlink:href=\"#m13010d7afe\" y=\"247.262404\"/>\r\n    </g>\r\n   </g>\r\n   <g id=\"PathCollection_315\">\r\n    <g clip-path=\"url(#pd56d66fd56)\">\r\n     <use style=\"fill:#9467bd;stroke:#9467bd;\" x=\"310.523843\" xlink:href=\"#md9f9739364\" y=\"259.302979\"/>\r\n    </g>\r\n   </g>\r\n   <g id=\"PathCollection_316\">\r\n    <g clip-path=\"url(#pd56d66fd56)\">\r\n     <use style=\"fill:#8c564b;stroke:#8c564b;\" x=\"315.212752\" xlink:href=\"#m5844ded588\" y=\"249.87283\"/>\r\n    </g>\r\n   </g>\r\n   <g id=\"PathCollection_317\">\r\n    <g clip-path=\"url(#pd56d66fd56)\">\r\n     <use style=\"fill:#e377c2;stroke:#e377c2;\" x=\"316.921627\" xlink:href=\"#mc2a0935a83\" y=\"267.614899\"/>\r\n    </g>\r\n   </g>\r\n   <g id=\"PathCollection_318\">\r\n    <g clip-path=\"url(#pd56d66fd56)\">\r\n     <use style=\"fill:#7f7f7f;stroke:#7f7f7f;\" x=\"316.243245\" xlink:href=\"#m18c035dbd5\" y=\"267.097623\"/>\r\n    </g>\r\n   </g>\r\n   <g id=\"PathCollection_319\">\r\n    <g clip-path=\"url(#pd56d66fd56)\">\r\n     <use style=\"fill:#bcbd22;stroke:#bcbd22;\" x=\"309.46198\" xlink:href=\"#m109ac1bd99\" y=\"262.776412\"/>\r\n    </g>\r\n   </g>\r\n   <g id=\"PathCollection_320\">\r\n    <g clip-path=\"url(#pd56d66fd56)\">\r\n     <use style=\"fill:#17becf;stroke:#17becf;\" x=\"311.515929\" xlink:href=\"#m71c11360e5\" y=\"259.001604\"/>\r\n    </g>\r\n   </g>\r\n   <g id=\"PathCollection_321\">\r\n    <g clip-path=\"url(#pd56d66fd56)\">\r\n     <use style=\"fill:#1f77b4;stroke:#1f77b4;\" x=\"317.143763\" xlink:href=\"#m38d429afae\" y=\"264.780945\"/>\r\n    </g>\r\n   </g>\r\n   <g id=\"PathCollection_322\">\r\n    <g clip-path=\"url(#pd56d66fd56)\">\r\n     <use style=\"fill:#ff7f0e;stroke:#ff7f0e;\" x=\"321.48412\" xlink:href=\"#m1b2e3e7814\" y=\"237.182335\"/>\r\n    </g>\r\n   </g>\r\n   <g id=\"PathCollection_323\">\r\n    <g clip-path=\"url(#pd56d66fd56)\">\r\n     <use style=\"fill:#2ca02c;stroke:#2ca02c;\" x=\"318.928351\" xlink:href=\"#m3d27568abb\" y=\"245.541813\"/>\r\n    </g>\r\n   </g>\r\n   <g id=\"PathCollection_324\">\r\n    <g clip-path=\"url(#pd56d66fd56)\">\r\n     <use style=\"fill:#d62728;stroke:#d62728;\" x=\"322.728593\" xlink:href=\"#m13010d7afe\" y=\"236.158567\"/>\r\n    </g>\r\n   </g>\r\n   <g id=\"PathCollection_325\">\r\n    <g clip-path=\"url(#pd56d66fd56)\">\r\n     <use style=\"fill:#9467bd;stroke:#9467bd;\" x=\"321.03222\" xlink:href=\"#md9f9739364\" y=\"253.512996\"/>\r\n    </g>\r\n   </g>\r\n   <g id=\"PathCollection_326\">\r\n    <g clip-path=\"url(#pd56d66fd56)\">\r\n     <use style=\"fill:#8c564b;stroke:#8c564b;\" x=\"322.230435\" xlink:href=\"#m5844ded588\" y=\"259.148946\"/>\r\n    </g>\r\n   </g>\r\n   <g id=\"PathCollection_327\">\r\n    <g clip-path=\"url(#pd56d66fd56)\">\r\n     <use style=\"fill:#e377c2;stroke:#e377c2;\" x=\"318.40463\" xlink:href=\"#mc2a0935a83\" y=\"252.855515\"/>\r\n    </g>\r\n   </g>\r\n   <g id=\"PathCollection_328\">\r\n    <g clip-path=\"url(#pd56d66fd56)\">\r\n     <use style=\"fill:#7f7f7f;stroke:#7f7f7f;\" x=\"323.761639\" xlink:href=\"#m18c035dbd5\" y=\"236.209683\"/>\r\n    </g>\r\n   </g>\r\n   <g id=\"PathCollection_329\">\r\n    <g clip-path=\"url(#pd56d66fd56)\">\r\n     <use style=\"fill:#bcbd22;stroke:#bcbd22;\" x=\"322.233932\" xlink:href=\"#m109ac1bd99\" y=\"259.621817\"/>\r\n    </g>\r\n   </g>\r\n   <g id=\"PathCollection_330\">\r\n    <g clip-path=\"url(#pd56d66fd56)\">\r\n     <use style=\"fill:#17becf;stroke:#17becf;\" x=\"324.750669\" xlink:href=\"#m71c11360e5\" y=\"254.604852\"/>\r\n    </g>\r\n   </g>\r\n   <g id=\"PathCollection_331\">\r\n    <g clip-path=\"url(#pd56d66fd56)\">\r\n     <use style=\"fill:#1f77b4;stroke:#1f77b4;\" x=\"325.133358\" xlink:href=\"#m38d429afae\" y=\"234.980098\"/>\r\n    </g>\r\n   </g>\r\n   <g id=\"PathCollection_332\">\r\n    <g clip-path=\"url(#pd56d66fd56)\">\r\n     <use style=\"fill:#ff7f0e;stroke:#ff7f0e;\" x=\"325.120286\" xlink:href=\"#m1b2e3e7814\" y=\"254.634887\"/>\r\n    </g>\r\n   </g>\r\n   <g id=\"PathCollection_333\">\r\n    <g clip-path=\"url(#pd56d66fd56)\">\r\n     <use style=\"fill:#2ca02c;stroke:#2ca02c;\" x=\"325.090054\" xlink:href=\"#m3d27568abb\" y=\"232.216608\"/>\r\n    </g>\r\n   </g>\r\n   <g id=\"PathCollection_334\">\r\n    <g clip-path=\"url(#pd56d66fd56)\">\r\n     <use style=\"fill:#d62728;stroke:#d62728;\" x=\"329.102387\" xlink:href=\"#m13010d7afe\" y=\"219.256263\"/>\r\n    </g>\r\n   </g>\r\n   <g id=\"PathCollection_335\">\r\n    <g clip-path=\"url(#pd56d66fd56)\">\r\n     <use style=\"fill:#9467bd;stroke:#9467bd;\" x=\"325.402365\" xlink:href=\"#md9f9739364\" y=\"234.485053\"/>\r\n    </g>\r\n   </g>\r\n   <g id=\"PathCollection_336\">\r\n    <g clip-path=\"url(#pd56d66fd56)\">\r\n     <use style=\"fill:#8c564b;stroke:#8c564b;\" x=\"327.494583\" xlink:href=\"#m5844ded588\" y=\"230.020007\"/>\r\n    </g>\r\n   </g>\r\n   <g id=\"PathCollection_337\">\r\n    <g clip-path=\"url(#pd56d66fd56)\">\r\n     <use style=\"fill:#e377c2;stroke:#e377c2;\" x=\"326.019571\" xlink:href=\"#mc2a0935a83\" y=\"231.748874\"/>\r\n    </g>\r\n   </g>\r\n   <g id=\"PathCollection_338\">\r\n    <g clip-path=\"url(#pd56d66fd56)\">\r\n     <use style=\"fill:#7f7f7f;stroke:#7f7f7f;\" x=\"326.161614\" xlink:href=\"#m18c035dbd5\" y=\"232.833173\"/>\r\n    </g>\r\n   </g>\r\n   <g id=\"PathCollection_339\">\r\n    <g clip-path=\"url(#pd56d66fd56)\">\r\n     <use style=\"fill:#bcbd22;stroke:#bcbd22;\" x=\"326.438092\" xlink:href=\"#m109ac1bd99\" y=\"252.305644\"/>\r\n    </g>\r\n   </g>\r\n   <g id=\"PathCollection_340\">\r\n    <g clip-path=\"url(#pd56d66fd56)\">\r\n     <use style=\"fill:#17becf;stroke:#17becf;\" x=\"327.171398\" xlink:href=\"#m71c11360e5\" y=\"230.693396\"/>\r\n    </g>\r\n   </g>\r\n   <g id=\"PathCollection_341\">\r\n    <g clip-path=\"url(#pd56d66fd56)\">\r\n     <use style=\"fill:#1f77b4;stroke:#1f77b4;\" x=\"326.630227\" xlink:href=\"#m38d429afae\" y=\"251.965087\"/>\r\n    </g>\r\n   </g>\r\n   <g id=\"PathCollection_342\">\r\n    <g clip-path=\"url(#pd56d66fd56)\">\r\n     <use style=\"fill:#ff7f0e;stroke:#ff7f0e;\" x=\"326.587998\" xlink:href=\"#m1b2e3e7814\" y=\"232.245\"/>\r\n    </g>\r\n   </g>\r\n   <g id=\"PathCollection_343\">\r\n    <g clip-path=\"url(#pd56d66fd56)\">\r\n     <use style=\"fill:#2ca02c;stroke:#2ca02c;\" x=\"326.589585\" xlink:href=\"#m3d27568abb\" y=\"232.243225\"/>\r\n    </g>\r\n   </g>\r\n   <g id=\"PathCollection_344\">\r\n    <g clip-path=\"url(#pd56d66fd56)\">\r\n     <use style=\"fill:#d62728;stroke:#d62728;\" x=\"330.733548\" xlink:href=\"#m13010d7afe\" y=\"227.121287\"/>\r\n    </g>\r\n   </g>\r\n   <g id=\"PathCollection_345\">\r\n    <g clip-path=\"url(#pd56d66fd56)\">\r\n     <use style=\"fill:#9467bd;stroke:#9467bd;\" x=\"328.650517\" xlink:href=\"#md9f9739364\" y=\"247.917177\"/>\r\n    </g>\r\n   </g>\r\n   <g id=\"PathCollection_346\">\r\n    <g clip-path=\"url(#pd56d66fd56)\">\r\n     <use style=\"fill:#8c564b;stroke:#8c564b;\" x=\"339.827657\" xlink:href=\"#m5844ded588\" y=\"186.886165\"/>\r\n    </g>\r\n   </g>\r\n   <g id=\"PathCollection_347\">\r\n    <g clip-path=\"url(#pd56d66fd56)\">\r\n     <use style=\"fill:#e377c2;stroke:#e377c2;\" x=\"329.771944\" xlink:href=\"#mc2a0935a83\" y=\"245.621128\"/>\r\n    </g>\r\n   </g>\r\n   <g id=\"PathCollection_348\">\r\n    <g clip-path=\"url(#pd56d66fd56)\">\r\n     <use style=\"fill:#7f7f7f;stroke:#7f7f7f;\" x=\"330.476001\" xlink:href=\"#m18c035dbd5\" y=\"243.828845\"/>\r\n    </g>\r\n   </g>\r\n   <g id=\"PathCollection_349\">\r\n    <g clip-path=\"url(#pd56d66fd56)\">\r\n     <use style=\"fill:#bcbd22;stroke:#bcbd22;\" x=\"340.605086\" xlink:href=\"#m109ac1bd99\" y=\"184.382826\"/>\r\n    </g>\r\n   </g>\r\n   <g id=\"PathCollection_350\">\r\n    <g clip-path=\"url(#pd56d66fd56)\">\r\n     <use style=\"fill:#17becf;stroke:#17becf;\" x=\"332.940555\" xlink:href=\"#m71c11360e5\" y=\"237.994101\"/>\r\n    </g>\r\n   </g>\r\n   <g id=\"PathCollection_351\">\r\n    <g clip-path=\"url(#pd56d66fd56)\">\r\n     <use style=\"fill:#1f77b4;stroke:#1f77b4;\" x=\"342.672945\" xlink:href=\"#m38d429afae\" y=\"177.597064\"/>\r\n    </g>\r\n   </g>\r\n   <g id=\"PathCollection_352\">\r\n    <g clip-path=\"url(#pd56d66fd56)\">\r\n     <use style=\"fill:#ff7f0e;stroke:#ff7f0e;\" x=\"334.8354\" xlink:href=\"#m1b2e3e7814\" y=\"210.441376\"/>\r\n    </g>\r\n   </g>\r\n   <g id=\"PathCollection_353\">\r\n    <g clip-path=\"url(#pd56d66fd56)\">\r\n     <use style=\"fill:#2ca02c;stroke:#2ca02c;\" x=\"342.48429\" xlink:href=\"#m3d27568abb\" y=\"178.151625\"/>\r\n    </g>\r\n   </g>\r\n   <g id=\"PathCollection_354\">\r\n    <g clip-path=\"url(#pd56d66fd56)\">\r\n     <use style=\"fill:#d62728;stroke:#d62728;\" x=\"340.259085\" xlink:href=\"#m13010d7afe\" y=\"210.118572\"/>\r\n    </g>\r\n   </g>\r\n   <g id=\"PathCollection_355\">\r\n    <g clip-path=\"url(#pd56d66fd56)\">\r\n     <use style=\"fill:#9467bd;stroke:#9467bd;\" x=\"333.138946\" xlink:href=\"#md9f9739364\" y=\"237.189664\"/>\r\n    </g>\r\n   </g>\r\n   <g id=\"PathCollection_356\">\r\n    <g clip-path=\"url(#pd56d66fd56)\">\r\n     <use style=\"fill:#8c564b;stroke:#8c564b;\" x=\"339.171569\" xlink:href=\"#m5844ded588\" y=\"209.183516\"/>\r\n    </g>\r\n   </g>\r\n   <g id=\"PathCollection_357\">\r\n    <g clip-path=\"url(#pd56d66fd56)\">\r\n     <use style=\"fill:#e377c2;stroke:#e377c2;\" x=\"342.83591\" xlink:href=\"#mc2a0935a83\" y=\"176.975498\"/>\r\n    </g>\r\n   </g>\r\n   <g id=\"PathCollection_358\">\r\n    <g clip-path=\"url(#pd56d66fd56)\">\r\n     <use style=\"fill:#7f7f7f;stroke:#7f7f7f;\" x=\"340.717293\" xlink:href=\"#m18c035dbd5\" y=\"195.242205\"/>\r\n    </g>\r\n   </g>\r\n   <g id=\"PathCollection_359\">\r\n    <g clip-path=\"url(#pd56d66fd56)\">\r\n     <use style=\"fill:#bcbd22;stroke:#bcbd22;\" x=\"334.787552\" xlink:href=\"#m109ac1bd99\" y=\"232.724934\"/>\r\n    </g>\r\n   </g>\r\n   <g id=\"PathCollection_360\">\r\n    <g clip-path=\"url(#pd56d66fd56)\">\r\n     <use style=\"fill:#17becf;stroke:#17becf;\" x=\"339.655644\" xlink:href=\"#m71c11360e5\" y=\"208.267188\"/>\r\n    </g>\r\n   </g>\r\n   <g id=\"PathCollection_361\">\r\n    <g clip-path=\"url(#pd56d66fd56)\">\r\n     <use style=\"fill:#1f77b4;stroke:#1f77b4;\" x=\"344.66522\" xlink:href=\"#m38d429afae\" y=\"170.624857\"/>\r\n    </g>\r\n   </g>\r\n   <g id=\"PathCollection_362\">\r\n    <g clip-path=\"url(#pd56d66fd56)\">\r\n     <use style=\"fill:#ff7f0e;stroke:#ff7f0e;\" x=\"340.908062\" xlink:href=\"#m1b2e3e7814\" y=\"207.025775\"/>\r\n    </g>\r\n   </g>\r\n   <g id=\"PathCollection_363\">\r\n    <g clip-path=\"url(#pd56d66fd56)\">\r\n     <use style=\"fill:#2ca02c;stroke:#2ca02c;\" x=\"336.101999\" xlink:href=\"#m3d27568abb\" y=\"228.788636\"/>\r\n    </g>\r\n   </g>\r\n   <g id=\"PathCollection_364\">\r\n    <g clip-path=\"url(#pd56d66fd56)\">\r\n     <use style=\"fill:#d62728;stroke:#d62728;\" x=\"337.514633\" xlink:href=\"#m13010d7afe\" y=\"223.905585\"/>\r\n    </g>\r\n   </g>\r\n   <g id=\"PathCollection_365\">\r\n    <g clip-path=\"url(#pd56d66fd56)\">\r\n     <use style=\"fill:#9467bd;stroke:#9467bd;\" x=\"340.623251\" xlink:href=\"#md9f9739364\" y=\"211.99888\"/>\r\n    </g>\r\n   </g>\r\n   <g id=\"PathCollection_366\">\r\n    <g clip-path=\"url(#pd56d66fd56)\">\r\n     <use style=\"fill:#8c564b;stroke:#8c564b;\" x=\"340.223097\" xlink:href=\"#m5844ded588\" y=\"213.644685\"/>\r\n    </g>\r\n   </g>\r\n   <g id=\"PathCollection_367\">\r\n    <g clip-path=\"url(#pd56d66fd56)\">\r\n     <use style=\"fill:#e377c2;stroke:#e377c2;\" x=\"343.848998\" xlink:href=\"#mc2a0935a83\" y=\"178.896133\"/>\r\n    </g>\r\n   </g>\r\n   <g id=\"PathCollection_368\">\r\n    <g clip-path=\"url(#pd56d66fd56)\">\r\n     <use style=\"fill:#7f7f7f;stroke:#7f7f7f;\" x=\"346.113058\" xlink:href=\"#m18c035dbd5\" y=\"163.341567\"/>\r\n    </g>\r\n   </g>\r\n   <g id=\"PathCollection_369\">\r\n    <g clip-path=\"url(#pd56d66fd56)\">\r\n     <use style=\"fill:#bcbd22;stroke:#bcbd22;\" x=\"339.422946\" xlink:href=\"#m109ac1bd99\" y=\"217.137141\"/>\r\n    </g>\r\n   </g>\r\n   <g id=\"PathCollection_370\">\r\n    <g clip-path=\"url(#pd56d66fd56)\">\r\n     <use style=\"fill:#17becf;stroke:#17becf;\" x=\"341.878498\" xlink:href=\"#m71c11360e5\" y=\"206.391936\"/>\r\n    </g>\r\n   </g>\r\n   <g id=\"PathCollection_371\">\r\n    <g clip-path=\"url(#pd56d66fd56)\">\r\n     <use style=\"fill:#1f77b4;stroke:#1f77b4;\" x=\"340.58738\" xlink:href=\"#m38d429afae\" y=\"211.921509\"/>\r\n    </g>\r\n   </g>\r\n   <g id=\"PathCollection_372\">\r\n    <g clip-path=\"url(#pd56d66fd56)\">\r\n     <use style=\"fill:#ff7f0e;stroke:#ff7f0e;\" x=\"337.866855\" xlink:href=\"#m1b2e3e7814\" y=\"222.922608\"/>\r\n    </g>\r\n   </g>\r\n   <g id=\"PathCollection_373\">\r\n    <g clip-path=\"url(#pd56d66fd56)\">\r\n     <use style=\"fill:#2ca02c;stroke:#2ca02c;\" x=\"346.712476\" xlink:href=\"#m3d27568abb\" y=\"166.071718\"/>\r\n    </g>\r\n   </g>\r\n   <g id=\"PathCollection_374\">\r\n    <g clip-path=\"url(#pd56d66fd56)\">\r\n     <use style=\"fill:#d62728;stroke:#d62728;\" x=\"341.750778\" xlink:href=\"#m13010d7afe\" y=\"204.727113\"/>\r\n    </g>\r\n   </g>\r\n   <g id=\"PathCollection_375\">\r\n    <g clip-path=\"url(#pd56d66fd56)\">\r\n     <use style=\"fill:#9467bd;stroke:#9467bd;\" x=\"349.569151\" xlink:href=\"#md9f9739364\" y=\"149.027425\"/>\r\n    </g>\r\n   </g>\r\n   <g id=\"PathCollection_376\">\r\n    <g clip-path=\"url(#pd56d66fd56)\">\r\n     <use style=\"fill:#8c564b;stroke:#8c564b;\" x=\"346.170476\" xlink:href=\"#m5844ded588\" y=\"169.368423\"/>\r\n    </g>\r\n   </g>\r\n   <g id=\"PathCollection_377\">\r\n    <g clip-path=\"url(#pd56d66fd56)\">\r\n     <use style=\"fill:#e377c2;stroke:#e377c2;\" x=\"347.004328\" xlink:href=\"#mc2a0935a83\" y=\"165.292305\"/>\r\n    </g>\r\n   </g>\r\n   <g id=\"PathCollection_378\">\r\n    <g clip-path=\"url(#pd56d66fd56)\">\r\n     <use style=\"fill:#7f7f7f;stroke:#7f7f7f;\" x=\"342.950884\" xlink:href=\"#m18c035dbd5\" y=\"200.990705\"/>\r\n    </g>\r\n   </g>\r\n   <g id=\"PathCollection_379\">\r\n    <g clip-path=\"url(#pd56d66fd56)\">\r\n     <use style=\"fill:#bcbd22;stroke:#bcbd22;\" x=\"342.065857\" xlink:href=\"#m109ac1bd99\" y=\"204.103792\"/>\r\n    </g>\r\n   </g>\r\n   <g id=\"PathCollection_380\">\r\n    <g clip-path=\"url(#pd56d66fd56)\">\r\n     <use style=\"fill:#17becf;stroke:#17becf;\" x=\"346.877148\" xlink:href=\"#m71c11360e5\" y=\"165.922523\"/>\r\n    </g>\r\n   </g>\r\n   <g id=\"PathCollection_381\">\r\n    <g clip-path=\"url(#pd56d66fd56)\">\r\n     <use style=\"fill:#1f77b4;stroke:#1f77b4;\" x=\"342.193017\" xlink:href=\"#m38d429afae\" y=\"204.101351\"/>\r\n    </g>\r\n   </g>\r\n   <g id=\"PathCollection_382\">\r\n    <g clip-path=\"url(#pd56d66fd56)\">\r\n     <use style=\"fill:#ff7f0e;stroke:#ff7f0e;\" x=\"343.058184\" xlink:href=\"#m1b2e3e7814\" y=\"200.438856\"/>\r\n    </g>\r\n   </g>\r\n   <g id=\"PathCollection_383\">\r\n    <g clip-path=\"url(#pd56d66fd56)\">\r\n     <use style=\"fill:#2ca02c;stroke:#2ca02c;\" x=\"352.081087\" xlink:href=\"#m3d27568abb\" y=\"135.934169\"/>\r\n    </g>\r\n   </g>\r\n   <g id=\"PathCollection_384\">\r\n    <g clip-path=\"url(#pd56d66fd56)\">\r\n     <use style=\"fill:#d62728;stroke:#d62728;\" x=\"342.501518\" xlink:href=\"#m13010d7afe\" y=\"203.156512\"/>\r\n    </g>\r\n   </g>\r\n   <g id=\"PathCollection_385\">\r\n    <g clip-path=\"url(#pd56d66fd56)\">\r\n     <use style=\"fill:#9467bd;stroke:#9467bd;\" x=\"350.551089\" xlink:href=\"#md9f9739364\" y=\"146.656467\"/>\r\n    </g>\r\n   </g>\r\n   <g id=\"PathCollection_386\">\r\n    <g clip-path=\"url(#pd56d66fd56)\">\r\n     <use style=\"fill:#8c564b;stroke:#8c564b;\" x=\"345.947926\" xlink:href=\"#m5844ded588\" y=\"184.540461\"/>\r\n    </g>\r\n   </g>\r\n   <g id=\"PathCollection_387\">\r\n    <g clip-path=\"url(#pd56d66fd56)\">\r\n     <use style=\"fill:#e377c2;stroke:#e377c2;\" x=\"353.128557\" xlink:href=\"#mc2a0935a83\" y=\"131.485948\"/>\r\n    </g>\r\n   </g>\r\n   <g id=\"PathCollection_388\">\r\n    <g clip-path=\"url(#pd56d66fd56)\">\r\n     <use style=\"fill:#7f7f7f;stroke:#7f7f7f;\" x=\"356.006916\" xlink:href=\"#m18c035dbd5\" y=\"117.892596\"/>\r\n    </g>\r\n   </g>\r\n   <g id=\"PathCollection_389\">\r\n    <g clip-path=\"url(#pd56d66fd56)\">\r\n     <use style=\"fill:#bcbd22;stroke:#bcbd22;\" x=\"356.342536\" xlink:href=\"#m109ac1bd99\" y=\"115.917384\"/>\r\n    </g>\r\n   </g>\r\n   <g id=\"PathCollection_390\">\r\n    <g clip-path=\"url(#pd56d66fd56)\">\r\n     <use style=\"fill:#17becf;stroke:#17becf;\" x=\"361.022122\" xlink:href=\"#m71c11360e5\" y=\"99.814208\"/>\r\n    </g>\r\n   </g>\r\n   <g id=\"PathCollection_391\">\r\n    <g clip-path=\"url(#pd56d66fd56)\">\r\n     <use style=\"fill:#1f77b4;stroke:#1f77b4;\" x=\"355.910298\" xlink:href=\"#m38d429afae\" y=\"116.464369\"/>\r\n    </g>\r\n   </g>\r\n   <g id=\"PathCollection_392\">\r\n    <g clip-path=\"url(#pd56d66fd56)\">\r\n     <use style=\"fill:#ff7f0e;stroke:#ff7f0e;\" x=\"364.193436\" xlink:href=\"#m1b2e3e7814\" y=\"81.529249\"/>\r\n    </g>\r\n   </g>\r\n   <g id=\"PathCollection_393\">\r\n    <g clip-path=\"url(#pd56d66fd56)\">\r\n     <use style=\"fill:#2ca02c;stroke:#2ca02c;\" x=\"363.367326\" xlink:href=\"#m3d27568abb\" y=\"86.130861\"/>\r\n    </g>\r\n   </g>\r\n   <g id=\"PathCollection_394\">\r\n    <g clip-path=\"url(#pd56d66fd56)\">\r\n     <use style=\"fill:#d62728;stroke:#d62728;\" x=\"363.465537\" xlink:href=\"#m13010d7afe\" y=\"85.355185\"/>\r\n    </g>\r\n   </g>\r\n   <g id=\"PathCollection_395\">\r\n    <g clip-path=\"url(#pd56d66fd56)\">\r\n     <use style=\"fill:#9467bd;stroke:#9467bd;\" x=\"357.318297\" xlink:href=\"#md9f9739364\" y=\"110.769974\"/>\r\n    </g>\r\n   </g>\r\n   <g id=\"PathCollection_396\">\r\n    <g clip-path=\"url(#pd56d66fd56)\">\r\n     <use style=\"fill:#8c564b;stroke:#8c564b;\" x=\"357.714574\" xlink:href=\"#m5844ded588\" y=\"107.971435\"/>\r\n    </g>\r\n   </g>\r\n   <g id=\"PathCollection_397\">\r\n    <g clip-path=\"url(#pd56d66fd56)\">\r\n     <use style=\"fill:#e377c2;stroke:#e377c2;\" x=\"364.197722\" xlink:href=\"#mc2a0935a83\" y=\"81.485934\"/>\r\n    </g>\r\n   </g>\r\n   <g id=\"PathCollection_398\">\r\n    <g clip-path=\"url(#pd56d66fd56)\">\r\n     <use style=\"fill:#7f7f7f;stroke:#7f7f7f;\" x=\"363.73767\" xlink:href=\"#m18c035dbd5\" y=\"83.99278\"/>\r\n    </g>\r\n   </g>\r\n   <g id=\"PathCollection_399\">\r\n    <g clip-path=\"url(#pd56d66fd56)\">\r\n     <use style=\"fill:#bcbd22;stroke:#bcbd22;\" x=\"363.738035\" xlink:href=\"#m109ac1bd99\" y=\"83.98935\"/>\r\n    </g>\r\n   </g>\r\n   <g id=\"PathCollection_400\">\r\n    <g clip-path=\"url(#pd56d66fd56)\">\r\n     <use style=\"fill:#17becf;stroke:#17becf;\" x=\"364.181664\" xlink:href=\"#m71c11360e5\" y=\"81.159746\"/>\r\n    </g>\r\n   </g>\r\n   <g id=\"PathCollection_401\">\r\n    <g clip-path=\"url(#pd56d66fd56)\">\r\n     <use style=\"fill:#1f77b4;stroke:#1f77b4;\" x=\"357.728476\" xlink:href=\"#m38d429afae\" y=\"107.873474\"/>\r\n    </g>\r\n   </g>\r\n   <g id=\"PathCollection_402\">\r\n    <g clip-path=\"url(#pd56d66fd56)\">\r\n     <use style=\"fill:#ff7f0e;stroke:#ff7f0e;\" x=\"363.495792\" xlink:href=\"#m1b2e3e7814\" y=\"84.164885\"/>\r\n    </g>\r\n   </g>\r\n   <g id=\"PathCollection_403\">\r\n    <g clip-path=\"url(#pd56d66fd56)\">\r\n     <use style=\"fill:#2ca02c;stroke:#2ca02c;\" x=\"356.508071\" xlink:href=\"#m3d27568abb\" y=\"111.50766\"/>\r\n    </g>\r\n   </g>\r\n   <g id=\"PathCollection_404\">\r\n    <g clip-path=\"url(#pd56d66fd56)\">\r\n     <use style=\"fill:#d62728;stroke:#d62728;\" x=\"363.943781\" xlink:href=\"#m13010d7afe\" y=\"79.704037\"/>\r\n    </g>\r\n   </g>\r\n   <g id=\"PathCollection_405\">\r\n    <g clip-path=\"url(#pd56d66fd56)\">\r\n     <use style=\"fill:#9467bd;stroke:#9467bd;\" x=\"364.236313\" xlink:href=\"#md9f9739364\" y=\"78.68227\"/>\r\n    </g>\r\n   </g>\r\n   <g id=\"PathCollection_406\">\r\n    <g clip-path=\"url(#pd56d66fd56)\">\r\n     <use style=\"fill:#8c564b;stroke:#8c564b;\" x=\"363.760159\" xlink:href=\"#m5844ded588\" y=\"71.168135\"/>\r\n    </g>\r\n   </g>\r\n   <g id=\"PathCollection_407\">\r\n    <g clip-path=\"url(#pd56d66fd56)\">\r\n     <use style=\"fill:#e377c2;stroke:#e377c2;\" x=\"363.453758\" xlink:href=\"#mc2a0935a83\" y=\"70.497841\"/>\r\n    </g>\r\n   </g>\r\n   <g id=\"PathCollection_408\">\r\n    <g clip-path=\"url(#pd56d66fd56)\">\r\n     <use style=\"fill:#7f7f7f;stroke:#7f7f7f;\" x=\"363.518518\" xlink:href=\"#m18c035dbd5\" y=\"69.581426\"/>\r\n    </g>\r\n   </g>\r\n   <g id=\"PathCollection_409\">\r\n    <g clip-path=\"url(#pd56d66fd56)\">\r\n     <use style=\"fill:#bcbd22;stroke:#bcbd22;\" x=\"363.446072\" xlink:href=\"#m109ac1bd99\" y=\"69.202092\"/>\r\n    </g>\r\n   </g>\r\n   <g id=\"PathCollection_410\">\r\n    <g clip-path=\"url(#pd56d66fd56)\">\r\n     <use style=\"fill:#17becf;stroke:#17becf;\" x=\"357.918478\" xlink:href=\"#m71c11360e5\" y=\"105.548764\"/>\r\n    </g>\r\n   </g>\r\n   <g id=\"PathCollection_411\">\r\n    <g clip-path=\"url(#pd56d66fd56)\">\r\n     <use style=\"fill:#1f77b4;stroke:#1f77b4;\" x=\"364.018778\" xlink:href=\"#m38d429afae\" y=\"79.802009\"/>\r\n    </g>\r\n   </g>\r\n   <g id=\"PathCollection_412\">\r\n    <g clip-path=\"url(#pd56d66fd56)\">\r\n     <use style=\"fill:#ff7f0e;stroke:#ff7f0e;\" x=\"360.007224\" xlink:href=\"#m1b2e3e7814\" y=\"90.824864\"/>\r\n    </g>\r\n   </g>\r\n   <g id=\"PathCollection_413\">\r\n    <g clip-path=\"url(#pd56d66fd56)\">\r\n     <use style=\"fill:#2ca02c;stroke:#2ca02c;\" x=\"363.332465\" xlink:href=\"#m3d27568abb\" y=\"70.212901\"/>\r\n    </g>\r\n   </g>\r\n   <g id=\"PathCollection_414\">\r\n    <g clip-path=\"url(#pd56d66fd56)\">\r\n     <use style=\"fill:#d62728;stroke:#d62728;\" x=\"364.224285\" xlink:href=\"#m13010d7afe\" y=\"75.063978\"/>\r\n    </g>\r\n   </g>\r\n   <g id=\"PathCollection_415\">\r\n    <g clip-path=\"url(#pd56d66fd56)\">\r\n     <use style=\"fill:#9467bd;stroke:#9467bd;\" x=\"363.956503\" xlink:href=\"#md9f9739364\" y=\"78.849016\"/>\r\n    </g>\r\n   </g>\r\n   <g id=\"PathCollection_416\">\r\n    <g clip-path=\"url(#pd56d66fd56)\">\r\n     <use style=\"fill:#8c564b;stroke:#8c564b;\" x=\"359.871627\" xlink:href=\"#m5844ded588\" y=\"88.553052\"/>\r\n    </g>\r\n   </g>\r\n   <g id=\"PathCollection_417\">\r\n    <g clip-path=\"url(#pd56d66fd56)\">\r\n     <use style=\"fill:#e377c2;stroke:#e377c2;\" x=\"359.164968\" xlink:href=\"#mc2a0935a83\" y=\"91.930773\"/>\r\n    </g>\r\n   </g>\r\n   <g id=\"PathCollection_418\">\r\n    <g clip-path=\"url(#pd56d66fd56)\">\r\n     <use style=\"fill:#7f7f7f;stroke:#7f7f7f;\" x=\"362.240885\" xlink:href=\"#m18c035dbd5\" y=\"74.56547\"/>\r\n    </g>\r\n   </g>\r\n   <g id=\"PathCollection_419\">\r\n    <g clip-path=\"url(#pd56d66fd56)\">\r\n     <use style=\"fill:#bcbd22;stroke:#bcbd22;\" x=\"364.369024\" xlink:href=\"#m109ac1bd99\" y=\"68.442705\"/>\r\n    </g>\r\n   </g>\r\n   <g id=\"PathCollection_420\">\r\n    <g clip-path=\"url(#pd56d66fd56)\">\r\n     <use style=\"fill:#17becf;stroke:#17becf;\" x=\"362.646367\" xlink:href=\"#m71c11360e5\" y=\"68.36294\"/>\r\n    </g>\r\n   </g>\r\n   <g id=\"PathCollection_421\">\r\n    <g clip-path=\"url(#pd56d66fd56)\">\r\n     <use style=\"fill:#1f77b4;stroke:#1f77b4;\" x=\"361.397425\" xlink:href=\"#m38d429afae\" y=\"78.41616\"/>\r\n    </g>\r\n   </g>\r\n   <g id=\"PathCollection_422\">\r\n    <g clip-path=\"url(#pd56d66fd56)\">\r\n     <use style=\"fill:#ff7f0e;stroke:#ff7f0e;\" x=\"361.838849\" xlink:href=\"#m1b2e3e7814\" y=\"75.856411\"/>\r\n    </g>\r\n   </g>\r\n   <g id=\"PathCollection_423\">\r\n    <g clip-path=\"url(#pd56d66fd56)\">\r\n     <use style=\"fill:#2ca02c;stroke:#2ca02c;\" x=\"362.72211\" xlink:href=\"#m3d27568abb\" y=\"66.651865\"/>\r\n    </g>\r\n   </g>\r\n   <g id=\"PathCollection_424\">\r\n    <g clip-path=\"url(#pd56d66fd56)\">\r\n     <use style=\"fill:#d62728;stroke:#d62728;\" x=\"361.995389\" xlink:href=\"#m13010d7afe\" y=\"69.419015\"/>\r\n    </g>\r\n   </g>\r\n   <g id=\"PathCollection_425\">\r\n    <g clip-path=\"url(#pd56d66fd56)\">\r\n     <use style=\"fill:#9467bd;stroke:#9467bd;\" x=\"364.427131\" xlink:href=\"#md9f9739364\" y=\"65.101192\"/>\r\n    </g>\r\n   </g>\r\n   <g id=\"PathCollection_426\">\r\n    <g clip-path=\"url(#pd56d66fd56)\">\r\n     <use style=\"fill:#8c564b;stroke:#8c564b;\" x=\"362.022525\" xlink:href=\"#m5844ded588\" y=\"63.512085\"/>\r\n    </g>\r\n   </g>\r\n   <g id=\"PathCollection_427\">\r\n    <g clip-path=\"url(#pd56d66fd56)\">\r\n     <use style=\"fill:#e377c2;stroke:#e377c2;\" x=\"361.058956\" xlink:href=\"#mc2a0935a83\" y=\"75.182216\"/>\r\n    </g>\r\n   </g>\r\n   <g id=\"PathCollection_428\">\r\n    <g clip-path=\"url(#pd56d66fd56)\">\r\n     <use style=\"fill:#7f7f7f;stroke:#7f7f7f;\" x=\"364.236321\" xlink:href=\"#m18c035dbd5\" y=\"62.910765\"/>\r\n    </g>\r\n   </g>\r\n   <g id=\"PathCollection_429\">\r\n    <g clip-path=\"url(#pd56d66fd56)\">\r\n     <use style=\"fill:#bcbd22;stroke:#bcbd22;\" x=\"361.122457\" xlink:href=\"#m109ac1bd99\" y=\"57.63458\"/>\r\n    </g>\r\n   </g>\r\n   <g id=\"PathCollection_430\">\r\n    <g clip-path=\"url(#pd56d66fd56)\">\r\n     <use style=\"fill:#17becf;stroke:#17becf;\" x=\"361.357249\" xlink:href=\"#m71c11360e5\" y=\"73.092945\"/>\r\n    </g>\r\n   </g>\r\n   <g id=\"PathCollection_431\">\r\n    <g clip-path=\"url(#pd56d66fd56)\">\r\n     <use style=\"fill:#1f77b4;stroke:#1f77b4;\" x=\"364.261257\" xlink:href=\"#m38d429afae\" y=\"62.561534\"/>\r\n    </g>\r\n   </g>\r\n   <g id=\"PathCollection_432\">\r\n    <g clip-path=\"url(#pd56d66fd56)\">\r\n     <use style=\"fill:#ff7f0e;stroke:#ff7f0e;\" x=\"361.412837\" xlink:href=\"#m1b2e3e7814\" y=\"71.044123\"/>\r\n    </g>\r\n   </g>\r\n   <g id=\"PathCollection_433\">\r\n    <g clip-path=\"url(#pd56d66fd56)\">\r\n     <use style=\"fill:#2ca02c;stroke:#2ca02c;\" x=\"364.251824\" xlink:href=\"#m3d27568abb\" y=\"62.480004\"/>\r\n    </g>\r\n   </g>\r\n   <g id=\"PathCollection_434\">\r\n    <g clip-path=\"url(#pd56d66fd56)\">\r\n     <use style=\"fill:#d62728;stroke:#d62728;\" x=\"361.240285\" xlink:href=\"#m13010d7afe\" y=\"73.112989\"/>\r\n    </g>\r\n   </g>\r\n   <g id=\"PathCollection_435\">\r\n    <g clip-path=\"url(#pd56d66fd56)\">\r\n     <use style=\"fill:#9467bd;stroke:#9467bd;\" x=\"364.185448\" xlink:href=\"#md9f9739364\" y=\"62.13242\"/>\r\n    </g>\r\n   </g>\r\n   <g id=\"PathCollection_436\">\r\n    <g clip-path=\"url(#pd56d66fd56)\">\r\n     <use style=\"fill:#8c564b;stroke:#8c564b;\" x=\"361.430571\" xlink:href=\"#m5844ded588\" y=\"69.950834\"/>\r\n    </g>\r\n   </g>\r\n   <g id=\"PathCollection_437\">\r\n    <g clip-path=\"url(#pd56d66fd56)\">\r\n     <use style=\"fill:#e377c2;stroke:#e377c2;\" x=\"361.41418\" xlink:href=\"#mc2a0935a83\" y=\"69.612784\"/>\r\n    </g>\r\n   </g>\r\n   <g id=\"PathCollection_438\">\r\n    <g clip-path=\"url(#pd56d66fd56)\">\r\n     <use style=\"fill:#7f7f7f;stroke:#7f7f7f;\" x=\"360.701759\" xlink:href=\"#m18c035dbd5\" y=\"56.641415\"/>\r\n    </g>\r\n   </g>\r\n   <g id=\"PathCollection_439\">\r\n    <g clip-path=\"url(#pd56d66fd56)\">\r\n     <use style=\"fill:#bcbd22;stroke:#bcbd22;\" x=\"364.186339\" xlink:href=\"#m109ac1bd99\" y=\"61.619618\"/>\r\n    </g>\r\n   </g>\r\n   <g id=\"PathCollection_440\">\r\n    <g clip-path=\"url(#pd56d66fd56)\">\r\n     <use style=\"fill:#17becf;stroke:#17becf;\" x=\"361.484356\" xlink:href=\"#m71c11360e5\" y=\"66.907835\"/>\r\n    </g>\r\n   </g>\r\n   <g id=\"PathCollection_441\">\r\n    <g clip-path=\"url(#pd56d66fd56)\">\r\n     <use style=\"fill:#1f77b4;stroke:#1f77b4;\" x=\"362.993603\" xlink:href=\"#m38d429afae\" y=\"58.166502\"/>\r\n    </g>\r\n   </g>\r\n   <g id=\"PathCollection_442\">\r\n    <g clip-path=\"url(#pd56d66fd56)\">\r\n     <use style=\"fill:#ff7f0e;stroke:#ff7f0e;\" x=\"361.483551\" xlink:href=\"#m1b2e3e7814\" y=\"66.856405\"/>\r\n    </g>\r\n   </g>\r\n   <g id=\"PathCollection_443\">\r\n    <g clip-path=\"url(#pd56d66fd56)\">\r\n     <use style=\"fill:#2ca02c;stroke:#2ca02c;\" x=\"358.16621\" xlink:href=\"#m3d27568abb\" y=\"44.011017\"/>\r\n    </g>\r\n   </g>\r\n   <g id=\"PathCollection_444\">\r\n    <g clip-path=\"url(#pd56d66fd56)\">\r\n     <use style=\"fill:#d62728;stroke:#d62728;\" x=\"360.887885\" xlink:href=\"#m13010d7afe\" y=\"60.233147\"/>\r\n    </g>\r\n   </g>\r\n   <g id=\"PathCollection_445\">\r\n    <g clip-path=\"url(#pd56d66fd56)\">\r\n     <use style=\"fill:#9467bd;stroke:#9467bd;\" x=\"358.766054\" xlink:href=\"#md9f9739364\" y=\"45.674203\"/>\r\n    </g>\r\n   </g>\r\n   <g id=\"PathCollection_446\">\r\n    <g clip-path=\"url(#pd56d66fd56)\">\r\n     <use style=\"fill:#8c564b;stroke:#8c564b;\" x=\"359.117771\" xlink:href=\"#m5844ded588\" y=\"47.200389\"/>\r\n    </g>\r\n   </g>\r\n   <g id=\"PathCollection_447\">\r\n    <g clip-path=\"url(#pd56d66fd56)\">\r\n     <use style=\"fill:#e377c2;stroke:#e377c2;\" x=\"361.42671\" xlink:href=\"#mc2a0935a83\" y=\"65.357832\"/>\r\n    </g>\r\n   </g>\r\n   <g id=\"PathCollection_448\">\r\n    <g clip-path=\"url(#pd56d66fd56)\">\r\n     <use style=\"fill:#7f7f7f;stroke:#7f7f7f;\" x=\"361.44566\" xlink:href=\"#m18c035dbd5\" y=\"67.911668\"/>\r\n    </g>\r\n   </g>\r\n   <g id=\"PathCollection_449\">\r\n    <g clip-path=\"url(#pd56d66fd56)\">\r\n     <use style=\"fill:#bcbd22;stroke:#bcbd22;\" x=\"355.117602\" xlink:href=\"#m109ac1bd99\" y=\"37.682734\"/>\r\n    </g>\r\n   </g>\r\n   <g id=\"PathCollection_450\">\r\n    <g clip-path=\"url(#pd56d66fd56)\">\r\n     <use style=\"fill:#17becf;stroke:#17becf;\" x=\"355.316656\" xlink:href=\"#m71c11360e5\" y=\"35.236304\"/>\r\n    </g>\r\n   </g>\r\n   <g id=\"PathCollection_451\">\r\n    <g clip-path=\"url(#pd56d66fd56)\">\r\n     <use style=\"fill:#1f77b4;stroke:#1f77b4;\" x=\"360.781367\" xlink:href=\"#m38d429afae\" y=\"61.165749\"/>\r\n    </g>\r\n   </g>\r\n   <g id=\"PathCollection_452\">\r\n    <g clip-path=\"url(#pd56d66fd56)\">\r\n     <use style=\"fill:#ff7f0e;stroke:#ff7f0e;\" x=\"357.834435\" xlink:href=\"#m1b2e3e7814\" y=\"42.354543\"/>\r\n    </g>\r\n   </g>\r\n   <g id=\"PathCollection_453\">\r\n    <g clip-path=\"url(#pd56d66fd56)\">\r\n     <use style=\"fill:#2ca02c;stroke:#2ca02c;\" x=\"355.299498\" xlink:href=\"#m3d27568abb\" y=\"35.183366\"/>\r\n    </g>\r\n   </g>\r\n   <g id=\"PathCollection_454\">\r\n    <g clip-path=\"url(#pd56d66fd56)\">\r\n     <use style=\"fill:#d62728;stroke:#d62728;\" x=\"357.486668\" xlink:href=\"#m13010d7afe\" y=\"41.21772\"/>\r\n    </g>\r\n   </g>\r\n   <g id=\"PathCollection_455\">\r\n    <g clip-path=\"url(#pd56d66fd56)\">\r\n     <use style=\"fill:#9467bd;stroke:#9467bd;\" x=\"358.06887\" xlink:href=\"#md9f9739364\" y=\"44.207806\"/>\r\n    </g>\r\n   </g>\r\n   <g id=\"PathCollection_456\">\r\n    <g clip-path=\"url(#pd56d66fd56)\">\r\n     <use style=\"fill:#8c564b;stroke:#8c564b;\" x=\"354.323843\" xlink:href=\"#m5844ded588\" y=\"33.933039\"/>\r\n    </g>\r\n   </g>\r\n   <g id=\"PathCollection_457\">\r\n    <g clip-path=\"url(#pd56d66fd56)\">\r\n     <use style=\"fill:#e377c2;stroke:#e377c2;\" x=\"355.35952\" xlink:href=\"#mc2a0935a83\" y=\"35.128347\"/>\r\n    </g>\r\n   </g>\r\n   <g id=\"PathCollection_458\">\r\n    <g clip-path=\"url(#pd56d66fd56)\">\r\n     <use style=\"fill:#7f7f7f;stroke:#7f7f7f;\" x=\"354.147115\" xlink:href=\"#m18c035dbd5\" y=\"33.406203\"/>\r\n    </g>\r\n   </g>\r\n   <g id=\"PathCollection_459\">\r\n    <g clip-path=\"url(#pd56d66fd56)\">\r\n     <use style=\"fill:#bcbd22;stroke:#bcbd22;\" x=\"352.213642\" xlink:href=\"#m109ac1bd99\" y=\"33.580835\"/>\r\n    </g>\r\n   </g>\r\n   <g id=\"PathCollection_460\">\r\n    <g clip-path=\"url(#pd56d66fd56)\">\r\n     <use style=\"fill:#17becf;stroke:#17becf;\" x=\"353.824757\" xlink:href=\"#m71c11360e5\" y=\"33.197307\"/>\r\n    </g>\r\n   </g>\r\n   <g id=\"PathCollection_461\">\r\n    <g clip-path=\"url(#pd56d66fd56)\">\r\n     <use style=\"fill:#1f77b4;stroke:#1f77b4;\" x=\"352.93503\" xlink:href=\"#m38d429afae\" y=\"33.289811\"/>\r\n    </g>\r\n   </g>\r\n   <g id=\"PathCollection_462\">\r\n    <g clip-path=\"url(#pd56d66fd56)\">\r\n     <use style=\"fill:#ff7f0e;stroke:#ff7f0e;\" x=\"352.743809\" xlink:href=\"#m1b2e3e7814\" y=\"32.977892\"/>\r\n    </g>\r\n   </g>\r\n   <g id=\"PathCollection_463\">\r\n    <g clip-path=\"url(#pd56d66fd56)\">\r\n     <use style=\"fill:#2ca02c;stroke:#2ca02c;\" x=\"351.797995\" xlink:href=\"#m3d27568abb\" y=\"32.80671\"/>\r\n    </g>\r\n   </g>\r\n   <g id=\"PathCollection_464\">\r\n    <g clip-path=\"url(#pd56d66fd56)\">\r\n     <use style=\"fill:#d62728;stroke:#d62728;\" x=\"354.643967\" xlink:href=\"#m13010d7afe\" y=\"35.074638\"/>\r\n    </g>\r\n   </g>\r\n   <g id=\"PathCollection_465\">\r\n    <g clip-path=\"url(#pd56d66fd56)\">\r\n     <use style=\"fill:#9467bd;stroke:#9467bd;\" x=\"352.19061\" xlink:href=\"#md9f9739364\" y=\"32.201144\"/>\r\n    </g>\r\n   </g>\r\n   <g id=\"PathCollection_466\">\r\n    <g clip-path=\"url(#pd56d66fd56)\">\r\n     <use style=\"fill:#8c564b;stroke:#8c564b;\" x=\"356.965291\" xlink:href=\"#m5844ded588\" y=\"32.001852\"/>\r\n    </g>\r\n   </g>\r\n   <g id=\"PathCollection_467\">\r\n    <g clip-path=\"url(#pd56d66fd56)\">\r\n     <use style=\"fill:#e377c2;stroke:#e377c2;\" x=\"350.448289\" xlink:href=\"#mc2a0935a83\" y=\"33.152162\"/>\r\n    </g>\r\n   </g>\r\n   <g id=\"PathCollection_468\">\r\n    <g clip-path=\"url(#pd56d66fd56)\">\r\n     <use style=\"fill:#7f7f7f;stroke:#7f7f7f;\" x=\"350.003989\" xlink:href=\"#m18c035dbd5\" y=\"33.403595\"/>\r\n    </g>\r\n   </g>\r\n   <g id=\"PathCollection_469\">\r\n    <g clip-path=\"url(#pd56d66fd56)\">\r\n     <use style=\"fill:#bcbd22;stroke:#bcbd22;\" x=\"350.809905\" xlink:href=\"#m109ac1bd99\" y=\"31.886285\"/>\r\n    </g>\r\n   </g>\r\n   <g id=\"PathCollection_470\">\r\n    <g clip-path=\"url(#pd56d66fd56)\">\r\n     <use style=\"fill:#17becf;stroke:#17becf;\" x=\"352.442265\" xlink:href=\"#m71c11360e5\" y=\"31.234236\"/>\r\n    </g>\r\n   </g>\r\n   <g id=\"PathCollection_471\">\r\n    <g clip-path=\"url(#pd56d66fd56)\">\r\n     <use style=\"fill:#1f77b4;stroke:#1f77b4;\" x=\"352.775399\" xlink:href=\"#m38d429afae\" y=\"30.715993\"/>\r\n    </g>\r\n   </g>\r\n   <g id=\"PathCollection_472\">\r\n    <g clip-path=\"url(#pd56d66fd56)\">\r\n     <use style=\"fill:#ff7f0e;stroke:#ff7f0e;\" x=\"350.157816\" xlink:href=\"#m1b2e3e7814\" y=\"31.489134\"/>\r\n    </g>\r\n   </g>\r\n   <g id=\"PathCollection_473\">\r\n    <g clip-path=\"url(#pd56d66fd56)\">\r\n     <use style=\"fill:#2ca02c;stroke:#2ca02c;\" x=\"351.735189\" xlink:href=\"#m3d27568abb\" y=\"30.753422\"/>\r\n    </g>\r\n   </g>\r\n   <g id=\"PathCollection_474\">\r\n    <g clip-path=\"url(#pd56d66fd56)\">\r\n     <use style=\"fill:#d62728;stroke:#d62728;\" x=\"355.465091\" xlink:href=\"#m13010d7afe\" y=\"24.410795\"/>\r\n    </g>\r\n   </g>\r\n   <g id=\"PathCollection_475\">\r\n    <g clip-path=\"url(#pd56d66fd56)\">\r\n     <use style=\"fill:#9467bd;stroke:#9467bd;\" x=\"356.021076\" xlink:href=\"#md9f9739364\" y=\"25.59337\"/>\r\n    </g>\r\n   </g>\r\n   <g id=\"PathCollection_476\">\r\n    <g clip-path=\"url(#pd56d66fd56)\">\r\n     <use style=\"fill:#8c564b;stroke:#8c564b;\" x=\"352.056884\" xlink:href=\"#m5844ded588\" y=\"30.578958\"/>\r\n    </g>\r\n   </g>\r\n   <g id=\"PathCollection_477\">\r\n    <g clip-path=\"url(#pd56d66fd56)\">\r\n     <use style=\"fill:#e377c2;stroke:#e377c2;\" x=\"355.207199\" xlink:href=\"#mc2a0935a83\" y=\"24.21225\"/>\r\n    </g>\r\n   </g>\r\n   <g id=\"PathCollection_478\">\r\n    <g clip-path=\"url(#pd56d66fd56)\">\r\n     <use style=\"fill:#7f7f7f;stroke:#7f7f7f;\" x=\"354.924061\" xlink:href=\"#m18c035dbd5\" y=\"23.132149\"/>\r\n    </g>\r\n   </g>\r\n   <g id=\"PathCollection_479\">\r\n    <g clip-path=\"url(#pd56d66fd56)\">\r\n     <use style=\"fill:#bcbd22;stroke:#bcbd22;\" x=\"347.811637\" xlink:href=\"#m109ac1bd99\" y=\"30.76898\"/>\r\n    </g>\r\n   </g>\r\n   <g id=\"PathCollection_480\">\r\n    <g clip-path=\"url(#pd56d66fd56)\">\r\n     <use style=\"fill:#17becf;stroke:#17becf;\" x=\"337.161189\" xlink:href=\"#m71c11360e5\" y=\"38.158624\"/>\r\n    </g>\r\n   </g>\r\n   <g id=\"PathCollection_481\">\r\n    <g clip-path=\"url(#pd56d66fd56)\">\r\n     <use style=\"fill:#1f77b4;stroke:#1f77b4;\" x=\"342.472487\" xlink:href=\"#m38d429afae\" y=\"33.808443\"/>\r\n    </g>\r\n   </g>\r\n   <g id=\"PathCollection_482\">\r\n    <g clip-path=\"url(#pd56d66fd56)\">\r\n     <use style=\"fill:#ff7f0e;stroke:#ff7f0e;\" x=\"352.043933\" xlink:href=\"#m1b2e3e7814\" y=\"27.962959\"/>\r\n    </g>\r\n   </g>\r\n   <g id=\"PathCollection_483\">\r\n    <g clip-path=\"url(#pd56d66fd56)\">\r\n     <use style=\"fill:#2ca02c;stroke:#2ca02c;\" x=\"354.211948\" xlink:href=\"#m3d27568abb\" y=\"23.488586\"/>\r\n    </g>\r\n   </g>\r\n   <g id=\"PathCollection_484\">\r\n    <g clip-path=\"url(#pd56d66fd56)\">\r\n     <use style=\"fill:#d62728;stroke:#d62728;\" x=\"356.036818\" xlink:href=\"#m13010d7afe\" y=\"24.106707\"/>\r\n    </g>\r\n   </g>\r\n   <g id=\"PathCollection_485\">\r\n    <g clip-path=\"url(#pd56d66fd56)\">\r\n     <use style=\"fill:#9467bd;stroke:#9467bd;\" x=\"353.129019\" xlink:href=\"#md9f9739364\" y=\"23.939196\"/>\r\n    </g>\r\n   </g>\r\n   <g id=\"PathCollection_486\">\r\n    <g clip-path=\"url(#pd56d66fd56)\">\r\n     <use style=\"fill:#8c564b;stroke:#8c564b;\" x=\"353.235863\" xlink:href=\"#m5844ded588\" y=\"23.341757\"/>\r\n    </g>\r\n   </g>\r\n   <g id=\"PathCollection_487\">\r\n    <g clip-path=\"url(#pd56d66fd56)\">\r\n     <use style=\"fill:#e377c2;stroke:#e377c2;\" x=\"339.903263\" xlink:href=\"#mc2a0935a83\" y=\"33.151024\"/>\r\n    </g>\r\n   </g>\r\n   <g id=\"PathCollection_488\">\r\n    <g clip-path=\"url(#pd56d66fd56)\">\r\n     <use style=\"fill:#7f7f7f;stroke:#7f7f7f;\" x=\"354.805508\" xlink:href=\"#m18c035dbd5\" y=\"22.605306\"/>\r\n    </g>\r\n   </g>\r\n   <g id=\"PathCollection_489\">\r\n    <g clip-path=\"url(#pd56d66fd56)\">\r\n     <use style=\"fill:#bcbd22;stroke:#bcbd22;\" x=\"331.73883\" xlink:href=\"#m109ac1bd99\" y=\"40.12538\"/>\r\n    </g>\r\n   </g>\r\n   <g id=\"PathCollection_490\">\r\n    <g clip-path=\"url(#pd56d66fd56)\">\r\n     <use style=\"fill:#17becf;stroke:#17becf;\" x=\"354.638898\" xlink:href=\"#m71c11360e5\" y=\"22.407165\"/>\r\n    </g>\r\n   </g>\r\n   <g id=\"PathCollection_491\">\r\n    <g clip-path=\"url(#pd56d66fd56)\">\r\n     <use style=\"fill:#1f77b4;stroke:#1f77b4;\" x=\"335.416152\" xlink:href=\"#m38d429afae\" y=\"36.673539\"/>\r\n    </g>\r\n   </g>\r\n   <g id=\"PathCollection_492\">\r\n    <g clip-path=\"url(#pd56d66fd56)\">\r\n     <use style=\"fill:#ff7f0e;stroke:#ff7f0e;\" x=\"338.892338\" xlink:href=\"#m1b2e3e7814\" y=\"33.003625\"/>\r\n    </g>\r\n   </g>\r\n   <g id=\"PathCollection_493\">\r\n    <g clip-path=\"url(#pd56d66fd56)\">\r\n     <use style=\"fill:#2ca02c;stroke:#2ca02c;\" x=\"355.473219\" xlink:href=\"#m3d27568abb\" y=\"22.039872\"/>\r\n    </g>\r\n   </g>\r\n   <g id=\"PathCollection_494\">\r\n    <g clip-path=\"url(#pd56d66fd56)\">\r\n     <use style=\"fill:#d62728;stroke:#d62728;\" x=\"355.506365\" xlink:href=\"#m13010d7afe\" y=\"22.059353\"/>\r\n    </g>\r\n   </g>\r\n   <g id=\"PathCollection_495\">\r\n    <g clip-path=\"url(#pd56d66fd56)\">\r\n     <use style=\"fill:#9467bd;stroke:#9467bd;\" x=\"339.630905\" xlink:href=\"#md9f9739364\" y=\"32.325492\"/>\r\n    </g>\r\n   </g>\r\n   <g id=\"PathCollection_496\">\r\n    <g clip-path=\"url(#pd56d66fd56)\">\r\n     <use style=\"fill:#8c564b;stroke:#8c564b;\" x=\"335.711995\" xlink:href=\"#m5844ded588\" y=\"35.656802\"/>\r\n    </g>\r\n   </g>\r\n   <g id=\"PathCollection_497\">\r\n    <g clip-path=\"url(#pd56d66fd56)\">\r\n     <use style=\"fill:#e377c2;stroke:#e377c2;\" x=\"338.913727\" xlink:href=\"#mc2a0935a83\" y=\"32.980383\"/>\r\n    </g>\r\n   </g>\r\n   <g id=\"PathCollection_498\">\r\n    <g clip-path=\"url(#pd56d66fd56)\">\r\n     <use style=\"fill:#7f7f7f;stroke:#7f7f7f;\" x=\"310.152368\" xlink:href=\"#m18c035dbd5\" y=\"56.309784\"/>\r\n    </g>\r\n   </g>\r\n   <g id=\"PathCollection_499\">\r\n    <g clip-path=\"url(#pd56d66fd56)\">\r\n     <use style=\"fill:#bcbd22;stroke:#bcbd22;\" x=\"355.517422\" xlink:href=\"#m109ac1bd99\" y=\"22.025455\"/>\r\n    </g>\r\n   </g>\r\n   <g id=\"PathCollection_500\">\r\n    <g clip-path=\"url(#pd56d66fd56)\">\r\n     <use style=\"fill:#17becf;stroke:#17becf;\" x=\"344.721365\" xlink:href=\"#m71c11360e5\" y=\"28.739294\"/>\r\n    </g>\r\n   </g>\r\n   <g id=\"matplotlib.axis_1\">\r\n    <g id=\"xtick_1\">\r\n     <g id=\"line2d_1\">\r\n      <defs>\r\n       <path d=\"M 0 0 \r\nL 0 3.5 \r\n\" id=\"m1c3fe4a934\" style=\"stroke:#000000;stroke-width:0.8;\"/>\r\n      </defs>\r\n      <g>\r\n       <use style=\"stroke:#000000;stroke-width:0.8;\" x=\"76.368484\" xlink:href=\"#m1c3fe4a934\" y=\"333.36\"/>\r\n      </g>\r\n     </g>\r\n     <g id=\"text_1\">\r\n      <!-- −0.06 -->\r\n      <g transform=\"translate(61.045828 347.958438)scale(0.1 -0.1)\">\r\n       <defs>\r\n        <path d=\"M 10.59375 35.5 \r\nL 73.1875 35.5 \r\nL 73.1875 27.203125 \r\nL 10.59375 27.203125 \r\nz\r\n\" id=\"DejaVuSans-8722\"/>\r\n        <path d=\"M 31.78125 66.40625 \r\nQ 24.171875 66.40625 20.328125 58.90625 \r\nQ 16.5 51.421875 16.5 36.375 \r\nQ 16.5 21.390625 20.328125 13.890625 \r\nQ 24.171875 6.390625 31.78125 6.390625 \r\nQ 39.453125 6.390625 43.28125 13.890625 \r\nQ 47.125 21.390625 47.125 36.375 \r\nQ 47.125 51.421875 43.28125 58.90625 \r\nQ 39.453125 66.40625 31.78125 66.40625 \r\nz\r\nM 31.78125 74.21875 \r\nQ 44.046875 74.21875 50.515625 64.515625 \r\nQ 56.984375 54.828125 56.984375 36.375 \r\nQ 56.984375 17.96875 50.515625 8.265625 \r\nQ 44.046875 -1.421875 31.78125 -1.421875 \r\nQ 19.53125 -1.421875 13.0625 8.265625 \r\nQ 6.59375 17.96875 6.59375 36.375 \r\nQ 6.59375 54.828125 13.0625 64.515625 \r\nQ 19.53125 74.21875 31.78125 74.21875 \r\nz\r\n\" id=\"DejaVuSans-48\"/>\r\n        <path d=\"M 10.6875 12.40625 \r\nL 21 12.40625 \r\nL 21 0 \r\nL 10.6875 0 \r\nz\r\n\" id=\"DejaVuSans-46\"/>\r\n        <path d=\"M 33.015625 40.375 \r\nQ 26.375 40.375 22.484375 35.828125 \r\nQ 18.609375 31.296875 18.609375 23.390625 \r\nQ 18.609375 15.53125 22.484375 10.953125 \r\nQ 26.375 6.390625 33.015625 6.390625 \r\nQ 39.65625 6.390625 43.53125 10.953125 \r\nQ 47.40625 15.53125 47.40625 23.390625 \r\nQ 47.40625 31.296875 43.53125 35.828125 \r\nQ 39.65625 40.375 33.015625 40.375 \r\nz\r\nM 52.59375 71.296875 \r\nL 52.59375 62.3125 \r\nQ 48.875 64.0625 45.09375 64.984375 \r\nQ 41.3125 65.921875 37.59375 65.921875 \r\nQ 27.828125 65.921875 22.671875 59.328125 \r\nQ 17.53125 52.734375 16.796875 39.40625 \r\nQ 19.671875 43.65625 24.015625 45.921875 \r\nQ 28.375 48.1875 33.59375 48.1875 \r\nQ 44.578125 48.1875 50.953125 41.515625 \r\nQ 57.328125 34.859375 57.328125 23.390625 \r\nQ 57.328125 12.15625 50.6875 5.359375 \r\nQ 44.046875 -1.421875 33.015625 -1.421875 \r\nQ 20.359375 -1.421875 13.671875 8.265625 \r\nQ 6.984375 17.96875 6.984375 36.375 \r\nQ 6.984375 53.65625 15.1875 63.9375 \r\nQ 23.390625 74.21875 37.203125 74.21875 \r\nQ 40.921875 74.21875 44.703125 73.484375 \r\nQ 48.484375 72.75 52.59375 71.296875 \r\nz\r\n\" id=\"DejaVuSans-54\"/>\r\n       </defs>\r\n       <use xlink:href=\"#DejaVuSans-8722\"/>\r\n       <use x=\"83.789062\" xlink:href=\"#DejaVuSans-48\"/>\r\n       <use x=\"147.412109\" xlink:href=\"#DejaVuSans-46\"/>\r\n       <use x=\"179.199219\" xlink:href=\"#DejaVuSans-48\"/>\r\n       <use x=\"242.822266\" xlink:href=\"#DejaVuSans-54\"/>\r\n      </g>\r\n     </g>\r\n    </g>\r\n    <g id=\"xtick_2\">\r\n     <g id=\"line2d_2\">\r\n      <g>\r\n       <use style=\"stroke:#000000;stroke-width:0.8;\" x=\"127.030694\" xlink:href=\"#m1c3fe4a934\" y=\"333.36\"/>\r\n      </g>\r\n     </g>\r\n     <g id=\"text_2\">\r\n      <!-- −0.04 -->\r\n      <g transform=\"translate(111.708038 347.958438)scale(0.1 -0.1)\">\r\n       <defs>\r\n        <path d=\"M 37.796875 64.3125 \r\nL 12.890625 25.390625 \r\nL 37.796875 25.390625 \r\nz\r\nM 35.203125 72.90625 \r\nL 47.609375 72.90625 \r\nL 47.609375 25.390625 \r\nL 58.015625 25.390625 \r\nL 58.015625 17.1875 \r\nL 47.609375 17.1875 \r\nL 47.609375 0 \r\nL 37.796875 0 \r\nL 37.796875 17.1875 \r\nL 4.890625 17.1875 \r\nL 4.890625 26.703125 \r\nz\r\n\" id=\"DejaVuSans-52\"/>\r\n       </defs>\r\n       <use xlink:href=\"#DejaVuSans-8722\"/>\r\n       <use x=\"83.789062\" xlink:href=\"#DejaVuSans-48\"/>\r\n       <use x=\"147.412109\" xlink:href=\"#DejaVuSans-46\"/>\r\n       <use x=\"179.199219\" xlink:href=\"#DejaVuSans-48\"/>\r\n       <use x=\"242.822266\" xlink:href=\"#DejaVuSans-52\"/>\r\n      </g>\r\n     </g>\r\n    </g>\r\n    <g id=\"xtick_3\">\r\n     <g id=\"line2d_3\">\r\n      <g>\r\n       <use style=\"stroke:#000000;stroke-width:0.8;\" x=\"177.692905\" xlink:href=\"#m1c3fe4a934\" y=\"333.36\"/>\r\n      </g>\r\n     </g>\r\n     <g id=\"text_3\">\r\n      <!-- −0.02 -->\r\n      <g transform=\"translate(162.370248 347.958438)scale(0.1 -0.1)\">\r\n       <defs>\r\n        <path d=\"M 19.1875 8.296875 \r\nL 53.609375 8.296875 \r\nL 53.609375 0 \r\nL 7.328125 0 \r\nL 7.328125 8.296875 \r\nQ 12.9375 14.109375 22.625 23.890625 \r\nQ 32.328125 33.6875 34.8125 36.53125 \r\nQ 39.546875 41.84375 41.421875 45.53125 \r\nQ 43.3125 49.21875 43.3125 52.78125 \r\nQ 43.3125 58.59375 39.234375 62.25 \r\nQ 35.15625 65.921875 28.609375 65.921875 \r\nQ 23.96875 65.921875 18.8125 64.3125 \r\nQ 13.671875 62.703125 7.8125 59.421875 \r\nL 7.8125 69.390625 \r\nQ 13.765625 71.78125 18.9375 73 \r\nQ 24.125 74.21875 28.421875 74.21875 \r\nQ 39.75 74.21875 46.484375 68.546875 \r\nQ 53.21875 62.890625 53.21875 53.421875 \r\nQ 53.21875 48.921875 51.53125 44.890625 \r\nQ 49.859375 40.875 45.40625 35.40625 \r\nQ 44.1875 33.984375 37.640625 27.21875 \r\nQ 31.109375 20.453125 19.1875 8.296875 \r\nz\r\n\" id=\"DejaVuSans-50\"/>\r\n       </defs>\r\n       <use xlink:href=\"#DejaVuSans-8722\"/>\r\n       <use x=\"83.789062\" xlink:href=\"#DejaVuSans-48\"/>\r\n       <use x=\"147.412109\" xlink:href=\"#DejaVuSans-46\"/>\r\n       <use x=\"179.199219\" xlink:href=\"#DejaVuSans-48\"/>\r\n       <use x=\"242.822266\" xlink:href=\"#DejaVuSans-50\"/>\r\n      </g>\r\n     </g>\r\n    </g>\r\n    <g id=\"xtick_4\">\r\n     <g id=\"line2d_4\">\r\n      <g>\r\n       <use style=\"stroke:#000000;stroke-width:0.8;\" x=\"228.355115\" xlink:href=\"#m1c3fe4a934\" y=\"333.36\"/>\r\n      </g>\r\n     </g>\r\n     <g id=\"text_4\">\r\n      <!-- 0.00 -->\r\n      <g transform=\"translate(217.222302 347.958438)scale(0.1 -0.1)\">\r\n       <use xlink:href=\"#DejaVuSans-48\"/>\r\n       <use x=\"63.623047\" xlink:href=\"#DejaVuSans-46\"/>\r\n       <use x=\"95.410156\" xlink:href=\"#DejaVuSans-48\"/>\r\n       <use x=\"159.033203\" xlink:href=\"#DejaVuSans-48\"/>\r\n      </g>\r\n     </g>\r\n    </g>\r\n    <g id=\"xtick_5\">\r\n     <g id=\"line2d_5\">\r\n      <g>\r\n       <use style=\"stroke:#000000;stroke-width:0.8;\" x=\"279.017325\" xlink:href=\"#m1c3fe4a934\" y=\"333.36\"/>\r\n      </g>\r\n     </g>\r\n     <g id=\"text_5\">\r\n      <!-- 0.02 -->\r\n      <g transform=\"translate(267.884513 347.958438)scale(0.1 -0.1)\">\r\n       <use xlink:href=\"#DejaVuSans-48\"/>\r\n       <use x=\"63.623047\" xlink:href=\"#DejaVuSans-46\"/>\r\n       <use x=\"95.410156\" xlink:href=\"#DejaVuSans-48\"/>\r\n       <use x=\"159.033203\" xlink:href=\"#DejaVuSans-50\"/>\r\n      </g>\r\n     </g>\r\n    </g>\r\n    <g id=\"xtick_6\">\r\n     <g id=\"line2d_6\">\r\n      <g>\r\n       <use style=\"stroke:#000000;stroke-width:0.8;\" x=\"329.679535\" xlink:href=\"#m1c3fe4a934\" y=\"333.36\"/>\r\n      </g>\r\n     </g>\r\n     <g id=\"text_6\">\r\n      <!-- 0.04 -->\r\n      <g transform=\"translate(318.546723 347.958438)scale(0.1 -0.1)\">\r\n       <use xlink:href=\"#DejaVuSans-48\"/>\r\n       <use x=\"63.623047\" xlink:href=\"#DejaVuSans-46\"/>\r\n       <use x=\"95.410156\" xlink:href=\"#DejaVuSans-48\"/>\r\n       <use x=\"159.033203\" xlink:href=\"#DejaVuSans-52\"/>\r\n      </g>\r\n     </g>\r\n    </g>\r\n   </g>\r\n   <g id=\"matplotlib.axis_2\">\r\n    <g id=\"ytick_1\">\r\n     <g id=\"line2d_7\">\r\n      <defs>\r\n       <path d=\"M 0 0 \r\nL -3.5 0 \r\n\" id=\"m55eb7d6a9a\" style=\"stroke:#000000;stroke-width:0.8;\"/>\r\n      </defs>\r\n      <g>\r\n       <use style=\"stroke:#000000;stroke-width:0.8;\" x=\"44.845313\" xlink:href=\"#m55eb7d6a9a\" y=\"321.010703\"/>\r\n      </g>\r\n     </g>\r\n     <g id=\"text_7\">\r\n      <!-- −0.08 -->\r\n      <g transform=\"translate(7.2 324.809922)scale(0.1 -0.1)\">\r\n       <defs>\r\n        <path d=\"M 31.78125 34.625 \r\nQ 24.75 34.625 20.71875 30.859375 \r\nQ 16.703125 27.09375 16.703125 20.515625 \r\nQ 16.703125 13.921875 20.71875 10.15625 \r\nQ 24.75 6.390625 31.78125 6.390625 \r\nQ 38.8125 6.390625 42.859375 10.171875 \r\nQ 46.921875 13.96875 46.921875 20.515625 \r\nQ 46.921875 27.09375 42.890625 30.859375 \r\nQ 38.875 34.625 31.78125 34.625 \r\nz\r\nM 21.921875 38.8125 \r\nQ 15.578125 40.375 12.03125 44.71875 \r\nQ 8.5 49.078125 8.5 55.328125 \r\nQ 8.5 64.0625 14.71875 69.140625 \r\nQ 20.953125 74.21875 31.78125 74.21875 \r\nQ 42.671875 74.21875 48.875 69.140625 \r\nQ 55.078125 64.0625 55.078125 55.328125 \r\nQ 55.078125 49.078125 51.53125 44.71875 \r\nQ 48 40.375 41.703125 38.8125 \r\nQ 48.828125 37.15625 52.796875 32.3125 \r\nQ 56.78125 27.484375 56.78125 20.515625 \r\nQ 56.78125 9.90625 50.3125 4.234375 \r\nQ 43.84375 -1.421875 31.78125 -1.421875 \r\nQ 19.734375 -1.421875 13.25 4.234375 \r\nQ 6.78125 9.90625 6.78125 20.515625 \r\nQ 6.78125 27.484375 10.78125 32.3125 \r\nQ 14.796875 37.15625 21.921875 38.8125 \r\nz\r\nM 18.3125 54.390625 \r\nQ 18.3125 48.734375 21.84375 45.5625 \r\nQ 25.390625 42.390625 31.78125 42.390625 \r\nQ 38.140625 42.390625 41.71875 45.5625 \r\nQ 45.3125 48.734375 45.3125 54.390625 \r\nQ 45.3125 60.0625 41.71875 63.234375 \r\nQ 38.140625 66.40625 31.78125 66.40625 \r\nQ 25.390625 66.40625 21.84375 63.234375 \r\nQ 18.3125 60.0625 18.3125 54.390625 \r\nz\r\n\" id=\"DejaVuSans-56\"/>\r\n       </defs>\r\n       <use xlink:href=\"#DejaVuSans-8722\"/>\r\n       <use x=\"83.789062\" xlink:href=\"#DejaVuSans-48\"/>\r\n       <use x=\"147.412109\" xlink:href=\"#DejaVuSans-46\"/>\r\n       <use x=\"179.199219\" xlink:href=\"#DejaVuSans-48\"/>\r\n       <use x=\"242.822266\" xlink:href=\"#DejaVuSans-56\"/>\r\n      </g>\r\n     </g>\r\n    </g>\r\n    <g id=\"ytick_2\">\r\n     <g id=\"line2d_8\">\r\n      <g>\r\n       <use style=\"stroke:#000000;stroke-width:0.8;\" x=\"44.845313\" xlink:href=\"#m55eb7d6a9a\" y=\"283.109342\"/>\r\n      </g>\r\n     </g>\r\n     <g id=\"text_8\">\r\n      <!-- −0.06 -->\r\n      <g transform=\"translate(7.2 286.908561)scale(0.1 -0.1)\">\r\n       <use xlink:href=\"#DejaVuSans-8722\"/>\r\n       <use x=\"83.789062\" xlink:href=\"#DejaVuSans-48\"/>\r\n       <use x=\"147.412109\" xlink:href=\"#DejaVuSans-46\"/>\r\n       <use x=\"179.199219\" xlink:href=\"#DejaVuSans-48\"/>\r\n       <use x=\"242.822266\" xlink:href=\"#DejaVuSans-54\"/>\r\n      </g>\r\n     </g>\r\n    </g>\r\n    <g id=\"ytick_3\">\r\n     <g id=\"line2d_9\">\r\n      <g>\r\n       <use style=\"stroke:#000000;stroke-width:0.8;\" x=\"44.845313\" xlink:href=\"#m55eb7d6a9a\" y=\"245.207981\"/>\r\n      </g>\r\n     </g>\r\n     <g id=\"text_9\">\r\n      <!-- −0.04 -->\r\n      <g transform=\"translate(7.2 249.0072)scale(0.1 -0.1)\">\r\n       <use xlink:href=\"#DejaVuSans-8722\"/>\r\n       <use x=\"83.789062\" xlink:href=\"#DejaVuSans-48\"/>\r\n       <use x=\"147.412109\" xlink:href=\"#DejaVuSans-46\"/>\r\n       <use x=\"179.199219\" xlink:href=\"#DejaVuSans-48\"/>\r\n       <use x=\"242.822266\" xlink:href=\"#DejaVuSans-52\"/>\r\n      </g>\r\n     </g>\r\n    </g>\r\n    <g id=\"ytick_4\">\r\n     <g id=\"line2d_10\">\r\n      <g>\r\n       <use style=\"stroke:#000000;stroke-width:0.8;\" x=\"44.845313\" xlink:href=\"#m55eb7d6a9a\" y=\"207.30662\"/>\r\n      </g>\r\n     </g>\r\n     <g id=\"text_10\">\r\n      <!-- −0.02 -->\r\n      <g transform=\"translate(7.2 211.105839)scale(0.1 -0.1)\">\r\n       <use xlink:href=\"#DejaVuSans-8722\"/>\r\n       <use x=\"83.789062\" xlink:href=\"#DejaVuSans-48\"/>\r\n       <use x=\"147.412109\" xlink:href=\"#DejaVuSans-46\"/>\r\n       <use x=\"179.199219\" xlink:href=\"#DejaVuSans-48\"/>\r\n       <use x=\"242.822266\" xlink:href=\"#DejaVuSans-50\"/>\r\n      </g>\r\n     </g>\r\n    </g>\r\n    <g id=\"ytick_5\">\r\n     <g id=\"line2d_11\">\r\n      <g>\r\n       <use style=\"stroke:#000000;stroke-width:0.8;\" x=\"44.845313\" xlink:href=\"#m55eb7d6a9a\" y=\"169.405259\"/>\r\n      </g>\r\n     </g>\r\n     <g id=\"text_11\">\r\n      <!-- 0.00 -->\r\n      <g transform=\"translate(15.579688 173.204478)scale(0.1 -0.1)\">\r\n       <use xlink:href=\"#DejaVuSans-48\"/>\r\n       <use x=\"63.623047\" xlink:href=\"#DejaVuSans-46\"/>\r\n       <use x=\"95.410156\" xlink:href=\"#DejaVuSans-48\"/>\r\n       <use x=\"159.033203\" xlink:href=\"#DejaVuSans-48\"/>\r\n      </g>\r\n     </g>\r\n    </g>\r\n    <g id=\"ytick_6\">\r\n     <g id=\"line2d_12\">\r\n      <g>\r\n       <use style=\"stroke:#000000;stroke-width:0.8;\" x=\"44.845313\" xlink:href=\"#m55eb7d6a9a\" y=\"131.503898\"/>\r\n      </g>\r\n     </g>\r\n     <g id=\"text_12\">\r\n      <!-- 0.02 -->\r\n      <g transform=\"translate(15.579688 135.303117)scale(0.1 -0.1)\">\r\n       <use xlink:href=\"#DejaVuSans-48\"/>\r\n       <use x=\"63.623047\" xlink:href=\"#DejaVuSans-46\"/>\r\n       <use x=\"95.410156\" xlink:href=\"#DejaVuSans-48\"/>\r\n       <use x=\"159.033203\" xlink:href=\"#DejaVuSans-50\"/>\r\n      </g>\r\n     </g>\r\n    </g>\r\n    <g id=\"ytick_7\">\r\n     <g id=\"line2d_13\">\r\n      <g>\r\n       <use style=\"stroke:#000000;stroke-width:0.8;\" x=\"44.845313\" xlink:href=\"#m55eb7d6a9a\" y=\"93.602537\"/>\r\n      </g>\r\n     </g>\r\n     <g id=\"text_13\">\r\n      <!-- 0.04 -->\r\n      <g transform=\"translate(15.579688 97.401756)scale(0.1 -0.1)\">\r\n       <use xlink:href=\"#DejaVuSans-48\"/>\r\n       <use x=\"63.623047\" xlink:href=\"#DejaVuSans-46\"/>\r\n       <use x=\"95.410156\" xlink:href=\"#DejaVuSans-48\"/>\r\n       <use x=\"159.033203\" xlink:href=\"#DejaVuSans-52\"/>\r\n      </g>\r\n     </g>\r\n    </g>\r\n    <g id=\"ytick_8\">\r\n     <g id=\"line2d_14\">\r\n      <g>\r\n       <use style=\"stroke:#000000;stroke-width:0.8;\" x=\"44.845313\" xlink:href=\"#m55eb7d6a9a\" y=\"55.701176\"/>\r\n      </g>\r\n     </g>\r\n     <g id=\"text_14\">\r\n      <!-- 0.06 -->\r\n      <g transform=\"translate(15.579688 59.500395)scale(0.1 -0.1)\">\r\n       <use xlink:href=\"#DejaVuSans-48\"/>\r\n       <use x=\"63.623047\" xlink:href=\"#DejaVuSans-46\"/>\r\n       <use x=\"95.410156\" xlink:href=\"#DejaVuSans-48\"/>\r\n       <use x=\"159.033203\" xlink:href=\"#DejaVuSans-54\"/>\r\n      </g>\r\n     </g>\r\n    </g>\r\n    <g id=\"ytick_9\">\r\n     <g id=\"line2d_15\">\r\n      <g>\r\n       <use style=\"stroke:#000000;stroke-width:0.8;\" x=\"44.845313\" xlink:href=\"#m55eb7d6a9a\" y=\"17.799816\"/>\r\n      </g>\r\n     </g>\r\n     <g id=\"text_15\">\r\n      <!-- 0.08 -->\r\n      <g transform=\"translate(15.579688 21.599034)scale(0.1 -0.1)\">\r\n       <use xlink:href=\"#DejaVuSans-48\"/>\r\n       <use x=\"63.623047\" xlink:href=\"#DejaVuSans-46\"/>\r\n       <use x=\"95.410156\" xlink:href=\"#DejaVuSans-48\"/>\r\n       <use x=\"159.033203\" xlink:href=\"#DejaVuSans-56\"/>\r\n      </g>\r\n     </g>\r\n    </g>\r\n   </g>\r\n   <g id=\"patch_3\">\r\n    <path d=\"M 44.845313 333.36 \r\nL 44.845313 7.2 \r\n\" style=\"fill:none;stroke:#000000;stroke-linecap:square;stroke-linejoin:miter;stroke-width:0.8;\"/>\r\n   </g>\r\n   <g id=\"patch_4\">\r\n    <path d=\"M 379.645313 333.36 \r\nL 379.645313 7.2 \r\n\" style=\"fill:none;stroke:#000000;stroke-linecap:square;stroke-linejoin:miter;stroke-width:0.8;\"/>\r\n   </g>\r\n   <g id=\"patch_5\">\r\n    <path d=\"M 44.845312 333.36 \r\nL 379.645313 333.36 \r\n\" style=\"fill:none;stroke:#000000;stroke-linecap:square;stroke-linejoin:miter;stroke-width:0.8;\"/>\r\n   </g>\r\n   <g id=\"patch_6\">\r\n    <path d=\"M 44.845312 7.2 \r\nL 379.645313 7.2 \r\n\" style=\"fill:none;stroke:#000000;stroke-linecap:square;stroke-linejoin:miter;stroke-width:0.8;\"/>\r\n   </g>\r\n  </g>\r\n </g>\r\n <defs>\r\n  <clipPath id=\"pd56d66fd56\">\r\n   <rect height=\"326.16\" width=\"334.8\" x=\"44.845313\" y=\"7.2\"/>\r\n  </clipPath>\r\n </defs>\r\n</svg>\r\n",
      "text/plain": [
       "<Figure size 432x432 with 1 Axes>"
      ]
     },
     "metadata": {
      "needs_background": "light"
     },
     "output_type": "display_data"
    }
   ],
   "source": [
    "DR_X=le(X,2,5,1)\n",
    "plt.figure(figsize=[6,6])\n",
    "for i in np.unique(t):\n",
    "    plt.scatter(DR_X[t==i,0],DR_X[t==i,1])"
   ]
  },
  {
   "cell_type": "markdown",
   "metadata": {},
   "source": []
  },
  {
   "cell_type": "markdown",
   "metadata": {},
   "source": [
    "## 调包Laplacian Eigenmaps"
   ]
  },
  {
   "cell_type": "code",
   "execution_count": 20,
   "metadata": {},
   "outputs": [
    {
     "name": "stderr",
     "output_type": "stream",
     "text": [
      "D:\\app\\Anaconda3\\lib\\site-packages\\sklearn\\manifold\\_spectral_embedding.py:236: UserWarning: Graph is not fully connected, spectral embedding may not work as expected.\n",
      "  warnings.warn(\"Graph is not fully connected, spectral embedding\"\n"
     ]
    },
    {
     "data": {
      "text/plain": [
       "Text(0.5, 1.0, 'LE')"
      ]
     },
     "execution_count": 20,
     "metadata": {},
     "output_type": "execute_result"
    },
    {
     "data": {
      "image/svg+xml": "<?xml version=\"1.0\" encoding=\"utf-8\" standalone=\"no\"?>\r\n<!DOCTYPE svg PUBLIC \"-//W3C//DTD SVG 1.1//EN\"\r\n  \"http://www.w3.org/Graphics/SVG/1.1/DTD/svg11.dtd\">\r\n<!-- Created with matplotlib (https://matplotlib.org/) -->\r\n<svg height=\"317.99625pt\" version=\"1.1\" viewBox=\"0 0 331.045312 317.99625\" width=\"331.045312pt\" xmlns=\"http://www.w3.org/2000/svg\" xmlns:xlink=\"http://www.w3.org/1999/xlink\">\r\n <metadata>\r\n  <rdf:RDF xmlns:cc=\"http://creativecommons.org/ns#\" xmlns:dc=\"http://purl.org/dc/elements/1.1/\" xmlns:rdf=\"http://www.w3.org/1999/02/22-rdf-syntax-ns#\">\r\n   <cc:Work>\r\n    <dc:type rdf:resource=\"http://purl.org/dc/dcmitype/StillImage\"/>\r\n    <dc:date>2022-06-28T09:00:58.513263</dc:date>\r\n    <dc:format>image/svg+xml</dc:format>\r\n    <dc:creator>\r\n     <cc:Agent>\r\n      <dc:title>Matplotlib v3.3.2, https://matplotlib.org/</dc:title>\r\n     </cc:Agent>\r\n    </dc:creator>\r\n   </cc:Work>\r\n  </rdf:RDF>\r\n </metadata>\r\n <defs>\r\n  <style type=\"text/css\">*{stroke-linecap:butt;stroke-linejoin:round;}</style>\r\n </defs>\r\n <g id=\"figure_1\">\r\n  <g id=\"patch_1\">\r\n   <path d=\"M 0 317.99625 \r\nL 331.045312 317.99625 \r\nL 331.045312 0 \r\nL 0 0 \r\nz\r\n\" style=\"fill:none;\"/>\r\n  </g>\r\n  <g id=\"axes_1\">\r\n   <g id=\"patch_2\">\r\n    <path d=\"M 44.845313 294.118125 \r\nL 323.845312 294.118125 \r\nL 323.845312 22.318125 \r\nL 44.845313 22.318125 \r\nz\r\n\" style=\"fill:#ffffff;\"/>\r\n   </g>\r\n   <g id=\"PathCollection_1\">\r\n    <defs>\r\n     <path d=\"M 0 2.236068 \r\nC 0.593012 2.236068 1.161816 2.000462 1.581139 1.581139 \r\nC 2.000462 1.161816 2.236068 0.593012 2.236068 0 \r\nC 2.236068 -0.593012 2.000462 -1.161816 1.581139 -1.581139 \r\nC 1.161816 -2.000462 0.593012 -2.236068 0 -2.236068 \r\nC -0.593012 -2.236068 -1.161816 -2.000462 -1.581139 -1.581139 \r\nC -2.000462 -1.161816 -2.236068 -0.593012 -2.236068 0 \r\nC -2.236068 0.593012 -2.000462 1.161816 -1.581139 1.581139 \r\nC -1.161816 2.000462 -0.593012 2.236068 0 2.236068 \r\nz\r\n\" id=\"m1b06c7020f\" style=\"stroke:#1f77b4;\"/>\r\n    </defs>\r\n    <g clip-path=\"url(#p90a814f91a)\">\r\n     <use style=\"fill:#1f77b4;stroke:#1f77b4;\" x=\"311.163494\" xlink:href=\"#m1b06c7020f\" y=\"209.688804\"/>\r\n     <use style=\"fill:#1f77b4;stroke:#1f77b4;\" x=\"311.163494\" xlink:href=\"#m1b06c7020f\" y=\"209.688804\"/>\r\n     <use style=\"fill:#1f77b4;stroke:#1f77b4;\" x=\"311.163494\" xlink:href=\"#m1b06c7020f\" y=\"209.688804\"/>\r\n     <use style=\"fill:#1f77b4;stroke:#1f77b4;\" x=\"311.163494\" xlink:href=\"#m1b06c7020f\" y=\"209.688804\"/>\r\n     <use style=\"fill:#1f77b4;stroke:#1f77b4;\" x=\"311.163494\" xlink:href=\"#m1b06c7020f\" y=\"209.688804\"/>\r\n     <use style=\"fill:#1f77b4;stroke:#1f77b4;\" x=\"311.163494\" xlink:href=\"#m1b06c7020f\" y=\"209.688804\"/>\r\n     <use style=\"fill:#1f77b4;stroke:#1f77b4;\" x=\"311.163494\" xlink:href=\"#m1b06c7020f\" y=\"209.688804\"/>\r\n     <use style=\"fill:#1f77b4;stroke:#1f77b4;\" x=\"311.163494\" xlink:href=\"#m1b06c7020f\" y=\"209.688804\"/>\r\n     <use style=\"fill:#1f77b4;stroke:#1f77b4;\" x=\"311.163494\" xlink:href=\"#m1b06c7020f\" y=\"209.688804\"/>\r\n     <use style=\"fill:#1f77b4;stroke:#1f77b4;\" x=\"311.163494\" xlink:href=\"#m1b06c7020f\" y=\"209.688804\"/>\r\n     <use style=\"fill:#1f77b4;stroke:#1f77b4;\" x=\"311.163494\" xlink:href=\"#m1b06c7020f\" y=\"209.688804\"/>\r\n     <use style=\"fill:#1f77b4;stroke:#1f77b4;\" x=\"311.163494\" xlink:href=\"#m1b06c7020f\" y=\"209.688804\"/>\r\n     <use style=\"fill:#1f77b4;stroke:#1f77b4;\" x=\"311.163494\" xlink:href=\"#m1b06c7020f\" y=\"209.688804\"/>\r\n     <use style=\"fill:#1f77b4;stroke:#1f77b4;\" x=\"311.163494\" xlink:href=\"#m1b06c7020f\" y=\"209.688804\"/>\r\n     <use style=\"fill:#1f77b4;stroke:#1f77b4;\" x=\"311.163494\" xlink:href=\"#m1b06c7020f\" y=\"209.688804\"/>\r\n     <use style=\"fill:#1f77b4;stroke:#1f77b4;\" x=\"311.163494\" xlink:href=\"#m1b06c7020f\" y=\"209.688804\"/>\r\n     <use style=\"fill:#1f77b4;stroke:#1f77b4;\" x=\"311.163494\" xlink:href=\"#m1b06c7020f\" y=\"209.688804\"/>\r\n     <use style=\"fill:#1f77b4;stroke:#1f77b4;\" x=\"311.163494\" xlink:href=\"#m1b06c7020f\" y=\"209.688804\"/>\r\n     <use style=\"fill:#1f77b4;stroke:#1f77b4;\" x=\"311.163494\" xlink:href=\"#m1b06c7020f\" y=\"209.688804\"/>\r\n     <use style=\"fill:#1f77b4;stroke:#1f77b4;\" x=\"311.163494\" xlink:href=\"#m1b06c7020f\" y=\"209.688804\"/>\r\n     <use style=\"fill:#1f77b4;stroke:#1f77b4;\" x=\"311.163494\" xlink:href=\"#m1b06c7020f\" y=\"209.688804\"/>\r\n     <use style=\"fill:#1f77b4;stroke:#1f77b4;\" x=\"311.163494\" xlink:href=\"#m1b06c7020f\" y=\"209.688804\"/>\r\n     <use style=\"fill:#1f77b4;stroke:#1f77b4;\" x=\"311.163494\" xlink:href=\"#m1b06c7020f\" y=\"209.688804\"/>\r\n     <use style=\"fill:#1f77b4;stroke:#1f77b4;\" x=\"311.163494\" xlink:href=\"#m1b06c7020f\" y=\"209.688804\"/>\r\n     <use style=\"fill:#1f77b4;stroke:#1f77b4;\" x=\"311.163494\" xlink:href=\"#m1b06c7020f\" y=\"209.688804\"/>\r\n     <use style=\"fill:#1f77b4;stroke:#1f77b4;\" x=\"311.163494\" xlink:href=\"#m1b06c7020f\" y=\"209.688804\"/>\r\n     <use style=\"fill:#1f77b4;stroke:#1f77b4;\" x=\"311.163494\" xlink:href=\"#m1b06c7020f\" y=\"209.688804\"/>\r\n     <use style=\"fill:#1f77b4;stroke:#1f77b4;\" x=\"311.163494\" xlink:href=\"#m1b06c7020f\" y=\"209.688804\"/>\r\n     <use style=\"fill:#1f77b4;stroke:#1f77b4;\" x=\"311.163494\" xlink:href=\"#m1b06c7020f\" y=\"209.688804\"/>\r\n     <use style=\"fill:#1f77b4;stroke:#1f77b4;\" x=\"311.163494\" xlink:href=\"#m1b06c7020f\" y=\"209.688804\"/>\r\n     <use style=\"fill:#1f77b4;stroke:#1f77b4;\" x=\"311.163494\" xlink:href=\"#m1b06c7020f\" y=\"209.688804\"/>\r\n     <use style=\"fill:#1f77b4;stroke:#1f77b4;\" x=\"311.163494\" xlink:href=\"#m1b06c7020f\" y=\"209.688804\"/>\r\n     <use style=\"fill:#1f77b4;stroke:#1f77b4;\" x=\"311.163494\" xlink:href=\"#m1b06c7020f\" y=\"209.688804\"/>\r\n     <use style=\"fill:#1f77b4;stroke:#1f77b4;\" x=\"311.163494\" xlink:href=\"#m1b06c7020f\" y=\"209.688804\"/>\r\n     <use style=\"fill:#1f77b4;stroke:#1f77b4;\" x=\"311.163494\" xlink:href=\"#m1b06c7020f\" y=\"209.688804\"/>\r\n     <use style=\"fill:#1f77b4;stroke:#1f77b4;\" x=\"311.163494\" xlink:href=\"#m1b06c7020f\" y=\"209.688804\"/>\r\n     <use style=\"fill:#1f77b4;stroke:#1f77b4;\" x=\"311.163494\" xlink:href=\"#m1b06c7020f\" y=\"209.688804\"/>\r\n     <use style=\"fill:#1f77b4;stroke:#1f77b4;\" x=\"311.163494\" xlink:href=\"#m1b06c7020f\" y=\"209.688804\"/>\r\n     <use style=\"fill:#1f77b4;stroke:#1f77b4;\" x=\"311.163494\" xlink:href=\"#m1b06c7020f\" y=\"209.688804\"/>\r\n     <use style=\"fill:#1f77b4;stroke:#1f77b4;\" x=\"311.163494\" xlink:href=\"#m1b06c7020f\" y=\"209.688804\"/>\r\n     <use style=\"fill:#1f77b4;stroke:#1f77b4;\" x=\"311.163494\" xlink:href=\"#m1b06c7020f\" y=\"209.688804\"/>\r\n     <use style=\"fill:#1f77b4;stroke:#1f77b4;\" x=\"311.163494\" xlink:href=\"#m1b06c7020f\" y=\"209.688804\"/>\r\n     <use style=\"fill:#1f77b4;stroke:#1f77b4;\" x=\"311.163494\" xlink:href=\"#m1b06c7020f\" y=\"209.688804\"/>\r\n     <use style=\"fill:#1f77b4;stroke:#1f77b4;\" x=\"311.163494\" xlink:href=\"#m1b06c7020f\" y=\"209.688804\"/>\r\n     <use style=\"fill:#1f77b4;stroke:#1f77b4;\" x=\"311.163494\" xlink:href=\"#m1b06c7020f\" y=\"209.688804\"/>\r\n    </g>\r\n   </g>\r\n   <g id=\"PathCollection_2\">\r\n    <defs>\r\n     <path d=\"M 0 2.236068 \r\nC 0.593012 2.236068 1.161816 2.000462 1.581139 1.581139 \r\nC 2.000462 1.161816 2.236068 0.593012 2.236068 0 \r\nC 2.236068 -0.593012 2.000462 -1.161816 1.581139 -1.581139 \r\nC 1.161816 -2.000462 0.593012 -2.236068 0 -2.236068 \r\nC -0.593012 -2.236068 -1.161816 -2.000462 -1.581139 -1.581139 \r\nC -2.000462 -1.161816 -2.236068 -0.593012 -2.236068 0 \r\nC -2.236068 0.593012 -2.000462 1.161816 -1.581139 1.581139 \r\nC -1.161816 2.000462 -0.593012 2.236068 0 2.236068 \r\nz\r\n\" id=\"mb3a2b5159d\" style=\"stroke:#ff7f0e;\"/>\r\n    </defs>\r\n    <g clip-path=\"url(#p90a814f91a)\">\r\n     <use style=\"fill:#ff7f0e;stroke:#ff7f0e;\" x=\"152.006271\" xlink:href=\"#mb3a2b5159d\" y=\"281.76358\"/>\r\n     <use style=\"fill:#ff7f0e;stroke:#ff7f0e;\" x=\"152.006271\" xlink:href=\"#mb3a2b5159d\" y=\"281.76358\"/>\r\n     <use style=\"fill:#ff7f0e;stroke:#ff7f0e;\" x=\"152.006271\" xlink:href=\"#mb3a2b5159d\" y=\"281.76358\"/>\r\n     <use style=\"fill:#ff7f0e;stroke:#ff7f0e;\" x=\"152.006271\" xlink:href=\"#mb3a2b5159d\" y=\"281.76358\"/>\r\n     <use style=\"fill:#ff7f0e;stroke:#ff7f0e;\" x=\"152.006271\" xlink:href=\"#mb3a2b5159d\" y=\"281.76358\"/>\r\n     <use style=\"fill:#ff7f0e;stroke:#ff7f0e;\" x=\"152.006271\" xlink:href=\"#mb3a2b5159d\" y=\"281.76358\"/>\r\n     <use style=\"fill:#ff7f0e;stroke:#ff7f0e;\" x=\"152.006271\" xlink:href=\"#mb3a2b5159d\" y=\"281.76358\"/>\r\n     <use style=\"fill:#ff7f0e;stroke:#ff7f0e;\" x=\"152.006271\" xlink:href=\"#mb3a2b5159d\" y=\"281.76358\"/>\r\n     <use style=\"fill:#ff7f0e;stroke:#ff7f0e;\" x=\"152.006271\" xlink:href=\"#mb3a2b5159d\" y=\"281.76358\"/>\r\n     <use style=\"fill:#ff7f0e;stroke:#ff7f0e;\" x=\"152.006271\" xlink:href=\"#mb3a2b5159d\" y=\"281.76358\"/>\r\n     <use style=\"fill:#ff7f0e;stroke:#ff7f0e;\" x=\"152.006271\" xlink:href=\"#mb3a2b5159d\" y=\"281.76358\"/>\r\n     <use style=\"fill:#ff7f0e;stroke:#ff7f0e;\" x=\"152.006271\" xlink:href=\"#mb3a2b5159d\" y=\"281.76358\"/>\r\n     <use style=\"fill:#ff7f0e;stroke:#ff7f0e;\" x=\"152.006271\" xlink:href=\"#mb3a2b5159d\" y=\"281.76358\"/>\r\n     <use style=\"fill:#ff7f0e;stroke:#ff7f0e;\" x=\"152.006271\" xlink:href=\"#mb3a2b5159d\" y=\"281.76358\"/>\r\n     <use style=\"fill:#ff7f0e;stroke:#ff7f0e;\" x=\"152.006271\" xlink:href=\"#mb3a2b5159d\" y=\"281.76358\"/>\r\n     <use style=\"fill:#ff7f0e;stroke:#ff7f0e;\" x=\"152.006271\" xlink:href=\"#mb3a2b5159d\" y=\"281.76358\"/>\r\n     <use style=\"fill:#ff7f0e;stroke:#ff7f0e;\" x=\"152.006271\" xlink:href=\"#mb3a2b5159d\" y=\"281.76358\"/>\r\n     <use style=\"fill:#ff7f0e;stroke:#ff7f0e;\" x=\"152.006271\" xlink:href=\"#mb3a2b5159d\" y=\"281.76358\"/>\r\n     <use style=\"fill:#ff7f0e;stroke:#ff7f0e;\" x=\"152.006271\" xlink:href=\"#mb3a2b5159d\" y=\"281.76358\"/>\r\n     <use style=\"fill:#ff7f0e;stroke:#ff7f0e;\" x=\"152.006271\" xlink:href=\"#mb3a2b5159d\" y=\"281.76358\"/>\r\n     <use style=\"fill:#ff7f0e;stroke:#ff7f0e;\" x=\"152.006271\" xlink:href=\"#mb3a2b5159d\" y=\"281.76358\"/>\r\n     <use style=\"fill:#ff7f0e;stroke:#ff7f0e;\" x=\"152.006271\" xlink:href=\"#mb3a2b5159d\" y=\"281.76358\"/>\r\n     <use style=\"fill:#ff7f0e;stroke:#ff7f0e;\" x=\"152.006271\" xlink:href=\"#mb3a2b5159d\" y=\"281.76358\"/>\r\n     <use style=\"fill:#ff7f0e;stroke:#ff7f0e;\" x=\"152.006271\" xlink:href=\"#mb3a2b5159d\" y=\"281.76358\"/>\r\n     <use style=\"fill:#ff7f0e;stroke:#ff7f0e;\" x=\"152.006271\" xlink:href=\"#mb3a2b5159d\" y=\"281.76358\"/>\r\n     <use style=\"fill:#ff7f0e;stroke:#ff7f0e;\" x=\"152.006271\" xlink:href=\"#mb3a2b5159d\" y=\"281.76358\"/>\r\n     <use style=\"fill:#ff7f0e;stroke:#ff7f0e;\" x=\"152.006271\" xlink:href=\"#mb3a2b5159d\" y=\"281.76358\"/>\r\n     <use style=\"fill:#ff7f0e;stroke:#ff7f0e;\" x=\"152.006271\" xlink:href=\"#mb3a2b5159d\" y=\"281.76358\"/>\r\n     <use style=\"fill:#ff7f0e;stroke:#ff7f0e;\" x=\"152.006271\" xlink:href=\"#mb3a2b5159d\" y=\"281.76358\"/>\r\n     <use style=\"fill:#ff7f0e;stroke:#ff7f0e;\" x=\"152.006271\" xlink:href=\"#mb3a2b5159d\" y=\"281.76358\"/>\r\n     <use style=\"fill:#ff7f0e;stroke:#ff7f0e;\" x=\"152.006271\" xlink:href=\"#mb3a2b5159d\" y=\"281.76358\"/>\r\n     <use style=\"fill:#ff7f0e;stroke:#ff7f0e;\" x=\"152.006271\" xlink:href=\"#mb3a2b5159d\" y=\"281.76358\"/>\r\n     <use style=\"fill:#ff7f0e;stroke:#ff7f0e;\" x=\"152.006271\" xlink:href=\"#mb3a2b5159d\" y=\"281.76358\"/>\r\n     <use style=\"fill:#ff7f0e;stroke:#ff7f0e;\" x=\"152.006271\" xlink:href=\"#mb3a2b5159d\" y=\"281.76358\"/>\r\n     <use style=\"fill:#ff7f0e;stroke:#ff7f0e;\" x=\"152.006271\" xlink:href=\"#mb3a2b5159d\" y=\"281.76358\"/>\r\n     <use style=\"fill:#ff7f0e;stroke:#ff7f0e;\" x=\"152.006271\" xlink:href=\"#mb3a2b5159d\" y=\"281.76358\"/>\r\n     <use style=\"fill:#ff7f0e;stroke:#ff7f0e;\" x=\"152.006271\" xlink:href=\"#mb3a2b5159d\" y=\"281.76358\"/>\r\n     <use style=\"fill:#ff7f0e;stroke:#ff7f0e;\" x=\"152.006271\" xlink:href=\"#mb3a2b5159d\" y=\"281.76358\"/>\r\n     <use style=\"fill:#ff7f0e;stroke:#ff7f0e;\" x=\"152.006271\" xlink:href=\"#mb3a2b5159d\" y=\"281.76358\"/>\r\n     <use style=\"fill:#ff7f0e;stroke:#ff7f0e;\" x=\"152.006271\" xlink:href=\"#mb3a2b5159d\" y=\"281.76358\"/>\r\n     <use style=\"fill:#ff7f0e;stroke:#ff7f0e;\" x=\"152.006271\" xlink:href=\"#mb3a2b5159d\" y=\"281.76358\"/>\r\n     <use style=\"fill:#ff7f0e;stroke:#ff7f0e;\" x=\"152.006271\" xlink:href=\"#mb3a2b5159d\" y=\"281.76358\"/>\r\n     <use style=\"fill:#ff7f0e;stroke:#ff7f0e;\" x=\"152.006271\" xlink:href=\"#mb3a2b5159d\" y=\"281.76358\"/>\r\n     <use style=\"fill:#ff7f0e;stroke:#ff7f0e;\" x=\"152.006271\" xlink:href=\"#mb3a2b5159d\" y=\"281.76358\"/>\r\n     <use style=\"fill:#ff7f0e;stroke:#ff7f0e;\" x=\"152.006271\" xlink:href=\"#mb3a2b5159d\" y=\"281.76358\"/>\r\n     <use style=\"fill:#ff7f0e;stroke:#ff7f0e;\" x=\"152.006271\" xlink:href=\"#mb3a2b5159d\" y=\"281.76358\"/>\r\n     <use style=\"fill:#ff7f0e;stroke:#ff7f0e;\" x=\"152.006271\" xlink:href=\"#mb3a2b5159d\" y=\"281.76358\"/>\r\n     <use style=\"fill:#ff7f0e;stroke:#ff7f0e;\" x=\"152.006271\" xlink:href=\"#mb3a2b5159d\" y=\"281.76358\"/>\r\n     <use style=\"fill:#ff7f0e;stroke:#ff7f0e;\" x=\"152.006271\" xlink:href=\"#mb3a2b5159d\" y=\"281.76358\"/>\r\n     <use style=\"fill:#ff7f0e;stroke:#ff7f0e;\" x=\"152.006271\" xlink:href=\"#mb3a2b5159d\" y=\"281.76358\"/>\r\n     <use style=\"fill:#ff7f0e;stroke:#ff7f0e;\" x=\"152.006271\" xlink:href=\"#mb3a2b5159d\" y=\"281.76358\"/>\r\n     <use style=\"fill:#ff7f0e;stroke:#ff7f0e;\" x=\"152.006271\" xlink:href=\"#mb3a2b5159d\" y=\"281.76358\"/>\r\n     <use style=\"fill:#ff7f0e;stroke:#ff7f0e;\" x=\"152.006271\" xlink:href=\"#mb3a2b5159d\" y=\"281.76358\"/>\r\n     <use style=\"fill:#ff7f0e;stroke:#ff7f0e;\" x=\"152.006271\" xlink:href=\"#mb3a2b5159d\" y=\"281.76358\"/>\r\n     <use style=\"fill:#ff7f0e;stroke:#ff7f0e;\" x=\"152.006271\" xlink:href=\"#mb3a2b5159d\" y=\"281.76358\"/>\r\n     <use style=\"fill:#ff7f0e;stroke:#ff7f0e;\" x=\"152.006271\" xlink:href=\"#mb3a2b5159d\" y=\"281.76358\"/>\r\n     <use style=\"fill:#ff7f0e;stroke:#ff7f0e;\" x=\"152.006271\" xlink:href=\"#mb3a2b5159d\" y=\"281.76358\"/>\r\n     <use style=\"fill:#ff7f0e;stroke:#ff7f0e;\" x=\"152.006271\" xlink:href=\"#mb3a2b5159d\" y=\"281.76358\"/>\r\n     <use style=\"fill:#ff7f0e;stroke:#ff7f0e;\" x=\"152.006271\" xlink:href=\"#mb3a2b5159d\" y=\"281.76358\"/>\r\n     <use style=\"fill:#ff7f0e;stroke:#ff7f0e;\" x=\"152.006271\" xlink:href=\"#mb3a2b5159d\" y=\"281.76358\"/>\r\n     <use style=\"fill:#ff7f0e;stroke:#ff7f0e;\" x=\"152.006271\" xlink:href=\"#mb3a2b5159d\" y=\"281.76358\"/>\r\n     <use style=\"fill:#ff7f0e;stroke:#ff7f0e;\" x=\"152.006271\" xlink:href=\"#mb3a2b5159d\" y=\"281.76358\"/>\r\n     <use style=\"fill:#ff7f0e;stroke:#ff7f0e;\" x=\"152.006271\" xlink:href=\"#mb3a2b5159d\" y=\"281.76358\"/>\r\n     <use style=\"fill:#ff7f0e;stroke:#ff7f0e;\" x=\"152.006271\" xlink:href=\"#mb3a2b5159d\" y=\"281.76358\"/>\r\n     <use style=\"fill:#ff7f0e;stroke:#ff7f0e;\" x=\"152.006271\" xlink:href=\"#mb3a2b5159d\" y=\"281.76358\"/>\r\n     <use style=\"fill:#ff7f0e;stroke:#ff7f0e;\" x=\"152.006271\" xlink:href=\"#mb3a2b5159d\" y=\"281.76358\"/>\r\n     <use style=\"fill:#ff7f0e;stroke:#ff7f0e;\" x=\"152.006271\" xlink:href=\"#mb3a2b5159d\" y=\"281.76358\"/>\r\n     <use style=\"fill:#ff7f0e;stroke:#ff7f0e;\" x=\"152.006271\" xlink:href=\"#mb3a2b5159d\" y=\"281.76358\"/>\r\n     <use style=\"fill:#ff7f0e;stroke:#ff7f0e;\" x=\"152.006271\" xlink:href=\"#mb3a2b5159d\" y=\"281.76358\"/>\r\n     <use style=\"fill:#ff7f0e;stroke:#ff7f0e;\" x=\"152.006271\" xlink:href=\"#mb3a2b5159d\" y=\"281.76358\"/>\r\n     <use style=\"fill:#ff7f0e;stroke:#ff7f0e;\" x=\"152.006271\" xlink:href=\"#mb3a2b5159d\" y=\"281.76358\"/>\r\n     <use style=\"fill:#ff7f0e;stroke:#ff7f0e;\" x=\"152.006271\" xlink:href=\"#mb3a2b5159d\" y=\"281.76358\"/>\r\n     <use style=\"fill:#ff7f0e;stroke:#ff7f0e;\" x=\"152.006271\" xlink:href=\"#mb3a2b5159d\" y=\"281.76358\"/>\r\n     <use style=\"fill:#ff7f0e;stroke:#ff7f0e;\" x=\"152.006271\" xlink:href=\"#mb3a2b5159d\" y=\"281.76358\"/>\r\n     <use style=\"fill:#ff7f0e;stroke:#ff7f0e;\" x=\"152.006271\" xlink:href=\"#mb3a2b5159d\" y=\"281.76358\"/>\r\n     <use style=\"fill:#ff7f0e;stroke:#ff7f0e;\" x=\"152.006271\" xlink:href=\"#mb3a2b5159d\" y=\"281.76358\"/>\r\n     <use style=\"fill:#ff7f0e;stroke:#ff7f0e;\" x=\"152.006271\" xlink:href=\"#mb3a2b5159d\" y=\"281.76358\"/>\r\n     <use style=\"fill:#ff7f0e;stroke:#ff7f0e;\" x=\"152.006271\" xlink:href=\"#mb3a2b5159d\" y=\"281.76358\"/>\r\n     <use style=\"fill:#ff7f0e;stroke:#ff7f0e;\" x=\"152.006271\" xlink:href=\"#mb3a2b5159d\" y=\"281.76358\"/>\r\n     <use style=\"fill:#ff7f0e;stroke:#ff7f0e;\" x=\"152.006271\" xlink:href=\"#mb3a2b5159d\" y=\"281.76358\"/>\r\n     <use style=\"fill:#ff7f0e;stroke:#ff7f0e;\" x=\"152.006271\" xlink:href=\"#mb3a2b5159d\" y=\"281.76358\"/>\r\n     <use style=\"fill:#ff7f0e;stroke:#ff7f0e;\" x=\"152.006271\" xlink:href=\"#mb3a2b5159d\" y=\"281.76358\"/>\r\n     <use style=\"fill:#ff7f0e;stroke:#ff7f0e;\" x=\"152.006271\" xlink:href=\"#mb3a2b5159d\" y=\"281.76358\"/>\r\n     <use style=\"fill:#ff7f0e;stroke:#ff7f0e;\" x=\"152.006271\" xlink:href=\"#mb3a2b5159d\" y=\"281.76358\"/>\r\n     <use style=\"fill:#ff7f0e;stroke:#ff7f0e;\" x=\"152.006271\" xlink:href=\"#mb3a2b5159d\" y=\"281.76358\"/>\r\n     <use style=\"fill:#ff7f0e;stroke:#ff7f0e;\" x=\"152.006271\" xlink:href=\"#mb3a2b5159d\" y=\"281.76358\"/>\r\n     <use style=\"fill:#ff7f0e;stroke:#ff7f0e;\" x=\"152.006271\" xlink:href=\"#mb3a2b5159d\" y=\"281.76358\"/>\r\n     <use style=\"fill:#ff7f0e;stroke:#ff7f0e;\" x=\"152.006271\" xlink:href=\"#mb3a2b5159d\" y=\"281.76358\"/>\r\n     <use style=\"fill:#ff7f0e;stroke:#ff7f0e;\" x=\"152.006271\" xlink:href=\"#mb3a2b5159d\" y=\"281.76358\"/>\r\n     <use style=\"fill:#ff7f0e;stroke:#ff7f0e;\" x=\"152.006271\" xlink:href=\"#mb3a2b5159d\" y=\"281.76358\"/>\r\n     <use style=\"fill:#ff7f0e;stroke:#ff7f0e;\" x=\"152.006271\" xlink:href=\"#mb3a2b5159d\" y=\"281.76358\"/>\r\n     <use style=\"fill:#ff7f0e;stroke:#ff7f0e;\" x=\"152.006271\" xlink:href=\"#mb3a2b5159d\" y=\"281.76358\"/>\r\n     <use style=\"fill:#ff7f0e;stroke:#ff7f0e;\" x=\"152.006271\" xlink:href=\"#mb3a2b5159d\" y=\"281.76358\"/>\r\n     <use style=\"fill:#ff7f0e;stroke:#ff7f0e;\" x=\"152.006271\" xlink:href=\"#mb3a2b5159d\" y=\"281.76358\"/>\r\n     <use style=\"fill:#ff7f0e;stroke:#ff7f0e;\" x=\"152.006271\" xlink:href=\"#mb3a2b5159d\" y=\"281.76358\"/>\r\n     <use style=\"fill:#ff7f0e;stroke:#ff7f0e;\" x=\"152.006271\" xlink:href=\"#mb3a2b5159d\" y=\"281.76358\"/>\r\n     <use style=\"fill:#ff7f0e;stroke:#ff7f0e;\" x=\"152.006271\" xlink:href=\"#mb3a2b5159d\" y=\"281.76358\"/>\r\n     <use style=\"fill:#ff7f0e;stroke:#ff7f0e;\" x=\"152.006271\" xlink:href=\"#mb3a2b5159d\" y=\"281.76358\"/>\r\n     <use style=\"fill:#ff7f0e;stroke:#ff7f0e;\" x=\"152.006271\" xlink:href=\"#mb3a2b5159d\" y=\"281.76358\"/>\r\n     <use style=\"fill:#ff7f0e;stroke:#ff7f0e;\" x=\"152.006271\" xlink:href=\"#mb3a2b5159d\" y=\"281.76358\"/>\r\n     <use style=\"fill:#ff7f0e;stroke:#ff7f0e;\" x=\"152.006271\" xlink:href=\"#mb3a2b5159d\" y=\"281.76358\"/>\r\n     <use style=\"fill:#ff7f0e;stroke:#ff7f0e;\" x=\"152.006271\" xlink:href=\"#mb3a2b5159d\" y=\"281.76358\"/>\r\n     <use style=\"fill:#ff7f0e;stroke:#ff7f0e;\" x=\"152.006271\" xlink:href=\"#mb3a2b5159d\" y=\"281.76358\"/>\r\n     <use style=\"fill:#ff7f0e;stroke:#ff7f0e;\" x=\"152.006271\" xlink:href=\"#mb3a2b5159d\" y=\"281.76358\"/>\r\n     <use style=\"fill:#ff7f0e;stroke:#ff7f0e;\" x=\"152.006271\" xlink:href=\"#mb3a2b5159d\" y=\"281.76358\"/>\r\n     <use style=\"fill:#ff7f0e;stroke:#ff7f0e;\" x=\"152.006271\" xlink:href=\"#mb3a2b5159d\" y=\"281.76358\"/>\r\n     <use style=\"fill:#ff7f0e;stroke:#ff7f0e;\" x=\"152.006271\" xlink:href=\"#mb3a2b5159d\" y=\"281.76358\"/>\r\n     <use style=\"fill:#ff7f0e;stroke:#ff7f0e;\" x=\"152.006271\" xlink:href=\"#mb3a2b5159d\" y=\"281.76358\"/>\r\n     <use style=\"fill:#ff7f0e;stroke:#ff7f0e;\" x=\"152.006271\" xlink:href=\"#mb3a2b5159d\" y=\"281.76358\"/>\r\n     <use style=\"fill:#ff7f0e;stroke:#ff7f0e;\" x=\"152.006271\" xlink:href=\"#mb3a2b5159d\" y=\"281.76358\"/>\r\n     <use style=\"fill:#ff7f0e;stroke:#ff7f0e;\" x=\"152.006271\" xlink:href=\"#mb3a2b5159d\" y=\"281.76358\"/>\r\n     <use style=\"fill:#ff7f0e;stroke:#ff7f0e;\" x=\"152.006271\" xlink:href=\"#mb3a2b5159d\" y=\"281.76358\"/>\r\n     <use style=\"fill:#ff7f0e;stroke:#ff7f0e;\" x=\"152.006271\" xlink:href=\"#mb3a2b5159d\" y=\"281.76358\"/>\r\n     <use style=\"fill:#ff7f0e;stroke:#ff7f0e;\" x=\"152.006271\" xlink:href=\"#mb3a2b5159d\" y=\"281.76358\"/>\r\n     <use style=\"fill:#ff7f0e;stroke:#ff7f0e;\" x=\"152.006271\" xlink:href=\"#mb3a2b5159d\" y=\"281.76358\"/>\r\n     <use style=\"fill:#ff7f0e;stroke:#ff7f0e;\" x=\"152.006271\" xlink:href=\"#mb3a2b5159d\" y=\"281.76358\"/>\r\n     <use style=\"fill:#ff7f0e;stroke:#ff7f0e;\" x=\"152.006271\" xlink:href=\"#mb3a2b5159d\" y=\"281.76358\"/>\r\n     <use style=\"fill:#ff7f0e;stroke:#ff7f0e;\" x=\"152.006271\" xlink:href=\"#mb3a2b5159d\" y=\"281.76358\"/>\r\n     <use style=\"fill:#ff7f0e;stroke:#ff7f0e;\" x=\"152.006271\" xlink:href=\"#mb3a2b5159d\" y=\"281.76358\"/>\r\n     <use style=\"fill:#ff7f0e;stroke:#ff7f0e;\" x=\"152.006271\" xlink:href=\"#mb3a2b5159d\" y=\"281.76358\"/>\r\n     <use style=\"fill:#ff7f0e;stroke:#ff7f0e;\" x=\"152.006271\" xlink:href=\"#mb3a2b5159d\" y=\"281.76358\"/>\r\n     <use style=\"fill:#ff7f0e;stroke:#ff7f0e;\" x=\"152.006271\" xlink:href=\"#mb3a2b5159d\" y=\"281.76358\"/>\r\n     <use style=\"fill:#ff7f0e;stroke:#ff7f0e;\" x=\"152.006271\" xlink:href=\"#mb3a2b5159d\" y=\"281.76358\"/>\r\n     <use style=\"fill:#ff7f0e;stroke:#ff7f0e;\" x=\"152.006271\" xlink:href=\"#mb3a2b5159d\" y=\"281.76358\"/>\r\n     <use style=\"fill:#ff7f0e;stroke:#ff7f0e;\" x=\"152.006271\" xlink:href=\"#mb3a2b5159d\" y=\"281.76358\"/>\r\n     <use style=\"fill:#ff7f0e;stroke:#ff7f0e;\" x=\"152.006271\" xlink:href=\"#mb3a2b5159d\" y=\"281.76358\"/>\r\n     <use style=\"fill:#ff7f0e;stroke:#ff7f0e;\" x=\"152.006271\" xlink:href=\"#mb3a2b5159d\" y=\"281.76358\"/>\r\n     <use style=\"fill:#ff7f0e;stroke:#ff7f0e;\" x=\"152.006271\" xlink:href=\"#mb3a2b5159d\" y=\"281.76358\"/>\r\n     <use style=\"fill:#ff7f0e;stroke:#ff7f0e;\" x=\"152.006271\" xlink:href=\"#mb3a2b5159d\" y=\"281.76358\"/>\r\n     <use style=\"fill:#ff7f0e;stroke:#ff7f0e;\" x=\"152.006271\" xlink:href=\"#mb3a2b5159d\" y=\"281.76358\"/>\r\n     <use style=\"fill:#ff7f0e;stroke:#ff7f0e;\" x=\"152.006271\" xlink:href=\"#mb3a2b5159d\" y=\"281.76358\"/>\r\n     <use style=\"fill:#ff7f0e;stroke:#ff7f0e;\" x=\"152.006271\" xlink:href=\"#mb3a2b5159d\" y=\"281.76358\"/>\r\n     <use style=\"fill:#ff7f0e;stroke:#ff7f0e;\" x=\"152.006271\" xlink:href=\"#mb3a2b5159d\" y=\"281.76358\"/>\r\n     <use style=\"fill:#ff7f0e;stroke:#ff7f0e;\" x=\"152.006271\" xlink:href=\"#mb3a2b5159d\" y=\"281.76358\"/>\r\n     <use style=\"fill:#ff7f0e;stroke:#ff7f0e;\" x=\"152.006271\" xlink:href=\"#mb3a2b5159d\" y=\"281.76358\"/>\r\n     <use style=\"fill:#ff7f0e;stroke:#ff7f0e;\" x=\"152.006271\" xlink:href=\"#mb3a2b5159d\" y=\"281.76358\"/>\r\n     <use style=\"fill:#ff7f0e;stroke:#ff7f0e;\" x=\"152.006271\" xlink:href=\"#mb3a2b5159d\" y=\"281.76358\"/>\r\n     <use style=\"fill:#ff7f0e;stroke:#ff7f0e;\" x=\"152.006271\" xlink:href=\"#mb3a2b5159d\" y=\"281.76358\"/>\r\n     <use style=\"fill:#ff7f0e;stroke:#ff7f0e;\" x=\"152.006271\" xlink:href=\"#mb3a2b5159d\" y=\"281.76358\"/>\r\n     <use style=\"fill:#ff7f0e;stroke:#ff7f0e;\" x=\"152.006271\" xlink:href=\"#mb3a2b5159d\" y=\"281.76358\"/>\r\n     <use style=\"fill:#ff7f0e;stroke:#ff7f0e;\" x=\"152.006271\" xlink:href=\"#mb3a2b5159d\" y=\"281.76358\"/>\r\n     <use style=\"fill:#ff7f0e;stroke:#ff7f0e;\" x=\"152.006271\" xlink:href=\"#mb3a2b5159d\" y=\"281.76358\"/>\r\n     <use style=\"fill:#ff7f0e;stroke:#ff7f0e;\" x=\"152.006271\" xlink:href=\"#mb3a2b5159d\" y=\"281.76358\"/>\r\n     <use style=\"fill:#ff7f0e;stroke:#ff7f0e;\" x=\"152.006271\" xlink:href=\"#mb3a2b5159d\" y=\"281.76358\"/>\r\n     <use style=\"fill:#ff7f0e;stroke:#ff7f0e;\" x=\"152.006271\" xlink:href=\"#mb3a2b5159d\" y=\"281.76358\"/>\r\n     <use style=\"fill:#ff7f0e;stroke:#ff7f0e;\" x=\"152.006271\" xlink:href=\"#mb3a2b5159d\" y=\"281.76358\"/>\r\n     <use style=\"fill:#ff7f0e;stroke:#ff7f0e;\" x=\"152.006271\" xlink:href=\"#mb3a2b5159d\" y=\"281.76358\"/>\r\n     <use style=\"fill:#ff7f0e;stroke:#ff7f0e;\" x=\"152.006271\" xlink:href=\"#mb3a2b5159d\" y=\"281.76358\"/>\r\n     <use style=\"fill:#ff7f0e;stroke:#ff7f0e;\" x=\"152.006271\" xlink:href=\"#mb3a2b5159d\" y=\"281.76358\"/>\r\n     <use style=\"fill:#ff7f0e;stroke:#ff7f0e;\" x=\"152.006271\" xlink:href=\"#mb3a2b5159d\" y=\"281.76358\"/>\r\n     <use style=\"fill:#ff7f0e;stroke:#ff7f0e;\" x=\"152.006271\" xlink:href=\"#mb3a2b5159d\" y=\"281.76358\"/>\r\n     <use style=\"fill:#ff7f0e;stroke:#ff7f0e;\" x=\"152.006271\" xlink:href=\"#mb3a2b5159d\" y=\"281.76358\"/>\r\n     <use style=\"fill:#ff7f0e;stroke:#ff7f0e;\" x=\"152.006271\" xlink:href=\"#mb3a2b5159d\" y=\"281.76358\"/>\r\n     <use style=\"fill:#ff7f0e;stroke:#ff7f0e;\" x=\"152.006271\" xlink:href=\"#mb3a2b5159d\" y=\"281.76358\"/>\r\n     <use style=\"fill:#ff7f0e;stroke:#ff7f0e;\" x=\"152.006271\" xlink:href=\"#mb3a2b5159d\" y=\"281.76358\"/>\r\n     <use style=\"fill:#ff7f0e;stroke:#ff7f0e;\" x=\"152.006271\" xlink:href=\"#mb3a2b5159d\" y=\"281.76358\"/>\r\n     <use style=\"fill:#ff7f0e;stroke:#ff7f0e;\" x=\"152.006271\" xlink:href=\"#mb3a2b5159d\" y=\"281.76358\"/>\r\n     <use style=\"fill:#ff7f0e;stroke:#ff7f0e;\" x=\"152.006271\" xlink:href=\"#mb3a2b5159d\" y=\"281.76358\"/>\r\n     <use style=\"fill:#ff7f0e;stroke:#ff7f0e;\" x=\"152.006271\" xlink:href=\"#mb3a2b5159d\" y=\"281.76358\"/>\r\n     <use style=\"fill:#ff7f0e;stroke:#ff7f0e;\" x=\"152.006271\" xlink:href=\"#mb3a2b5159d\" y=\"281.76358\"/>\r\n     <use style=\"fill:#ff7f0e;stroke:#ff7f0e;\" x=\"152.006271\" xlink:href=\"#mb3a2b5159d\" y=\"281.76358\"/>\r\n     <use style=\"fill:#ff7f0e;stroke:#ff7f0e;\" x=\"152.006271\" xlink:href=\"#mb3a2b5159d\" y=\"281.76358\"/>\r\n     <use style=\"fill:#ff7f0e;stroke:#ff7f0e;\" x=\"152.006271\" xlink:href=\"#mb3a2b5159d\" y=\"281.76358\"/>\r\n     <use style=\"fill:#ff7f0e;stroke:#ff7f0e;\" x=\"152.006271\" xlink:href=\"#mb3a2b5159d\" y=\"281.76358\"/>\r\n     <use style=\"fill:#ff7f0e;stroke:#ff7f0e;\" x=\"152.006271\" xlink:href=\"#mb3a2b5159d\" y=\"281.76358\"/>\r\n     <use style=\"fill:#ff7f0e;stroke:#ff7f0e;\" x=\"152.006271\" xlink:href=\"#mb3a2b5159d\" y=\"281.76358\"/>\r\n     <use style=\"fill:#ff7f0e;stroke:#ff7f0e;\" x=\"152.006271\" xlink:href=\"#mb3a2b5159d\" y=\"281.76358\"/>\r\n     <use style=\"fill:#ff7f0e;stroke:#ff7f0e;\" x=\"152.006271\" xlink:href=\"#mb3a2b5159d\" y=\"281.76358\"/>\r\n     <use style=\"fill:#ff7f0e;stroke:#ff7f0e;\" x=\"152.006271\" xlink:href=\"#mb3a2b5159d\" y=\"281.76358\"/>\r\n     <use style=\"fill:#ff7f0e;stroke:#ff7f0e;\" x=\"152.006271\" xlink:href=\"#mb3a2b5159d\" y=\"281.76358\"/>\r\n    </g>\r\n   </g>\r\n   <g id=\"PathCollection_3\">\r\n    <defs>\r\n     <path d=\"M 0 2.236068 \r\nC 0.593012 2.236068 1.161816 2.000462 1.581139 1.581139 \r\nC 2.000462 1.161816 2.236068 0.593012 2.236068 0 \r\nC 2.236068 -0.593012 2.000462 -1.161816 1.581139 -1.581139 \r\nC 1.161816 -2.000462 0.593012 -2.236068 0 -2.236068 \r\nC -0.593012 -2.236068 -1.161816 -2.000462 -1.581139 -1.581139 \r\nC -2.000462 -1.161816 -2.236068 -0.593012 -2.236068 0 \r\nC -2.236068 0.593012 -2.000462 1.161816 -1.581139 1.581139 \r\nC -1.161816 2.000462 -0.593012 2.236068 0 2.236068 \r\nz\r\n\" id=\"me3b02ce282\" style=\"stroke:#2ca02c;\"/>\r\n    </defs>\r\n    <g clip-path=\"url(#p90a814f91a)\">\r\n     <use style=\"fill:#2ca02c;stroke:#2ca02c;\" x=\"66.108031\" xlink:href=\"#me3b02ce282\" y=\"239.69648\"/>\r\n     <use style=\"fill:#2ca02c;stroke:#2ca02c;\" x=\"66.108031\" xlink:href=\"#me3b02ce282\" y=\"239.69648\"/>\r\n     <use style=\"fill:#2ca02c;stroke:#2ca02c;\" x=\"66.108031\" xlink:href=\"#me3b02ce282\" y=\"239.69648\"/>\r\n     <use style=\"fill:#2ca02c;stroke:#2ca02c;\" x=\"66.108031\" xlink:href=\"#me3b02ce282\" y=\"239.69648\"/>\r\n     <use style=\"fill:#2ca02c;stroke:#2ca02c;\" x=\"66.108031\" xlink:href=\"#me3b02ce282\" y=\"239.69648\"/>\r\n     <use style=\"fill:#2ca02c;stroke:#2ca02c;\" x=\"66.108031\" xlink:href=\"#me3b02ce282\" y=\"239.69648\"/>\r\n     <use style=\"fill:#2ca02c;stroke:#2ca02c;\" x=\"66.108031\" xlink:href=\"#me3b02ce282\" y=\"239.69648\"/>\r\n     <use style=\"fill:#2ca02c;stroke:#2ca02c;\" x=\"66.108031\" xlink:href=\"#me3b02ce282\" y=\"239.69648\"/>\r\n     <use style=\"fill:#2ca02c;stroke:#2ca02c;\" x=\"66.108031\" xlink:href=\"#me3b02ce282\" y=\"239.69648\"/>\r\n     <use style=\"fill:#2ca02c;stroke:#2ca02c;\" x=\"66.108031\" xlink:href=\"#me3b02ce282\" y=\"239.69648\"/>\r\n     <use style=\"fill:#2ca02c;stroke:#2ca02c;\" x=\"66.108031\" xlink:href=\"#me3b02ce282\" y=\"239.69648\"/>\r\n     <use style=\"fill:#2ca02c;stroke:#2ca02c;\" x=\"66.108031\" xlink:href=\"#me3b02ce282\" y=\"239.69648\"/>\r\n     <use style=\"fill:#2ca02c;stroke:#2ca02c;\" x=\"66.108031\" xlink:href=\"#me3b02ce282\" y=\"239.69648\"/>\r\n     <use style=\"fill:#2ca02c;stroke:#2ca02c;\" x=\"66.108031\" xlink:href=\"#me3b02ce282\" y=\"239.69648\"/>\r\n     <use style=\"fill:#2ca02c;stroke:#2ca02c;\" x=\"66.108031\" xlink:href=\"#me3b02ce282\" y=\"239.69648\"/>\r\n     <use style=\"fill:#2ca02c;stroke:#2ca02c;\" x=\"66.108031\" xlink:href=\"#me3b02ce282\" y=\"239.69648\"/>\r\n     <use style=\"fill:#2ca02c;stroke:#2ca02c;\" x=\"66.108031\" xlink:href=\"#me3b02ce282\" y=\"239.69648\"/>\r\n     <use style=\"fill:#2ca02c;stroke:#2ca02c;\" x=\"66.108031\" xlink:href=\"#me3b02ce282\" y=\"239.69648\"/>\r\n     <use style=\"fill:#2ca02c;stroke:#2ca02c;\" x=\"66.108031\" xlink:href=\"#me3b02ce282\" y=\"239.69648\"/>\r\n     <use style=\"fill:#2ca02c;stroke:#2ca02c;\" x=\"66.108031\" xlink:href=\"#me3b02ce282\" y=\"239.69648\"/>\r\n     <use style=\"fill:#2ca02c;stroke:#2ca02c;\" x=\"66.108031\" xlink:href=\"#me3b02ce282\" y=\"239.69648\"/>\r\n     <use style=\"fill:#2ca02c;stroke:#2ca02c;\" x=\"66.108031\" xlink:href=\"#me3b02ce282\" y=\"239.69648\"/>\r\n     <use style=\"fill:#2ca02c;stroke:#2ca02c;\" x=\"66.108031\" xlink:href=\"#me3b02ce282\" y=\"239.69648\"/>\r\n     <use style=\"fill:#2ca02c;stroke:#2ca02c;\" x=\"66.108031\" xlink:href=\"#me3b02ce282\" y=\"239.69648\"/>\r\n     <use style=\"fill:#2ca02c;stroke:#2ca02c;\" x=\"66.108031\" xlink:href=\"#me3b02ce282\" y=\"239.69648\"/>\r\n     <use style=\"fill:#2ca02c;stroke:#2ca02c;\" x=\"66.108031\" xlink:href=\"#me3b02ce282\" y=\"239.69648\"/>\r\n     <use style=\"fill:#2ca02c;stroke:#2ca02c;\" x=\"66.108031\" xlink:href=\"#me3b02ce282\" y=\"239.69648\"/>\r\n     <use style=\"fill:#2ca02c;stroke:#2ca02c;\" x=\"66.108031\" xlink:href=\"#me3b02ce282\" y=\"239.69648\"/>\r\n     <use style=\"fill:#2ca02c;stroke:#2ca02c;\" x=\"66.108031\" xlink:href=\"#me3b02ce282\" y=\"239.69648\"/>\r\n     <use style=\"fill:#2ca02c;stroke:#2ca02c;\" x=\"66.108031\" xlink:href=\"#me3b02ce282\" y=\"239.69648\"/>\r\n     <use style=\"fill:#2ca02c;stroke:#2ca02c;\" x=\"66.108031\" xlink:href=\"#me3b02ce282\" y=\"239.69648\"/>\r\n     <use style=\"fill:#2ca02c;stroke:#2ca02c;\" x=\"66.108031\" xlink:href=\"#me3b02ce282\" y=\"239.69648\"/>\r\n     <use style=\"fill:#2ca02c;stroke:#2ca02c;\" x=\"66.108031\" xlink:href=\"#me3b02ce282\" y=\"239.69648\"/>\r\n     <use style=\"fill:#2ca02c;stroke:#2ca02c;\" x=\"66.108031\" xlink:href=\"#me3b02ce282\" y=\"239.69648\"/>\r\n     <use style=\"fill:#2ca02c;stroke:#2ca02c;\" x=\"66.108031\" xlink:href=\"#me3b02ce282\" y=\"239.69648\"/>\r\n     <use style=\"fill:#2ca02c;stroke:#2ca02c;\" x=\"66.108031\" xlink:href=\"#me3b02ce282\" y=\"239.69648\"/>\r\n     <use style=\"fill:#2ca02c;stroke:#2ca02c;\" x=\"66.108031\" xlink:href=\"#me3b02ce282\" y=\"239.69648\"/>\r\n     <use style=\"fill:#2ca02c;stroke:#2ca02c;\" x=\"66.108031\" xlink:href=\"#me3b02ce282\" y=\"239.69648\"/>\r\n     <use style=\"fill:#2ca02c;stroke:#2ca02c;\" x=\"66.108031\" xlink:href=\"#me3b02ce282\" y=\"239.69648\"/>\r\n     <use style=\"fill:#2ca02c;stroke:#2ca02c;\" x=\"66.108031\" xlink:href=\"#me3b02ce282\" y=\"239.69648\"/>\r\n     <use style=\"fill:#2ca02c;stroke:#2ca02c;\" x=\"66.108031\" xlink:href=\"#me3b02ce282\" y=\"239.69648\"/>\r\n     <use style=\"fill:#2ca02c;stroke:#2ca02c;\" x=\"66.108031\" xlink:href=\"#me3b02ce282\" y=\"239.69648\"/>\r\n     <use style=\"fill:#2ca02c;stroke:#2ca02c;\" x=\"66.108031\" xlink:href=\"#me3b02ce282\" y=\"239.69648\"/>\r\n     <use style=\"fill:#2ca02c;stroke:#2ca02c;\" x=\"66.108031\" xlink:href=\"#me3b02ce282\" y=\"239.69648\"/>\r\n     <use style=\"fill:#2ca02c;stroke:#2ca02c;\" x=\"66.108031\" xlink:href=\"#me3b02ce282\" y=\"239.69648\"/>\r\n     <use style=\"fill:#2ca02c;stroke:#2ca02c;\" x=\"66.108031\" xlink:href=\"#me3b02ce282\" y=\"239.69648\"/>\r\n     <use style=\"fill:#2ca02c;stroke:#2ca02c;\" x=\"66.108031\" xlink:href=\"#me3b02ce282\" y=\"239.69648\"/>\r\n     <use style=\"fill:#2ca02c;stroke:#2ca02c;\" x=\"66.108031\" xlink:href=\"#me3b02ce282\" y=\"239.69648\"/>\r\n     <use style=\"fill:#2ca02c;stroke:#2ca02c;\" x=\"66.108031\" xlink:href=\"#me3b02ce282\" y=\"239.69648\"/>\r\n     <use style=\"fill:#2ca02c;stroke:#2ca02c;\" x=\"66.108031\" xlink:href=\"#me3b02ce282\" y=\"239.69648\"/>\r\n     <use style=\"fill:#2ca02c;stroke:#2ca02c;\" x=\"66.108031\" xlink:href=\"#me3b02ce282\" y=\"239.69648\"/>\r\n     <use style=\"fill:#2ca02c;stroke:#2ca02c;\" x=\"66.108031\" xlink:href=\"#me3b02ce282\" y=\"239.69648\"/>\r\n     <use style=\"fill:#2ca02c;stroke:#2ca02c;\" x=\"66.108031\" xlink:href=\"#me3b02ce282\" y=\"239.69648\"/>\r\n     <use style=\"fill:#2ca02c;stroke:#2ca02c;\" x=\"66.108031\" xlink:href=\"#me3b02ce282\" y=\"239.69648\"/>\r\n     <use style=\"fill:#2ca02c;stroke:#2ca02c;\" x=\"66.108031\" xlink:href=\"#me3b02ce282\" y=\"239.69648\"/>\r\n     <use style=\"fill:#2ca02c;stroke:#2ca02c;\" x=\"66.108031\" xlink:href=\"#me3b02ce282\" y=\"239.69648\"/>\r\n     <use style=\"fill:#2ca02c;stroke:#2ca02c;\" x=\"66.108031\" xlink:href=\"#me3b02ce282\" y=\"239.69648\"/>\r\n     <use style=\"fill:#2ca02c;stroke:#2ca02c;\" x=\"66.108031\" xlink:href=\"#me3b02ce282\" y=\"239.69648\"/>\r\n     <use style=\"fill:#2ca02c;stroke:#2ca02c;\" x=\"66.108031\" xlink:href=\"#me3b02ce282\" y=\"239.69648\"/>\r\n     <use style=\"fill:#2ca02c;stroke:#2ca02c;\" x=\"66.108031\" xlink:href=\"#me3b02ce282\" y=\"239.69648\"/>\r\n     <use style=\"fill:#2ca02c;stroke:#2ca02c;\" x=\"66.108031\" xlink:href=\"#me3b02ce282\" y=\"239.69648\"/>\r\n     <use style=\"fill:#2ca02c;stroke:#2ca02c;\" x=\"66.108031\" xlink:href=\"#me3b02ce282\" y=\"239.69648\"/>\r\n     <use style=\"fill:#2ca02c;stroke:#2ca02c;\" x=\"66.108031\" xlink:href=\"#me3b02ce282\" y=\"239.69648\"/>\r\n     <use style=\"fill:#2ca02c;stroke:#2ca02c;\" x=\"66.108031\" xlink:href=\"#me3b02ce282\" y=\"239.69648\"/>\r\n     <use style=\"fill:#2ca02c;stroke:#2ca02c;\" x=\"66.108031\" xlink:href=\"#me3b02ce282\" y=\"239.69648\"/>\r\n     <use style=\"fill:#2ca02c;stroke:#2ca02c;\" x=\"66.108031\" xlink:href=\"#me3b02ce282\" y=\"239.69648\"/>\r\n     <use style=\"fill:#2ca02c;stroke:#2ca02c;\" x=\"66.108031\" xlink:href=\"#me3b02ce282\" y=\"239.69648\"/>\r\n     <use style=\"fill:#2ca02c;stroke:#2ca02c;\" x=\"66.108031\" xlink:href=\"#me3b02ce282\" y=\"239.69648\"/>\r\n     <use style=\"fill:#2ca02c;stroke:#2ca02c;\" x=\"66.108031\" xlink:href=\"#me3b02ce282\" y=\"239.69648\"/>\r\n     <use style=\"fill:#2ca02c;stroke:#2ca02c;\" x=\"66.108031\" xlink:href=\"#me3b02ce282\" y=\"239.69648\"/>\r\n     <use style=\"fill:#2ca02c;stroke:#2ca02c;\" x=\"66.108031\" xlink:href=\"#me3b02ce282\" y=\"239.69648\"/>\r\n     <use style=\"fill:#2ca02c;stroke:#2ca02c;\" x=\"66.108031\" xlink:href=\"#me3b02ce282\" y=\"239.69648\"/>\r\n     <use style=\"fill:#2ca02c;stroke:#2ca02c;\" x=\"66.108031\" xlink:href=\"#me3b02ce282\" y=\"239.69648\"/>\r\n     <use style=\"fill:#2ca02c;stroke:#2ca02c;\" x=\"66.108031\" xlink:href=\"#me3b02ce282\" y=\"239.69648\"/>\r\n     <use style=\"fill:#2ca02c;stroke:#2ca02c;\" x=\"66.108031\" xlink:href=\"#me3b02ce282\" y=\"239.69648\"/>\r\n     <use style=\"fill:#2ca02c;stroke:#2ca02c;\" x=\"66.108031\" xlink:href=\"#me3b02ce282\" y=\"239.69648\"/>\r\n     <use style=\"fill:#2ca02c;stroke:#2ca02c;\" x=\"66.108031\" xlink:href=\"#me3b02ce282\" y=\"239.69648\"/>\r\n     <use style=\"fill:#2ca02c;stroke:#2ca02c;\" x=\"66.108031\" xlink:href=\"#me3b02ce282\" y=\"239.69648\"/>\r\n     <use style=\"fill:#2ca02c;stroke:#2ca02c;\" x=\"66.108031\" xlink:href=\"#me3b02ce282\" y=\"239.69648\"/>\r\n     <use style=\"fill:#2ca02c;stroke:#2ca02c;\" x=\"66.108031\" xlink:href=\"#me3b02ce282\" y=\"239.69648\"/>\r\n     <use style=\"fill:#2ca02c;stroke:#2ca02c;\" x=\"66.108031\" xlink:href=\"#me3b02ce282\" y=\"239.69648\"/>\r\n     <use style=\"fill:#2ca02c;stroke:#2ca02c;\" x=\"66.108031\" xlink:href=\"#me3b02ce282\" y=\"239.69648\"/>\r\n     <use style=\"fill:#2ca02c;stroke:#2ca02c;\" x=\"66.108031\" xlink:href=\"#me3b02ce282\" y=\"239.69648\"/>\r\n     <use style=\"fill:#2ca02c;stroke:#2ca02c;\" x=\"66.108031\" xlink:href=\"#me3b02ce282\" y=\"239.69648\"/>\r\n     <use style=\"fill:#2ca02c;stroke:#2ca02c;\" x=\"66.108031\" xlink:href=\"#me3b02ce282\" y=\"239.69648\"/>\r\n     <use style=\"fill:#2ca02c;stroke:#2ca02c;\" x=\"66.108031\" xlink:href=\"#me3b02ce282\" y=\"239.69648\"/>\r\n     <use style=\"fill:#2ca02c;stroke:#2ca02c;\" x=\"66.108031\" xlink:href=\"#me3b02ce282\" y=\"239.69648\"/>\r\n     <use style=\"fill:#2ca02c;stroke:#2ca02c;\" x=\"66.108031\" xlink:href=\"#me3b02ce282\" y=\"239.69648\"/>\r\n     <use style=\"fill:#2ca02c;stroke:#2ca02c;\" x=\"66.108031\" xlink:href=\"#me3b02ce282\" y=\"239.69648\"/>\r\n     <use style=\"fill:#2ca02c;stroke:#2ca02c;\" x=\"66.108031\" xlink:href=\"#me3b02ce282\" y=\"239.69648\"/>\r\n     <use style=\"fill:#2ca02c;stroke:#2ca02c;\" x=\"66.108031\" xlink:href=\"#me3b02ce282\" y=\"239.69648\"/>\r\n     <use style=\"fill:#2ca02c;stroke:#2ca02c;\" x=\"66.108031\" xlink:href=\"#me3b02ce282\" y=\"239.69648\"/>\r\n     <use style=\"fill:#2ca02c;stroke:#2ca02c;\" x=\"66.108031\" xlink:href=\"#me3b02ce282\" y=\"239.69648\"/>\r\n     <use style=\"fill:#2ca02c;stroke:#2ca02c;\" x=\"66.108031\" xlink:href=\"#me3b02ce282\" y=\"239.69648\"/>\r\n     <use style=\"fill:#2ca02c;stroke:#2ca02c;\" x=\"66.108031\" xlink:href=\"#me3b02ce282\" y=\"239.69648\"/>\r\n     <use style=\"fill:#2ca02c;stroke:#2ca02c;\" x=\"66.108031\" xlink:href=\"#me3b02ce282\" y=\"239.69648\"/>\r\n     <use style=\"fill:#2ca02c;stroke:#2ca02c;\" x=\"66.108031\" xlink:href=\"#me3b02ce282\" y=\"239.69648\"/>\r\n     <use style=\"fill:#2ca02c;stroke:#2ca02c;\" x=\"66.108031\" xlink:href=\"#me3b02ce282\" y=\"239.69648\"/>\r\n     <use style=\"fill:#2ca02c;stroke:#2ca02c;\" x=\"66.108031\" xlink:href=\"#me3b02ce282\" y=\"239.69648\"/>\r\n     <use style=\"fill:#2ca02c;stroke:#2ca02c;\" x=\"66.108031\" xlink:href=\"#me3b02ce282\" y=\"239.69648\"/>\r\n     <use style=\"fill:#2ca02c;stroke:#2ca02c;\" x=\"66.108031\" xlink:href=\"#me3b02ce282\" y=\"239.69648\"/>\r\n     <use style=\"fill:#2ca02c;stroke:#2ca02c;\" x=\"66.108031\" xlink:href=\"#me3b02ce282\" y=\"239.69648\"/>\r\n    </g>\r\n   </g>\r\n   <g id=\"PathCollection_4\">\r\n    <defs>\r\n     <path d=\"M 0 2.236068 \r\nC 0.593012 2.236068 1.161816 2.000462 1.581139 1.581139 \r\nC 2.000462 1.161816 2.236068 0.593012 2.236068 0 \r\nC 2.236068 -0.593012 2.000462 -1.161816 1.581139 -1.581139 \r\nC 1.161816 -2.000462 0.593012 -2.236068 0 -2.236068 \r\nC -0.593012 -2.236068 -1.161816 -2.000462 -1.581139 -1.581139 \r\nC -2.000462 -1.161816 -2.236068 -0.593012 -2.236068 0 \r\nC -2.236068 0.593012 -2.000462 1.161816 -1.581139 1.581139 \r\nC -1.161816 2.000462 -0.593012 2.236068 0 2.236068 \r\nz\r\n\" id=\"m62fa332a0c\" style=\"stroke:#d62728;\"/>\r\n    </defs>\r\n    <g clip-path=\"url(#p90a814f91a)\">\r\n     <use style=\"fill:#d62728;stroke:#d62728;\" x=\"57.527131\" xlink:href=\"#m62fa332a0c\" y=\"224.332789\"/>\r\n     <use style=\"fill:#d62728;stroke:#d62728;\" x=\"57.527131\" xlink:href=\"#m62fa332a0c\" y=\"224.332789\"/>\r\n     <use style=\"fill:#d62728;stroke:#d62728;\" x=\"57.527131\" xlink:href=\"#m62fa332a0c\" y=\"224.332789\"/>\r\n     <use style=\"fill:#d62728;stroke:#d62728;\" x=\"57.527131\" xlink:href=\"#m62fa332a0c\" y=\"224.332789\"/>\r\n     <use style=\"fill:#d62728;stroke:#d62728;\" x=\"57.527131\" xlink:href=\"#m62fa332a0c\" y=\"224.332789\"/>\r\n     <use style=\"fill:#d62728;stroke:#d62728;\" x=\"57.527131\" xlink:href=\"#m62fa332a0c\" y=\"224.332789\"/>\r\n     <use style=\"fill:#d62728;stroke:#d62728;\" x=\"57.527131\" xlink:href=\"#m62fa332a0c\" y=\"224.332789\"/>\r\n     <use style=\"fill:#d62728;stroke:#d62728;\" x=\"57.527131\" xlink:href=\"#m62fa332a0c\" y=\"224.332789\"/>\r\n     <use style=\"fill:#d62728;stroke:#d62728;\" x=\"57.527131\" xlink:href=\"#m62fa332a0c\" y=\"224.332789\"/>\r\n     <use style=\"fill:#d62728;stroke:#d62728;\" x=\"57.527131\" xlink:href=\"#m62fa332a0c\" y=\"224.332789\"/>\r\n     <use style=\"fill:#d62728;stroke:#d62728;\" x=\"57.527131\" xlink:href=\"#m62fa332a0c\" y=\"224.332789\"/>\r\n     <use style=\"fill:#d62728;stroke:#d62728;\" x=\"57.527131\" xlink:href=\"#m62fa332a0c\" y=\"224.332789\"/>\r\n     <use style=\"fill:#d62728;stroke:#d62728;\" x=\"57.527131\" xlink:href=\"#m62fa332a0c\" y=\"224.332789\"/>\r\n     <use style=\"fill:#d62728;stroke:#d62728;\" x=\"57.527131\" xlink:href=\"#m62fa332a0c\" y=\"224.332789\"/>\r\n     <use style=\"fill:#d62728;stroke:#d62728;\" x=\"57.527131\" xlink:href=\"#m62fa332a0c\" y=\"224.332789\"/>\r\n     <use style=\"fill:#d62728;stroke:#d62728;\" x=\"57.527131\" xlink:href=\"#m62fa332a0c\" y=\"224.332789\"/>\r\n     <use style=\"fill:#d62728;stroke:#d62728;\" x=\"57.527131\" xlink:href=\"#m62fa332a0c\" y=\"224.332789\"/>\r\n     <use style=\"fill:#d62728;stroke:#d62728;\" x=\"57.527131\" xlink:href=\"#m62fa332a0c\" y=\"224.332789\"/>\r\n     <use style=\"fill:#d62728;stroke:#d62728;\" x=\"57.527131\" xlink:href=\"#m62fa332a0c\" y=\"224.332789\"/>\r\n     <use style=\"fill:#d62728;stroke:#d62728;\" x=\"57.527131\" xlink:href=\"#m62fa332a0c\" y=\"224.332789\"/>\r\n     <use style=\"fill:#d62728;stroke:#d62728;\" x=\"57.527131\" xlink:href=\"#m62fa332a0c\" y=\"224.332789\"/>\r\n     <use style=\"fill:#d62728;stroke:#d62728;\" x=\"57.527131\" xlink:href=\"#m62fa332a0c\" y=\"224.332789\"/>\r\n     <use style=\"fill:#d62728;stroke:#d62728;\" x=\"57.527131\" xlink:href=\"#m62fa332a0c\" y=\"224.332789\"/>\r\n     <use style=\"fill:#d62728;stroke:#d62728;\" x=\"57.527131\" xlink:href=\"#m62fa332a0c\" y=\"224.332789\"/>\r\n     <use style=\"fill:#d62728;stroke:#d62728;\" x=\"57.527131\" xlink:href=\"#m62fa332a0c\" y=\"224.332789\"/>\r\n     <use style=\"fill:#d62728;stroke:#d62728;\" x=\"57.527131\" xlink:href=\"#m62fa332a0c\" y=\"224.332789\"/>\r\n     <use style=\"fill:#d62728;stroke:#d62728;\" x=\"57.527131\" xlink:href=\"#m62fa332a0c\" y=\"224.332789\"/>\r\n     <use style=\"fill:#d62728;stroke:#d62728;\" x=\"57.527131\" xlink:href=\"#m62fa332a0c\" y=\"224.332789\"/>\r\n     <use style=\"fill:#d62728;stroke:#d62728;\" x=\"57.527131\" xlink:href=\"#m62fa332a0c\" y=\"224.332789\"/>\r\n     <use style=\"fill:#d62728;stroke:#d62728;\" x=\"57.527131\" xlink:href=\"#m62fa332a0c\" y=\"224.332789\"/>\r\n     <use style=\"fill:#d62728;stroke:#d62728;\" x=\"57.527131\" xlink:href=\"#m62fa332a0c\" y=\"224.332789\"/>\r\n     <use style=\"fill:#d62728;stroke:#d62728;\" x=\"57.527131\" xlink:href=\"#m62fa332a0c\" y=\"224.332789\"/>\r\n     <use style=\"fill:#d62728;stroke:#d62728;\" x=\"57.527131\" xlink:href=\"#m62fa332a0c\" y=\"224.332789\"/>\r\n     <use style=\"fill:#d62728;stroke:#d62728;\" x=\"57.527131\" xlink:href=\"#m62fa332a0c\" y=\"224.332789\"/>\r\n     <use style=\"fill:#d62728;stroke:#d62728;\" x=\"57.527131\" xlink:href=\"#m62fa332a0c\" y=\"224.332789\"/>\r\n     <use style=\"fill:#d62728;stroke:#d62728;\" x=\"57.527131\" xlink:href=\"#m62fa332a0c\" y=\"224.332789\"/>\r\n     <use style=\"fill:#d62728;stroke:#d62728;\" x=\"57.527131\" xlink:href=\"#m62fa332a0c\" y=\"224.332789\"/>\r\n     <use style=\"fill:#d62728;stroke:#d62728;\" x=\"57.527131\" xlink:href=\"#m62fa332a0c\" y=\"224.332789\"/>\r\n     <use style=\"fill:#d62728;stroke:#d62728;\" x=\"57.527131\" xlink:href=\"#m62fa332a0c\" y=\"224.332789\"/>\r\n     <use style=\"fill:#d62728;stroke:#d62728;\" x=\"57.527131\" xlink:href=\"#m62fa332a0c\" y=\"224.332789\"/>\r\n     <use style=\"fill:#d62728;stroke:#d62728;\" x=\"57.527131\" xlink:href=\"#m62fa332a0c\" y=\"224.332789\"/>\r\n     <use style=\"fill:#d62728;stroke:#d62728;\" x=\"57.527131\" xlink:href=\"#m62fa332a0c\" y=\"224.332789\"/>\r\n     <use style=\"fill:#d62728;stroke:#d62728;\" x=\"57.527131\" xlink:href=\"#m62fa332a0c\" y=\"224.332789\"/>\r\n     <use style=\"fill:#d62728;stroke:#d62728;\" x=\"57.527131\" xlink:href=\"#m62fa332a0c\" y=\"224.332789\"/>\r\n     <use style=\"fill:#d62728;stroke:#d62728;\" x=\"57.527131\" xlink:href=\"#m62fa332a0c\" y=\"224.332789\"/>\r\n     <use style=\"fill:#d62728;stroke:#d62728;\" x=\"57.527131\" xlink:href=\"#m62fa332a0c\" y=\"224.332789\"/>\r\n     <use style=\"fill:#d62728;stroke:#d62728;\" x=\"57.527131\" xlink:href=\"#m62fa332a0c\" y=\"224.332789\"/>\r\n     <use style=\"fill:#d62728;stroke:#d62728;\" x=\"57.527131\" xlink:href=\"#m62fa332a0c\" y=\"224.332789\"/>\r\n     <use style=\"fill:#d62728;stroke:#d62728;\" x=\"57.527131\" xlink:href=\"#m62fa332a0c\" y=\"224.332789\"/>\r\n     <use style=\"fill:#d62728;stroke:#d62728;\" x=\"57.527131\" xlink:href=\"#m62fa332a0c\" y=\"224.332789\"/>\r\n     <use style=\"fill:#d62728;stroke:#d62728;\" x=\"57.527131\" xlink:href=\"#m62fa332a0c\" y=\"224.332789\"/>\r\n     <use style=\"fill:#d62728;stroke:#d62728;\" x=\"57.527131\" xlink:href=\"#m62fa332a0c\" y=\"224.332789\"/>\r\n     <use style=\"fill:#d62728;stroke:#d62728;\" x=\"57.527131\" xlink:href=\"#m62fa332a0c\" y=\"224.332789\"/>\r\n     <use style=\"fill:#d62728;stroke:#d62728;\" x=\"57.527131\" xlink:href=\"#m62fa332a0c\" y=\"224.332789\"/>\r\n     <use style=\"fill:#d62728;stroke:#d62728;\" x=\"57.527131\" xlink:href=\"#m62fa332a0c\" y=\"224.332789\"/>\r\n     <use style=\"fill:#d62728;stroke:#d62728;\" x=\"57.527131\" xlink:href=\"#m62fa332a0c\" y=\"224.332789\"/>\r\n     <use style=\"fill:#d62728;stroke:#d62728;\" x=\"57.527131\" xlink:href=\"#m62fa332a0c\" y=\"224.332789\"/>\r\n     <use style=\"fill:#d62728;stroke:#d62728;\" x=\"57.527131\" xlink:href=\"#m62fa332a0c\" y=\"224.332789\"/>\r\n     <use style=\"fill:#d62728;stroke:#d62728;\" x=\"57.527131\" xlink:href=\"#m62fa332a0c\" y=\"224.332789\"/>\r\n     <use style=\"fill:#d62728;stroke:#d62728;\" x=\"57.527131\" xlink:href=\"#m62fa332a0c\" y=\"224.332789\"/>\r\n     <use style=\"fill:#d62728;stroke:#d62728;\" x=\"57.527131\" xlink:href=\"#m62fa332a0c\" y=\"224.332789\"/>\r\n     <use style=\"fill:#d62728;stroke:#d62728;\" x=\"57.527131\" xlink:href=\"#m62fa332a0c\" y=\"224.332789\"/>\r\n     <use style=\"fill:#d62728;stroke:#d62728;\" x=\"57.527131\" xlink:href=\"#m62fa332a0c\" y=\"224.332789\"/>\r\n     <use style=\"fill:#d62728;stroke:#d62728;\" x=\"57.527131\" xlink:href=\"#m62fa332a0c\" y=\"224.332789\"/>\r\n     <use style=\"fill:#d62728;stroke:#d62728;\" x=\"57.527131\" xlink:href=\"#m62fa332a0c\" y=\"224.332789\"/>\r\n     <use style=\"fill:#d62728;stroke:#d62728;\" x=\"57.527131\" xlink:href=\"#m62fa332a0c\" y=\"224.332789\"/>\r\n     <use style=\"fill:#d62728;stroke:#d62728;\" x=\"57.527131\" xlink:href=\"#m62fa332a0c\" y=\"224.332789\"/>\r\n     <use style=\"fill:#d62728;stroke:#d62728;\" x=\"57.527131\" xlink:href=\"#m62fa332a0c\" y=\"224.332789\"/>\r\n     <use style=\"fill:#d62728;stroke:#d62728;\" x=\"57.527131\" xlink:href=\"#m62fa332a0c\" y=\"224.332789\"/>\r\n     <use style=\"fill:#d62728;stroke:#d62728;\" x=\"57.527131\" xlink:href=\"#m62fa332a0c\" y=\"224.332789\"/>\r\n     <use style=\"fill:#d62728;stroke:#d62728;\" x=\"57.527131\" xlink:href=\"#m62fa332a0c\" y=\"224.332789\"/>\r\n     <use style=\"fill:#d62728;stroke:#d62728;\" x=\"57.527131\" xlink:href=\"#m62fa332a0c\" y=\"224.332789\"/>\r\n     <use style=\"fill:#d62728;stroke:#d62728;\" x=\"57.527131\" xlink:href=\"#m62fa332a0c\" y=\"224.332789\"/>\r\n     <use style=\"fill:#d62728;stroke:#d62728;\" x=\"57.527131\" xlink:href=\"#m62fa332a0c\" y=\"224.332789\"/>\r\n     <use style=\"fill:#d62728;stroke:#d62728;\" x=\"57.527131\" xlink:href=\"#m62fa332a0c\" y=\"224.332789\"/>\r\n     <use style=\"fill:#d62728;stroke:#d62728;\" x=\"57.527131\" xlink:href=\"#m62fa332a0c\" y=\"224.332789\"/>\r\n     <use style=\"fill:#d62728;stroke:#d62728;\" x=\"57.527131\" xlink:href=\"#m62fa332a0c\" y=\"224.332789\"/>\r\n     <use style=\"fill:#d62728;stroke:#d62728;\" x=\"57.527131\" xlink:href=\"#m62fa332a0c\" y=\"224.332789\"/>\r\n     <use style=\"fill:#d62728;stroke:#d62728;\" x=\"57.527131\" xlink:href=\"#m62fa332a0c\" y=\"224.332789\"/>\r\n     <use style=\"fill:#d62728;stroke:#d62728;\" x=\"57.527131\" xlink:href=\"#m62fa332a0c\" y=\"224.332789\"/>\r\n     <use style=\"fill:#d62728;stroke:#d62728;\" x=\"57.527131\" xlink:href=\"#m62fa332a0c\" y=\"224.332789\"/>\r\n     <use style=\"fill:#d62728;stroke:#d62728;\" x=\"57.527131\" xlink:href=\"#m62fa332a0c\" y=\"224.332789\"/>\r\n     <use style=\"fill:#d62728;stroke:#d62728;\" x=\"57.527131\" xlink:href=\"#m62fa332a0c\" y=\"224.332789\"/>\r\n     <use style=\"fill:#d62728;stroke:#d62728;\" x=\"57.527131\" xlink:href=\"#m62fa332a0c\" y=\"224.332789\"/>\r\n     <use style=\"fill:#d62728;stroke:#d62728;\" x=\"57.527131\" xlink:href=\"#m62fa332a0c\" y=\"224.332789\"/>\r\n     <use style=\"fill:#d62728;stroke:#d62728;\" x=\"57.527131\" xlink:href=\"#m62fa332a0c\" y=\"224.332789\"/>\r\n     <use style=\"fill:#d62728;stroke:#d62728;\" x=\"57.527131\" xlink:href=\"#m62fa332a0c\" y=\"224.332789\"/>\r\n     <use style=\"fill:#d62728;stroke:#d62728;\" x=\"57.527131\" xlink:href=\"#m62fa332a0c\" y=\"224.332789\"/>\r\n     <use style=\"fill:#d62728;stroke:#d62728;\" x=\"57.527131\" xlink:href=\"#m62fa332a0c\" y=\"224.332789\"/>\r\n     <use style=\"fill:#d62728;stroke:#d62728;\" x=\"57.527131\" xlink:href=\"#m62fa332a0c\" y=\"224.332789\"/>\r\n     <use style=\"fill:#d62728;stroke:#d62728;\" x=\"57.527131\" xlink:href=\"#m62fa332a0c\" y=\"224.332789\"/>\r\n     <use style=\"fill:#d62728;stroke:#d62728;\" x=\"57.527131\" xlink:href=\"#m62fa332a0c\" y=\"224.332789\"/>\r\n     <use style=\"fill:#d62728;stroke:#d62728;\" x=\"57.527131\" xlink:href=\"#m62fa332a0c\" y=\"224.332789\"/>\r\n     <use style=\"fill:#d62728;stroke:#d62728;\" x=\"57.527131\" xlink:href=\"#m62fa332a0c\" y=\"224.332789\"/>\r\n     <use style=\"fill:#d62728;stroke:#d62728;\" x=\"57.527131\" xlink:href=\"#m62fa332a0c\" y=\"224.332789\"/>\r\n     <use style=\"fill:#d62728;stroke:#d62728;\" x=\"57.527131\" xlink:href=\"#m62fa332a0c\" y=\"224.332789\"/>\r\n     <use style=\"fill:#d62728;stroke:#d62728;\" x=\"57.527131\" xlink:href=\"#m62fa332a0c\" y=\"224.332789\"/>\r\n     <use style=\"fill:#d62728;stroke:#d62728;\" x=\"57.527131\" xlink:href=\"#m62fa332a0c\" y=\"224.332789\"/>\r\n     <use style=\"fill:#d62728;stroke:#d62728;\" x=\"57.527131\" xlink:href=\"#m62fa332a0c\" y=\"224.332789\"/>\r\n     <use style=\"fill:#d62728;stroke:#d62728;\" x=\"57.527131\" xlink:href=\"#m62fa332a0c\" y=\"224.332789\"/>\r\n     <use style=\"fill:#d62728;stroke:#d62728;\" x=\"57.527131\" xlink:href=\"#m62fa332a0c\" y=\"224.332789\"/>\r\n     <use style=\"fill:#d62728;stroke:#d62728;\" x=\"57.527131\" xlink:href=\"#m62fa332a0c\" y=\"224.332789\"/>\r\n     <use style=\"fill:#d62728;stroke:#d62728;\" x=\"57.527131\" xlink:href=\"#m62fa332a0c\" y=\"224.332789\"/>\r\n     <use style=\"fill:#d62728;stroke:#d62728;\" x=\"57.527131\" xlink:href=\"#m62fa332a0c\" y=\"224.332789\"/>\r\n     <use style=\"fill:#d62728;stroke:#d62728;\" x=\"57.527131\" xlink:href=\"#m62fa332a0c\" y=\"224.332789\"/>\r\n     <use style=\"fill:#d62728;stroke:#d62728;\" x=\"57.527131\" xlink:href=\"#m62fa332a0c\" y=\"224.332789\"/>\r\n     <use style=\"fill:#d62728;stroke:#d62728;\" x=\"57.527131\" xlink:href=\"#m62fa332a0c\" y=\"224.332789\"/>\r\n     <use style=\"fill:#d62728;stroke:#d62728;\" x=\"57.527131\" xlink:href=\"#m62fa332a0c\" y=\"224.332789\"/>\r\n     <use style=\"fill:#d62728;stroke:#d62728;\" x=\"57.527131\" xlink:href=\"#m62fa332a0c\" y=\"224.332789\"/>\r\n     <use style=\"fill:#d62728;stroke:#d62728;\" x=\"57.527131\" xlink:href=\"#m62fa332a0c\" y=\"224.332789\"/>\r\n     <use style=\"fill:#d62728;stroke:#d62728;\" x=\"57.527131\" xlink:href=\"#m62fa332a0c\" y=\"224.332789\"/>\r\n     <use style=\"fill:#d62728;stroke:#d62728;\" x=\"57.527131\" xlink:href=\"#m62fa332a0c\" y=\"224.332789\"/>\r\n     <use style=\"fill:#d62728;stroke:#d62728;\" x=\"57.527131\" xlink:href=\"#m62fa332a0c\" y=\"224.332789\"/>\r\n     <use style=\"fill:#d62728;stroke:#d62728;\" x=\"57.527131\" xlink:href=\"#m62fa332a0c\" y=\"224.332789\"/>\r\n     <use style=\"fill:#d62728;stroke:#d62728;\" x=\"57.527131\" xlink:href=\"#m62fa332a0c\" y=\"224.332789\"/>\r\n     <use style=\"fill:#d62728;stroke:#d62728;\" x=\"57.527131\" xlink:href=\"#m62fa332a0c\" y=\"224.332789\"/>\r\n     <use style=\"fill:#d62728;stroke:#d62728;\" x=\"57.527131\" xlink:href=\"#m62fa332a0c\" y=\"224.332789\"/>\r\n     <use style=\"fill:#d62728;stroke:#d62728;\" x=\"57.527131\" xlink:href=\"#m62fa332a0c\" y=\"224.332789\"/>\r\n     <use style=\"fill:#d62728;stroke:#d62728;\" x=\"57.527131\" xlink:href=\"#m62fa332a0c\" y=\"224.332789\"/>\r\n     <use style=\"fill:#d62728;stroke:#d62728;\" x=\"57.527131\" xlink:href=\"#m62fa332a0c\" y=\"224.332789\"/>\r\n     <use style=\"fill:#d62728;stroke:#d62728;\" x=\"57.527131\" xlink:href=\"#m62fa332a0c\" y=\"224.332789\"/>\r\n     <use style=\"fill:#d62728;stroke:#d62728;\" x=\"57.527131\" xlink:href=\"#m62fa332a0c\" y=\"224.332789\"/>\r\n     <use style=\"fill:#d62728;stroke:#d62728;\" x=\"57.527131\" xlink:href=\"#m62fa332a0c\" y=\"224.332789\"/>\r\n     <use style=\"fill:#d62728;stroke:#d62728;\" x=\"57.527131\" xlink:href=\"#m62fa332a0c\" y=\"224.332789\"/>\r\n     <use style=\"fill:#d62728;stroke:#d62728;\" x=\"57.527131\" xlink:href=\"#m62fa332a0c\" y=\"224.332789\"/>\r\n     <use style=\"fill:#d62728;stroke:#d62728;\" x=\"57.527131\" xlink:href=\"#m62fa332a0c\" y=\"224.332789\"/>\r\n     <use style=\"fill:#d62728;stroke:#d62728;\" x=\"57.527131\" xlink:href=\"#m62fa332a0c\" y=\"224.332789\"/>\r\n     <use style=\"fill:#d62728;stroke:#d62728;\" x=\"57.527131\" xlink:href=\"#m62fa332a0c\" y=\"224.332789\"/>\r\n     <use style=\"fill:#d62728;stroke:#d62728;\" x=\"57.527131\" xlink:href=\"#m62fa332a0c\" y=\"224.332789\"/>\r\n     <use style=\"fill:#d62728;stroke:#d62728;\" x=\"57.527131\" xlink:href=\"#m62fa332a0c\" y=\"224.332789\"/>\r\n     <use style=\"fill:#d62728;stroke:#d62728;\" x=\"57.527131\" xlink:href=\"#m62fa332a0c\" y=\"224.332789\"/>\r\n     <use style=\"fill:#d62728;stroke:#d62728;\" x=\"57.527131\" xlink:href=\"#m62fa332a0c\" y=\"224.332789\"/>\r\n     <use style=\"fill:#d62728;stroke:#d62728;\" x=\"57.527131\" xlink:href=\"#m62fa332a0c\" y=\"224.332789\"/>\r\n     <use style=\"fill:#d62728;stroke:#d62728;\" x=\"57.527131\" xlink:href=\"#m62fa332a0c\" y=\"224.332789\"/>\r\n     <use style=\"fill:#d62728;stroke:#d62728;\" x=\"57.527131\" xlink:href=\"#m62fa332a0c\" y=\"224.332789\"/>\r\n     <use style=\"fill:#d62728;stroke:#d62728;\" x=\"57.527131\" xlink:href=\"#m62fa332a0c\" y=\"224.332789\"/>\r\n     <use style=\"fill:#d62728;stroke:#d62728;\" x=\"57.527131\" xlink:href=\"#m62fa332a0c\" y=\"224.332789\"/>\r\n     <use style=\"fill:#d62728;stroke:#d62728;\" x=\"57.527131\" xlink:href=\"#m62fa332a0c\" y=\"224.332789\"/>\r\n     <use style=\"fill:#d62728;stroke:#d62728;\" x=\"57.527131\" xlink:href=\"#m62fa332a0c\" y=\"224.332789\"/>\r\n     <use style=\"fill:#d62728;stroke:#d62728;\" x=\"57.527131\" xlink:href=\"#m62fa332a0c\" y=\"224.332789\"/>\r\n     <use style=\"fill:#d62728;stroke:#d62728;\" x=\"57.527131\" xlink:href=\"#m62fa332a0c\" y=\"224.332789\"/>\r\n     <use style=\"fill:#d62728;stroke:#d62728;\" x=\"57.527131\" xlink:href=\"#m62fa332a0c\" y=\"224.332789\"/>\r\n     <use style=\"fill:#d62728;stroke:#d62728;\" x=\"57.527131\" xlink:href=\"#m62fa332a0c\" y=\"224.332789\"/>\r\n     <use style=\"fill:#d62728;stroke:#d62728;\" x=\"57.527131\" xlink:href=\"#m62fa332a0c\" y=\"224.332789\"/>\r\n     <use style=\"fill:#d62728;stroke:#d62728;\" x=\"57.527131\" xlink:href=\"#m62fa332a0c\" y=\"224.332789\"/>\r\n     <use style=\"fill:#d62728;stroke:#d62728;\" x=\"57.527131\" xlink:href=\"#m62fa332a0c\" y=\"224.332789\"/>\r\n     <use style=\"fill:#d62728;stroke:#d62728;\" x=\"57.527131\" xlink:href=\"#m62fa332a0c\" y=\"224.332789\"/>\r\n     <use style=\"fill:#d62728;stroke:#d62728;\" x=\"57.527131\" xlink:href=\"#m62fa332a0c\" y=\"224.332789\"/>\r\n     <use style=\"fill:#d62728;stroke:#d62728;\" x=\"57.527131\" xlink:href=\"#m62fa332a0c\" y=\"224.332789\"/>\r\n     <use style=\"fill:#d62728;stroke:#d62728;\" x=\"57.527131\" xlink:href=\"#m62fa332a0c\" y=\"224.332789\"/>\r\n     <use style=\"fill:#d62728;stroke:#d62728;\" x=\"57.527131\" xlink:href=\"#m62fa332a0c\" y=\"224.332789\"/>\r\n     <use style=\"fill:#d62728;stroke:#d62728;\" x=\"57.527131\" xlink:href=\"#m62fa332a0c\" y=\"224.332789\"/>\r\n     <use style=\"fill:#d62728;stroke:#d62728;\" x=\"57.527131\" xlink:href=\"#m62fa332a0c\" y=\"224.332789\"/>\r\n     <use style=\"fill:#d62728;stroke:#d62728;\" x=\"57.527131\" xlink:href=\"#m62fa332a0c\" y=\"224.332789\"/>\r\n     <use style=\"fill:#d62728;stroke:#d62728;\" x=\"57.527131\" xlink:href=\"#m62fa332a0c\" y=\"224.332789\"/>\r\n     <use style=\"fill:#d62728;stroke:#d62728;\" x=\"57.527131\" xlink:href=\"#m62fa332a0c\" y=\"224.332789\"/>\r\n     <use style=\"fill:#d62728;stroke:#d62728;\" x=\"57.527131\" xlink:href=\"#m62fa332a0c\" y=\"224.332789\"/>\r\n     <use style=\"fill:#d62728;stroke:#d62728;\" x=\"57.527131\" xlink:href=\"#m62fa332a0c\" y=\"224.332789\"/>\r\n     <use style=\"fill:#d62728;stroke:#d62728;\" x=\"57.527131\" xlink:href=\"#m62fa332a0c\" y=\"224.332789\"/>\r\n     <use style=\"fill:#d62728;stroke:#d62728;\" x=\"57.527131\" xlink:href=\"#m62fa332a0c\" y=\"224.332789\"/>\r\n     <use style=\"fill:#d62728;stroke:#d62728;\" x=\"57.527131\" xlink:href=\"#m62fa332a0c\" y=\"224.332789\"/>\r\n     <use style=\"fill:#d62728;stroke:#d62728;\" x=\"57.527131\" xlink:href=\"#m62fa332a0c\" y=\"224.332789\"/>\r\n     <use style=\"fill:#d62728;stroke:#d62728;\" x=\"57.527131\" xlink:href=\"#m62fa332a0c\" y=\"224.332789\"/>\r\n     <use style=\"fill:#d62728;stroke:#d62728;\" x=\"57.527131\" xlink:href=\"#m62fa332a0c\" y=\"224.332789\"/>\r\n     <use style=\"fill:#d62728;stroke:#d62728;\" x=\"57.527131\" xlink:href=\"#m62fa332a0c\" y=\"224.332789\"/>\r\n     <use style=\"fill:#d62728;stroke:#d62728;\" x=\"57.527131\" xlink:href=\"#m62fa332a0c\" y=\"224.332789\"/>\r\n     <use style=\"fill:#d62728;stroke:#d62728;\" x=\"57.527131\" xlink:href=\"#m62fa332a0c\" y=\"224.332789\"/>\r\n     <use style=\"fill:#d62728;stroke:#d62728;\" x=\"57.527131\" xlink:href=\"#m62fa332a0c\" y=\"224.332789\"/>\r\n     <use style=\"fill:#d62728;stroke:#d62728;\" x=\"57.527131\" xlink:href=\"#m62fa332a0c\" y=\"224.332789\"/>\r\n     <use style=\"fill:#d62728;stroke:#d62728;\" x=\"57.527131\" xlink:href=\"#m62fa332a0c\" y=\"224.332789\"/>\r\n     <use style=\"fill:#d62728;stroke:#d62728;\" x=\"57.527131\" xlink:href=\"#m62fa332a0c\" y=\"224.332789\"/>\r\n     <use style=\"fill:#d62728;stroke:#d62728;\" x=\"57.527131\" xlink:href=\"#m62fa332a0c\" y=\"224.332789\"/>\r\n     <use style=\"fill:#d62728;stroke:#d62728;\" x=\"57.527131\" xlink:href=\"#m62fa332a0c\" y=\"224.332789\"/>\r\n     <use style=\"fill:#d62728;stroke:#d62728;\" x=\"57.527131\" xlink:href=\"#m62fa332a0c\" y=\"224.332789\"/>\r\n     <use style=\"fill:#d62728;stroke:#d62728;\" x=\"57.527131\" xlink:href=\"#m62fa332a0c\" y=\"224.332789\"/>\r\n     <use style=\"fill:#d62728;stroke:#d62728;\" x=\"57.527131\" xlink:href=\"#m62fa332a0c\" y=\"224.332789\"/>\r\n     <use style=\"fill:#d62728;stroke:#d62728;\" x=\"57.527131\" xlink:href=\"#m62fa332a0c\" y=\"224.332789\"/>\r\n     <use style=\"fill:#d62728;stroke:#d62728;\" x=\"57.527131\" xlink:href=\"#m62fa332a0c\" y=\"224.332789\"/>\r\n     <use style=\"fill:#d62728;stroke:#d62728;\" x=\"57.527131\" xlink:href=\"#m62fa332a0c\" y=\"224.332789\"/>\r\n     <use style=\"fill:#d62728;stroke:#d62728;\" x=\"57.527131\" xlink:href=\"#m62fa332a0c\" y=\"224.332789\"/>\r\n     <use style=\"fill:#d62728;stroke:#d62728;\" x=\"57.527131\" xlink:href=\"#m62fa332a0c\" y=\"224.332789\"/>\r\n     <use style=\"fill:#d62728;stroke:#d62728;\" x=\"57.527131\" xlink:href=\"#m62fa332a0c\" y=\"224.332789\"/>\r\n     <use style=\"fill:#d62728;stroke:#d62728;\" x=\"57.527131\" xlink:href=\"#m62fa332a0c\" y=\"224.332789\"/>\r\n     <use style=\"fill:#d62728;stroke:#d62728;\" x=\"57.527131\" xlink:href=\"#m62fa332a0c\" y=\"224.332789\"/>\r\n     <use style=\"fill:#d62728;stroke:#d62728;\" x=\"57.527131\" xlink:href=\"#m62fa332a0c\" y=\"224.332789\"/>\r\n     <use style=\"fill:#d62728;stroke:#d62728;\" x=\"57.527131\" xlink:href=\"#m62fa332a0c\" y=\"224.332789\"/>\r\n     <use style=\"fill:#d62728;stroke:#d62728;\" x=\"57.527131\" xlink:href=\"#m62fa332a0c\" y=\"224.332789\"/>\r\n     <use style=\"fill:#d62728;stroke:#d62728;\" x=\"57.527131\" xlink:href=\"#m62fa332a0c\" y=\"224.332789\"/>\r\n     <use style=\"fill:#d62728;stroke:#d62728;\" x=\"57.527131\" xlink:href=\"#m62fa332a0c\" y=\"224.332789\"/>\r\n     <use style=\"fill:#d62728;stroke:#d62728;\" x=\"57.527131\" xlink:href=\"#m62fa332a0c\" y=\"224.332789\"/>\r\n     <use style=\"fill:#d62728;stroke:#d62728;\" x=\"57.527131\" xlink:href=\"#m62fa332a0c\" y=\"224.332789\"/>\r\n     <use style=\"fill:#d62728;stroke:#d62728;\" x=\"57.527131\" xlink:href=\"#m62fa332a0c\" y=\"224.332789\"/>\r\n     <use style=\"fill:#d62728;stroke:#d62728;\" x=\"57.527131\" xlink:href=\"#m62fa332a0c\" y=\"224.332789\"/>\r\n     <use style=\"fill:#d62728;stroke:#d62728;\" x=\"57.527131\" xlink:href=\"#m62fa332a0c\" y=\"224.332789\"/>\r\n     <use style=\"fill:#d62728;stroke:#d62728;\" x=\"57.527131\" xlink:href=\"#m62fa332a0c\" y=\"224.332789\"/>\r\n     <use style=\"fill:#d62728;stroke:#d62728;\" x=\"57.527131\" xlink:href=\"#m62fa332a0c\" y=\"224.332789\"/>\r\n     <use style=\"fill:#d62728;stroke:#d62728;\" x=\"57.527131\" xlink:href=\"#m62fa332a0c\" y=\"224.332789\"/>\r\n     <use style=\"fill:#d62728;stroke:#d62728;\" x=\"57.527131\" xlink:href=\"#m62fa332a0c\" y=\"224.332789\"/>\r\n     <use style=\"fill:#d62728;stroke:#d62728;\" x=\"57.527131\" xlink:href=\"#m62fa332a0c\" y=\"224.332789\"/>\r\n     <use style=\"fill:#d62728;stroke:#d62728;\" x=\"57.527131\" xlink:href=\"#m62fa332a0c\" y=\"224.332789\"/>\r\n     <use style=\"fill:#d62728;stroke:#d62728;\" x=\"57.527131\" xlink:href=\"#m62fa332a0c\" y=\"224.332789\"/>\r\n     <use style=\"fill:#d62728;stroke:#d62728;\" x=\"57.527131\" xlink:href=\"#m62fa332a0c\" y=\"224.332789\"/>\r\n     <use style=\"fill:#d62728;stroke:#d62728;\" x=\"57.527131\" xlink:href=\"#m62fa332a0c\" y=\"224.332789\"/>\r\n     <use style=\"fill:#d62728;stroke:#d62728;\" x=\"57.527131\" xlink:href=\"#m62fa332a0c\" y=\"224.332789\"/>\r\n     <use style=\"fill:#d62728;stroke:#d62728;\" x=\"57.527131\" xlink:href=\"#m62fa332a0c\" y=\"224.332789\"/>\r\n     <use style=\"fill:#d62728;stroke:#d62728;\" x=\"57.527131\" xlink:href=\"#m62fa332a0c\" y=\"224.332789\"/>\r\n     <use style=\"fill:#d62728;stroke:#d62728;\" x=\"57.527131\" xlink:href=\"#m62fa332a0c\" y=\"224.332789\"/>\r\n     <use style=\"fill:#d62728;stroke:#d62728;\" x=\"57.527131\" xlink:href=\"#m62fa332a0c\" y=\"224.332789\"/>\r\n     <use style=\"fill:#d62728;stroke:#d62728;\" x=\"57.527131\" xlink:href=\"#m62fa332a0c\" y=\"224.332789\"/>\r\n     <use style=\"fill:#d62728;stroke:#d62728;\" x=\"57.527131\" xlink:href=\"#m62fa332a0c\" y=\"224.332789\"/>\r\n     <use style=\"fill:#d62728;stroke:#d62728;\" x=\"57.527131\" xlink:href=\"#m62fa332a0c\" y=\"224.332789\"/>\r\n     <use style=\"fill:#d62728;stroke:#d62728;\" x=\"57.527131\" xlink:href=\"#m62fa332a0c\" y=\"224.332789\"/>\r\n     <use style=\"fill:#d62728;stroke:#d62728;\" x=\"57.527131\" xlink:href=\"#m62fa332a0c\" y=\"224.332789\"/>\r\n     <use style=\"fill:#d62728;stroke:#d62728;\" x=\"57.527131\" xlink:href=\"#m62fa332a0c\" y=\"224.332789\"/>\r\n     <use style=\"fill:#d62728;stroke:#d62728;\" x=\"57.527131\" xlink:href=\"#m62fa332a0c\" y=\"224.332789\"/>\r\n     <use style=\"fill:#d62728;stroke:#d62728;\" x=\"57.527131\" xlink:href=\"#m62fa332a0c\" y=\"224.332789\"/>\r\n     <use style=\"fill:#d62728;stroke:#d62728;\" x=\"57.527131\" xlink:href=\"#m62fa332a0c\" y=\"224.332789\"/>\r\n     <use style=\"fill:#d62728;stroke:#d62728;\" x=\"57.527131\" xlink:href=\"#m62fa332a0c\" y=\"224.332789\"/>\r\n     <use style=\"fill:#d62728;stroke:#d62728;\" x=\"57.527131\" xlink:href=\"#m62fa332a0c\" y=\"224.332789\"/>\r\n     <use style=\"fill:#d62728;stroke:#d62728;\" x=\"57.527131\" xlink:href=\"#m62fa332a0c\" y=\"224.332789\"/>\r\n     <use style=\"fill:#d62728;stroke:#d62728;\" x=\"57.527131\" xlink:href=\"#m62fa332a0c\" y=\"224.332789\"/>\r\n     <use style=\"fill:#d62728;stroke:#d62728;\" x=\"57.527131\" xlink:href=\"#m62fa332a0c\" y=\"224.332789\"/>\r\n     <use style=\"fill:#d62728;stroke:#d62728;\" x=\"57.527131\" xlink:href=\"#m62fa332a0c\" y=\"224.332789\"/>\r\n     <use style=\"fill:#d62728;stroke:#d62728;\" x=\"57.527131\" xlink:href=\"#m62fa332a0c\" y=\"224.332789\"/>\r\n     <use style=\"fill:#d62728;stroke:#d62728;\" x=\"57.527131\" xlink:href=\"#m62fa332a0c\" y=\"224.332789\"/>\r\n     <use style=\"fill:#d62728;stroke:#d62728;\" x=\"57.527131\" xlink:href=\"#m62fa332a0c\" y=\"224.332789\"/>\r\n     <use style=\"fill:#d62728;stroke:#d62728;\" x=\"57.527131\" xlink:href=\"#m62fa332a0c\" y=\"224.332789\"/>\r\n     <use style=\"fill:#d62728;stroke:#d62728;\" x=\"57.527131\" xlink:href=\"#m62fa332a0c\" y=\"224.332789\"/>\r\n     <use style=\"fill:#d62728;stroke:#d62728;\" x=\"57.527131\" xlink:href=\"#m62fa332a0c\" y=\"224.332789\"/>\r\n     <use style=\"fill:#d62728;stroke:#d62728;\" x=\"57.527131\" xlink:href=\"#m62fa332a0c\" y=\"224.332789\"/>\r\n     <use style=\"fill:#d62728;stroke:#d62728;\" x=\"57.527131\" xlink:href=\"#m62fa332a0c\" y=\"224.332789\"/>\r\n     <use style=\"fill:#d62728;stroke:#d62728;\" x=\"57.527131\" xlink:href=\"#m62fa332a0c\" y=\"224.332789\"/>\r\n     <use style=\"fill:#d62728;stroke:#d62728;\" x=\"57.527131\" xlink:href=\"#m62fa332a0c\" y=\"224.332789\"/>\r\n     <use style=\"fill:#d62728;stroke:#d62728;\" x=\"57.527131\" xlink:href=\"#m62fa332a0c\" y=\"224.332789\"/>\r\n     <use style=\"fill:#d62728;stroke:#d62728;\" x=\"57.527131\" xlink:href=\"#m62fa332a0c\" y=\"224.332789\"/>\r\n     <use style=\"fill:#d62728;stroke:#d62728;\" x=\"57.527131\" xlink:href=\"#m62fa332a0c\" y=\"224.332789\"/>\r\n     <use style=\"fill:#d62728;stroke:#d62728;\" x=\"57.527131\" xlink:href=\"#m62fa332a0c\" y=\"224.332789\"/>\r\n     <use style=\"fill:#d62728;stroke:#d62728;\" x=\"57.527131\" xlink:href=\"#m62fa332a0c\" y=\"224.332789\"/>\r\n     <use style=\"fill:#d62728;stroke:#d62728;\" x=\"57.527131\" xlink:href=\"#m62fa332a0c\" y=\"224.332789\"/>\r\n     <use style=\"fill:#d62728;stroke:#d62728;\" x=\"57.527131\" xlink:href=\"#m62fa332a0c\" y=\"224.332789\"/>\r\n     <use style=\"fill:#d62728;stroke:#d62728;\" x=\"57.527131\" xlink:href=\"#m62fa332a0c\" y=\"224.332789\"/>\r\n     <use style=\"fill:#d62728;stroke:#d62728;\" x=\"57.527131\" xlink:href=\"#m62fa332a0c\" y=\"224.332789\"/>\r\n     <use style=\"fill:#d62728;stroke:#d62728;\" x=\"57.527131\" xlink:href=\"#m62fa332a0c\" y=\"224.332789\"/>\r\n     <use style=\"fill:#d62728;stroke:#d62728;\" x=\"57.527131\" xlink:href=\"#m62fa332a0c\" y=\"224.332789\"/>\r\n     <use style=\"fill:#d62728;stroke:#d62728;\" x=\"57.527131\" xlink:href=\"#m62fa332a0c\" y=\"224.332789\"/>\r\n     <use style=\"fill:#d62728;stroke:#d62728;\" x=\"57.527131\" xlink:href=\"#m62fa332a0c\" y=\"224.332789\"/>\r\n     <use style=\"fill:#d62728;stroke:#d62728;\" x=\"57.527131\" xlink:href=\"#m62fa332a0c\" y=\"224.332789\"/>\r\n     <use style=\"fill:#d62728;stroke:#d62728;\" x=\"57.527131\" xlink:href=\"#m62fa332a0c\" y=\"224.332789\"/>\r\n     <use style=\"fill:#d62728;stroke:#d62728;\" x=\"57.527131\" xlink:href=\"#m62fa332a0c\" y=\"224.332789\"/>\r\n     <use style=\"fill:#d62728;stroke:#d62728;\" x=\"57.527131\" xlink:href=\"#m62fa332a0c\" y=\"224.332789\"/>\r\n     <use style=\"fill:#d62728;stroke:#d62728;\" x=\"57.527131\" xlink:href=\"#m62fa332a0c\" y=\"224.332789\"/>\r\n     <use style=\"fill:#d62728;stroke:#d62728;\" x=\"57.527131\" xlink:href=\"#m62fa332a0c\" y=\"224.332789\"/>\r\n     <use style=\"fill:#d62728;stroke:#d62728;\" x=\"57.527131\" xlink:href=\"#m62fa332a0c\" y=\"224.332789\"/>\r\n     <use style=\"fill:#d62728;stroke:#d62728;\" x=\"57.527131\" xlink:href=\"#m62fa332a0c\" y=\"224.332789\"/>\r\n     <use style=\"fill:#d62728;stroke:#d62728;\" x=\"57.527131\" xlink:href=\"#m62fa332a0c\" y=\"224.332789\"/>\r\n     <use style=\"fill:#d62728;stroke:#d62728;\" x=\"57.527131\" xlink:href=\"#m62fa332a0c\" y=\"224.332789\"/>\r\n     <use style=\"fill:#d62728;stroke:#d62728;\" x=\"57.527131\" xlink:href=\"#m62fa332a0c\" y=\"224.332789\"/>\r\n     <use style=\"fill:#d62728;stroke:#d62728;\" x=\"57.527131\" xlink:href=\"#m62fa332a0c\" y=\"224.332789\"/>\r\n     <use style=\"fill:#d62728;stroke:#d62728;\" x=\"57.527131\" xlink:href=\"#m62fa332a0c\" y=\"224.332789\"/>\r\n     <use style=\"fill:#d62728;stroke:#d62728;\" x=\"57.527131\" xlink:href=\"#m62fa332a0c\" y=\"224.332789\"/>\r\n     <use style=\"fill:#d62728;stroke:#d62728;\" x=\"57.527131\" xlink:href=\"#m62fa332a0c\" y=\"224.332789\"/>\r\n     <use style=\"fill:#d62728;stroke:#d62728;\" x=\"57.527131\" xlink:href=\"#m62fa332a0c\" y=\"224.332789\"/>\r\n     <use style=\"fill:#d62728;stroke:#d62728;\" x=\"57.527131\" xlink:href=\"#m62fa332a0c\" y=\"224.332789\"/>\r\n     <use style=\"fill:#d62728;stroke:#d62728;\" x=\"57.527131\" xlink:href=\"#m62fa332a0c\" y=\"224.332789\"/>\r\n     <use style=\"fill:#d62728;stroke:#d62728;\" x=\"57.527131\" xlink:href=\"#m62fa332a0c\" y=\"224.332789\"/>\r\n     <use style=\"fill:#d62728;stroke:#d62728;\" x=\"57.527131\" xlink:href=\"#m62fa332a0c\" y=\"224.332789\"/>\r\n     <use style=\"fill:#d62728;stroke:#d62728;\" x=\"57.527131\" xlink:href=\"#m62fa332a0c\" y=\"224.332789\"/>\r\n     <use style=\"fill:#d62728;stroke:#d62728;\" x=\"57.527131\" xlink:href=\"#m62fa332a0c\" y=\"224.332789\"/>\r\n     <use style=\"fill:#d62728;stroke:#d62728;\" x=\"57.527131\" xlink:href=\"#m62fa332a0c\" y=\"224.332789\"/>\r\n     <use style=\"fill:#d62728;stroke:#d62728;\" x=\"57.527131\" xlink:href=\"#m62fa332a0c\" y=\"224.332789\"/>\r\n     <use style=\"fill:#d62728;stroke:#d62728;\" x=\"57.527131\" xlink:href=\"#m62fa332a0c\" y=\"224.332789\"/>\r\n     <use style=\"fill:#d62728;stroke:#d62728;\" x=\"57.527131\" xlink:href=\"#m62fa332a0c\" y=\"224.332789\"/>\r\n     <use style=\"fill:#d62728;stroke:#d62728;\" x=\"57.527131\" xlink:href=\"#m62fa332a0c\" y=\"224.332789\"/>\r\n    </g>\r\n   </g>\r\n   <g id=\"PathCollection_5\">\r\n    <defs>\r\n     <path d=\"M 0 2.236068 \r\nC 0.593012 2.236068 1.161816 2.000462 1.581139 1.581139 \r\nC 2.000462 1.161816 2.236068 0.593012 2.236068 0 \r\nC 2.236068 -0.593012 2.000462 -1.161816 1.581139 -1.581139 \r\nC 1.161816 -2.000462 0.593012 -2.236068 0 -2.236068 \r\nC -0.593012 -2.236068 -1.161816 -2.000462 -1.581139 -1.581139 \r\nC -2.000462 -1.161816 -2.236068 -0.593012 -2.236068 0 \r\nC -2.236068 0.593012 -2.000462 1.161816 -1.581139 1.581139 \r\nC -1.161816 2.000462 -0.593012 2.236068 0 2.236068 \r\nz\r\n\" id=\"m2059734be7\" style=\"stroke:#9467bd;\"/>\r\n    </defs>\r\n    <g clip-path=\"url(#p90a814f91a)\">\r\n     <use style=\"fill:#9467bd;stroke:#9467bd;\" x=\"146.482074\" xlink:href=\"#m2059734be7\" y=\"34.67267\"/>\r\n     <use style=\"fill:#9467bd;stroke:#9467bd;\" x=\"146.482074\" xlink:href=\"#m2059734be7\" y=\"34.67267\"/>\r\n     <use style=\"fill:#9467bd;stroke:#9467bd;\" x=\"146.482074\" xlink:href=\"#m2059734be7\" y=\"34.67267\"/>\r\n     <use style=\"fill:#9467bd;stroke:#9467bd;\" x=\"146.482074\" xlink:href=\"#m2059734be7\" y=\"34.67267\"/>\r\n     <use style=\"fill:#9467bd;stroke:#9467bd;\" x=\"146.482074\" xlink:href=\"#m2059734be7\" y=\"34.67267\"/>\r\n     <use style=\"fill:#9467bd;stroke:#9467bd;\" x=\"146.482074\" xlink:href=\"#m2059734be7\" y=\"34.67267\"/>\r\n     <use style=\"fill:#9467bd;stroke:#9467bd;\" x=\"146.482074\" xlink:href=\"#m2059734be7\" y=\"34.67267\"/>\r\n     <use style=\"fill:#9467bd;stroke:#9467bd;\" x=\"146.482074\" xlink:href=\"#m2059734be7\" y=\"34.67267\"/>\r\n     <use style=\"fill:#9467bd;stroke:#9467bd;\" x=\"146.482074\" xlink:href=\"#m2059734be7\" y=\"34.67267\"/>\r\n     <use style=\"fill:#9467bd;stroke:#9467bd;\" x=\"146.482074\" xlink:href=\"#m2059734be7\" y=\"34.67267\"/>\r\n     <use style=\"fill:#9467bd;stroke:#9467bd;\" x=\"146.482074\" xlink:href=\"#m2059734be7\" y=\"34.67267\"/>\r\n     <use style=\"fill:#9467bd;stroke:#9467bd;\" x=\"146.482074\" xlink:href=\"#m2059734be7\" y=\"34.67267\"/>\r\n     <use style=\"fill:#9467bd;stroke:#9467bd;\" x=\"146.482074\" xlink:href=\"#m2059734be7\" y=\"34.67267\"/>\r\n     <use style=\"fill:#9467bd;stroke:#9467bd;\" x=\"146.482074\" xlink:href=\"#m2059734be7\" y=\"34.67267\"/>\r\n     <use style=\"fill:#9467bd;stroke:#9467bd;\" x=\"146.482074\" xlink:href=\"#m2059734be7\" y=\"34.67267\"/>\r\n     <use style=\"fill:#9467bd;stroke:#9467bd;\" x=\"146.482074\" xlink:href=\"#m2059734be7\" y=\"34.67267\"/>\r\n     <use style=\"fill:#9467bd;stroke:#9467bd;\" x=\"146.482074\" xlink:href=\"#m2059734be7\" y=\"34.67267\"/>\r\n     <use style=\"fill:#9467bd;stroke:#9467bd;\" x=\"146.482074\" xlink:href=\"#m2059734be7\" y=\"34.67267\"/>\r\n     <use style=\"fill:#9467bd;stroke:#9467bd;\" x=\"146.482074\" xlink:href=\"#m2059734be7\" y=\"34.67267\"/>\r\n     <use style=\"fill:#9467bd;stroke:#9467bd;\" x=\"146.482074\" xlink:href=\"#m2059734be7\" y=\"34.67267\"/>\r\n     <use style=\"fill:#9467bd;stroke:#9467bd;\" x=\"146.482074\" xlink:href=\"#m2059734be7\" y=\"34.67267\"/>\r\n     <use style=\"fill:#9467bd;stroke:#9467bd;\" x=\"146.482074\" xlink:href=\"#m2059734be7\" y=\"34.67267\"/>\r\n     <use style=\"fill:#9467bd;stroke:#9467bd;\" x=\"146.482074\" xlink:href=\"#m2059734be7\" y=\"34.67267\"/>\r\n     <use style=\"fill:#9467bd;stroke:#9467bd;\" x=\"146.482074\" xlink:href=\"#m2059734be7\" y=\"34.67267\"/>\r\n     <use style=\"fill:#9467bd;stroke:#9467bd;\" x=\"146.482074\" xlink:href=\"#m2059734be7\" y=\"34.67267\"/>\r\n     <use style=\"fill:#9467bd;stroke:#9467bd;\" x=\"146.482074\" xlink:href=\"#m2059734be7\" y=\"34.67267\"/>\r\n     <use style=\"fill:#9467bd;stroke:#9467bd;\" x=\"146.482074\" xlink:href=\"#m2059734be7\" y=\"34.67267\"/>\r\n     <use style=\"fill:#9467bd;stroke:#9467bd;\" x=\"146.482074\" xlink:href=\"#m2059734be7\" y=\"34.67267\"/>\r\n     <use style=\"fill:#9467bd;stroke:#9467bd;\" x=\"146.482074\" xlink:href=\"#m2059734be7\" y=\"34.67267\"/>\r\n     <use style=\"fill:#9467bd;stroke:#9467bd;\" x=\"146.482074\" xlink:href=\"#m2059734be7\" y=\"34.67267\"/>\r\n     <use style=\"fill:#9467bd;stroke:#9467bd;\" x=\"146.482074\" xlink:href=\"#m2059734be7\" y=\"34.67267\"/>\r\n     <use style=\"fill:#9467bd;stroke:#9467bd;\" x=\"146.482074\" xlink:href=\"#m2059734be7\" y=\"34.67267\"/>\r\n     <use style=\"fill:#9467bd;stroke:#9467bd;\" x=\"146.482074\" xlink:href=\"#m2059734be7\" y=\"34.67267\"/>\r\n     <use style=\"fill:#9467bd;stroke:#9467bd;\" x=\"146.482074\" xlink:href=\"#m2059734be7\" y=\"34.67267\"/>\r\n    </g>\r\n   </g>\r\n   <g id=\"PathCollection_6\">\r\n    <defs>\r\n     <path d=\"M 0 2.236068 \r\nC 0.593012 2.236068 1.161816 2.000462 1.581139 1.581139 \r\nC 2.000462 1.161816 2.236068 0.593012 2.236068 0 \r\nC 2.236068 -0.593012 2.000462 -1.161816 1.581139 -1.581139 \r\nC 1.161816 -2.000462 0.593012 -2.236068 0 -2.236068 \r\nC -0.593012 -2.236068 -1.161816 -2.000462 -1.581139 -1.581139 \r\nC -2.000462 -1.161816 -2.236068 -0.593012 -2.236068 0 \r\nC -2.236068 0.593012 -2.000462 1.161816 -1.581139 1.581139 \r\nC -1.161816 2.000462 -0.593012 2.236068 0 2.236068 \r\nz\r\n\" id=\"m4a6434f3d9\" style=\"stroke:#8c564b;\"/>\r\n    </defs>\r\n    <g clip-path=\"url(#p90a814f91a)\">\r\n     <use style=\"fill:#8c564b;stroke:#8c564b;\" x=\"66.108031\" xlink:href=\"#m4a6434f3d9\" y=\"239.69648\"/>\r\n     <use style=\"fill:#8c564b;stroke:#8c564b;\" x=\"66.108031\" xlink:href=\"#m4a6434f3d9\" y=\"239.69648\"/>\r\n     <use style=\"fill:#8c564b;stroke:#8c564b;\" x=\"66.108031\" xlink:href=\"#m4a6434f3d9\" y=\"239.69648\"/>\r\n     <use style=\"fill:#8c564b;stroke:#8c564b;\" x=\"66.108031\" xlink:href=\"#m4a6434f3d9\" y=\"239.69648\"/>\r\n     <use style=\"fill:#8c564b;stroke:#8c564b;\" x=\"66.108031\" xlink:href=\"#m4a6434f3d9\" y=\"239.69648\"/>\r\n     <use style=\"fill:#8c564b;stroke:#8c564b;\" x=\"66.108031\" xlink:href=\"#m4a6434f3d9\" y=\"239.69648\"/>\r\n     <use style=\"fill:#8c564b;stroke:#8c564b;\" x=\"66.108031\" xlink:href=\"#m4a6434f3d9\" y=\"239.69648\"/>\r\n     <use style=\"fill:#8c564b;stroke:#8c564b;\" x=\"66.108031\" xlink:href=\"#m4a6434f3d9\" y=\"239.69648\"/>\r\n     <use style=\"fill:#8c564b;stroke:#8c564b;\" x=\"66.108031\" xlink:href=\"#m4a6434f3d9\" y=\"239.69648\"/>\r\n     <use style=\"fill:#8c564b;stroke:#8c564b;\" x=\"66.108031\" xlink:href=\"#m4a6434f3d9\" y=\"239.69648\"/>\r\n     <use style=\"fill:#8c564b;stroke:#8c564b;\" x=\"66.108031\" xlink:href=\"#m4a6434f3d9\" y=\"239.69648\"/>\r\n     <use style=\"fill:#8c564b;stroke:#8c564b;\" x=\"66.108031\" xlink:href=\"#m4a6434f3d9\" y=\"239.69648\"/>\r\n     <use style=\"fill:#8c564b;stroke:#8c564b;\" x=\"66.108031\" xlink:href=\"#m4a6434f3d9\" y=\"239.69648\"/>\r\n     <use style=\"fill:#8c564b;stroke:#8c564b;\" x=\"66.108031\" xlink:href=\"#m4a6434f3d9\" y=\"239.69648\"/>\r\n     <use style=\"fill:#8c564b;stroke:#8c564b;\" x=\"66.108031\" xlink:href=\"#m4a6434f3d9\" y=\"239.69648\"/>\r\n     <use style=\"fill:#8c564b;stroke:#8c564b;\" x=\"66.108031\" xlink:href=\"#m4a6434f3d9\" y=\"239.69648\"/>\r\n     <use style=\"fill:#8c564b;stroke:#8c564b;\" x=\"66.108031\" xlink:href=\"#m4a6434f3d9\" y=\"239.69648\"/>\r\n     <use style=\"fill:#8c564b;stroke:#8c564b;\" x=\"66.108031\" xlink:href=\"#m4a6434f3d9\" y=\"239.69648\"/>\r\n     <use style=\"fill:#8c564b;stroke:#8c564b;\" x=\"66.108031\" xlink:href=\"#m4a6434f3d9\" y=\"239.69648\"/>\r\n     <use style=\"fill:#8c564b;stroke:#8c564b;\" x=\"66.108031\" xlink:href=\"#m4a6434f3d9\" y=\"239.69648\"/>\r\n     <use style=\"fill:#8c564b;stroke:#8c564b;\" x=\"66.108031\" xlink:href=\"#m4a6434f3d9\" y=\"239.69648\"/>\r\n     <use style=\"fill:#8c564b;stroke:#8c564b;\" x=\"66.108031\" xlink:href=\"#m4a6434f3d9\" y=\"239.69648\"/>\r\n     <use style=\"fill:#8c564b;stroke:#8c564b;\" x=\"66.108031\" xlink:href=\"#m4a6434f3d9\" y=\"239.69648\"/>\r\n     <use style=\"fill:#8c564b;stroke:#8c564b;\" x=\"66.108031\" xlink:href=\"#m4a6434f3d9\" y=\"239.69648\"/>\r\n     <use style=\"fill:#8c564b;stroke:#8c564b;\" x=\"66.108031\" xlink:href=\"#m4a6434f3d9\" y=\"239.69648\"/>\r\n     <use style=\"fill:#8c564b;stroke:#8c564b;\" x=\"66.108031\" xlink:href=\"#m4a6434f3d9\" y=\"239.69648\"/>\r\n     <use style=\"fill:#8c564b;stroke:#8c564b;\" x=\"66.108031\" xlink:href=\"#m4a6434f3d9\" y=\"239.69648\"/>\r\n     <use style=\"fill:#8c564b;stroke:#8c564b;\" x=\"66.108031\" xlink:href=\"#m4a6434f3d9\" y=\"239.69648\"/>\r\n     <use style=\"fill:#8c564b;stroke:#8c564b;\" x=\"66.108031\" xlink:href=\"#m4a6434f3d9\" y=\"239.69648\"/>\r\n     <use style=\"fill:#8c564b;stroke:#8c564b;\" x=\"66.108031\" xlink:href=\"#m4a6434f3d9\" y=\"239.69648\"/>\r\n     <use style=\"fill:#8c564b;stroke:#8c564b;\" x=\"66.108031\" xlink:href=\"#m4a6434f3d9\" y=\"239.69648\"/>\r\n     <use style=\"fill:#8c564b;stroke:#8c564b;\" x=\"66.108031\" xlink:href=\"#m4a6434f3d9\" y=\"239.69648\"/>\r\n     <use style=\"fill:#8c564b;stroke:#8c564b;\" x=\"66.108031\" xlink:href=\"#m4a6434f3d9\" y=\"239.69648\"/>\r\n     <use style=\"fill:#8c564b;stroke:#8c564b;\" x=\"66.108031\" xlink:href=\"#m4a6434f3d9\" y=\"239.69648\"/>\r\n     <use style=\"fill:#8c564b;stroke:#8c564b;\" x=\"66.108031\" xlink:href=\"#m4a6434f3d9\" y=\"239.69648\"/>\r\n     <use style=\"fill:#8c564b;stroke:#8c564b;\" x=\"66.108031\" xlink:href=\"#m4a6434f3d9\" y=\"239.69648\"/>\r\n     <use style=\"fill:#8c564b;stroke:#8c564b;\" x=\"66.108031\" xlink:href=\"#m4a6434f3d9\" y=\"239.69648\"/>\r\n     <use style=\"fill:#8c564b;stroke:#8c564b;\" x=\"66.108031\" xlink:href=\"#m4a6434f3d9\" y=\"239.69648\"/>\r\n     <use style=\"fill:#8c564b;stroke:#8c564b;\" x=\"66.108031\" xlink:href=\"#m4a6434f3d9\" y=\"239.69648\"/>\r\n     <use style=\"fill:#8c564b;stroke:#8c564b;\" x=\"66.108031\" xlink:href=\"#m4a6434f3d9\" y=\"239.69648\"/>\r\n     <use style=\"fill:#8c564b;stroke:#8c564b;\" x=\"66.108031\" xlink:href=\"#m4a6434f3d9\" y=\"239.69648\"/>\r\n     <use style=\"fill:#8c564b;stroke:#8c564b;\" x=\"66.108031\" xlink:href=\"#m4a6434f3d9\" y=\"239.69648\"/>\r\n     <use style=\"fill:#8c564b;stroke:#8c564b;\" x=\"66.108031\" xlink:href=\"#m4a6434f3d9\" y=\"239.69648\"/>\r\n     <use style=\"fill:#8c564b;stroke:#8c564b;\" x=\"66.108031\" xlink:href=\"#m4a6434f3d9\" y=\"239.69648\"/>\r\n     <use style=\"fill:#8c564b;stroke:#8c564b;\" x=\"66.108031\" xlink:href=\"#m4a6434f3d9\" y=\"239.69648\"/>\r\n     <use style=\"fill:#8c564b;stroke:#8c564b;\" x=\"66.108031\" xlink:href=\"#m4a6434f3d9\" y=\"239.69648\"/>\r\n     <use style=\"fill:#8c564b;stroke:#8c564b;\" x=\"66.108031\" xlink:href=\"#m4a6434f3d9\" y=\"239.69648\"/>\r\n     <use style=\"fill:#8c564b;stroke:#8c564b;\" x=\"66.108031\" xlink:href=\"#m4a6434f3d9\" y=\"239.69648\"/>\r\n     <use style=\"fill:#8c564b;stroke:#8c564b;\" x=\"66.108031\" xlink:href=\"#m4a6434f3d9\" y=\"239.69648\"/>\r\n     <use style=\"fill:#8c564b;stroke:#8c564b;\" x=\"66.108031\" xlink:href=\"#m4a6434f3d9\" y=\"239.69648\"/>\r\n     <use style=\"fill:#8c564b;stroke:#8c564b;\" x=\"66.108031\" xlink:href=\"#m4a6434f3d9\" y=\"239.69648\"/>\r\n     <use style=\"fill:#8c564b;stroke:#8c564b;\" x=\"66.108031\" xlink:href=\"#m4a6434f3d9\" y=\"239.69648\"/>\r\n     <use style=\"fill:#8c564b;stroke:#8c564b;\" x=\"66.108031\" xlink:href=\"#m4a6434f3d9\" y=\"239.69648\"/>\r\n     <use style=\"fill:#8c564b;stroke:#8c564b;\" x=\"66.108031\" xlink:href=\"#m4a6434f3d9\" y=\"239.69648\"/>\r\n     <use style=\"fill:#8c564b;stroke:#8c564b;\" x=\"66.108031\" xlink:href=\"#m4a6434f3d9\" y=\"239.69648\"/>\r\n     <use style=\"fill:#8c564b;stroke:#8c564b;\" x=\"66.108031\" xlink:href=\"#m4a6434f3d9\" y=\"239.69648\"/>\r\n     <use style=\"fill:#8c564b;stroke:#8c564b;\" x=\"66.108031\" xlink:href=\"#m4a6434f3d9\" y=\"239.69648\"/>\r\n     <use style=\"fill:#8c564b;stroke:#8c564b;\" x=\"66.108031\" xlink:href=\"#m4a6434f3d9\" y=\"239.69648\"/>\r\n     <use style=\"fill:#8c564b;stroke:#8c564b;\" x=\"66.108031\" xlink:href=\"#m4a6434f3d9\" y=\"239.69648\"/>\r\n     <use style=\"fill:#8c564b;stroke:#8c564b;\" x=\"66.108031\" xlink:href=\"#m4a6434f3d9\" y=\"239.69648\"/>\r\n     <use style=\"fill:#8c564b;stroke:#8c564b;\" x=\"66.108031\" xlink:href=\"#m4a6434f3d9\" y=\"239.69648\"/>\r\n     <use style=\"fill:#8c564b;stroke:#8c564b;\" x=\"66.108031\" xlink:href=\"#m4a6434f3d9\" y=\"239.69648\"/>\r\n     <use style=\"fill:#8c564b;stroke:#8c564b;\" x=\"66.108031\" xlink:href=\"#m4a6434f3d9\" y=\"239.69648\"/>\r\n     <use style=\"fill:#8c564b;stroke:#8c564b;\" x=\"66.108031\" xlink:href=\"#m4a6434f3d9\" y=\"239.69648\"/>\r\n     <use style=\"fill:#8c564b;stroke:#8c564b;\" x=\"66.108031\" xlink:href=\"#m4a6434f3d9\" y=\"239.69648\"/>\r\n     <use style=\"fill:#8c564b;stroke:#8c564b;\" x=\"66.108031\" xlink:href=\"#m4a6434f3d9\" y=\"239.69648\"/>\r\n     <use style=\"fill:#8c564b;stroke:#8c564b;\" x=\"66.108031\" xlink:href=\"#m4a6434f3d9\" y=\"239.69648\"/>\r\n     <use style=\"fill:#8c564b;stroke:#8c564b;\" x=\"66.108031\" xlink:href=\"#m4a6434f3d9\" y=\"239.69648\"/>\r\n     <use style=\"fill:#8c564b;stroke:#8c564b;\" x=\"66.108031\" xlink:href=\"#m4a6434f3d9\" y=\"239.69648\"/>\r\n     <use style=\"fill:#8c564b;stroke:#8c564b;\" x=\"66.108031\" xlink:href=\"#m4a6434f3d9\" y=\"239.69648\"/>\r\n     <use style=\"fill:#8c564b;stroke:#8c564b;\" x=\"66.108031\" xlink:href=\"#m4a6434f3d9\" y=\"239.69648\"/>\r\n     <use style=\"fill:#8c564b;stroke:#8c564b;\" x=\"66.108031\" xlink:href=\"#m4a6434f3d9\" y=\"239.69648\"/>\r\n     <use style=\"fill:#8c564b;stroke:#8c564b;\" x=\"66.108031\" xlink:href=\"#m4a6434f3d9\" y=\"239.69648\"/>\r\n     <use style=\"fill:#8c564b;stroke:#8c564b;\" x=\"66.108031\" xlink:href=\"#m4a6434f3d9\" y=\"239.69648\"/>\r\n     <use style=\"fill:#8c564b;stroke:#8c564b;\" x=\"66.108031\" xlink:href=\"#m4a6434f3d9\" y=\"239.69648\"/>\r\n     <use style=\"fill:#8c564b;stroke:#8c564b;\" x=\"66.108031\" xlink:href=\"#m4a6434f3d9\" y=\"239.69648\"/>\r\n     <use style=\"fill:#8c564b;stroke:#8c564b;\" x=\"66.108031\" xlink:href=\"#m4a6434f3d9\" y=\"239.69648\"/>\r\n     <use style=\"fill:#8c564b;stroke:#8c564b;\" x=\"66.108031\" xlink:href=\"#m4a6434f3d9\" y=\"239.69648\"/>\r\n     <use style=\"fill:#8c564b;stroke:#8c564b;\" x=\"66.108031\" xlink:href=\"#m4a6434f3d9\" y=\"239.69648\"/>\r\n     <use style=\"fill:#8c564b;stroke:#8c564b;\" x=\"66.108031\" xlink:href=\"#m4a6434f3d9\" y=\"239.69648\"/>\r\n     <use style=\"fill:#8c564b;stroke:#8c564b;\" x=\"66.108031\" xlink:href=\"#m4a6434f3d9\" y=\"239.69648\"/>\r\n     <use style=\"fill:#8c564b;stroke:#8c564b;\" x=\"66.108031\" xlink:href=\"#m4a6434f3d9\" y=\"239.69648\"/>\r\n     <use style=\"fill:#8c564b;stroke:#8c564b;\" x=\"66.108031\" xlink:href=\"#m4a6434f3d9\" y=\"239.69648\"/>\r\n     <use style=\"fill:#8c564b;stroke:#8c564b;\" x=\"66.108031\" xlink:href=\"#m4a6434f3d9\" y=\"239.69648\"/>\r\n     <use style=\"fill:#8c564b;stroke:#8c564b;\" x=\"66.108031\" xlink:href=\"#m4a6434f3d9\" y=\"239.69648\"/>\r\n     <use style=\"fill:#8c564b;stroke:#8c564b;\" x=\"66.108031\" xlink:href=\"#m4a6434f3d9\" y=\"239.69648\"/>\r\n     <use style=\"fill:#8c564b;stroke:#8c564b;\" x=\"66.108031\" xlink:href=\"#m4a6434f3d9\" y=\"239.69648\"/>\r\n     <use style=\"fill:#8c564b;stroke:#8c564b;\" x=\"66.108031\" xlink:href=\"#m4a6434f3d9\" y=\"239.69648\"/>\r\n     <use style=\"fill:#8c564b;stroke:#8c564b;\" x=\"66.108031\" xlink:href=\"#m4a6434f3d9\" y=\"239.69648\"/>\r\n     <use style=\"fill:#8c564b;stroke:#8c564b;\" x=\"66.108031\" xlink:href=\"#m4a6434f3d9\" y=\"239.69648\"/>\r\n     <use style=\"fill:#8c564b;stroke:#8c564b;\" x=\"66.108031\" xlink:href=\"#m4a6434f3d9\" y=\"239.69648\"/>\r\n     <use style=\"fill:#8c564b;stroke:#8c564b;\" x=\"66.108031\" xlink:href=\"#m4a6434f3d9\" y=\"239.69648\"/>\r\n     <use style=\"fill:#8c564b;stroke:#8c564b;\" x=\"66.108031\" xlink:href=\"#m4a6434f3d9\" y=\"239.69648\"/>\r\n     <use style=\"fill:#8c564b;stroke:#8c564b;\" x=\"66.108031\" xlink:href=\"#m4a6434f3d9\" y=\"239.69648\"/>\r\n     <use style=\"fill:#8c564b;stroke:#8c564b;\" x=\"66.108031\" xlink:href=\"#m4a6434f3d9\" y=\"239.69648\"/>\r\n     <use style=\"fill:#8c564b;stroke:#8c564b;\" x=\"66.108031\" xlink:href=\"#m4a6434f3d9\" y=\"239.69648\"/>\r\n     <use style=\"fill:#8c564b;stroke:#8c564b;\" x=\"66.108031\" xlink:href=\"#m4a6434f3d9\" y=\"239.69648\"/>\r\n     <use style=\"fill:#8c564b;stroke:#8c564b;\" x=\"66.108031\" xlink:href=\"#m4a6434f3d9\" y=\"239.69648\"/>\r\n     <use style=\"fill:#8c564b;stroke:#8c564b;\" x=\"66.108031\" xlink:href=\"#m4a6434f3d9\" y=\"239.69648\"/>\r\n     <use style=\"fill:#8c564b;stroke:#8c564b;\" x=\"66.108031\" xlink:href=\"#m4a6434f3d9\" y=\"239.69648\"/>\r\n     <use style=\"fill:#8c564b;stroke:#8c564b;\" x=\"66.108031\" xlink:href=\"#m4a6434f3d9\" y=\"239.69648\"/>\r\n     <use style=\"fill:#8c564b;stroke:#8c564b;\" x=\"66.108031\" xlink:href=\"#m4a6434f3d9\" y=\"239.69648\"/>\r\n     <use style=\"fill:#8c564b;stroke:#8c564b;\" x=\"66.108031\" xlink:href=\"#m4a6434f3d9\" y=\"239.69648\"/>\r\n     <use style=\"fill:#8c564b;stroke:#8c564b;\" x=\"66.108031\" xlink:href=\"#m4a6434f3d9\" y=\"239.69648\"/>\r\n     <use style=\"fill:#8c564b;stroke:#8c564b;\" x=\"66.108031\" xlink:href=\"#m4a6434f3d9\" y=\"239.69648\"/>\r\n     <use style=\"fill:#8c564b;stroke:#8c564b;\" x=\"66.108031\" xlink:href=\"#m4a6434f3d9\" y=\"239.69648\"/>\r\n     <use style=\"fill:#8c564b;stroke:#8c564b;\" x=\"66.108031\" xlink:href=\"#m4a6434f3d9\" y=\"239.69648\"/>\r\n     <use style=\"fill:#8c564b;stroke:#8c564b;\" x=\"66.108031\" xlink:href=\"#m4a6434f3d9\" y=\"239.69648\"/>\r\n     <use style=\"fill:#8c564b;stroke:#8c564b;\" x=\"66.108031\" xlink:href=\"#m4a6434f3d9\" y=\"239.69648\"/>\r\n     <use style=\"fill:#8c564b;stroke:#8c564b;\" x=\"66.108031\" xlink:href=\"#m4a6434f3d9\" y=\"239.69648\"/>\r\n     <use style=\"fill:#8c564b;stroke:#8c564b;\" x=\"66.108031\" xlink:href=\"#m4a6434f3d9\" y=\"239.69648\"/>\r\n     <use style=\"fill:#8c564b;stroke:#8c564b;\" x=\"66.108031\" xlink:href=\"#m4a6434f3d9\" y=\"239.69648\"/>\r\n     <use style=\"fill:#8c564b;stroke:#8c564b;\" x=\"66.108031\" xlink:href=\"#m4a6434f3d9\" y=\"239.69648\"/>\r\n     <use style=\"fill:#8c564b;stroke:#8c564b;\" x=\"66.108031\" xlink:href=\"#m4a6434f3d9\" y=\"239.69648\"/>\r\n     <use style=\"fill:#8c564b;stroke:#8c564b;\" x=\"66.108031\" xlink:href=\"#m4a6434f3d9\" y=\"239.69648\"/>\r\n     <use style=\"fill:#8c564b;stroke:#8c564b;\" x=\"66.108031\" xlink:href=\"#m4a6434f3d9\" y=\"239.69648\"/>\r\n     <use style=\"fill:#8c564b;stroke:#8c564b;\" x=\"66.108031\" xlink:href=\"#m4a6434f3d9\" y=\"239.69648\"/>\r\n     <use style=\"fill:#8c564b;stroke:#8c564b;\" x=\"66.108031\" xlink:href=\"#m4a6434f3d9\" y=\"239.69648\"/>\r\n     <use style=\"fill:#8c564b;stroke:#8c564b;\" x=\"66.108031\" xlink:href=\"#m4a6434f3d9\" y=\"239.69648\"/>\r\n     <use style=\"fill:#8c564b;stroke:#8c564b;\" x=\"66.108031\" xlink:href=\"#m4a6434f3d9\" y=\"239.69648\"/>\r\n     <use style=\"fill:#8c564b;stroke:#8c564b;\" x=\"66.108031\" xlink:href=\"#m4a6434f3d9\" y=\"239.69648\"/>\r\n     <use style=\"fill:#8c564b;stroke:#8c564b;\" x=\"66.108031\" xlink:href=\"#m4a6434f3d9\" y=\"239.69648\"/>\r\n     <use style=\"fill:#8c564b;stroke:#8c564b;\" x=\"66.108031\" xlink:href=\"#m4a6434f3d9\" y=\"239.69648\"/>\r\n     <use style=\"fill:#8c564b;stroke:#8c564b;\" x=\"66.108031\" xlink:href=\"#m4a6434f3d9\" y=\"239.69648\"/>\r\n     <use style=\"fill:#8c564b;stroke:#8c564b;\" x=\"66.108031\" xlink:href=\"#m4a6434f3d9\" y=\"239.69648\"/>\r\n     <use style=\"fill:#8c564b;stroke:#8c564b;\" x=\"66.108031\" xlink:href=\"#m4a6434f3d9\" y=\"239.69648\"/>\r\n     <use style=\"fill:#8c564b;stroke:#8c564b;\" x=\"66.108031\" xlink:href=\"#m4a6434f3d9\" y=\"239.69648\"/>\r\n     <use style=\"fill:#8c564b;stroke:#8c564b;\" x=\"66.108031\" xlink:href=\"#m4a6434f3d9\" y=\"239.69648\"/>\r\n     <use style=\"fill:#8c564b;stroke:#8c564b;\" x=\"66.108031\" xlink:href=\"#m4a6434f3d9\" y=\"239.69648\"/>\r\n     <use style=\"fill:#8c564b;stroke:#8c564b;\" x=\"66.108031\" xlink:href=\"#m4a6434f3d9\" y=\"239.69648\"/>\r\n    </g>\r\n   </g>\r\n   <g id=\"PathCollection_7\">\r\n    <defs>\r\n     <path d=\"M 0 2.236068 \r\nC 0.593012 2.236068 1.161816 2.000462 1.581139 1.581139 \r\nC 2.000462 1.161816 2.236068 0.593012 2.236068 0 \r\nC 2.236068 -0.593012 2.000462 -1.161816 1.581139 -1.581139 \r\nC 1.161816 -2.000462 0.593012 -2.236068 0 -2.236068 \r\nC -0.593012 -2.236068 -1.161816 -2.000462 -1.581139 -1.581139 \r\nC -2.000462 -1.161816 -2.236068 -0.593012 -2.236068 0 \r\nC -2.236068 0.593012 -2.000462 1.161816 -1.581139 1.581139 \r\nC -1.161816 2.000462 -0.593012 2.236068 0 2.236068 \r\nz\r\n\" id=\"m92a541d33c\" style=\"stroke:#e377c2;\"/>\r\n    </defs>\r\n    <g clip-path=\"url(#p90a814f91a)\">\r\n     <use style=\"fill:#e377c2;stroke:#e377c2;\" x=\"57.527131\" xlink:href=\"#m92a541d33c\" y=\"224.332789\"/>\r\n     <use style=\"fill:#e377c2;stroke:#e377c2;\" x=\"57.527131\" xlink:href=\"#m92a541d33c\" y=\"224.332789\"/>\r\n     <use style=\"fill:#e377c2;stroke:#e377c2;\" x=\"57.527131\" xlink:href=\"#m92a541d33c\" y=\"224.332789\"/>\r\n     <use style=\"fill:#e377c2;stroke:#e377c2;\" x=\"57.527131\" xlink:href=\"#m92a541d33c\" y=\"224.332789\"/>\r\n     <use style=\"fill:#e377c2;stroke:#e377c2;\" x=\"57.527131\" xlink:href=\"#m92a541d33c\" y=\"224.332789\"/>\r\n     <use style=\"fill:#e377c2;stroke:#e377c2;\" x=\"57.527131\" xlink:href=\"#m92a541d33c\" y=\"224.332789\"/>\r\n     <use style=\"fill:#e377c2;stroke:#e377c2;\" x=\"57.527131\" xlink:href=\"#m92a541d33c\" y=\"224.332789\"/>\r\n     <use style=\"fill:#e377c2;stroke:#e377c2;\" x=\"57.527131\" xlink:href=\"#m92a541d33c\" y=\"224.332789\"/>\r\n     <use style=\"fill:#e377c2;stroke:#e377c2;\" x=\"57.527131\" xlink:href=\"#m92a541d33c\" y=\"224.332789\"/>\r\n     <use style=\"fill:#e377c2;stroke:#e377c2;\" x=\"57.527131\" xlink:href=\"#m92a541d33c\" y=\"224.332789\"/>\r\n     <use style=\"fill:#e377c2;stroke:#e377c2;\" x=\"57.527131\" xlink:href=\"#m92a541d33c\" y=\"224.332789\"/>\r\n     <use style=\"fill:#e377c2;stroke:#e377c2;\" x=\"57.527131\" xlink:href=\"#m92a541d33c\" y=\"224.332789\"/>\r\n     <use style=\"fill:#e377c2;stroke:#e377c2;\" x=\"57.527131\" xlink:href=\"#m92a541d33c\" y=\"224.332789\"/>\r\n     <use style=\"fill:#e377c2;stroke:#e377c2;\" x=\"57.527131\" xlink:href=\"#m92a541d33c\" y=\"224.332789\"/>\r\n     <use style=\"fill:#e377c2;stroke:#e377c2;\" x=\"57.527131\" xlink:href=\"#m92a541d33c\" y=\"224.332789\"/>\r\n     <use style=\"fill:#e377c2;stroke:#e377c2;\" x=\"57.527131\" xlink:href=\"#m92a541d33c\" y=\"224.332789\"/>\r\n     <use style=\"fill:#e377c2;stroke:#e377c2;\" x=\"57.527131\" xlink:href=\"#m92a541d33c\" y=\"224.332789\"/>\r\n     <use style=\"fill:#e377c2;stroke:#e377c2;\" x=\"57.527131\" xlink:href=\"#m92a541d33c\" y=\"224.332789\"/>\r\n     <use style=\"fill:#e377c2;stroke:#e377c2;\" x=\"57.527131\" xlink:href=\"#m92a541d33c\" y=\"224.332789\"/>\r\n     <use style=\"fill:#e377c2;stroke:#e377c2;\" x=\"57.527131\" xlink:href=\"#m92a541d33c\" y=\"224.332789\"/>\r\n     <use style=\"fill:#e377c2;stroke:#e377c2;\" x=\"57.527131\" xlink:href=\"#m92a541d33c\" y=\"224.332789\"/>\r\n     <use style=\"fill:#e377c2;stroke:#e377c2;\" x=\"57.527131\" xlink:href=\"#m92a541d33c\" y=\"224.332789\"/>\r\n     <use style=\"fill:#e377c2;stroke:#e377c2;\" x=\"57.527131\" xlink:href=\"#m92a541d33c\" y=\"224.332789\"/>\r\n     <use style=\"fill:#e377c2;stroke:#e377c2;\" x=\"57.527131\" xlink:href=\"#m92a541d33c\" y=\"224.332789\"/>\r\n     <use style=\"fill:#e377c2;stroke:#e377c2;\" x=\"57.527131\" xlink:href=\"#m92a541d33c\" y=\"224.332789\"/>\r\n     <use style=\"fill:#e377c2;stroke:#e377c2;\" x=\"57.527131\" xlink:href=\"#m92a541d33c\" y=\"224.332789\"/>\r\n     <use style=\"fill:#e377c2;stroke:#e377c2;\" x=\"57.527131\" xlink:href=\"#m92a541d33c\" y=\"224.332789\"/>\r\n     <use style=\"fill:#e377c2;stroke:#e377c2;\" x=\"57.527131\" xlink:href=\"#m92a541d33c\" y=\"224.332789\"/>\r\n     <use style=\"fill:#e377c2;stroke:#e377c2;\" x=\"57.527131\" xlink:href=\"#m92a541d33c\" y=\"224.332789\"/>\r\n     <use style=\"fill:#e377c2;stroke:#e377c2;\" x=\"57.527131\" xlink:href=\"#m92a541d33c\" y=\"224.332789\"/>\r\n     <use style=\"fill:#e377c2;stroke:#e377c2;\" x=\"57.527131\" xlink:href=\"#m92a541d33c\" y=\"224.332789\"/>\r\n     <use style=\"fill:#e377c2;stroke:#e377c2;\" x=\"57.527131\" xlink:href=\"#m92a541d33c\" y=\"224.332789\"/>\r\n     <use style=\"fill:#e377c2;stroke:#e377c2;\" x=\"57.527131\" xlink:href=\"#m92a541d33c\" y=\"224.332789\"/>\r\n     <use style=\"fill:#e377c2;stroke:#e377c2;\" x=\"57.527131\" xlink:href=\"#m92a541d33c\" y=\"224.332789\"/>\r\n    </g>\r\n   </g>\r\n   <g id=\"matplotlib.axis_1\">\r\n    <g id=\"xtick_1\">\r\n     <g id=\"line2d_1\">\r\n      <defs>\r\n       <path d=\"M 0 0 \r\nL 0 3.5 \r\n\" id=\"meaf7f816fe\" style=\"stroke:#000000;stroke-width:0.8;\"/>\r\n      </defs>\r\n      <g>\r\n       <use style=\"stroke:#000000;stroke-width:0.8;\" x=\"57.517456\" xlink:href=\"#meaf7f816fe\" y=\"294.118125\"/>\r\n      </g>\r\n     </g>\r\n     <g id=\"text_1\">\r\n      <!-- −0.01 -->\r\n      <g transform=\"translate(42.1948 308.716563)scale(0.1 -0.1)\">\r\n       <defs>\r\n        <path d=\"M 10.59375 35.5 \r\nL 73.1875 35.5 \r\nL 73.1875 27.203125 \r\nL 10.59375 27.203125 \r\nz\r\n\" id=\"DejaVuSans-8722\"/>\r\n        <path d=\"M 31.78125 66.40625 \r\nQ 24.171875 66.40625 20.328125 58.90625 \r\nQ 16.5 51.421875 16.5 36.375 \r\nQ 16.5 21.390625 20.328125 13.890625 \r\nQ 24.171875 6.390625 31.78125 6.390625 \r\nQ 39.453125 6.390625 43.28125 13.890625 \r\nQ 47.125 21.390625 47.125 36.375 \r\nQ 47.125 51.421875 43.28125 58.90625 \r\nQ 39.453125 66.40625 31.78125 66.40625 \r\nz\r\nM 31.78125 74.21875 \r\nQ 44.046875 74.21875 50.515625 64.515625 \r\nQ 56.984375 54.828125 56.984375 36.375 \r\nQ 56.984375 17.96875 50.515625 8.265625 \r\nQ 44.046875 -1.421875 31.78125 -1.421875 \r\nQ 19.53125 -1.421875 13.0625 8.265625 \r\nQ 6.59375 17.96875 6.59375 36.375 \r\nQ 6.59375 54.828125 13.0625 64.515625 \r\nQ 19.53125 74.21875 31.78125 74.21875 \r\nz\r\n\" id=\"DejaVuSans-48\"/>\r\n        <path d=\"M 10.6875 12.40625 \r\nL 21 12.40625 \r\nL 21 0 \r\nL 10.6875 0 \r\nz\r\n\" id=\"DejaVuSans-46\"/>\r\n        <path d=\"M 12.40625 8.296875 \r\nL 28.515625 8.296875 \r\nL 28.515625 63.921875 \r\nL 10.984375 60.40625 \r\nL 10.984375 69.390625 \r\nL 28.421875 72.90625 \r\nL 38.28125 72.90625 \r\nL 38.28125 8.296875 \r\nL 54.390625 8.296875 \r\nL 54.390625 0 \r\nL 12.40625 0 \r\nz\r\n\" id=\"DejaVuSans-49\"/>\r\n       </defs>\r\n       <use xlink:href=\"#DejaVuSans-8722\"/>\r\n       <use x=\"83.789062\" xlink:href=\"#DejaVuSans-48\"/>\r\n       <use x=\"147.412109\" xlink:href=\"#DejaVuSans-46\"/>\r\n       <use x=\"179.199219\" xlink:href=\"#DejaVuSans-48\"/>\r\n       <use x=\"242.822266\" xlink:href=\"#DejaVuSans-49\"/>\r\n      </g>\r\n     </g>\r\n    </g>\r\n    <g id=\"xtick_2\">\r\n     <g id=\"line2d_2\">\r\n      <g>\r\n       <use style=\"stroke:#000000;stroke-width:0.8;\" x=\"113.972314\" xlink:href=\"#meaf7f816fe\" y=\"294.118125\"/>\r\n      </g>\r\n     </g>\r\n     <g id=\"text_2\">\r\n      <!-- 0.00 -->\r\n      <g transform=\"translate(102.839502 308.716563)scale(0.1 -0.1)\">\r\n       <use xlink:href=\"#DejaVuSans-48\"/>\r\n       <use x=\"63.623047\" xlink:href=\"#DejaVuSans-46\"/>\r\n       <use x=\"95.410156\" xlink:href=\"#DejaVuSans-48\"/>\r\n       <use x=\"159.033203\" xlink:href=\"#DejaVuSans-48\"/>\r\n      </g>\r\n     </g>\r\n    </g>\r\n    <g id=\"xtick_3\">\r\n     <g id=\"line2d_3\">\r\n      <g>\r\n       <use style=\"stroke:#000000;stroke-width:0.8;\" x=\"170.427172\" xlink:href=\"#meaf7f816fe\" y=\"294.118125\"/>\r\n      </g>\r\n     </g>\r\n     <g id=\"text_3\">\r\n      <!-- 0.01 -->\r\n      <g transform=\"translate(159.29436 308.716563)scale(0.1 -0.1)\">\r\n       <use xlink:href=\"#DejaVuSans-48\"/>\r\n       <use x=\"63.623047\" xlink:href=\"#DejaVuSans-46\"/>\r\n       <use x=\"95.410156\" xlink:href=\"#DejaVuSans-48\"/>\r\n       <use x=\"159.033203\" xlink:href=\"#DejaVuSans-49\"/>\r\n      </g>\r\n     </g>\r\n    </g>\r\n    <g id=\"xtick_4\">\r\n     <g id=\"line2d_4\">\r\n      <g>\r\n       <use style=\"stroke:#000000;stroke-width:0.8;\" x=\"226.88203\" xlink:href=\"#meaf7f816fe\" y=\"294.118125\"/>\r\n      </g>\r\n     </g>\r\n     <g id=\"text_4\">\r\n      <!-- 0.02 -->\r\n      <g transform=\"translate(215.749218 308.716563)scale(0.1 -0.1)\">\r\n       <defs>\r\n        <path d=\"M 19.1875 8.296875 \r\nL 53.609375 8.296875 \r\nL 53.609375 0 \r\nL 7.328125 0 \r\nL 7.328125 8.296875 \r\nQ 12.9375 14.109375 22.625 23.890625 \r\nQ 32.328125 33.6875 34.8125 36.53125 \r\nQ 39.546875 41.84375 41.421875 45.53125 \r\nQ 43.3125 49.21875 43.3125 52.78125 \r\nQ 43.3125 58.59375 39.234375 62.25 \r\nQ 35.15625 65.921875 28.609375 65.921875 \r\nQ 23.96875 65.921875 18.8125 64.3125 \r\nQ 13.671875 62.703125 7.8125 59.421875 \r\nL 7.8125 69.390625 \r\nQ 13.765625 71.78125 18.9375 73 \r\nQ 24.125 74.21875 28.421875 74.21875 \r\nQ 39.75 74.21875 46.484375 68.546875 \r\nQ 53.21875 62.890625 53.21875 53.421875 \r\nQ 53.21875 48.921875 51.53125 44.890625 \r\nQ 49.859375 40.875 45.40625 35.40625 \r\nQ 44.1875 33.984375 37.640625 27.21875 \r\nQ 31.109375 20.453125 19.1875 8.296875 \r\nz\r\n\" id=\"DejaVuSans-50\"/>\r\n       </defs>\r\n       <use xlink:href=\"#DejaVuSans-48\"/>\r\n       <use x=\"63.623047\" xlink:href=\"#DejaVuSans-46\"/>\r\n       <use x=\"95.410156\" xlink:href=\"#DejaVuSans-48\"/>\r\n       <use x=\"159.033203\" xlink:href=\"#DejaVuSans-50\"/>\r\n      </g>\r\n     </g>\r\n    </g>\r\n    <g id=\"xtick_5\">\r\n     <g id=\"line2d_5\">\r\n      <g>\r\n       <use style=\"stroke:#000000;stroke-width:0.8;\" x=\"283.336888\" xlink:href=\"#meaf7f816fe\" y=\"294.118125\"/>\r\n      </g>\r\n     </g>\r\n     <g id=\"text_5\">\r\n      <!-- 0.03 -->\r\n      <g transform=\"translate(272.204076 308.716563)scale(0.1 -0.1)\">\r\n       <defs>\r\n        <path d=\"M 40.578125 39.3125 \r\nQ 47.65625 37.796875 51.625 33 \r\nQ 55.609375 28.21875 55.609375 21.1875 \r\nQ 55.609375 10.40625 48.1875 4.484375 \r\nQ 40.765625 -1.421875 27.09375 -1.421875 \r\nQ 22.515625 -1.421875 17.65625 -0.515625 \r\nQ 12.796875 0.390625 7.625 2.203125 \r\nL 7.625 11.71875 \r\nQ 11.71875 9.328125 16.59375 8.109375 \r\nQ 21.484375 6.890625 26.8125 6.890625 \r\nQ 36.078125 6.890625 40.9375 10.546875 \r\nQ 45.796875 14.203125 45.796875 21.1875 \r\nQ 45.796875 27.640625 41.28125 31.265625 \r\nQ 36.765625 34.90625 28.71875 34.90625 \r\nL 20.21875 34.90625 \r\nL 20.21875 43.015625 \r\nL 29.109375 43.015625 \r\nQ 36.375 43.015625 40.234375 45.921875 \r\nQ 44.09375 48.828125 44.09375 54.296875 \r\nQ 44.09375 59.90625 40.109375 62.90625 \r\nQ 36.140625 65.921875 28.71875 65.921875 \r\nQ 24.65625 65.921875 20.015625 65.03125 \r\nQ 15.375 64.15625 9.8125 62.3125 \r\nL 9.8125 71.09375 \r\nQ 15.4375 72.65625 20.34375 73.4375 \r\nQ 25.25 74.21875 29.59375 74.21875 \r\nQ 40.828125 74.21875 47.359375 69.109375 \r\nQ 53.90625 64.015625 53.90625 55.328125 \r\nQ 53.90625 49.265625 50.4375 45.09375 \r\nQ 46.96875 40.921875 40.578125 39.3125 \r\nz\r\n\" id=\"DejaVuSans-51\"/>\r\n       </defs>\r\n       <use xlink:href=\"#DejaVuSans-48\"/>\r\n       <use x=\"63.623047\" xlink:href=\"#DejaVuSans-46\"/>\r\n       <use x=\"95.410156\" xlink:href=\"#DejaVuSans-48\"/>\r\n       <use x=\"159.033203\" xlink:href=\"#DejaVuSans-51\"/>\r\n      </g>\r\n     </g>\r\n    </g>\r\n   </g>\r\n   <g id=\"matplotlib.axis_2\">\r\n    <g id=\"ytick_1\">\r\n     <g id=\"line2d_6\">\r\n      <defs>\r\n       <path d=\"M 0 0 \r\nL -3.5 0 \r\n\" id=\"mfaba3fd6bf\" style=\"stroke:#000000;stroke-width:0.8;\"/>\r\n      </defs>\r\n      <g>\r\n       <use style=\"stroke:#000000;stroke-width:0.8;\" x=\"44.845313\" xlink:href=\"#mfaba3fd6bf\" y=\"276.27325\"/>\r\n      </g>\r\n     </g>\r\n     <g id=\"text_6\">\r\n      <!-- −0.01 -->\r\n      <g transform=\"translate(7.2 280.072469)scale(0.1 -0.1)\">\r\n       <use xlink:href=\"#DejaVuSans-8722\"/>\r\n       <use x=\"83.789062\" xlink:href=\"#DejaVuSans-48\"/>\r\n       <use x=\"147.412109\" xlink:href=\"#DejaVuSans-46\"/>\r\n       <use x=\"179.199219\" xlink:href=\"#DejaVuSans-48\"/>\r\n       <use x=\"242.822266\" xlink:href=\"#DejaVuSans-49\"/>\r\n      </g>\r\n     </g>\r\n    </g>\r\n    <g id=\"ytick_2\">\r\n     <g id=\"line2d_7\">\r\n      <g>\r\n       <use style=\"stroke:#000000;stroke-width:0.8;\" x=\"44.845313\" xlink:href=\"#mfaba3fd6bf\" y=\"235.91509\"/>\r\n      </g>\r\n     </g>\r\n     <g id=\"text_7\">\r\n      <!-- 0.00 -->\r\n      <g transform=\"translate(15.579688 239.714309)scale(0.1 -0.1)\">\r\n       <use xlink:href=\"#DejaVuSans-48\"/>\r\n       <use x=\"63.623047\" xlink:href=\"#DejaVuSans-46\"/>\r\n       <use x=\"95.410156\" xlink:href=\"#DejaVuSans-48\"/>\r\n       <use x=\"159.033203\" xlink:href=\"#DejaVuSans-48\"/>\r\n      </g>\r\n     </g>\r\n    </g>\r\n    <g id=\"ytick_3\">\r\n     <g id=\"line2d_8\">\r\n      <g>\r\n       <use style=\"stroke:#000000;stroke-width:0.8;\" x=\"44.845313\" xlink:href=\"#mfaba3fd6bf\" y=\"195.55693\"/>\r\n      </g>\r\n     </g>\r\n     <g id=\"text_8\">\r\n      <!-- 0.01 -->\r\n      <g transform=\"translate(15.579688 199.356148)scale(0.1 -0.1)\">\r\n       <use xlink:href=\"#DejaVuSans-48\"/>\r\n       <use x=\"63.623047\" xlink:href=\"#DejaVuSans-46\"/>\r\n       <use x=\"95.410156\" xlink:href=\"#DejaVuSans-48\"/>\r\n       <use x=\"159.033203\" xlink:href=\"#DejaVuSans-49\"/>\r\n      </g>\r\n     </g>\r\n    </g>\r\n    <g id=\"ytick_4\">\r\n     <g id=\"line2d_9\">\r\n      <g>\r\n       <use style=\"stroke:#000000;stroke-width:0.8;\" x=\"44.845313\" xlink:href=\"#mfaba3fd6bf\" y=\"155.198769\"/>\r\n      </g>\r\n     </g>\r\n     <g id=\"text_9\">\r\n      <!-- 0.02 -->\r\n      <g transform=\"translate(15.579688 158.997988)scale(0.1 -0.1)\">\r\n       <use xlink:href=\"#DejaVuSans-48\"/>\r\n       <use x=\"63.623047\" xlink:href=\"#DejaVuSans-46\"/>\r\n       <use x=\"95.410156\" xlink:href=\"#DejaVuSans-48\"/>\r\n       <use x=\"159.033203\" xlink:href=\"#DejaVuSans-50\"/>\r\n      </g>\r\n     </g>\r\n    </g>\r\n    <g id=\"ytick_5\">\r\n     <g id=\"line2d_10\">\r\n      <g>\r\n       <use style=\"stroke:#000000;stroke-width:0.8;\" x=\"44.845313\" xlink:href=\"#mfaba3fd6bf\" y=\"114.840609\"/>\r\n      </g>\r\n     </g>\r\n     <g id=\"text_10\">\r\n      <!-- 0.03 -->\r\n      <g transform=\"translate(15.579688 118.639828)scale(0.1 -0.1)\">\r\n       <use xlink:href=\"#DejaVuSans-48\"/>\r\n       <use x=\"63.623047\" xlink:href=\"#DejaVuSans-46\"/>\r\n       <use x=\"95.410156\" xlink:href=\"#DejaVuSans-48\"/>\r\n       <use x=\"159.033203\" xlink:href=\"#DejaVuSans-51\"/>\r\n      </g>\r\n     </g>\r\n    </g>\r\n    <g id=\"ytick_6\">\r\n     <g id=\"line2d_11\">\r\n      <g>\r\n       <use style=\"stroke:#000000;stroke-width:0.8;\" x=\"44.845313\" xlink:href=\"#mfaba3fd6bf\" y=\"74.482449\"/>\r\n      </g>\r\n     </g>\r\n     <g id=\"text_11\">\r\n      <!-- 0.04 -->\r\n      <g transform=\"translate(15.579688 78.281667)scale(0.1 -0.1)\">\r\n       <defs>\r\n        <path d=\"M 37.796875 64.3125 \r\nL 12.890625 25.390625 \r\nL 37.796875 25.390625 \r\nz\r\nM 35.203125 72.90625 \r\nL 47.609375 72.90625 \r\nL 47.609375 25.390625 \r\nL 58.015625 25.390625 \r\nL 58.015625 17.1875 \r\nL 47.609375 17.1875 \r\nL 47.609375 0 \r\nL 37.796875 0 \r\nL 37.796875 17.1875 \r\nL 4.890625 17.1875 \r\nL 4.890625 26.703125 \r\nz\r\n\" id=\"DejaVuSans-52\"/>\r\n       </defs>\r\n       <use xlink:href=\"#DejaVuSans-48\"/>\r\n       <use x=\"63.623047\" xlink:href=\"#DejaVuSans-46\"/>\r\n       <use x=\"95.410156\" xlink:href=\"#DejaVuSans-48\"/>\r\n       <use x=\"159.033203\" xlink:href=\"#DejaVuSans-52\"/>\r\n      </g>\r\n     </g>\r\n    </g>\r\n    <g id=\"ytick_7\">\r\n     <g id=\"line2d_12\">\r\n      <g>\r\n       <use style=\"stroke:#000000;stroke-width:0.8;\" x=\"44.845313\" xlink:href=\"#mfaba3fd6bf\" y=\"34.124288\"/>\r\n      </g>\r\n     </g>\r\n     <g id=\"text_12\">\r\n      <!-- 0.05 -->\r\n      <g transform=\"translate(15.579688 37.923507)scale(0.1 -0.1)\">\r\n       <defs>\r\n        <path d=\"M 10.796875 72.90625 \r\nL 49.515625 72.90625 \r\nL 49.515625 64.59375 \r\nL 19.828125 64.59375 \r\nL 19.828125 46.734375 \r\nQ 21.96875 47.46875 24.109375 47.828125 \r\nQ 26.265625 48.1875 28.421875 48.1875 \r\nQ 40.625 48.1875 47.75 41.5 \r\nQ 54.890625 34.8125 54.890625 23.390625 \r\nQ 54.890625 11.625 47.5625 5.09375 \r\nQ 40.234375 -1.421875 26.90625 -1.421875 \r\nQ 22.3125 -1.421875 17.546875 -0.640625 \r\nQ 12.796875 0.140625 7.71875 1.703125 \r\nL 7.71875 11.625 \r\nQ 12.109375 9.234375 16.796875 8.0625 \r\nQ 21.484375 6.890625 26.703125 6.890625 \r\nQ 35.15625 6.890625 40.078125 11.328125 \r\nQ 45.015625 15.765625 45.015625 23.390625 \r\nQ 45.015625 31 40.078125 35.4375 \r\nQ 35.15625 39.890625 26.703125 39.890625 \r\nQ 22.75 39.890625 18.8125 39.015625 \r\nQ 14.890625 38.140625 10.796875 36.28125 \r\nz\r\n\" id=\"DejaVuSans-53\"/>\r\n       </defs>\r\n       <use xlink:href=\"#DejaVuSans-48\"/>\r\n       <use x=\"63.623047\" xlink:href=\"#DejaVuSans-46\"/>\r\n       <use x=\"95.410156\" xlink:href=\"#DejaVuSans-48\"/>\r\n       <use x=\"159.033203\" xlink:href=\"#DejaVuSans-53\"/>\r\n      </g>\r\n     </g>\r\n    </g>\r\n   </g>\r\n   <g id=\"patch_3\">\r\n    <path d=\"M 44.845313 294.118125 \r\nL 44.845313 22.318125 \r\n\" style=\"fill:none;stroke:#000000;stroke-linecap:square;stroke-linejoin:miter;stroke-width:0.8;\"/>\r\n   </g>\r\n   <g id=\"patch_4\">\r\n    <path d=\"M 323.845312 294.118125 \r\nL 323.845312 22.318125 \r\n\" style=\"fill:none;stroke:#000000;stroke-linecap:square;stroke-linejoin:miter;stroke-width:0.8;\"/>\r\n   </g>\r\n   <g id=\"patch_5\">\r\n    <path d=\"M 44.845313 294.118125 \r\nL 323.845313 294.118125 \r\n\" style=\"fill:none;stroke:#000000;stroke-linecap:square;stroke-linejoin:miter;stroke-width:0.8;\"/>\r\n   </g>\r\n   <g id=\"patch_6\">\r\n    <path d=\"M 44.845313 22.318125 \r\nL 323.845313 22.318125 \r\n\" style=\"fill:none;stroke:#000000;stroke-linecap:square;stroke-linejoin:miter;stroke-width:0.8;\"/>\r\n   </g>\r\n   <g id=\"text_13\">\r\n    <!-- LE -->\r\n    <g transform=\"translate(177.210938 16.318125)scale(0.12 -0.12)\">\r\n     <defs>\r\n      <path d=\"M 9.8125 72.90625 \r\nL 19.671875 72.90625 \r\nL 19.671875 8.296875 \r\nL 55.171875 8.296875 \r\nL 55.171875 0 \r\nL 9.8125 0 \r\nz\r\n\" id=\"DejaVuSans-76\"/>\r\n      <path d=\"M 9.8125 72.90625 \r\nL 55.90625 72.90625 \r\nL 55.90625 64.59375 \r\nL 19.671875 64.59375 \r\nL 19.671875 43.015625 \r\nL 54.390625 43.015625 \r\nL 54.390625 34.71875 \r\nL 19.671875 34.71875 \r\nL 19.671875 8.296875 \r\nL 56.78125 8.296875 \r\nL 56.78125 0 \r\nL 9.8125 0 \r\nz\r\n\" id=\"DejaVuSans-69\"/>\r\n     </defs>\r\n     <use xlink:href=\"#DejaVuSans-76\"/>\r\n     <use x=\"55.712891\" xlink:href=\"#DejaVuSans-69\"/>\r\n    </g>\r\n   </g>\r\n  </g>\r\n </g>\r\n <defs>\r\n  <clipPath id=\"p90a814f91a\">\r\n   <rect height=\"271.8\" width=\"279\" x=\"44.845313\" y=\"22.318125\"/>\r\n  </clipPath>\r\n </defs>\r\n</svg>\r\n",
      "text/plain": [
       "<Figure size 360x360 with 1 Axes>"
      ]
     },
     "metadata": {
      "needs_background": "light"
     },
     "output_type": "display_data"
    }
   ],
   "source": [
    "from sklearn.manifold import SpectralEmbedding\n",
    "\n",
    "model_LE=SpectralEmbedding(n_components=2,n_neighbors=10)\n",
    "output=model_LE.fit_transform(x)\n",
    "plt.figure(figsize=(5,5))\n",
    "for i in np.unique(y):\n",
    "    plt.scatter(output[y==i,0],output[y==i,1],s=20)\n",
    "plt.title(\"LE\")"
   ]
  },
  {
   "cell_type": "code",
   "execution_count": null,
   "metadata": {},
   "outputs": [],
   "source": []
  }
 ],
 "metadata": {
  "kernelspec": {
   "display_name": "Python 3.8.5 ('base')",
   "language": "python",
   "name": "python3"
  },
  "language_info": {
   "codemirror_mode": {
    "name": "ipython",
    "version": 3
   },
   "file_extension": ".py",
   "mimetype": "text/x-python",
   "name": "python",
   "nbconvert_exporter": "python",
   "pygments_lexer": "ipython3",
   "version": "3.8.5"
  },
  "orig_nbformat": 4,
  "vscode": {
   "interpreter": {
    "hash": "4c3cb98a989e99d67af091f38c8951d2a4cd4dd65a8f44f48b9657242a9a9365"
   }
  }
 },
 "nbformat": 4,
 "nbformat_minor": 2
}
